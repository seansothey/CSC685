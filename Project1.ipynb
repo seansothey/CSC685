{
  "nbformat": 4,
  "nbformat_minor": 0,
  "metadata": {
    "colab": {
      "name": "Project1.ipynb",
      "provenance": [],
      "authorship_tag": "ABX9TyM7tM+1uoX7UI4ypLpvfHoW",
      "include_colab_link": true
    },
    "kernelspec": {
      "name": "python3",
      "display_name": "Python 3"
    }
  },
  "cells": [
    {
      "cell_type": "markdown",
      "metadata": {
        "id": "view-in-github",
        "colab_type": "text"
      },
      "source": [
        "<a href=\"https://colab.research.google.com/github/seansothey/CSC685/blob/master/Project1.ipynb\" target=\"_parent\"><img src=\"https://colab.research.google.com/assets/colab-badge.svg\" alt=\"Open In Colab\"/></a>"
      ]
    },
    {
      "cell_type": "markdown",
      "metadata": {
        "id": "oYibw-yTnuGu",
        "colab_type": "text"
      },
      "source": [
        "#Setup"
      ]
    },
    {
      "cell_type": "code",
      "metadata": {
        "id": "affTnJubzbMi",
        "colab_type": "code",
        "colab": {
          "base_uri": "https://localhost:8080/",
          "height": 34
        },
        "outputId": "0276b6d7-1ffe-4e29-9ff4-d1a2cda05de4"
      },
      "source": [
        "#Required python version >= 3.5\n",
        "import sys\n",
        "assert sys.version_info >= (3,5)\n",
        "\n",
        "# Scikit-Learn ≥0.20 is required\n",
        "import sklearn\n",
        "assert sklearn.__version__ >= \"0.20\"\n",
        "\n",
        "# Common imports\n",
        "import numpy as np\n",
        "import os\n",
        "\n",
        "#to plot pretty figures\n",
        "%matplotlib\n",
        "import matplotlib as mpl\n",
        "import matplotlib.pyplot as plt\n",
        "\n",
        "mpl.rc('axes', labelsize = 14)\n",
        "mpl.rc('xtick', labelsize = 12)\n",
        "mpl.rc('ytick', labelsize = 12)\n",
        "\n",
        "#where to save figures\n",
        "PROJECT_ROOT_DIR = \".\"\n",
        "PROJECT_ID = \"project1\"\n",
        "PORJECT_DIR = os.path.join(PROJECT_ROOT_DIR,\"AML\",PROJECT_ID)\n",
        "os.makedirs(PORJECT_DIR,exist_ok=True)\n",
        "\n",
        "def save_fig(fig_id, tight_layout = True, fig_extension = 'png', resolution = 300):\n",
        "  path = os.path.join(PORJECT_DIR,fig_id + \".\" + fig_extension)\n",
        "  print(\"saving figure\", fig_id)\n",
        "  if tight_layout:\n",
        "    plt.tight_layout()\n",
        "  plt.savefig(path,format = fig_extension,dpi = resolution)\n",
        "\n",
        "# Ignore useless warnings\n",
        "import warnings\n",
        "warnings.filterwarnings(action = \"ignore\",message = \"^internal glad\")\n"
      ],
      "execution_count": 1,
      "outputs": [
        {
          "output_type": "stream",
          "text": [
            "Using matplotlib backend: agg\n"
          ],
          "name": "stdout"
        }
      ]
    },
    {
      "cell_type": "markdown",
      "metadata": {
        "id": "HdrS-pldoqkT",
        "colab_type": "text"
      },
      "source": [
        "#Get the data"
      ]
    },
    {
      "cell_type": "code",
      "metadata": {
        "id": "iC9ii71WousI",
        "colab_type": "code",
        "colab": {}
      },
      "source": [
        "import os\n",
        "import tarfile\n",
        "import urllib\n",
        "import pandas as pd\n",
        "\n",
        "\n",
        "DOWNLOAD_ROOT = \"https://archive.ics.uci.edu/ml/machine-learning-databases/wine/\"\n",
        "DATA = \"wine.data\"\n",
        "WINE_PATH = os.path.join(PORJECT_DIR,\"dataset\")\n",
        "DATA_URL = os.path.join(DOWNLOAD_ROOT,DATA)\n",
        "\n",
        "def fetch_wine_data(data_url = DATA_URL,wine_path = WINE_PATH):\n",
        "  if not os.path.isdir(wine_path):\n",
        "    os.mkdir(wine_path)\n",
        "  data = pd.read_csv(data_url,header=None,index_col=False,\n",
        "                     names=['Class','Alcohol','Malic acid','Ash','Alcalinity of ash',\n",
        "                            'Magnesium','Total phenols','Flavanoids',\n",
        "                            'Nonflavanoid phenols','Proanthocyanins',\n",
        "                            'Color intensity','Hue','OD280/OD315 of diluted wines',\n",
        "                            'Proline'])\n",
        "  \n",
        "  data.to_csv(os.path.join(wine_path,\"wineData.csv\"))\n",
        "  return data"
      ],
      "execution_count": 0,
      "outputs": []
    },
    {
      "cell_type": "code",
      "metadata": {
        "id": "VVFsQh0EtrBf",
        "colab_type": "code",
        "colab": {
          "base_uri": "https://localhost:8080/",
          "height": 436
        },
        "outputId": "db502e2e-75c5-4728-f11c-1a512a59e69f"
      },
      "source": [
        "fetch_wine_data()"
      ],
      "execution_count": 3,
      "outputs": [
        {
          "output_type": "execute_result",
          "data": {
            "text/html": [
              "<div>\n",
              "<style scoped>\n",
              "    .dataframe tbody tr th:only-of-type {\n",
              "        vertical-align: middle;\n",
              "    }\n",
              "\n",
              "    .dataframe tbody tr th {\n",
              "        vertical-align: top;\n",
              "    }\n",
              "\n",
              "    .dataframe thead th {\n",
              "        text-align: right;\n",
              "    }\n",
              "</style>\n",
              "<table border=\"1\" class=\"dataframe\">\n",
              "  <thead>\n",
              "    <tr style=\"text-align: right;\">\n",
              "      <th></th>\n",
              "      <th>Class</th>\n",
              "      <th>Alcohol</th>\n",
              "      <th>Malic acid</th>\n",
              "      <th>Ash</th>\n",
              "      <th>Alcalinity of ash</th>\n",
              "      <th>Magnesium</th>\n",
              "      <th>Total phenols</th>\n",
              "      <th>Flavanoids</th>\n",
              "      <th>Nonflavanoid phenols</th>\n",
              "      <th>Proanthocyanins</th>\n",
              "      <th>Color intensity</th>\n",
              "      <th>Hue</th>\n",
              "      <th>OD280/OD315 of diluted wines</th>\n",
              "      <th>Proline</th>\n",
              "    </tr>\n",
              "  </thead>\n",
              "  <tbody>\n",
              "    <tr>\n",
              "      <th>0</th>\n",
              "      <td>1</td>\n",
              "      <td>14.23</td>\n",
              "      <td>1.71</td>\n",
              "      <td>2.43</td>\n",
              "      <td>15.6</td>\n",
              "      <td>127</td>\n",
              "      <td>2.80</td>\n",
              "      <td>3.06</td>\n",
              "      <td>0.28</td>\n",
              "      <td>2.29</td>\n",
              "      <td>5.64</td>\n",
              "      <td>1.04</td>\n",
              "      <td>3.92</td>\n",
              "      <td>1065</td>\n",
              "    </tr>\n",
              "    <tr>\n",
              "      <th>1</th>\n",
              "      <td>1</td>\n",
              "      <td>13.20</td>\n",
              "      <td>1.78</td>\n",
              "      <td>2.14</td>\n",
              "      <td>11.2</td>\n",
              "      <td>100</td>\n",
              "      <td>2.65</td>\n",
              "      <td>2.76</td>\n",
              "      <td>0.26</td>\n",
              "      <td>1.28</td>\n",
              "      <td>4.38</td>\n",
              "      <td>1.05</td>\n",
              "      <td>3.40</td>\n",
              "      <td>1050</td>\n",
              "    </tr>\n",
              "    <tr>\n",
              "      <th>2</th>\n",
              "      <td>1</td>\n",
              "      <td>13.16</td>\n",
              "      <td>2.36</td>\n",
              "      <td>2.67</td>\n",
              "      <td>18.6</td>\n",
              "      <td>101</td>\n",
              "      <td>2.80</td>\n",
              "      <td>3.24</td>\n",
              "      <td>0.30</td>\n",
              "      <td>2.81</td>\n",
              "      <td>5.68</td>\n",
              "      <td>1.03</td>\n",
              "      <td>3.17</td>\n",
              "      <td>1185</td>\n",
              "    </tr>\n",
              "    <tr>\n",
              "      <th>3</th>\n",
              "      <td>1</td>\n",
              "      <td>14.37</td>\n",
              "      <td>1.95</td>\n",
              "      <td>2.50</td>\n",
              "      <td>16.8</td>\n",
              "      <td>113</td>\n",
              "      <td>3.85</td>\n",
              "      <td>3.49</td>\n",
              "      <td>0.24</td>\n",
              "      <td>2.18</td>\n",
              "      <td>7.80</td>\n",
              "      <td>0.86</td>\n",
              "      <td>3.45</td>\n",
              "      <td>1480</td>\n",
              "    </tr>\n",
              "    <tr>\n",
              "      <th>4</th>\n",
              "      <td>1</td>\n",
              "      <td>13.24</td>\n",
              "      <td>2.59</td>\n",
              "      <td>2.87</td>\n",
              "      <td>21.0</td>\n",
              "      <td>118</td>\n",
              "      <td>2.80</td>\n",
              "      <td>2.69</td>\n",
              "      <td>0.39</td>\n",
              "      <td>1.82</td>\n",
              "      <td>4.32</td>\n",
              "      <td>1.04</td>\n",
              "      <td>2.93</td>\n",
              "      <td>735</td>\n",
              "    </tr>\n",
              "    <tr>\n",
              "      <th>...</th>\n",
              "      <td>...</td>\n",
              "      <td>...</td>\n",
              "      <td>...</td>\n",
              "      <td>...</td>\n",
              "      <td>...</td>\n",
              "      <td>...</td>\n",
              "      <td>...</td>\n",
              "      <td>...</td>\n",
              "      <td>...</td>\n",
              "      <td>...</td>\n",
              "      <td>...</td>\n",
              "      <td>...</td>\n",
              "      <td>...</td>\n",
              "      <td>...</td>\n",
              "    </tr>\n",
              "    <tr>\n",
              "      <th>173</th>\n",
              "      <td>3</td>\n",
              "      <td>13.71</td>\n",
              "      <td>5.65</td>\n",
              "      <td>2.45</td>\n",
              "      <td>20.5</td>\n",
              "      <td>95</td>\n",
              "      <td>1.68</td>\n",
              "      <td>0.61</td>\n",
              "      <td>0.52</td>\n",
              "      <td>1.06</td>\n",
              "      <td>7.70</td>\n",
              "      <td>0.64</td>\n",
              "      <td>1.74</td>\n",
              "      <td>740</td>\n",
              "    </tr>\n",
              "    <tr>\n",
              "      <th>174</th>\n",
              "      <td>3</td>\n",
              "      <td>13.40</td>\n",
              "      <td>3.91</td>\n",
              "      <td>2.48</td>\n",
              "      <td>23.0</td>\n",
              "      <td>102</td>\n",
              "      <td>1.80</td>\n",
              "      <td>0.75</td>\n",
              "      <td>0.43</td>\n",
              "      <td>1.41</td>\n",
              "      <td>7.30</td>\n",
              "      <td>0.70</td>\n",
              "      <td>1.56</td>\n",
              "      <td>750</td>\n",
              "    </tr>\n",
              "    <tr>\n",
              "      <th>175</th>\n",
              "      <td>3</td>\n",
              "      <td>13.27</td>\n",
              "      <td>4.28</td>\n",
              "      <td>2.26</td>\n",
              "      <td>20.0</td>\n",
              "      <td>120</td>\n",
              "      <td>1.59</td>\n",
              "      <td>0.69</td>\n",
              "      <td>0.43</td>\n",
              "      <td>1.35</td>\n",
              "      <td>10.20</td>\n",
              "      <td>0.59</td>\n",
              "      <td>1.56</td>\n",
              "      <td>835</td>\n",
              "    </tr>\n",
              "    <tr>\n",
              "      <th>176</th>\n",
              "      <td>3</td>\n",
              "      <td>13.17</td>\n",
              "      <td>2.59</td>\n",
              "      <td>2.37</td>\n",
              "      <td>20.0</td>\n",
              "      <td>120</td>\n",
              "      <td>1.65</td>\n",
              "      <td>0.68</td>\n",
              "      <td>0.53</td>\n",
              "      <td>1.46</td>\n",
              "      <td>9.30</td>\n",
              "      <td>0.60</td>\n",
              "      <td>1.62</td>\n",
              "      <td>840</td>\n",
              "    </tr>\n",
              "    <tr>\n",
              "      <th>177</th>\n",
              "      <td>3</td>\n",
              "      <td>14.13</td>\n",
              "      <td>4.10</td>\n",
              "      <td>2.74</td>\n",
              "      <td>24.5</td>\n",
              "      <td>96</td>\n",
              "      <td>2.05</td>\n",
              "      <td>0.76</td>\n",
              "      <td>0.56</td>\n",
              "      <td>1.35</td>\n",
              "      <td>9.20</td>\n",
              "      <td>0.61</td>\n",
              "      <td>1.60</td>\n",
              "      <td>560</td>\n",
              "    </tr>\n",
              "  </tbody>\n",
              "</table>\n",
              "<p>178 rows × 14 columns</p>\n",
              "</div>"
            ],
            "text/plain": [
              "     Class  Alcohol  Malic acid  ...   Hue  OD280/OD315 of diluted wines  Proline\n",
              "0        1    14.23        1.71  ...  1.04                          3.92     1065\n",
              "1        1    13.20        1.78  ...  1.05                          3.40     1050\n",
              "2        1    13.16        2.36  ...  1.03                          3.17     1185\n",
              "3        1    14.37        1.95  ...  0.86                          3.45     1480\n",
              "4        1    13.24        2.59  ...  1.04                          2.93      735\n",
              "..     ...      ...         ...  ...   ...                           ...      ...\n",
              "173      3    13.71        5.65  ...  0.64                          1.74      740\n",
              "174      3    13.40        3.91  ...  0.70                          1.56      750\n",
              "175      3    13.27        4.28  ...  0.59                          1.56      835\n",
              "176      3    13.17        2.59  ...  0.60                          1.62      840\n",
              "177      3    14.13        4.10  ...  0.61                          1.60      560\n",
              "\n",
              "[178 rows x 14 columns]"
            ]
          },
          "metadata": {
            "tags": []
          },
          "execution_count": 3
        }
      ]
    },
    {
      "cell_type": "code",
      "metadata": {
        "id": "c5-L2potu7Az",
        "colab_type": "code",
        "colab": {}
      },
      "source": [
        "def load_wine_data(wine_path = WINE_PATH):\n",
        "  return fetch_wine_data(DATA_URL,wine_path)"
      ],
      "execution_count": 0,
      "outputs": []
    },
    {
      "cell_type": "code",
      "metadata": {
        "id": "NEtVncVLwLXK",
        "colab_type": "code",
        "colab": {
          "base_uri": "https://localhost:8080/",
          "height": 221
        },
        "outputId": "544a5cce-7245-401a-b3f4-6a9361a695c2"
      },
      "source": [
        "wine = load_wine_data()\n",
        "wine.head()"
      ],
      "execution_count": 7,
      "outputs": [
        {
          "output_type": "execute_result",
          "data": {
            "text/html": [
              "<div>\n",
              "<style scoped>\n",
              "    .dataframe tbody tr th:only-of-type {\n",
              "        vertical-align: middle;\n",
              "    }\n",
              "\n",
              "    .dataframe tbody tr th {\n",
              "        vertical-align: top;\n",
              "    }\n",
              "\n",
              "    .dataframe thead th {\n",
              "        text-align: right;\n",
              "    }\n",
              "</style>\n",
              "<table border=\"1\" class=\"dataframe\">\n",
              "  <thead>\n",
              "    <tr style=\"text-align: right;\">\n",
              "      <th></th>\n",
              "      <th>Class</th>\n",
              "      <th>Alcohol</th>\n",
              "      <th>Malic acid</th>\n",
              "      <th>Ash</th>\n",
              "      <th>Alcalinity of ash</th>\n",
              "      <th>Magnesium</th>\n",
              "      <th>Total phenols</th>\n",
              "      <th>Flavanoids</th>\n",
              "      <th>Nonflavanoid phenols</th>\n",
              "      <th>Proanthocyanins</th>\n",
              "      <th>Color intensity</th>\n",
              "      <th>Hue</th>\n",
              "      <th>OD280/OD315 of diluted wines</th>\n",
              "      <th>Proline</th>\n",
              "    </tr>\n",
              "  </thead>\n",
              "  <tbody>\n",
              "    <tr>\n",
              "      <th>0</th>\n",
              "      <td>1</td>\n",
              "      <td>14.23</td>\n",
              "      <td>1.71</td>\n",
              "      <td>2.43</td>\n",
              "      <td>15.6</td>\n",
              "      <td>127</td>\n",
              "      <td>2.80</td>\n",
              "      <td>3.06</td>\n",
              "      <td>0.28</td>\n",
              "      <td>2.29</td>\n",
              "      <td>5.64</td>\n",
              "      <td>1.04</td>\n",
              "      <td>3.92</td>\n",
              "      <td>1065</td>\n",
              "    </tr>\n",
              "    <tr>\n",
              "      <th>1</th>\n",
              "      <td>1</td>\n",
              "      <td>13.20</td>\n",
              "      <td>1.78</td>\n",
              "      <td>2.14</td>\n",
              "      <td>11.2</td>\n",
              "      <td>100</td>\n",
              "      <td>2.65</td>\n",
              "      <td>2.76</td>\n",
              "      <td>0.26</td>\n",
              "      <td>1.28</td>\n",
              "      <td>4.38</td>\n",
              "      <td>1.05</td>\n",
              "      <td>3.40</td>\n",
              "      <td>1050</td>\n",
              "    </tr>\n",
              "    <tr>\n",
              "      <th>2</th>\n",
              "      <td>1</td>\n",
              "      <td>13.16</td>\n",
              "      <td>2.36</td>\n",
              "      <td>2.67</td>\n",
              "      <td>18.6</td>\n",
              "      <td>101</td>\n",
              "      <td>2.80</td>\n",
              "      <td>3.24</td>\n",
              "      <td>0.30</td>\n",
              "      <td>2.81</td>\n",
              "      <td>5.68</td>\n",
              "      <td>1.03</td>\n",
              "      <td>3.17</td>\n",
              "      <td>1185</td>\n",
              "    </tr>\n",
              "    <tr>\n",
              "      <th>3</th>\n",
              "      <td>1</td>\n",
              "      <td>14.37</td>\n",
              "      <td>1.95</td>\n",
              "      <td>2.50</td>\n",
              "      <td>16.8</td>\n",
              "      <td>113</td>\n",
              "      <td>3.85</td>\n",
              "      <td>3.49</td>\n",
              "      <td>0.24</td>\n",
              "      <td>2.18</td>\n",
              "      <td>7.80</td>\n",
              "      <td>0.86</td>\n",
              "      <td>3.45</td>\n",
              "      <td>1480</td>\n",
              "    </tr>\n",
              "    <tr>\n",
              "      <th>4</th>\n",
              "      <td>1</td>\n",
              "      <td>13.24</td>\n",
              "      <td>2.59</td>\n",
              "      <td>2.87</td>\n",
              "      <td>21.0</td>\n",
              "      <td>118</td>\n",
              "      <td>2.80</td>\n",
              "      <td>2.69</td>\n",
              "      <td>0.39</td>\n",
              "      <td>1.82</td>\n",
              "      <td>4.32</td>\n",
              "      <td>1.04</td>\n",
              "      <td>2.93</td>\n",
              "      <td>735</td>\n",
              "    </tr>\n",
              "  </tbody>\n",
              "</table>\n",
              "</div>"
            ],
            "text/plain": [
              "   Class  Alcohol  Malic acid  ...   Hue  OD280/OD315 of diluted wines  Proline\n",
              "0      1    14.23        1.71  ...  1.04                          3.92     1065\n",
              "1      1    13.20        1.78  ...  1.05                          3.40     1050\n",
              "2      1    13.16        2.36  ...  1.03                          3.17     1185\n",
              "3      1    14.37        1.95  ...  0.86                          3.45     1480\n",
              "4      1    13.24        2.59  ...  1.04                          2.93      735\n",
              "\n",
              "[5 rows x 14 columns]"
            ]
          },
          "metadata": {
            "tags": []
          },
          "execution_count": 7
        }
      ]
    },
    {
      "cell_type": "code",
      "metadata": {
        "id": "uz2xBGOfwlTs",
        "colab_type": "code",
        "colab": {
          "base_uri": "https://localhost:8080/",
          "height": 340
        },
        "outputId": "b534df3b-b5ee-47b8-eff5-cf8cb6c96d87"
      },
      "source": [
        "wine.info()"
      ],
      "execution_count": 8,
      "outputs": [
        {
          "output_type": "stream",
          "text": [
            "<class 'pandas.core.frame.DataFrame'>\n",
            "RangeIndex: 178 entries, 0 to 177\n",
            "Data columns (total 14 columns):\n",
            "Class                           178 non-null int64\n",
            "Alcohol                         178 non-null float64\n",
            "Malic acid                      178 non-null float64\n",
            "Ash                             178 non-null float64\n",
            "Alcalinity of ash               178 non-null float64\n",
            "Magnesium                       178 non-null int64\n",
            "Total phenols                   178 non-null float64\n",
            "Flavanoids                      178 non-null float64\n",
            "Nonflavanoid phenols            178 non-null float64\n",
            "Proanthocyanins                 178 non-null float64\n",
            "Color intensity                 178 non-null float64\n",
            "Hue                             178 non-null float64\n",
            "OD280/OD315 of diluted wines    178 non-null float64\n",
            "Proline                         178 non-null int64\n",
            "dtypes: float64(11), int64(3)\n",
            "memory usage: 19.6 KB\n"
          ],
          "name": "stdout"
        }
      ]
    },
    {
      "cell_type": "code",
      "metadata": {
        "id": "UhSmcVp_wnbw",
        "colab_type": "code",
        "colab": {
          "base_uri": "https://localhost:8080/",
          "height": 85
        },
        "outputId": "2c99c518-fd97-406e-a2da-be8c6ba659c0"
      },
      "source": [
        "wine['Class'].value_counts()"
      ],
      "execution_count": 9,
      "outputs": [
        {
          "output_type": "execute_result",
          "data": {
            "text/plain": [
              "2    71\n",
              "1    59\n",
              "3    48\n",
              "Name: Class, dtype: int64"
            ]
          },
          "metadata": {
            "tags": []
          },
          "execution_count": 9
        }
      ]
    },
    {
      "cell_type": "code",
      "metadata": {
        "id": "EEXFEjKcw_Ue",
        "colab_type": "code",
        "colab": {
          "base_uri": "https://localhost:8080/",
          "height": 351
        },
        "outputId": "2990239c-4c07-4dfb-9ab4-0a965facc3b7"
      },
      "source": [
        "wine.describe()"
      ],
      "execution_count": 10,
      "outputs": [
        {
          "output_type": "execute_result",
          "data": {
            "text/html": [
              "<div>\n",
              "<style scoped>\n",
              "    .dataframe tbody tr th:only-of-type {\n",
              "        vertical-align: middle;\n",
              "    }\n",
              "\n",
              "    .dataframe tbody tr th {\n",
              "        vertical-align: top;\n",
              "    }\n",
              "\n",
              "    .dataframe thead th {\n",
              "        text-align: right;\n",
              "    }\n",
              "</style>\n",
              "<table border=\"1\" class=\"dataframe\">\n",
              "  <thead>\n",
              "    <tr style=\"text-align: right;\">\n",
              "      <th></th>\n",
              "      <th>Class</th>\n",
              "      <th>Alcohol</th>\n",
              "      <th>Malic acid</th>\n",
              "      <th>Ash</th>\n",
              "      <th>Alcalinity of ash</th>\n",
              "      <th>Magnesium</th>\n",
              "      <th>Total phenols</th>\n",
              "      <th>Flavanoids</th>\n",
              "      <th>Nonflavanoid phenols</th>\n",
              "      <th>Proanthocyanins</th>\n",
              "      <th>Color intensity</th>\n",
              "      <th>Hue</th>\n",
              "      <th>OD280/OD315 of diluted wines</th>\n",
              "      <th>Proline</th>\n",
              "    </tr>\n",
              "  </thead>\n",
              "  <tbody>\n",
              "    <tr>\n",
              "      <th>count</th>\n",
              "      <td>178.000000</td>\n",
              "      <td>178.000000</td>\n",
              "      <td>178.000000</td>\n",
              "      <td>178.000000</td>\n",
              "      <td>178.000000</td>\n",
              "      <td>178.000000</td>\n",
              "      <td>178.000000</td>\n",
              "      <td>178.000000</td>\n",
              "      <td>178.000000</td>\n",
              "      <td>178.000000</td>\n",
              "      <td>178.000000</td>\n",
              "      <td>178.000000</td>\n",
              "      <td>178.000000</td>\n",
              "      <td>178.000000</td>\n",
              "    </tr>\n",
              "    <tr>\n",
              "      <th>mean</th>\n",
              "      <td>1.938202</td>\n",
              "      <td>13.000618</td>\n",
              "      <td>2.336348</td>\n",
              "      <td>2.366517</td>\n",
              "      <td>19.494944</td>\n",
              "      <td>99.741573</td>\n",
              "      <td>2.295112</td>\n",
              "      <td>2.029270</td>\n",
              "      <td>0.361854</td>\n",
              "      <td>1.590899</td>\n",
              "      <td>5.058090</td>\n",
              "      <td>0.957449</td>\n",
              "      <td>2.611685</td>\n",
              "      <td>746.893258</td>\n",
              "    </tr>\n",
              "    <tr>\n",
              "      <th>std</th>\n",
              "      <td>0.775035</td>\n",
              "      <td>0.811827</td>\n",
              "      <td>1.117146</td>\n",
              "      <td>0.274344</td>\n",
              "      <td>3.339564</td>\n",
              "      <td>14.282484</td>\n",
              "      <td>0.625851</td>\n",
              "      <td>0.998859</td>\n",
              "      <td>0.124453</td>\n",
              "      <td>0.572359</td>\n",
              "      <td>2.318286</td>\n",
              "      <td>0.228572</td>\n",
              "      <td>0.709990</td>\n",
              "      <td>314.907474</td>\n",
              "    </tr>\n",
              "    <tr>\n",
              "      <th>min</th>\n",
              "      <td>1.000000</td>\n",
              "      <td>11.030000</td>\n",
              "      <td>0.740000</td>\n",
              "      <td>1.360000</td>\n",
              "      <td>10.600000</td>\n",
              "      <td>70.000000</td>\n",
              "      <td>0.980000</td>\n",
              "      <td>0.340000</td>\n",
              "      <td>0.130000</td>\n",
              "      <td>0.410000</td>\n",
              "      <td>1.280000</td>\n",
              "      <td>0.480000</td>\n",
              "      <td>1.270000</td>\n",
              "      <td>278.000000</td>\n",
              "    </tr>\n",
              "    <tr>\n",
              "      <th>25%</th>\n",
              "      <td>1.000000</td>\n",
              "      <td>12.362500</td>\n",
              "      <td>1.602500</td>\n",
              "      <td>2.210000</td>\n",
              "      <td>17.200000</td>\n",
              "      <td>88.000000</td>\n",
              "      <td>1.742500</td>\n",
              "      <td>1.205000</td>\n",
              "      <td>0.270000</td>\n",
              "      <td>1.250000</td>\n",
              "      <td>3.220000</td>\n",
              "      <td>0.782500</td>\n",
              "      <td>1.937500</td>\n",
              "      <td>500.500000</td>\n",
              "    </tr>\n",
              "    <tr>\n",
              "      <th>50%</th>\n",
              "      <td>2.000000</td>\n",
              "      <td>13.050000</td>\n",
              "      <td>1.865000</td>\n",
              "      <td>2.360000</td>\n",
              "      <td>19.500000</td>\n",
              "      <td>98.000000</td>\n",
              "      <td>2.355000</td>\n",
              "      <td>2.135000</td>\n",
              "      <td>0.340000</td>\n",
              "      <td>1.555000</td>\n",
              "      <td>4.690000</td>\n",
              "      <td>0.965000</td>\n",
              "      <td>2.780000</td>\n",
              "      <td>673.500000</td>\n",
              "    </tr>\n",
              "    <tr>\n",
              "      <th>75%</th>\n",
              "      <td>3.000000</td>\n",
              "      <td>13.677500</td>\n",
              "      <td>3.082500</td>\n",
              "      <td>2.557500</td>\n",
              "      <td>21.500000</td>\n",
              "      <td>107.000000</td>\n",
              "      <td>2.800000</td>\n",
              "      <td>2.875000</td>\n",
              "      <td>0.437500</td>\n",
              "      <td>1.950000</td>\n",
              "      <td>6.200000</td>\n",
              "      <td>1.120000</td>\n",
              "      <td>3.170000</td>\n",
              "      <td>985.000000</td>\n",
              "    </tr>\n",
              "    <tr>\n",
              "      <th>max</th>\n",
              "      <td>3.000000</td>\n",
              "      <td>14.830000</td>\n",
              "      <td>5.800000</td>\n",
              "      <td>3.230000</td>\n",
              "      <td>30.000000</td>\n",
              "      <td>162.000000</td>\n",
              "      <td>3.880000</td>\n",
              "      <td>5.080000</td>\n",
              "      <td>0.660000</td>\n",
              "      <td>3.580000</td>\n",
              "      <td>13.000000</td>\n",
              "      <td>1.710000</td>\n",
              "      <td>4.000000</td>\n",
              "      <td>1680.000000</td>\n",
              "    </tr>\n",
              "  </tbody>\n",
              "</table>\n",
              "</div>"
            ],
            "text/plain": [
              "            Class     Alcohol  ...  OD280/OD315 of diluted wines      Proline\n",
              "count  178.000000  178.000000  ...                    178.000000   178.000000\n",
              "mean     1.938202   13.000618  ...                      2.611685   746.893258\n",
              "std      0.775035    0.811827  ...                      0.709990   314.907474\n",
              "min      1.000000   11.030000  ...                      1.270000   278.000000\n",
              "25%      1.000000   12.362500  ...                      1.937500   500.500000\n",
              "50%      2.000000   13.050000  ...                      2.780000   673.500000\n",
              "75%      3.000000   13.677500  ...                      3.170000   985.000000\n",
              "max      3.000000   14.830000  ...                      4.000000  1680.000000\n",
              "\n",
              "[8 rows x 14 columns]"
            ]
          },
          "metadata": {
            "tags": []
          },
          "execution_count": 10
        }
      ]
    },
    {
      "cell_type": "markdown",
      "metadata": {
        "id": "qasG7sCuxMcD",
        "colab_type": "text"
      },
      "source": [
        "#Plot the data"
      ]
    },
    {
      "cell_type": "code",
      "metadata": {
        "id": "vg1FuapzxDcs",
        "colab_type": "code",
        "colab": {
          "base_uri": "https://localhost:8080/",
          "height": 1000
        },
        "outputId": "a6886716-80e0-43fc-a704-4e2705ac574c"
      },
      "source": [
        "%matplotlib inline\n",
        "import matplotlib.pyplot as plot\n",
        "wine.hist(bins=50,figsize=(20,15))\n",
        "save_fig('attribute_histogram_plots')\n",
        "plot.show()"
      ],
      "execution_count": 11,
      "outputs": [
        {
          "output_type": "stream",
          "text": [
            "saving figure attribute_histogram_plots\n"
          ],
          "name": "stdout"
        },
        {
          "output_type": "display_data",
          "data": {
            "image/png": "[encoded data removed]",
            "text/plain": [
              "<Figure size 1440x1080 with 16 Axes>"
            ]
          },
          "metadata": {
            "tags": []
          }
        }
      ]
    },
    {
      "cell_type": "code",
      "metadata": {
        "id": "Z2KaH4mwx9V2",
        "colab_type": "code",
        "colab": {}
      },
      "source": [
        "#to make this notebook's output identeical at every run\n",
        "np.random.seed(70)"
      ],
      "execution_count": 0,
      "outputs": []
    },
    {
      "cell_type": "code",
      "metadata": {
        "id": "IXYnq6IGyAOo",
        "colab_type": "code",
        "colab": {}
      },
      "source": [
        "import numpy as np\n",
        "\n",
        "# For illustration only. Sklearn has train_test_split()\n",
        "def split_train_test(data,test_ratio):\n",
        "  shuffled_indices = np.random.permutation(len(data))\n",
        "  test_set_size = int(len(data) * test_ratio)\n",
        "  test_indices = shuffled_indices[:test_set_size]\n",
        "  train_indices = shuffled_indices[test_set_size:]\n",
        "  return data.iloc[train_indices], data.iloc[test_indices]"
      ],
      "execution_count": 0,
      "outputs": []
    },
    {
      "cell_type": "code",
      "metadata": {
        "id": "glDiocVFybux",
        "colab_type": "code",
        "colab": {
          "base_uri": "https://localhost:8080/",
          "height": 34
        },
        "outputId": "131f5fd4-895e-4c98-ec55-b38e3ec539d6"
      },
      "source": [
        "train_set, test_set = split_train_test(wine,0.2)\n",
        "len(train_set)"
      ],
      "execution_count": 21,
      "outputs": [
        {
          "output_type": "execute_result",
          "data": {
            "text/plain": [
              "143"
            ]
          },
          "metadata": {
            "tags": []
          },
          "execution_count": 21
        }
      ]
    },
    {
      "cell_type": "code",
      "metadata": {
        "id": "wasl5bCRy3qa",
        "colab_type": "code",
        "colab": {
          "base_uri": "https://localhost:8080/",
          "height": 34
        },
        "outputId": "dbe75899-11f6-4fba-e44e-b9765707d52a"
      },
      "source": [
        "len(test_set)"
      ],
      "execution_count": 22,
      "outputs": [
        {
          "output_type": "execute_result",
          "data": {
            "text/plain": [
              "35"
            ]
          },
          "metadata": {
            "tags": []
          },
          "execution_count": 22
        }
      ]
    },
    {
      "cell_type": "code",
      "metadata": {
        "id": "LuerjK5ry7p3",
        "colab_type": "code",
        "colab": {}
      },
      "source": [
        "from zlib import crc32\n",
        "\n",
        "def test_set_check(identifier,test_ratio):\n",
        "  return crc32(np.int64(identifier)) & 0xffffffff < test_ratio * 2**32\n",
        "\n",
        "def split_train_test_by_id(data, test_ratio, id_column):\n",
        "  ids = data[id_column]\n",
        "  in_test_set = ids.apply(lambda id: test_set_check(id_,test_ratio))\n",
        "  return data.loc[~in_test_set], data.loc[in_test_set]"
      ],
      "execution_count": 0,
      "outputs": []
    },
    {
      "cell_type": "code",
      "metadata": {
        "id": "BrnLVGFRzHHx",
        "colab_type": "code",
        "colab": {}
      },
      "source": [
        "import hashlib\n",
        "\n",
        "def test_set_check(identifier, test_ratio,has=hashlib.md5):\n",
        "  return hash(np.int64(identifier)).digest()[-1] < 256 * test_ratio"
      ],
      "execution_count": 0,
      "outputs": []
    },
    {
      "cell_type": "code",
      "metadata": {
        "id": "Qoxs_Q7DzLJa",
        "colab_type": "code",
        "colab": {
          "base_uri": "https://localhost:8080/",
          "height": 221
        },
        "outputId": "56aebd11-2efb-4f70-a1f1-cf2e099ee31f"
      },
      "source": [
        "test_set.head()"
      ],
      "execution_count": 25,
      "outputs": [
        {
          "output_type": "execute_result",
          "data": {
            "text/html": [
              "<div>\n",
              "<style scoped>\n",
              "    .dataframe tbody tr th:only-of-type {\n",
              "        vertical-align: middle;\n",
              "    }\n",
              "\n",
              "    .dataframe tbody tr th {\n",
              "        vertical-align: top;\n",
              "    }\n",
              "\n",
              "    .dataframe thead th {\n",
              "        text-align: right;\n",
              "    }\n",
              "</style>\n",
              "<table border=\"1\" class=\"dataframe\">\n",
              "  <thead>\n",
              "    <tr style=\"text-align: right;\">\n",
              "      <th></th>\n",
              "      <th>Class</th>\n",
              "      <th>Alcohol</th>\n",
              "      <th>Malic acid</th>\n",
              "      <th>Ash</th>\n",
              "      <th>Alcalinity of ash</th>\n",
              "      <th>Magnesium</th>\n",
              "      <th>Total phenols</th>\n",
              "      <th>Flavanoids</th>\n",
              "      <th>Nonflavanoid phenols</th>\n",
              "      <th>Proanthocyanins</th>\n",
              "      <th>Color intensity</th>\n",
              "      <th>Hue</th>\n",
              "      <th>OD280/OD315 of diluted wines</th>\n",
              "      <th>Proline</th>\n",
              "    </tr>\n",
              "  </thead>\n",
              "  <tbody>\n",
              "    <tr>\n",
              "      <th>37</th>\n",
              "      <td>1</td>\n",
              "      <td>13.05</td>\n",
              "      <td>1.65</td>\n",
              "      <td>2.55</td>\n",
              "      <td>18.0</td>\n",
              "      <td>98</td>\n",
              "      <td>2.45</td>\n",
              "      <td>2.43</td>\n",
              "      <td>0.29</td>\n",
              "      <td>1.44</td>\n",
              "      <td>4.25</td>\n",
              "      <td>1.12</td>\n",
              "      <td>2.51</td>\n",
              "      <td>1105</td>\n",
              "    </tr>\n",
              "    <tr>\n",
              "      <th>18</th>\n",
              "      <td>1</td>\n",
              "      <td>14.19</td>\n",
              "      <td>1.59</td>\n",
              "      <td>2.48</td>\n",
              "      <td>16.5</td>\n",
              "      <td>108</td>\n",
              "      <td>3.30</td>\n",
              "      <td>3.93</td>\n",
              "      <td>0.32</td>\n",
              "      <td>1.86</td>\n",
              "      <td>8.70</td>\n",
              "      <td>1.23</td>\n",
              "      <td>2.82</td>\n",
              "      <td>1680</td>\n",
              "    </tr>\n",
              "    <tr>\n",
              "      <th>11</th>\n",
              "      <td>1</td>\n",
              "      <td>14.12</td>\n",
              "      <td>1.48</td>\n",
              "      <td>2.32</td>\n",
              "      <td>16.8</td>\n",
              "      <td>95</td>\n",
              "      <td>2.20</td>\n",
              "      <td>2.43</td>\n",
              "      <td>0.26</td>\n",
              "      <td>1.57</td>\n",
              "      <td>5.00</td>\n",
              "      <td>1.17</td>\n",
              "      <td>2.82</td>\n",
              "      <td>1280</td>\n",
              "    </tr>\n",
              "    <tr>\n",
              "      <th>173</th>\n",
              "      <td>3</td>\n",
              "      <td>13.71</td>\n",
              "      <td>5.65</td>\n",
              "      <td>2.45</td>\n",
              "      <td>20.5</td>\n",
              "      <td>95</td>\n",
              "      <td>1.68</td>\n",
              "      <td>0.61</td>\n",
              "      <td>0.52</td>\n",
              "      <td>1.06</td>\n",
              "      <td>7.70</td>\n",
              "      <td>0.64</td>\n",
              "      <td>1.74</td>\n",
              "      <td>740</td>\n",
              "    </tr>\n",
              "    <tr>\n",
              "      <th>89</th>\n",
              "      <td>2</td>\n",
              "      <td>12.08</td>\n",
              "      <td>1.33</td>\n",
              "      <td>2.30</td>\n",
              "      <td>23.6</td>\n",
              "      <td>70</td>\n",
              "      <td>2.20</td>\n",
              "      <td>1.59</td>\n",
              "      <td>0.42</td>\n",
              "      <td>1.38</td>\n",
              "      <td>1.74</td>\n",
              "      <td>1.07</td>\n",
              "      <td>3.21</td>\n",
              "      <td>625</td>\n",
              "    </tr>\n",
              "  </tbody>\n",
              "</table>\n",
              "</div>"
            ],
            "text/plain": [
              "     Class  Alcohol  Malic acid  ...   Hue  OD280/OD315 of diluted wines  Proline\n",
              "37       1    13.05        1.65  ...  1.12                          2.51     1105\n",
              "18       1    14.19        1.59  ...  1.23                          2.82     1680\n",
              "11       1    14.12        1.48  ...  1.17                          2.82     1280\n",
              "173      3    13.71        5.65  ...  0.64                          1.74      740\n",
              "89       2    12.08        1.33  ...  1.07                          3.21      625\n",
              "\n",
              "[5 rows x 14 columns]"
            ]
          },
          "metadata": {
            "tags": []
          },
          "execution_count": 25
        }
      ]
    },
    {
      "cell_type": "code",
      "metadata": {
        "id": "F6BO_abCzNxk",
        "colab_type": "code",
        "colab": {
          "base_uri": "https://localhost:8080/",
          "height": 221
        },
        "outputId": "002b1d27-7001-467b-fed2-3a4dd3b3efb4"
      },
      "source": [
        "from sklearn.model_selection import train_test_split\n",
        "\n",
        "train_set, test_set = train_test_split(wine, test_size = 0.2, random_state = 70)\n",
        "test_set.head()"
      ],
      "execution_count": 28,
      "outputs": [
        {
          "output_type": "execute_result",
          "data": {
            "text/html": [
              "<div>\n",
              "<style scoped>\n",
              "    .dataframe tbody tr th:only-of-type {\n",
              "        vertical-align: middle;\n",
              "    }\n",
              "\n",
              "    .dataframe tbody tr th {\n",
              "        vertical-align: top;\n",
              "    }\n",
              "\n",
              "    .dataframe thead th {\n",
              "        text-align: right;\n",
              "    }\n",
              "</style>\n",
              "<table border=\"1\" class=\"dataframe\">\n",
              "  <thead>\n",
              "    <tr style=\"text-align: right;\">\n",
              "      <th></th>\n",
              "      <th>Class</th>\n",
              "      <th>Alcohol</th>\n",
              "      <th>Malic acid</th>\n",
              "      <th>Ash</th>\n",
              "      <th>Alcalinity of ash</th>\n",
              "      <th>Magnesium</th>\n",
              "      <th>Total phenols</th>\n",
              "      <th>Flavanoids</th>\n",
              "      <th>Nonflavanoid phenols</th>\n",
              "      <th>Proanthocyanins</th>\n",
              "      <th>Color intensity</th>\n",
              "      <th>Hue</th>\n",
              "      <th>OD280/OD315 of diluted wines</th>\n",
              "      <th>Proline</th>\n",
              "    </tr>\n",
              "  </thead>\n",
              "  <tbody>\n",
              "    <tr>\n",
              "      <th>37</th>\n",
              "      <td>1</td>\n",
              "      <td>13.05</td>\n",
              "      <td>1.65</td>\n",
              "      <td>2.55</td>\n",
              "      <td>18.0</td>\n",
              "      <td>98</td>\n",
              "      <td>2.45</td>\n",
              "      <td>2.43</td>\n",
              "      <td>0.29</td>\n",
              "      <td>1.44</td>\n",
              "      <td>4.25</td>\n",
              "      <td>1.12</td>\n",
              "      <td>2.51</td>\n",
              "      <td>1105</td>\n",
              "    </tr>\n",
              "    <tr>\n",
              "      <th>18</th>\n",
              "      <td>1</td>\n",
              "      <td>14.19</td>\n",
              "      <td>1.59</td>\n",
              "      <td>2.48</td>\n",
              "      <td>16.5</td>\n",
              "      <td>108</td>\n",
              "      <td>3.30</td>\n",
              "      <td>3.93</td>\n",
              "      <td>0.32</td>\n",
              "      <td>1.86</td>\n",
              "      <td>8.70</td>\n",
              "      <td>1.23</td>\n",
              "      <td>2.82</td>\n",
              "      <td>1680</td>\n",
              "    </tr>\n",
              "    <tr>\n",
              "      <th>11</th>\n",
              "      <td>1</td>\n",
              "      <td>14.12</td>\n",
              "      <td>1.48</td>\n",
              "      <td>2.32</td>\n",
              "      <td>16.8</td>\n",
              "      <td>95</td>\n",
              "      <td>2.20</td>\n",
              "      <td>2.43</td>\n",
              "      <td>0.26</td>\n",
              "      <td>1.57</td>\n",
              "      <td>5.00</td>\n",
              "      <td>1.17</td>\n",
              "      <td>2.82</td>\n",
              "      <td>1280</td>\n",
              "    </tr>\n",
              "    <tr>\n",
              "      <th>173</th>\n",
              "      <td>3</td>\n",
              "      <td>13.71</td>\n",
              "      <td>5.65</td>\n",
              "      <td>2.45</td>\n",
              "      <td>20.5</td>\n",
              "      <td>95</td>\n",
              "      <td>1.68</td>\n",
              "      <td>0.61</td>\n",
              "      <td>0.52</td>\n",
              "      <td>1.06</td>\n",
              "      <td>7.70</td>\n",
              "      <td>0.64</td>\n",
              "      <td>1.74</td>\n",
              "      <td>740</td>\n",
              "    </tr>\n",
              "    <tr>\n",
              "      <th>89</th>\n",
              "      <td>2</td>\n",
              "      <td>12.08</td>\n",
              "      <td>1.33</td>\n",
              "      <td>2.30</td>\n",
              "      <td>23.6</td>\n",
              "      <td>70</td>\n",
              "      <td>2.20</td>\n",
              "      <td>1.59</td>\n",
              "      <td>0.42</td>\n",
              "      <td>1.38</td>\n",
              "      <td>1.74</td>\n",
              "      <td>1.07</td>\n",
              "      <td>3.21</td>\n",
              "      <td>625</td>\n",
              "    </tr>\n",
              "  </tbody>\n",
              "</table>\n",
              "</div>"
            ],
            "text/plain": [
              "     Class  Alcohol  Malic acid  ...   Hue  OD280/OD315 of diluted wines  Proline\n",
              "37       1    13.05        1.65  ...  1.12                          2.51     1105\n",
              "18       1    14.19        1.59  ...  1.23                          2.82     1680\n",
              "11       1    14.12        1.48  ...  1.17                          2.82     1280\n",
              "173      3    13.71        5.65  ...  0.64                          1.74      740\n",
              "89       2    12.08        1.33  ...  1.07                          3.21      625\n",
              "\n",
              "[5 rows x 14 columns]"
            ]
          },
          "metadata": {
            "tags": []
          },
          "execution_count": 28
        }
      ]
    },
    {
      "cell_type": "code",
      "metadata": {
        "id": "MAm2KuAa_N4j",
        "colab_type": "code",
        "colab": {
          "base_uri": "https://localhost:8080/",
          "height": 285
        },
        "outputId": "e740bc33-a499-4611-e69f-c0e80b94eb02"
      },
      "source": [
        "wine['Class'].hist()"
      ],
      "execution_count": 29,
      "outputs": [
        {
          "output_type": "execute_result",
          "data": {
            "text/plain": [
              "<matplotlib.axes._subplots.AxesSubplot at 0x7f397ca6bef0>"
            ]
          },
          "metadata": {
            "tags": []
          },
          "execution_count": 29
        },
        {
          "output_type": "display_data",
          "data": {
            "image/png": "[encoded data removed]",
            "text/plain": [
              "<Figure size 432x288 with 1 Axes>"
            ]
          },
          "metadata": {
            "tags": []
          }
        }
      ]
    },
    {
      "cell_type": "code",
      "metadata": {
        "id": "jXKx4MkB_U5U",
        "colab_type": "code",
        "colab": {}
      },
      "source": [
        "from sklearn.model_selection import StratifiedShuffleSplit\n",
        "\n",
        "split = StratifiedShuffleSplit(n_splits=1, test_size=0.2, random_state=70)\n",
        "for train_index, test_index in split.split(wine, wine['Class']):\n",
        "    strat_train_set = wine.loc[train_index]\n",
        "    strat_test_set = wine.loc[test_index]"
      ],
      "execution_count": 0,
      "outputs": []
    },
    {
      "cell_type": "code",
      "metadata": {
        "id": "YJLolBgQ_rHh",
        "colab_type": "code",
        "colab": {
          "base_uri": "https://localhost:8080/",
          "height": 85
        },
        "outputId": "6bc431f4-f372-46f2-821e-7e8e064ec531"
      },
      "source": [
        "strat_test_set['Class'].value_counts() / len(strat_test_set)"
      ],
      "execution_count": 32,
      "outputs": [
        {
          "output_type": "execute_result",
          "data": {
            "text/plain": [
              "2    0.388889\n",
              "1    0.333333\n",
              "3    0.277778\n",
              "Name: Class, dtype: float64"
            ]
          },
          "metadata": {
            "tags": []
          },
          "execution_count": 32
        }
      ]
    },
    {
      "cell_type": "code",
      "metadata": {
        "id": "rHr9NFlhAQD3",
        "colab_type": "code",
        "colab": {
          "base_uri": "https://localhost:8080/",
          "height": 85
        },
        "outputId": "582f1d9b-89d6-4282-b2da-7d9a25e528f0"
      },
      "source": [
        "wine['Class'].value_counts() / len(wine)"
      ],
      "execution_count": 33,
      "outputs": [
        {
          "output_type": "execute_result",
          "data": {
            "text/plain": [
              "2    0.398876\n",
              "1    0.331461\n",
              "3    0.269663\n",
              "Name: Class, dtype: float64"
            ]
          },
          "metadata": {
            "tags": []
          },
          "execution_count": 33
        }
      ]
    },
    {
      "cell_type": "markdown",
      "metadata": {
        "id": "2GB-4h-WCg47",
        "colab_type": "text"
      },
      "source": [
        "#Plot the classification data against each of the attributes"
      ]
    },
    {
      "cell_type": "code",
      "metadata": {
        "id": "_0vwhElrBp3j",
        "colab_type": "code",
        "colab": {}
      },
      "source": [
        "wineData = strat_train_set.copy()"
      ],
      "execution_count": 0,
      "outputs": []
    },
    {
      "cell_type": "code",
      "metadata": {
        "id": "m3bEJIwGCfEU",
        "colab_type": "code",
        "colab": {
          "base_uri": "https://localhost:8080/",
          "height": 314
        },
        "outputId": "e41ff6d8-8fcb-4560-f783-d166732c2dd9"
      },
      "source": [
        "wineData.plot(kind=\"scatter\",x=\"Class\",y=\"Alcohol\")\n",
        "save_fig(\"project1_wine_plot\")"
      ],
      "execution_count": 35,
      "outputs": [
        {
          "output_type": "stream",
          "text": [
            "saving figure project1_wine_plot\n"
          ],
          "name": "stdout"
        },
        {
          "output_type": "display_data",
          "data": {
            "image/png": "[encoded data removed]",
            "text/plain": [
              "<Figure size 432x288 with 1 Axes>"
            ]
          },
          "metadata": {
            "tags": []
          }
        }
      ]
    },
    {
      "cell_type": "code",
      "metadata": {
        "id": "OdaXuvQHDjZv",
        "colab_type": "code",
        "colab": {
          "base_uri": "https://localhost:8080/",
          "height": 314
        },
        "outputId": "3fb9c6f7-8d68-44f2-cc69-05a4d2210ed9"
      },
      "source": [
        "wineData.plot(kind=\"scatter\",x=\"Class\",y=\"Alcohol\", alpha = 0.1)\n",
        "save_fig(\"project1_wine_plot\")"
      ],
      "execution_count": 36,
      "outputs": [
        {
          "output_type": "stream",
          "text": [
            "saving figure project1_wine_plot\n"
          ],
          "name": "stdout"
        },
        {
          "output_type": "display_data",
          "data": {
            "image/png": "[encoded data removed]",
            "text/plain": [
              "<Figure size 432x288 with 1 Axes>"
            ]
          },
          "metadata": {
            "tags": []
          }
        }
      ]
    },
    {
      "cell_type": "code",
      "metadata": {
        "id": "nu68qD0bEBZJ",
        "colab_type": "code",
        "colab": {
          "base_uri": "https://localhost:8080/",
          "height": 530
        },
        "outputId": "c881a741-34a4-4374-8476-fb8da6548d98"
      },
      "source": [
        "wineData.plot(kind=\"scatter\",x=\"Class\",y=\"Alcohol\", alpha = 0.4,\n",
        "              s = wineData['Flavanoids']* 100, label = \"Flavanoids\", figsize  =(10,7),\n",
        "              c=\"Color intensity\", cmap = plt.get_cmap(\"jet\"), colorbar = True,\n",
        "              sharex=False)\n",
        "plt.legend()\n",
        "save_fig(\"project1_wine_plot_colored\")"
      ],
      "execution_count": 37,
      "outputs": [
        {
          "output_type": "stream",
          "text": [
            "saving figure project1_wine_plot_colored\n"
          ],
          "name": "stdout"
        },
        {
          "output_type": "display_data",
          "data": {
            "image/png": "[encoded data removed]",
            "text/plain": [
              "<Figure size 720x504 with 2 Axes>"
            ]
          },
          "metadata": {
            "tags": []
          }
        }
      ]
    },
    {
      "cell_type": "code",
      "metadata": {
        "id": "dSOJosN4ETvM",
        "colab_type": "code",
        "colab": {
          "base_uri": "https://localhost:8080/",
          "height": 272
        },
        "outputId": "87ab5b0b-c36e-4bda-c3bc-c623dcca6cb2"
      },
      "source": [
        "corr_matrix = wineData.corr()\n",
        "corr_matrix['Class'].sort_values(ascending=False)"
      ],
      "execution_count": 38,
      "outputs": [
        {
          "output_type": "execute_result",
          "data": {
            "text/plain": [
              "Class                           1.000000\n",
              "Alcalinity of ash               0.514632\n",
              "Malic acid                      0.469864\n",
              "Nonflavanoid phenols            0.459256\n",
              "Color intensity                 0.251183\n",
              "Ash                            -0.078834\n",
              "Magnesium                      -0.174153\n",
              "Alcohol                        -0.308659\n",
              "Proanthocyanins                -0.452311\n",
              "Hue                            -0.603970\n",
              "Proline                        -0.645513\n",
              "Total phenols                  -0.723162\n",
              "OD280/OD315 of diluted wines   -0.765109\n",
              "Flavanoids                     -0.846195\n",
              "Name: Class, dtype: float64"
            ]
          },
          "metadata": {
            "tags": []
          },
          "execution_count": 38
        }
      ]
    },
    {
      "cell_type": "markdown",
      "metadata": {
        "id": "Ks1wGzIIEsPI",
        "colab_type": "text"
      },
      "source": [
        "#The attribute that has the highest correlation with the classification is **Alcalinity of ash**"
      ]
    },
    {
      "cell_type": "code",
      "metadata": {
        "id": "7g5Wg445Ejzx",
        "colab_type": "code",
        "colab": {
          "base_uri": "https://localhost:8080/",
          "height": 794
        },
        "outputId": "382632bf-8806-4402-dd55-742dee6b56ed"
      },
      "source": [
        "from pandas.plotting import scatter_matrix\n",
        "attributes = [\"Alcalinity of ash\",\"Malic acid\",\"Nonflavanoid phenols\", \"Color intensity\"]\n",
        "scatter_matrix(wineData[attributes],figsize=(12,8))"
      ],
      "execution_count": 40,
      "outputs": [
        {
          "output_type": "execute_result",
          "data": {
            "text/plain": [
              "array([[<matplotlib.axes._subplots.AxesSubplot object at 0x7f39818d5dd8>,\n",
              "        <matplotlib.axes._subplots.AxesSubplot object at 0x7f39818ef550>,\n",
              "        <matplotlib.axes._subplots.AxesSubplot object at 0x7f3981c76b00>,\n",
              "        <matplotlib.axes._subplots.AxesSubplot object at 0x7f3981b290f0>],\n",
              "       [<matplotlib.axes._subplots.AxesSubplot object at 0x7f397ea6b6a0>,\n",
              "        <matplotlib.axes._subplots.AxesSubplot object at 0x7f3981b7dc50>,\n",
              "        <matplotlib.axes._subplots.AxesSubplot object at 0x7f3981a1c240>,\n",
              "        <matplotlib.axes._subplots.AxesSubplot object at 0x7f3981d6aa20>],\n",
              "       [<matplotlib.axes._subplots.AxesSubplot object at 0x7f3981d6aba8>,\n",
              "        <matplotlib.axes._subplots.AxesSubplot object at 0x7f3981d3d390>,\n",
              "        <matplotlib.axes._subplots.AxesSubplot object at 0x7f3981b09940>,\n",
              "        <matplotlib.axes._subplots.AxesSubplot object at 0x7f3981f8eef0>],\n",
              "       [<matplotlib.axes._subplots.AxesSubplot object at 0x7f3981d054e0>,\n",
              "        <matplotlib.axes._subplots.AxesSubplot object at 0x7f3982028a90>,\n",
              "        <matplotlib.axes._subplots.AxesSubplot object at 0x7f3981ad2080>,\n",
              "        <matplotlib.axes._subplots.AxesSubplot object at 0x7f3981b9f630>]],\n",
              "      dtype=object)"
            ]
          },
          "metadata": {
            "tags": []
          },
          "execution_count": 40
        },
        {
          "output_type": "display_data",
          "data": {
            "image/png": "[encoded data removed]",
            "text/plain": [
              "<Figure size 864x576 with 16 Axes>"
            ]
          },
          "metadata": {
            "tags": []
          }
        }
      ]
    },
    {
      "cell_type": "code",
      "metadata": {
        "id": "gDktc0RmGYLq",
        "colab_type": "code",
        "colab": {
          "base_uri": "https://localhost:8080/",
          "height": 314
        },
        "outputId": "699977ad-ca9f-4f3e-ecb6-f753777d8037"
      },
      "source": [
        "wine.plot(kind=\"scatter\", x=\"Magnesium\",y=\"Proanthocyanins\",\n",
        "              alpha=0.4)\n",
        "save_fig(\"Magnesium_vs_Proanthocyanins_scatterplot\")"
      ],
      "execution_count": 43,
      "outputs": [
        {
          "output_type": "stream",
          "text": [
            "saving figure Magnesium_vs_Proanthocyanins_scatterplot\n"
          ],
          "name": "stdout"
        },
        {
          "output_type": "display_data",
          "data": {
            "image/png": "[encoded data removed]",
            "text/plain": [
              "<Figure size 432x288 with 1 Axes>"
            ]
          },
          "metadata": {
            "tags": []
          }
        }
      ]
    },
    {
      "cell_type": "code",
      "metadata": {
        "id": "wUAafFN9LUE7",
        "colab_type": "code",
        "colab": {
          "base_uri": "https://localhost:8080/",
          "height": 351
        },
        "outputId": "9eff114f-87b9-4e56-836b-e494761799ed"
      },
      "source": [
        "wineData.describe()"
      ],
      "execution_count": 50,
      "outputs": [
        {
          "output_type": "execute_result",
          "data": {
            "text/html": [
              "<div>\n",
              "<style scoped>\n",
              "    .dataframe tbody tr th:only-of-type {\n",
              "        vertical-align: middle;\n",
              "    }\n",
              "\n",
              "    .dataframe tbody tr th {\n",
              "        vertical-align: top;\n",
              "    }\n",
              "\n",
              "    .dataframe thead th {\n",
              "        text-align: right;\n",
              "    }\n",
              "</style>\n",
              "<table border=\"1\" class=\"dataframe\">\n",
              "  <thead>\n",
              "    <tr style=\"text-align: right;\">\n",
              "      <th></th>\n",
              "      <th>Class</th>\n",
              "      <th>Alcohol</th>\n",
              "      <th>Malic acid</th>\n",
              "      <th>Ash</th>\n",
              "      <th>Alcalinity of ash</th>\n",
              "      <th>Magnesium</th>\n",
              "      <th>Total phenols</th>\n",
              "      <th>Flavanoids</th>\n",
              "      <th>Nonflavanoid phenols</th>\n",
              "      <th>Proanthocyanins</th>\n",
              "      <th>Color intensity</th>\n",
              "      <th>Hue</th>\n",
              "      <th>OD280/OD315 of diluted wines</th>\n",
              "      <th>Proline</th>\n",
              "    </tr>\n",
              "  </thead>\n",
              "  <tbody>\n",
              "    <tr>\n",
              "      <th>count</th>\n",
              "      <td>142.000000</td>\n",
              "      <td>142.000000</td>\n",
              "      <td>142.000000</td>\n",
              "      <td>142.000000</td>\n",
              "      <td>142.000000</td>\n",
              "      <td>142.000000</td>\n",
              "      <td>142.000000</td>\n",
              "      <td>142.000000</td>\n",
              "      <td>142.000000</td>\n",
              "      <td>142.000000</td>\n",
              "      <td>142.000000</td>\n",
              "      <td>142.000000</td>\n",
              "      <td>142.000000</td>\n",
              "      <td>142.000000</td>\n",
              "    </tr>\n",
              "    <tr>\n",
              "      <th>mean</th>\n",
              "      <td>1.936620</td>\n",
              "      <td>12.978873</td>\n",
              "      <td>2.313239</td>\n",
              "      <td>2.365000</td>\n",
              "      <td>19.557746</td>\n",
              "      <td>100.070423</td>\n",
              "      <td>2.306408</td>\n",
              "      <td>2.037254</td>\n",
              "      <td>0.362254</td>\n",
              "      <td>1.581831</td>\n",
              "      <td>5.075634</td>\n",
              "      <td>0.954225</td>\n",
              "      <td>2.610563</td>\n",
              "      <td>751.401408</td>\n",
              "    </tr>\n",
              "    <tr>\n",
              "      <th>std</th>\n",
              "      <td>0.773816</td>\n",
              "      <td>0.797873</td>\n",
              "      <td>1.110662</td>\n",
              "      <td>0.273791</td>\n",
              "      <td>3.097387</td>\n",
              "      <td>14.544453</td>\n",
              "      <td>0.610654</td>\n",
              "      <td>0.989690</td>\n",
              "      <td>0.121342</td>\n",
              "      <td>0.569668</td>\n",
              "      <td>2.356067</td>\n",
              "      <td>0.227351</td>\n",
              "      <td>0.689689</td>\n",
              "      <td>327.093000</td>\n",
              "    </tr>\n",
              "    <tr>\n",
              "      <th>min</th>\n",
              "      <td>1.000000</td>\n",
              "      <td>11.030000</td>\n",
              "      <td>0.740000</td>\n",
              "      <td>1.700000</td>\n",
              "      <td>11.200000</td>\n",
              "      <td>70.000000</td>\n",
              "      <td>0.980000</td>\n",
              "      <td>0.340000</td>\n",
              "      <td>0.130000</td>\n",
              "      <td>0.410000</td>\n",
              "      <td>1.280000</td>\n",
              "      <td>0.480000</td>\n",
              "      <td>1.270000</td>\n",
              "      <td>278.000000</td>\n",
              "    </tr>\n",
              "    <tr>\n",
              "      <th>25%</th>\n",
              "      <td>1.000000</td>\n",
              "      <td>12.332500</td>\n",
              "      <td>1.530000</td>\n",
              "      <td>2.202500</td>\n",
              "      <td>17.250000</td>\n",
              "      <td>89.000000</td>\n",
              "      <td>1.792500</td>\n",
              "      <td>1.250000</td>\n",
              "      <td>0.262500</td>\n",
              "      <td>1.250000</td>\n",
              "      <td>3.220000</td>\n",
              "      <td>0.792500</td>\n",
              "      <td>2.002500</td>\n",
              "      <td>495.000000</td>\n",
              "    </tr>\n",
              "    <tr>\n",
              "      <th>50%</th>\n",
              "      <td>2.000000</td>\n",
              "      <td>13.050000</td>\n",
              "      <td>1.850000</td>\n",
              "      <td>2.355000</td>\n",
              "      <td>19.500000</td>\n",
              "      <td>98.000000</td>\n",
              "      <td>2.410000</td>\n",
              "      <td>2.135000</td>\n",
              "      <td>0.340000</td>\n",
              "      <td>1.535000</td>\n",
              "      <td>4.750000</td>\n",
              "      <td>0.960000</td>\n",
              "      <td>2.780000</td>\n",
              "      <td>673.500000</td>\n",
              "    </tr>\n",
              "    <tr>\n",
              "      <th>75%</th>\n",
              "      <td>3.000000</td>\n",
              "      <td>13.627500</td>\n",
              "      <td>3.082500</td>\n",
              "      <td>2.557500</td>\n",
              "      <td>21.500000</td>\n",
              "      <td>108.000000</td>\n",
              "      <td>2.800000</td>\n",
              "      <td>2.787500</td>\n",
              "      <td>0.430000</td>\n",
              "      <td>1.950000</td>\n",
              "      <td>6.182500</td>\n",
              "      <td>1.120000</td>\n",
              "      <td>3.170000</td>\n",
              "      <td>1007.500000</td>\n",
              "    </tr>\n",
              "    <tr>\n",
              "      <th>max</th>\n",
              "      <td>3.000000</td>\n",
              "      <td>14.750000</td>\n",
              "      <td>5.800000</td>\n",
              "      <td>3.230000</td>\n",
              "      <td>30.000000</td>\n",
              "      <td>162.000000</td>\n",
              "      <td>3.850000</td>\n",
              "      <td>5.080000</td>\n",
              "      <td>0.660000</td>\n",
              "      <td>3.580000</td>\n",
              "      <td>13.000000</td>\n",
              "      <td>1.710000</td>\n",
              "      <td>3.690000</td>\n",
              "      <td>1680.000000</td>\n",
              "    </tr>\n",
              "  </tbody>\n",
              "</table>\n",
              "</div>"
            ],
            "text/plain": [
              "            Class     Alcohol  ...  OD280/OD315 of diluted wines      Proline\n",
              "count  142.000000  142.000000  ...                    142.000000   142.000000\n",
              "mean     1.936620   12.978873  ...                      2.610563   751.401408\n",
              "std      0.773816    0.797873  ...                      0.689689   327.093000\n",
              "min      1.000000   11.030000  ...                      1.270000   278.000000\n",
              "25%      1.000000   12.332500  ...                      2.002500   495.000000\n",
              "50%      2.000000   13.050000  ...                      2.780000   673.500000\n",
              "75%      3.000000   13.627500  ...                      3.170000  1007.500000\n",
              "max      3.000000   14.750000  ...                      3.690000  1680.000000\n",
              "\n",
              "[8 rows x 14 columns]"
            ]
          },
          "metadata": {
            "tags": []
          },
          "execution_count": 50
        }
      ]
    },
    {
      "cell_type": "code",
      "metadata": {
        "id": "1hAWMT2VXPFJ",
        "colab_type": "code",
        "colab": {
          "base_uri": "https://localhost:8080/",
          "height": 51
        },
        "outputId": "df996e65-e607-4a74-be18-1a4494ca3566"
      },
      "source": [
        "from sklearn.impute import SimpleImputer\n",
        "imputer = SimpleImputer(strategy=\"median\")\n",
        "\n",
        "wine_num = wine.select_dtypes(include=[np.number])\n",
        "imputer.fit(wine_num)\n"
      ],
      "execution_count": 79,
      "outputs": [
        {
          "output_type": "execute_result",
          "data": {
            "text/plain": [
              "SimpleImputer(add_indicator=False, copy=True, fill_value=None,\n",
              "              missing_values=nan, strategy='median', verbose=0)"
            ]
          },
          "metadata": {
            "tags": []
          },
          "execution_count": 79
        }
      ]
    },
    {
      "cell_type": "code",
      "metadata": {
        "id": "wJiWDetfYqFk",
        "colab_type": "code",
        "colab": {
          "base_uri": "https://localhost:8080/",
          "height": 68
        },
        "outputId": "3b821474-d5f8-4ed2-8583-1169f465164b"
      },
      "source": [
        "imputer.statistics_"
      ],
      "execution_count": 80,
      "outputs": [
        {
          "output_type": "execute_result",
          "data": {
            "text/plain": [
              "array([2.000e+00, 1.305e+01, 1.850e+00, 1.950e+01, 9.800e+01, 2.410e+00,\n",
              "       2.135e+00, 3.400e-01, 1.535e+00, 4.750e+00, 9.600e-01, 2.780e+00,\n",
              "       6.735e+02])"
            ]
          },
          "metadata": {
            "tags": []
          },
          "execution_count": 80
        }
      ]
    },
    {
      "cell_type": "code",
      "metadata": {
        "id": "5T9Atvi0Yq_e",
        "colab_type": "code",
        "colab": {
          "base_uri": "https://localhost:8080/",
          "height": 68
        },
        "outputId": "fffc2b4e-d284-4a4f-afbf-9b3bcbe1c4b8"
      },
      "source": [
        "wine_num.median().values"
      ],
      "execution_count": 81,
      "outputs": [
        {
          "output_type": "execute_result",
          "data": {
            "text/plain": [
              "array([2.000e+00, 1.305e+01, 1.850e+00, 1.950e+01, 9.800e+01, 2.410e+00,\n",
              "       2.135e+00, 3.400e-01, 1.535e+00, 4.750e+00, 9.600e-01, 2.780e+00,\n",
              "       6.735e+02])"
            ]
          },
          "metadata": {
            "tags": []
          },
          "execution_count": 81
        }
      ]
    },
    {
      "cell_type": "code",
      "metadata": {
        "id": "BvE-J4-OYt7S",
        "colab_type": "code",
        "colab": {}
      },
      "source": [
        "from sklearn.pipeline import Pipeline\n",
        "from sklearn.preprocessing import StandardScaler\n",
        "\n",
        "num_pipeline = Pipeline([\n",
        "        ('imputer', SimpleImputer(strategy=\"median\")),\n",
        "        ('std_scaler', StandardScaler()),                   \n",
        "])\n",
        "\n",
        "wine_num_tr = num_pipeline.fit_transform(wine_num)"
      ],
      "execution_count": 0,
      "outputs": []
    },
    {
      "cell_type": "code",
      "metadata": {
        "id": "Er6hoYWoY0Dn",
        "colab_type": "code",
        "colab": {}
      },
      "source": [
        "from sklearn.compose import ColumnTransformer\n",
        "from sklearn.preprocessing import OneHotEncoder\n",
        "\n",
        "num_attribs = list(wine_num)\n",
        "\n",
        "\n",
        "full_pipeline = ColumnTransformer([\n",
        "        (\"num\", num_pipeline, num_attribs)\n",
        "    ])\n",
        "\n",
        "wine_prepared = full_pipeline.fit_transform(wineData)"
      ],
      "execution_count": 0,
      "outputs": []
    },
    {
      "cell_type": "markdown",
      "metadata": {
        "id": "wCswCP6_Y9y9",
        "colab_type": "text"
      },
      "source": [
        "#Select and train a model"
      ]
    },
    {
      "cell_type": "code",
      "metadata": {
        "id": "gXDz4Pa9Y4oR",
        "colab_type": "code",
        "colab": {
          "base_uri": "https://localhost:8080/",
          "height": 34
        },
        "outputId": "4afa0cf6-949f-4692-abf5-e119cfc2f1d5"
      },
      "source": [
        "from sklearn.linear_model import LinearRegression\n",
        "\n",
        "lin_reg = LinearRegression()\n",
        "lin_reg.fit(wineData,wineData_labels)"
      ],
      "execution_count": 85,
      "outputs": [
        {
          "output_type": "execute_result",
          "data": {
            "text/plain": [
              "LinearRegression(copy_X=True, fit_intercept=True, n_jobs=None, normalize=False)"
            ]
          },
          "metadata": {
            "tags": []
          },
          "execution_count": 85
        }
      ]
    },
    {
      "cell_type": "code",
      "metadata": {
        "id": "uBkHeiZ4ZDpR",
        "colab_type": "code",
        "colab": {
          "base_uri": "https://localhost:8080/",
          "height": 34
        },
        "outputId": "053e2aa6-1e61-41f0-f8f6-a45decead02d"
      },
      "source": [
        "some_data = wineData.iloc[:5]\n",
        "some_labels = wineData_labels.iloc[:5]\n",
        "some_data_prepared = full_pipeline.transform(some_data)\n",
        "\n",
        "print(\"Predictions:\", lin_reg.predict(some_data_prepared))"
      ],
      "execution_count": 86,
      "outputs": [
        {
          "output_type": "stream",
          "text": [
            "Predictions: [0.76952163 0.65342185 0.01568573 0.72459189 0.75086917]\n"
          ],
          "name": "stdout"
        }
      ]
    },
    {
      "cell_type": "code",
      "metadata": {
        "id": "TkCqSSFbZOLn",
        "colab_type": "code",
        "colab": {
          "base_uri": "https://localhost:8080/",
          "height": 34
        },
        "outputId": "650d2b8a-c0c2-472e-ce19-5702f8593a9a"
      },
      "source": [
        "print(\"Labels:\", list(some_labels))"
      ],
      "execution_count": 87,
      "outputs": [
        {
          "output_type": "stream",
          "text": [
            "Labels: [2.35, 2.68, 2.22, 2.46, 2.72]\n"
          ],
          "name": "stdout"
        }
      ]
    },
    {
      "cell_type": "code",
      "metadata": {
        "id": "7N4Ebu_PZRvl",
        "colab_type": "code",
        "colab": {
          "base_uri": "https://localhost:8080/",
          "height": 272
        },
        "outputId": "ce5cb18a-e130-44e3-885a-9fd94689a4e3"
      },
      "source": [
        "some_data_prepared"
      ],
      "execution_count": 88,
      "outputs": [
        {
          "output_type": "execute_result",
          "data": {
            "text/plain": [
              "array([[ 1.37906732,  0.47936929,  0.22296069,  0.14328822, -0.7638383 ,\n",
              "        -1.48957827, -1.5587668 ,  0.06406585, -1.65915091,  0.2233478 ,\n",
              "        -1.12216551, -0.20452841,  0.0877421 ],\n",
              "       [-1.21467519,  0.39132549, -0.31013424, -0.89349786,  0.13313721,\n",
              "         1.13983811,  1.20943852, -0.43215328,  0.13770431,  0.39372323,\n",
              "         0.51103604,  0.33384448,  1.59108983],\n",
              "       [ 0.08219607, -0.86644317,  0.46691938, -0.50470308, -0.83283641,\n",
              "         0.23597623,  0.21572379, -0.9283724 ,  0.71903983, -1.24614031,\n",
              "         0.8641607 ,  1.00317294, -1.41560563],\n",
              "       [ 0.08219607, -0.80355473,  0.12357011,  0.46728386, -0.14285525,\n",
              "         0.41674861,  0.07376454, -0.18404371, -0.47886365, -0.96928023,\n",
              "        -0.68075969,  1.11957789, -0.96153326],\n",
              "       [-1.21467519,  1.66167183, -0.35531178,  0.14328822,  1.3751033 ,\n",
              "         0.81116106,  1.118179  , -0.2667469 ,  0.68380737,  0.47891095,\n",
              "         0.51103604,  0.05738272,  1.62177039]])"
            ]
          },
          "metadata": {
            "tags": []
          },
          "execution_count": 88
        }
      ]
    },
    {
      "cell_type": "code",
      "metadata": {
        "id": "LtvOQxImZdHZ",
        "colab_type": "code",
        "colab": {
          "base_uri": "https://localhost:8080/",
          "height": 34
        },
        "outputId": "8dff4362-42ac-4d8e-a9d6-e938f89b2055"
      },
      "source": [
        "from sklearn.metrics import mean_squared_error\n",
        "\n",
        "wine_pred = lin_reg.predict(wine_prepared)\n",
        "lin_mse = mean_squared_error(wineData_labels,wine_pred)\n",
        "lin_rmse = np.sqrt(lin_mse)\n",
        "lin_rmse"
      ],
      "execution_count": 90,
      "outputs": [
        {
          "output_type": "execute_result",
          "data": {
            "text/plain": [
              "1.7075300543812668"
            ]
          },
          "metadata": {
            "tags": []
          },
          "execution_count": 90
        }
      ]
    },
    {
      "cell_type": "code",
      "metadata": {
        "id": "yl0DksuSZhdC",
        "colab_type": "code",
        "colab": {
          "base_uri": "https://localhost:8080/",
          "height": 34
        },
        "outputId": "59f79407-be95-4003-d663-fc68108e6a58"
      },
      "source": [
        "from sklearn.metrics import mean_absolute_error\n",
        "\n",
        "lin_mae = mean_absolute_error(wineData_labels,wine_pred)\n",
        "lin_mae"
      ],
      "execution_count": 92,
      "outputs": [
        {
          "output_type": "execute_result",
          "data": {
            "text/plain": [
              "1.624317031744084"
            ]
          },
          "metadata": {
            "tags": []
          },
          "execution_count": 92
        }
      ]
    },
    {
      "cell_type": "code",
      "metadata": {
        "id": "oTdgtphFZsDy",
        "colab_type": "code",
        "colab": {
          "base_uri": "https://localhost:8080/",
          "height": 119
        },
        "outputId": "525f46b9-8a44-495a-b715-d639adb092e4"
      },
      "source": [
        "from sklearn.tree import DecisionTreeRegressor\n",
        "\n",
        "tree_reg = DecisionTreeRegressor(random_state=70)\n",
        "tree_reg.fit(wine_prepared, wineData_labels)"
      ],
      "execution_count": 94,
      "outputs": [
        {
          "output_type": "execute_result",
          "data": {
            "text/plain": [
              "DecisionTreeRegressor(ccp_alpha=0.0, criterion='mse', max_depth=None,\n",
              "                      max_features=None, max_leaf_nodes=None,\n",
              "                      min_impurity_decrease=0.0, min_impurity_split=None,\n",
              "                      min_samples_leaf=1, min_samples_split=2,\n",
              "                      min_weight_fraction_leaf=0.0, presort='deprecated',\n",
              "                      random_state=70, splitter='best')"
            ]
          },
          "metadata": {
            "tags": []
          },
          "execution_count": 94
        }
      ]
    },
    {
      "cell_type": "code",
      "metadata": {
        "id": "OFFkC2HCZy_2",
        "colab_type": "code",
        "colab": {
          "base_uri": "https://localhost:8080/",
          "height": 34
        },
        "outputId": "afcdd8a5-3065-4e8e-a75a-2536404a24f1"
      },
      "source": [
        "wine_predictions = tree_reg.predict(wine_prepared)\n",
        "tree_mse = mean_squared_error(wineData_labels, wine_predictions)\n",
        "tree_rmse = np.sqrt(tree_mse)\n",
        "tree_rmse"
      ],
      "execution_count": 95,
      "outputs": [
        {
          "output_type": "execute_result",
          "data": {
            "text/plain": [
              "0.0"
            ]
          },
          "metadata": {
            "tags": []
          },
          "execution_count": 95
        }
      ]
    },
    {
      "cell_type": "markdown",
      "metadata": {
        "id": "KWjw1kqcaApC",
        "colab_type": "text"
      },
      "source": [
        "#Fine-tune your model"
      ]
    },
    {
      "cell_type": "code",
      "metadata": {
        "id": "XMIkW41CZ8GL",
        "colab_type": "code",
        "colab": {}
      },
      "source": [
        "from sklearn.model_selection import cross_val_score\n",
        "\n",
        "scores = cross_val_score(tree_reg, wine_prepared, wineData_labels,\n",
        "                         scoring=\"neg_mean_squared_error\", cv=10)\n",
        "tree_rmse_scores = np.sqrt(-scores)"
      ],
      "execution_count": 0,
      "outputs": []
    },
    {
      "cell_type": "code",
      "metadata": {
        "id": "Aj6nXwKKaMiB",
        "colab_type": "code",
        "colab": {
          "base_uri": "https://localhost:8080/",
          "height": 85
        },
        "outputId": "a06c128d-7b5f-4dad-cd3d-ddeb9a275a8f"
      },
      "source": [
        "def display_scores(scores):\n",
        "    print(\"Scores:\", scores)\n",
        "    print(\"Mean:\", scores.mean())\n",
        "    print(\"Standard deviation:\", scores.std())\n",
        "\n",
        "display_scores(tree_rmse_scores)"
      ],
      "execution_count": 97,
      "outputs": [
        {
          "output_type": "stream",
          "text": [
            "Scores: [0.27123176 0.38769404 0.24357457 0.34223008 0.33671735 0.18924663\n",
            " 0.31090881 0.26710084 0.2481503  0.31065599]\n",
            "Mean: 0.29075103519277035\n",
            "Standard deviation: 0.05499763900602667\n"
          ],
          "name": "stdout"
        }
      ]
    },
    {
      "cell_type": "code",
      "metadata": {
        "id": "hzMsSLR0aQo2",
        "colab_type": "code",
        "colab": {
          "base_uri": "https://localhost:8080/",
          "height": 85
        },
        "outputId": "82bb6c92-e613-4d67-999a-b46f7ec06e21"
      },
      "source": [
        "lin_scores = cross_val_score(lin_reg, wine_prepared, wineData_labels,\n",
        "                             scoring=\"neg_mean_squared_error\", cv=10)\n",
        "lin_rmse_scores = np.sqrt(-lin_scores)\n",
        "display_scores(lin_rmse_scores)"
      ],
      "execution_count": 98,
      "outputs": [
        {
          "output_type": "stream",
          "text": [
            "Scores: [0.2341123  0.23045955 0.22992194 0.18015944 0.21250553 0.19943614\n",
            " 0.18477372 0.19914464 0.18238339 0.18127602]\n",
            "Mean: 0.2034172673026978\n",
            "Standard deviation: 0.02076977757628868\n"
          ],
          "name": "stdout"
        }
      ]
    },
    {
      "cell_type": "code",
      "metadata": {
        "id": "bguft3Qoaauo",
        "colab_type": "code",
        "colab": {
          "base_uri": "https://localhost:8080/",
          "height": 136
        },
        "outputId": "2deced3f-f23d-44fc-8448-6ca3b0e5eb36"
      },
      "source": [
        "from sklearn.ensemble import RandomForestRegressor\n",
        "\n",
        "forest_reg = RandomForestRegressor(n_estimators=100, random_state=70)\n",
        "forest_reg.fit(wine_prepared, wineData_labels)"
      ],
      "execution_count": 99,
      "outputs": [
        {
          "output_type": "execute_result",
          "data": {
            "text/plain": [
              "RandomForestRegressor(bootstrap=True, ccp_alpha=0.0, criterion='mse',\n",
              "                      max_depth=None, max_features='auto', max_leaf_nodes=None,\n",
              "                      max_samples=None, min_impurity_decrease=0.0,\n",
              "                      min_impurity_split=None, min_samples_leaf=1,\n",
              "                      min_samples_split=2, min_weight_fraction_leaf=0.0,\n",
              "                      n_estimators=100, n_jobs=None, oob_score=False,\n",
              "                      random_state=70, verbose=0, warm_start=False)"
            ]
          },
          "metadata": {
            "tags": []
          },
          "execution_count": 99
        }
      ]
    },
    {
      "cell_type": "code",
      "metadata": {
        "id": "I0qIruD4ajZx",
        "colab_type": "code",
        "colab": {
          "base_uri": "https://localhost:8080/",
          "height": 34
        },
        "outputId": "3953d6e4-d22a-45f0-82a4-c8c0f15a88ac"
      },
      "source": [
        "wine_predictions = forest_reg.predict(wine_prepared)\n",
        "forest_mse = mean_squared_error(wineData_labels, wine_predictions)\n",
        "forest_rmse = np.sqrt(forest_mse)\n",
        "forest_rmse"
      ],
      "execution_count": 100,
      "outputs": [
        {
          "output_type": "execute_result",
          "data": {
            "text/plain": [
              "0.07817146240931673"
            ]
          },
          "metadata": {
            "tags": []
          },
          "execution_count": 100
        }
      ]
    },
    {
      "cell_type": "code",
      "metadata": {
        "id": "gphJ04UcaoEN",
        "colab_type": "code",
        "colab": {
          "base_uri": "https://localhost:8080/",
          "height": 85
        },
        "outputId": "28be7732-7c12-4603-c735-06c41506d435"
      },
      "source": [
        "from sklearn.model_selection import cross_val_score\n",
        "\n",
        "forest_scores = cross_val_score(forest_reg, wine_prepared, wineData_labels,\n",
        "                                scoring=\"neg_mean_squared_error\", cv=10)\n",
        "forest_rmse_scores = np.sqrt(-forest_scores)\n",
        "display_scores(forest_rmse_scores)"
      ],
      "execution_count": 101,
      "outputs": [
        {
          "output_type": "stream",
          "text": [
            "Scores: [0.22873587 0.2510271  0.20758578 0.2372919  0.23818568 0.15941794\n",
            " 0.19118062 0.25192822 0.16781263 0.25285043]\n",
            "Mean: 0.21860161694316133\n",
            "Standard deviation: 0.03335582398389943\n"
          ],
          "name": "stdout"
        }
      ]
    },
    {
      "cell_type": "code",
      "metadata": {
        "id": "dydoQSK7auMO",
        "colab_type": "code",
        "colab": {
          "base_uri": "https://localhost:8080/",
          "height": 170
        },
        "outputId": "009a4ce9-8cd1-4cae-dc0c-9eb327e838f7"
      },
      "source": [
        "scores = cross_val_score(lin_reg, wine_prepared, wineData_labels, scoring=\"neg_mean_squared_error\", cv=10)\n",
        "pd.Series(np.sqrt(-scores)).describe()"
      ],
      "execution_count": 102,
      "outputs": [
        {
          "output_type": "execute_result",
          "data": {
            "text/plain": [
              "count    10.000000\n",
              "mean      0.203417\n",
              "std       0.021893\n",
              "min       0.180159\n",
              "25%       0.182981\n",
              "50%       0.199290\n",
              "75%       0.225568\n",
              "max       0.234112\n",
              "dtype: float64"
            ]
          },
          "metadata": {
            "tags": []
          },
          "execution_count": 102
        }
      ]
    },
    {
      "cell_type": "code",
      "metadata": {
        "id": "lB0W_3Ema1KU",
        "colab_type": "code",
        "colab": {
          "base_uri": "https://localhost:8080/",
          "height": 34
        },
        "outputId": "621b6699-e289-4726-9b61-f5261d66527d"
      },
      "source": [
        "from sklearn.svm import SVR\n",
        "\n",
        "svm_reg = SVR(kernel=\"linear\")\n",
        "svm_reg.fit(wine_prepared, wineData_labels)\n",
        "wine_predictions = svm_reg.predict(wine_prepared)\n",
        "svm_mse = mean_squared_error(wineData_labels, wine_predictions)\n",
        "svm_rmse = np.sqrt(svm_mse)\n",
        "svm_rmse"
      ],
      "execution_count": 104,
      "outputs": [
        {
          "output_type": "execute_result",
          "data": {
            "text/plain": [
              "0.18870927127503617"
            ]
          },
          "metadata": {
            "tags": []
          },
          "execution_count": 104
        }
      ]
    },
    {
      "cell_type": "code",
      "metadata": {
        "id": "_8qUuc7da7eO",
        "colab_type": "code",
        "colab": {
          "base_uri": "https://localhost:8080/",
          "height": 374
        },
        "outputId": "6fe32fd7-f707-4741-ac24-6acbb2aeacbd"
      },
      "source": [
        "from sklearn.model_selection import GridSearchCV\n",
        "\n",
        "param_grid = [\n",
        "    # try 12 (3×4) combinations of hyperparameters\n",
        "    {'n_estimators': [3, 10, 30], 'max_features': [2, 4, 6, 8]},\n",
        "    # then try 6 (2×3) combinations with bootstrap set as False\n",
        "    {'bootstrap': [False], 'n_estimators': [3, 10], 'max_features': [2, 3, 4]},\n",
        "  ]\n",
        "\n",
        "forest_reg = RandomForestRegressor(random_state=42)\n",
        "# train across 5 folds, that's a total of (12+6)*5=90 rounds of training \n",
        "grid_search = GridSearchCV(forest_reg, param_grid, cv=5,\n",
        "                           scoring='neg_mean_squared_error',\n",
        "                           return_train_score=True)\n",
        "grid_search.fit(wine_prepared, wineData_labels)"
      ],
      "execution_count": 105,
      "outputs": [
        {
          "output_type": "execute_result",
          "data": {
            "text/plain": [
              "GridSearchCV(cv=5, error_score=nan,\n",
              "             estimator=RandomForestRegressor(bootstrap=True, ccp_alpha=0.0,\n",
              "                                             criterion='mse', max_depth=None,\n",
              "                                             max_features='auto',\n",
              "                                             max_leaf_nodes=None,\n",
              "                                             max_samples=None,\n",
              "                                             min_impurity_decrease=0.0,\n",
              "                                             min_impurity_split=None,\n",
              "                                             min_samples_leaf=1,\n",
              "                                             min_samples_split=2,\n",
              "                                             min_weight_fraction_leaf=0.0,\n",
              "                                             n_estimators=100, n_jobs=None,\n",
              "                                             oob_score=False, random_state=42,\n",
              "                                             verbose=0, warm_start=False),\n",
              "             iid='deprecated', n_jobs=None,\n",
              "             param_grid=[{'max_features': [2, 4, 6, 8],\n",
              "                          'n_estimators': [3, 10, 30]},\n",
              "                         {'bootstrap': [False], 'max_features': [2, 3, 4],\n",
              "                          'n_estimators': [3, 10]}],\n",
              "             pre_dispatch='2*n_jobs', refit=True, return_train_score=True,\n",
              "             scoring='neg_mean_squared_error', verbose=0)"
            ]
          },
          "metadata": {
            "tags": []
          },
          "execution_count": 105
        }
      ]
    },
    {
      "cell_type": "code",
      "metadata": {
        "id": "zlWt2tKnbGgK",
        "colab_type": "code",
        "colab": {
          "base_uri": "https://localhost:8080/",
          "height": 34
        },
        "outputId": "1441e721-c2a5-478c-8e8b-827b3e324318"
      },
      "source": [
        "grid_search.best_params_"
      ],
      "execution_count": 106,
      "outputs": [
        {
          "output_type": "execute_result",
          "data": {
            "text/plain": [
              "{'max_features': 4, 'n_estimators': 30}"
            ]
          },
          "metadata": {
            "tags": []
          },
          "execution_count": 106
        }
      ]
    },
    {
      "cell_type": "code",
      "metadata": {
        "id": "McyEi9wubKAr",
        "colab_type": "code",
        "colab": {
          "base_uri": "https://localhost:8080/",
          "height": 136
        },
        "outputId": "5d99dc1d-21a7-478f-b20a-28f406f98f4f"
      },
      "source": [
        "grid_search.best_estimator_"
      ],
      "execution_count": 107,
      "outputs": [
        {
          "output_type": "execute_result",
          "data": {
            "text/plain": [
              "RandomForestRegressor(bootstrap=True, ccp_alpha=0.0, criterion='mse',\n",
              "                      max_depth=None, max_features=4, max_leaf_nodes=None,\n",
              "                      max_samples=None, min_impurity_decrease=0.0,\n",
              "                      min_impurity_split=None, min_samples_leaf=1,\n",
              "                      min_samples_split=2, min_weight_fraction_leaf=0.0,\n",
              "                      n_estimators=30, n_jobs=None, oob_score=False,\n",
              "                      random_state=42, verbose=0, warm_start=False)"
            ]
          },
          "metadata": {
            "tags": []
          },
          "execution_count": 107
        }
      ]
    },
    {
      "cell_type": "code",
      "metadata": {
        "id": "V7OoXn1ObQIt",
        "colab_type": "code",
        "colab": {
          "base_uri": "https://localhost:8080/",
          "height": 323
        },
        "outputId": "78413de0-6791-49ec-aa9d-754bbd537cd0"
      },
      "source": [
        "cvres = grid_search.cv_results_\n",
        "for mean_score, params in zip(cvres[\"mean_test_score\"], cvres[\"params\"]):\n",
        "    print(np.sqrt(-mean_score), params)"
      ],
      "execution_count": 108,
      "outputs": [
        {
          "output_type": "stream",
          "text": [
            "0.29977500228973497 {'max_features': 2, 'n_estimators': 3}\n",
            "0.24784625577656622 {'max_features': 2, 'n_estimators': 10}\n",
            "0.23651564372431544 {'max_features': 2, 'n_estimators': 30}\n",
            "0.23645865532048418 {'max_features': 4, 'n_estimators': 3}\n",
            "0.2228759849777516 {'max_features': 4, 'n_estimators': 10}\n",
            "0.2207525627919207 {'max_features': 4, 'n_estimators': 30}\n",
            "0.241558109358896 {'max_features': 6, 'n_estimators': 3}\n",
            "0.22672410264286377 {'max_features': 6, 'n_estimators': 10}\n",
            "0.2283834064688173 {'max_features': 6, 'n_estimators': 30}\n",
            "0.2589485972664702 {'max_features': 8, 'n_estimators': 3}\n",
            "0.2280438084479133 {'max_features': 8, 'n_estimators': 10}\n",
            "0.2207543766275517 {'max_features': 8, 'n_estimators': 30}\n",
            "0.2666157535551634 {'bootstrap': False, 'max_features': 2, 'n_estimators': 3}\n",
            "0.23627621443427013 {'bootstrap': False, 'max_features': 2, 'n_estimators': 10}\n",
            "0.23807244554287502 {'bootstrap': False, 'max_features': 3, 'n_estimators': 3}\n",
            "0.239789233191734 {'bootstrap': False, 'max_features': 3, 'n_estimators': 10}\n",
            "0.2534539024728329 {'bootstrap': False, 'max_features': 4, 'n_estimators': 3}\n",
            "0.2355773240695368 {'bootstrap': False, 'max_features': 4, 'n_estimators': 10}\n"
          ],
          "name": "stdout"
        }
      ]
    },
    {
      "cell_type": "code",
      "metadata": {
        "id": "LNC-28W_bSqa",
        "colab_type": "code",
        "colab": {
          "base_uri": "https://localhost:8080/",
          "height": 1000
        },
        "outputId": "f34df9c1-41ac-418d-aed1-0dbf21ad81cb"
      },
      "source": [
        "pd.DataFrame(grid_search.cv_results_)"
      ],
      "execution_count": 109,
      "outputs": [
        {
          "output_type": "execute_result",
          "data": {
            "text/html": [
              "<div>\n",
              "<style scoped>\n",
              "    .dataframe tbody tr th:only-of-type {\n",
              "        vertical-align: middle;\n",
              "    }\n",
              "\n",
              "    .dataframe tbody tr th {\n",
              "        vertical-align: top;\n",
              "    }\n",
              "\n",
              "    .dataframe thead th {\n",
              "        text-align: right;\n",
              "    }\n",
              "</style>\n",
              "<table border=\"1\" class=\"dataframe\">\n",
              "  <thead>\n",
              "    <tr style=\"text-align: right;\">\n",
              "      <th></th>\n",
              "      <th>mean_fit_time</th>\n",
              "      <th>std_fit_time</th>\n",
              "      <th>mean_score_time</th>\n",
              "      <th>std_score_time</th>\n",
              "      <th>param_max_features</th>\n",
              "      <th>param_n_estimators</th>\n",
              "      <th>param_bootstrap</th>\n",
              "      <th>params</th>\n",
              "      <th>split0_test_score</th>\n",
              "      <th>split1_test_score</th>\n",
              "      <th>split2_test_score</th>\n",
              "      <th>split3_test_score</th>\n",
              "      <th>split4_test_score</th>\n",
              "      <th>mean_test_score</th>\n",
              "      <th>std_test_score</th>\n",
              "      <th>rank_test_score</th>\n",
              "      <th>split0_train_score</th>\n",
              "      <th>split1_train_score</th>\n",
              "      <th>split2_train_score</th>\n",
              "      <th>split3_train_score</th>\n",
              "      <th>split4_train_score</th>\n",
              "      <th>mean_train_score</th>\n",
              "      <th>std_train_score</th>\n",
              "    </tr>\n",
              "  </thead>\n",
              "  <tbody>\n",
              "    <tr>\n",
              "      <th>0</th>\n",
              "      <td>0.006464</td>\n",
              "      <td>0.002200</td>\n",
              "      <td>0.000967</td>\n",
              "      <td>0.000087</td>\n",
              "      <td>2</td>\n",
              "      <td>3</td>\n",
              "      <td>NaN</td>\n",
              "      <td>{'max_features': 2, 'n_estimators': 3}</td>\n",
              "      <td>-0.081400</td>\n",
              "      <td>-0.069870</td>\n",
              "      <td>-0.078848</td>\n",
              "      <td>-0.113917</td>\n",
              "      <td>-0.105290</td>\n",
              "      <td>-0.089865</td>\n",
              "      <td>0.016788</td>\n",
              "      <td>18</td>\n",
              "      <td>-1.334454e-02</td>\n",
              "      <td>-1.462163e-02</td>\n",
              "      <td>-1.623343e-02</td>\n",
              "      <td>-1.270507e-02</td>\n",
              "      <td>-1.614883e-02</td>\n",
              "      <td>-1.461070e-02</td>\n",
              "      <td>1.430651e-03</td>\n",
              "    </tr>\n",
              "    <tr>\n",
              "      <th>1</th>\n",
              "      <td>0.014840</td>\n",
              "      <td>0.000491</td>\n",
              "      <td>0.001513</td>\n",
              "      <td>0.000105</td>\n",
              "      <td>2</td>\n",
              "      <td>10</td>\n",
              "      <td>NaN</td>\n",
              "      <td>{'max_features': 2, 'n_estimators': 10}</td>\n",
              "      <td>-0.061519</td>\n",
              "      <td>-0.061099</td>\n",
              "      <td>-0.049918</td>\n",
              "      <td>-0.077804</td>\n",
              "      <td>-0.056799</td>\n",
              "      <td>-0.061428</td>\n",
              "      <td>0.009189</td>\n",
              "      <td>14</td>\n",
              "      <td>-1.083830e-02</td>\n",
              "      <td>-1.052927e-02</td>\n",
              "      <td>-1.127707e-02</td>\n",
              "      <td>-1.016331e-02</td>\n",
              "      <td>-1.015846e-02</td>\n",
              "      <td>-1.059328e-02</td>\n",
              "      <td>4.255918e-04</td>\n",
              "    </tr>\n",
              "    <tr>\n",
              "      <th>2</th>\n",
              "      <td>0.040302</td>\n",
              "      <td>0.000700</td>\n",
              "      <td>0.002686</td>\n",
              "      <td>0.000121</td>\n",
              "      <td>2</td>\n",
              "      <td>30</td>\n",
              "      <td>NaN</td>\n",
              "      <td>{'max_features': 2, 'n_estimators': 30}</td>\n",
              "      <td>-0.053851</td>\n",
              "      <td>-0.061309</td>\n",
              "      <td>-0.045101</td>\n",
              "      <td>-0.065371</td>\n",
              "      <td>-0.054067</td>\n",
              "      <td>-0.055940</td>\n",
              "      <td>0.006973</td>\n",
              "      <td>10</td>\n",
              "      <td>-7.177941e-03</td>\n",
              "      <td>-7.677054e-03</td>\n",
              "      <td>-8.638596e-03</td>\n",
              "      <td>-8.436000e-03</td>\n",
              "      <td>-7.318105e-03</td>\n",
              "      <td>-7.849539e-03</td>\n",
              "      <td>5.881777e-04</td>\n",
              "    </tr>\n",
              "    <tr>\n",
              "      <th>3</th>\n",
              "      <td>0.005307</td>\n",
              "      <td>0.000240</td>\n",
              "      <td>0.000897</td>\n",
              "      <td>0.000086</td>\n",
              "      <td>4</td>\n",
              "      <td>3</td>\n",
              "      <td>NaN</td>\n",
              "      <td>{'max_features': 4, 'n_estimators': 3}</td>\n",
              "      <td>-0.050785</td>\n",
              "      <td>-0.066705</td>\n",
              "      <td>-0.051251</td>\n",
              "      <td>-0.053899</td>\n",
              "      <td>-0.056924</td>\n",
              "      <td>-0.055913</td>\n",
              "      <td>0.005824</td>\n",
              "      <td>9</td>\n",
              "      <td>-1.727355e-02</td>\n",
              "      <td>-1.622203e-02</td>\n",
              "      <td>-1.332417e-02</td>\n",
              "      <td>-1.170146e-02</td>\n",
              "      <td>-1.531004e-02</td>\n",
              "      <td>-1.476625e-02</td>\n",
              "      <td>2.008684e-03</td>\n",
              "    </tr>\n",
              "    <tr>\n",
              "      <th>4</th>\n",
              "      <td>0.013733</td>\n",
              "      <td>0.000257</td>\n",
              "      <td>0.001385</td>\n",
              "      <td>0.000078</td>\n",
              "      <td>4</td>\n",
              "      <td>10</td>\n",
              "      <td>NaN</td>\n",
              "      <td>{'max_features': 4, 'n_estimators': 10}</td>\n",
              "      <td>-0.039291</td>\n",
              "      <td>-0.052029</td>\n",
              "      <td>-0.045446</td>\n",
              "      <td>-0.056169</td>\n",
              "      <td>-0.055433</td>\n",
              "      <td>-0.049674</td>\n",
              "      <td>0.006428</td>\n",
              "      <td>3</td>\n",
              "      <td>-1.171082e-02</td>\n",
              "      <td>-1.016535e-02</td>\n",
              "      <td>-1.010057e-02</td>\n",
              "      <td>-8.707754e-03</td>\n",
              "      <td>-1.007846e-02</td>\n",
              "      <td>-1.015259e-02</td>\n",
              "      <td>9.512102e-04</td>\n",
              "    </tr>\n",
              "    <tr>\n",
              "      <th>5</th>\n",
              "      <td>0.042260</td>\n",
              "      <td>0.000437</td>\n",
              "      <td>0.002593</td>\n",
              "      <td>0.000096</td>\n",
              "      <td>4</td>\n",
              "      <td>30</td>\n",
              "      <td>NaN</td>\n",
              "      <td>{'max_features': 4, 'n_estimators': 30}</td>\n",
              "      <td>-0.045662</td>\n",
              "      <td>-0.049167</td>\n",
              "      <td>-0.042321</td>\n",
              "      <td>-0.054098</td>\n",
              "      <td>-0.052411</td>\n",
              "      <td>-0.048732</td>\n",
              "      <td>0.004314</td>\n",
              "      <td>1</td>\n",
              "      <td>-7.866255e-03</td>\n",
              "      <td>-7.422421e-03</td>\n",
              "      <td>-8.074801e-03</td>\n",
              "      <td>-8.391355e-03</td>\n",
              "      <td>-8.704924e-03</td>\n",
              "      <td>-8.091951e-03</td>\n",
              "      <td>4.392908e-04</td>\n",
              "    </tr>\n",
              "    <tr>\n",
              "      <th>6</th>\n",
              "      <td>0.005818</td>\n",
              "      <td>0.000288</td>\n",
              "      <td>0.000971</td>\n",
              "      <td>0.000092</td>\n",
              "      <td>6</td>\n",
              "      <td>3</td>\n",
              "      <td>NaN</td>\n",
              "      <td>{'max_features': 6, 'n_estimators': 3}</td>\n",
              "      <td>-0.052120</td>\n",
              "      <td>-0.057613</td>\n",
              "      <td>-0.061111</td>\n",
              "      <td>-0.081283</td>\n",
              "      <td>-0.039625</td>\n",
              "      <td>-0.058350</td>\n",
              "      <td>0.013591</td>\n",
              "      <td>13</td>\n",
              "      <td>-1.404946e-02</td>\n",
              "      <td>-1.113491e-02</td>\n",
              "      <td>-1.110351e-02</td>\n",
              "      <td>-1.400097e-02</td>\n",
              "      <td>-1.680253e-02</td>\n",
              "      <td>-1.341828e-02</td>\n",
              "      <td>2.133685e-03</td>\n",
              "    </tr>\n",
              "    <tr>\n",
              "      <th>7</th>\n",
              "      <td>0.015471</td>\n",
              "      <td>0.000230</td>\n",
              "      <td>0.001385</td>\n",
              "      <td>0.000020</td>\n",
              "      <td>6</td>\n",
              "      <td>10</td>\n",
              "      <td>NaN</td>\n",
              "      <td>{'max_features': 6, 'n_estimators': 10}</td>\n",
              "      <td>-0.050451</td>\n",
              "      <td>-0.049727</td>\n",
              "      <td>-0.047454</td>\n",
              "      <td>-0.068232</td>\n",
              "      <td>-0.041154</td>\n",
              "      <td>-0.051404</td>\n",
              "      <td>0.009029</td>\n",
              "      <td>4</td>\n",
              "      <td>-7.949044e-03</td>\n",
              "      <td>-9.343903e-03</td>\n",
              "      <td>-7.803772e-03</td>\n",
              "      <td>-9.748789e-03</td>\n",
              "      <td>-9.923351e-03</td>\n",
              "      <td>-8.953772e-03</td>\n",
              "      <td>9.007015e-04</td>\n",
              "    </tr>\n",
              "    <tr>\n",
              "      <th>8</th>\n",
              "      <td>0.044106</td>\n",
              "      <td>0.000785</td>\n",
              "      <td>0.002834</td>\n",
              "      <td>0.000153</td>\n",
              "      <td>6</td>\n",
              "      <td>30</td>\n",
              "      <td>NaN</td>\n",
              "      <td>{'max_features': 6, 'n_estimators': 30}</td>\n",
              "      <td>-0.052401</td>\n",
              "      <td>-0.049137</td>\n",
              "      <td>-0.046041</td>\n",
              "      <td>-0.066703</td>\n",
              "      <td>-0.046514</td>\n",
              "      <td>-0.052159</td>\n",
              "      <td>0.007616</td>\n",
              "      <td>6</td>\n",
              "      <td>-6.069706e-03</td>\n",
              "      <td>-7.155318e-03</td>\n",
              "      <td>-6.965321e-03</td>\n",
              "      <td>-8.272410e-03</td>\n",
              "      <td>-8.082388e-03</td>\n",
              "      <td>-7.309029e-03</td>\n",
              "      <td>8.004838e-04</td>\n",
              "    </tr>\n",
              "    <tr>\n",
              "      <th>9</th>\n",
              "      <td>0.005820</td>\n",
              "      <td>0.000181</td>\n",
              "      <td>0.000922</td>\n",
              "      <td>0.000065</td>\n",
              "      <td>8</td>\n",
              "      <td>3</td>\n",
              "      <td>NaN</td>\n",
              "      <td>{'max_features': 8, 'n_estimators': 3}</td>\n",
              "      <td>-0.078547</td>\n",
              "      <td>-0.075940</td>\n",
              "      <td>-0.061323</td>\n",
              "      <td>-0.067954</td>\n",
              "      <td>-0.051508</td>\n",
              "      <td>-0.067054</td>\n",
              "      <td>0.009863</td>\n",
              "      <td>16</td>\n",
              "      <td>-2.167099e-02</td>\n",
              "      <td>-1.283795e-02</td>\n",
              "      <td>-9.292203e-03</td>\n",
              "      <td>-1.399347e-02</td>\n",
              "      <td>-1.669366e-02</td>\n",
              "      <td>-1.489766e-02</td>\n",
              "      <td>4.137264e-03</td>\n",
              "    </tr>\n",
              "    <tr>\n",
              "      <th>10</th>\n",
              "      <td>0.016858</td>\n",
              "      <td>0.000788</td>\n",
              "      <td>0.001561</td>\n",
              "      <td>0.000159</td>\n",
              "      <td>8</td>\n",
              "      <td>10</td>\n",
              "      <td>NaN</td>\n",
              "      <td>{'max_features': 8, 'n_estimators': 10}</td>\n",
              "      <td>-0.056119</td>\n",
              "      <td>-0.050164</td>\n",
              "      <td>-0.050282</td>\n",
              "      <td>-0.063668</td>\n",
              "      <td>-0.039787</td>\n",
              "      <td>-0.052004</td>\n",
              "      <td>0.007856</td>\n",
              "      <td>5</td>\n",
              "      <td>-8.660345e-03</td>\n",
              "      <td>-8.869699e-03</td>\n",
              "      <td>-8.319772e-03</td>\n",
              "      <td>-9.219140e-03</td>\n",
              "      <td>-9.814965e-03</td>\n",
              "      <td>-8.976784e-03</td>\n",
              "      <td>5.107934e-04</td>\n",
              "    </tr>\n",
              "    <tr>\n",
              "      <th>11</th>\n",
              "      <td>0.048192</td>\n",
              "      <td>0.001234</td>\n",
              "      <td>0.002808</td>\n",
              "      <td>0.000251</td>\n",
              "      <td>8</td>\n",
              "      <td>30</td>\n",
              "      <td>NaN</td>\n",
              "      <td>{'max_features': 8, 'n_estimators': 30}</td>\n",
              "      <td>-0.050346</td>\n",
              "      <td>-0.057005</td>\n",
              "      <td>-0.045678</td>\n",
              "      <td>-0.053847</td>\n",
              "      <td>-0.036786</td>\n",
              "      <td>-0.048732</td>\n",
              "      <td>0.007060</td>\n",
              "      <td>2</td>\n",
              "      <td>-6.495399e-03</td>\n",
              "      <td>-7.117807e-03</td>\n",
              "      <td>-6.840381e-03</td>\n",
              "      <td>-7.673971e-03</td>\n",
              "      <td>-8.037205e-03</td>\n",
              "      <td>-7.232953e-03</td>\n",
              "      <td>5.572565e-04</td>\n",
              "    </tr>\n",
              "    <tr>\n",
              "      <th>12</th>\n",
              "      <td>0.004165</td>\n",
              "      <td>0.000241</td>\n",
              "      <td>0.000945</td>\n",
              "      <td>0.000075</td>\n",
              "      <td>2</td>\n",
              "      <td>3</td>\n",
              "      <td>False</td>\n",
              "      <td>{'bootstrap': False, 'max_features': 2, 'n_est...</td>\n",
              "      <td>-0.072311</td>\n",
              "      <td>-0.074112</td>\n",
              "      <td>-0.060613</td>\n",
              "      <td>-0.084344</td>\n",
              "      <td>-0.064038</td>\n",
              "      <td>-0.071084</td>\n",
              "      <td>0.008316</td>\n",
              "      <td>17</td>\n",
              "      <td>-1.221687e-32</td>\n",
              "      <td>-1.047160e-32</td>\n",
              "      <td>-1.167722e-32</td>\n",
              "      <td>-1.124473e-32</td>\n",
              "      <td>-9.947259e-33</td>\n",
              "      <td>-1.111154e-32</td>\n",
              "      <td>8.154209e-34</td>\n",
              "    </tr>\n",
              "    <tr>\n",
              "      <th>13</th>\n",
              "      <td>0.011001</td>\n",
              "      <td>0.000168</td>\n",
              "      <td>0.001546</td>\n",
              "      <td>0.000120</td>\n",
              "      <td>2</td>\n",
              "      <td>10</td>\n",
              "      <td>False</td>\n",
              "      <td>{'bootstrap': False, 'max_features': 2, 'n_est...</td>\n",
              "      <td>-0.062321</td>\n",
              "      <td>-0.053992</td>\n",
              "      <td>-0.056123</td>\n",
              "      <td>-0.056113</td>\n",
              "      <td>-0.050584</td>\n",
              "      <td>-0.055826</td>\n",
              "      <td>0.003826</td>\n",
              "      <td>8</td>\n",
              "      <td>-1.204235e-31</td>\n",
              "      <td>-1.186782e-31</td>\n",
              "      <td>-1.314768e-31</td>\n",
              "      <td>-1.262869e-31</td>\n",
              "      <td>-1.228270e-31</td>\n",
              "      <td>-1.239385e-31</td>\n",
              "      <td>4.551993e-33</td>\n",
              "    </tr>\n",
              "    <tr>\n",
              "      <th>14</th>\n",
              "      <td>0.004673</td>\n",
              "      <td>0.000162</td>\n",
              "      <td>0.001147</td>\n",
              "      <td>0.000115</td>\n",
              "      <td>3</td>\n",
              "      <td>3</td>\n",
              "      <td>False</td>\n",
              "      <td>{'bootstrap': False, 'max_features': 3, 'n_est...</td>\n",
              "      <td>-0.062899</td>\n",
              "      <td>-0.061102</td>\n",
              "      <td>-0.048555</td>\n",
              "      <td>-0.064503</td>\n",
              "      <td>-0.046334</td>\n",
              "      <td>-0.056678</td>\n",
              "      <td>0.007648</td>\n",
              "      <td>11</td>\n",
              "      <td>-1.221687e-32</td>\n",
              "      <td>-1.047160e-32</td>\n",
              "      <td>-1.167722e-32</td>\n",
              "      <td>-1.124473e-32</td>\n",
              "      <td>-9.947259e-33</td>\n",
              "      <td>-1.111154e-32</td>\n",
              "      <td>8.154209e-34</td>\n",
              "    </tr>\n",
              "    <tr>\n",
              "      <th>15</th>\n",
              "      <td>0.012028</td>\n",
              "      <td>0.000521</td>\n",
              "      <td>0.001602</td>\n",
              "      <td>0.000108</td>\n",
              "      <td>3</td>\n",
              "      <td>10</td>\n",
              "      <td>False</td>\n",
              "      <td>{'bootstrap': False, 'max_features': 3, 'n_est...</td>\n",
              "      <td>-0.064616</td>\n",
              "      <td>-0.054095</td>\n",
              "      <td>-0.051305</td>\n",
              "      <td>-0.066647</td>\n",
              "      <td>-0.050831</td>\n",
              "      <td>-0.057499</td>\n",
              "      <td>0.006764</td>\n",
              "      <td>12</td>\n",
              "      <td>-1.151877e-31</td>\n",
              "      <td>-1.186782e-31</td>\n",
              "      <td>-1.314768e-31</td>\n",
              "      <td>-1.262869e-31</td>\n",
              "      <td>-1.228270e-31</td>\n",
              "      <td>-1.228913e-31</td>\n",
              "      <td>5.698107e-33</td>\n",
              "    </tr>\n",
              "    <tr>\n",
              "      <th>16</th>\n",
              "      <td>0.004882</td>\n",
              "      <td>0.000135</td>\n",
              "      <td>0.000961</td>\n",
              "      <td>0.000068</td>\n",
              "      <td>4</td>\n",
              "      <td>3</td>\n",
              "      <td>False</td>\n",
              "      <td>{'bootstrap': False, 'max_features': 4, 'n_est...</td>\n",
              "      <td>-0.074507</td>\n",
              "      <td>-0.062794</td>\n",
              "      <td>-0.056195</td>\n",
              "      <td>-0.069848</td>\n",
              "      <td>-0.057850</td>\n",
              "      <td>-0.064239</td>\n",
              "      <td>0.006993</td>\n",
              "      <td>15</td>\n",
              "      <td>-1.221687e-32</td>\n",
              "      <td>-1.047160e-32</td>\n",
              "      <td>-1.167722e-32</td>\n",
              "      <td>-1.124473e-32</td>\n",
              "      <td>-9.947259e-33</td>\n",
              "      <td>-1.111154e-32</td>\n",
              "      <td>8.154209e-34</td>\n",
              "    </tr>\n",
              "    <tr>\n",
              "      <th>17</th>\n",
              "      <td>0.012870</td>\n",
              "      <td>0.000301</td>\n",
              "      <td>0.001641</td>\n",
              "      <td>0.000092</td>\n",
              "      <td>4</td>\n",
              "      <td>10</td>\n",
              "      <td>False</td>\n",
              "      <td>{'bootstrap': False, 'max_features': 4, 'n_est...</td>\n",
              "      <td>-0.058614</td>\n",
              "      <td>-0.059002</td>\n",
              "      <td>-0.045162</td>\n",
              "      <td>-0.062221</td>\n",
              "      <td>-0.052485</td>\n",
              "      <td>-0.055497</td>\n",
              "      <td>0.006051</td>\n",
              "      <td>7</td>\n",
              "      <td>-1.151877e-31</td>\n",
              "      <td>-1.186782e-31</td>\n",
              "      <td>-1.262869e-31</td>\n",
              "      <td>-1.210971e-31</td>\n",
              "      <td>-1.228270e-31</td>\n",
              "      <td>-1.208154e-31</td>\n",
              "      <td>3.749745e-33</td>\n",
              "    </tr>\n",
              "  </tbody>\n",
              "</table>\n",
              "</div>"
            ],
            "text/plain": [
              "    mean_fit_time  std_fit_time  ...  mean_train_score  std_train_score\n",
              "0        0.006464      0.002200  ...     -1.461070e-02     1.430651e-03\n",
              "1        0.014840      0.000491  ...     -1.059328e-02     4.255918e-04\n",
              "2        0.040302      0.000700  ...     -7.849539e-03     5.881777e-04\n",
              "3        0.005307      0.000240  ...     -1.476625e-02     2.008684e-03\n",
              "4        0.013733      0.000257  ...     -1.015259e-02     9.512102e-04\n",
              "5        0.042260      0.000437  ...     -8.091951e-03     4.392908e-04\n",
              "6        0.005818      0.000288  ...     -1.341828e-02     2.133685e-03\n",
              "7        0.015471      0.000230  ...     -8.953772e-03     9.007015e-04\n",
              "8        0.044106      0.000785  ...     -7.309029e-03     8.004838e-04\n",
              "9        0.005820      0.000181  ...     -1.489766e-02     4.137264e-03\n",
              "10       0.016858      0.000788  ...     -8.976784e-03     5.107934e-04\n",
              "11       0.048192      0.001234  ...     -7.232953e-03     5.572565e-04\n",
              "12       0.004165      0.000241  ...     -1.111154e-32     8.154209e-34\n",
              "13       0.011001      0.000168  ...     -1.239385e-31     4.551993e-33\n",
              "14       0.004673      0.000162  ...     -1.111154e-32     8.154209e-34\n",
              "15       0.012028      0.000521  ...     -1.228913e-31     5.698107e-33\n",
              "16       0.004882      0.000135  ...     -1.111154e-32     8.154209e-34\n",
              "17       0.012870      0.000301  ...     -1.208154e-31     3.749745e-33\n",
              "\n",
              "[18 rows x 23 columns]"
            ]
          },
          "metadata": {
            "tags": []
          },
          "execution_count": 109
        }
      ]
    },
    {
      "cell_type": "code",
      "metadata": {
        "id": "w10t0FMNbWfQ",
        "colab_type": "code",
        "colab": {
          "base_uri": "https://localhost:8080/",
          "height": 391
        },
        "outputId": "2a7adcf8-ba11-4b4d-c973-922a6c52de0e"
      },
      "source": [
        "from sklearn.model_selection import RandomizedSearchCV\n",
        "from scipy.stats import randint\n",
        "\n",
        "param_distribs = {\n",
        "        'n_estimators': randint(low=1, high=200),\n",
        "        'max_features': randint(low=1, high=8),\n",
        "    }\n",
        "\n",
        "forest_reg = RandomForestRegressor(random_state=42)\n",
        "rnd_search = RandomizedSearchCV(forest_reg, param_distributions=param_distribs,\n",
        "                                n_iter=10, cv=5, scoring='neg_mean_squared_error', random_state=42)\n",
        "rnd_search.fit(wine_prepared, wineData_labels)"
      ],
      "execution_count": 111,
      "outputs": [
        {
          "output_type": "execute_result",
          "data": {
            "text/plain": [
              "RandomizedSearchCV(cv=5, error_score=nan,\n",
              "                   estimator=RandomForestRegressor(bootstrap=True,\n",
              "                                                   ccp_alpha=0.0,\n",
              "                                                   criterion='mse',\n",
              "                                                   max_depth=None,\n",
              "                                                   max_features='auto',\n",
              "                                                   max_leaf_nodes=None,\n",
              "                                                   max_samples=None,\n",
              "                                                   min_impurity_decrease=0.0,\n",
              "                                                   min_impurity_split=None,\n",
              "                                                   min_samples_leaf=1,\n",
              "                                                   min_samples_split=2,\n",
              "                                                   min_weight_fraction_leaf=0.0,\n",
              "                                                   n_estimators=100,\n",
              "                                                   n_jobs=None, oob_score=Fals...\n",
              "                                                   warm_start=False),\n",
              "                   iid='deprecated', n_iter=10, n_jobs=None,\n",
              "                   param_distributions={'max_features': <scipy.stats._distn_infrastructure.rv_frozen object at 0x7f3977e9f5c0>,\n",
              "                                        'n_estimators': <scipy.stats._distn_infrastructure.rv_frozen object at 0x7f3977e9f4e0>},\n",
              "                   pre_dispatch='2*n_jobs', random_state=42, refit=True,\n",
              "                   return_train_score=False, scoring='neg_mean_squared_error',\n",
              "                   verbose=0)"
            ]
          },
          "metadata": {
            "tags": []
          },
          "execution_count": 111
        }
      ]
    },
    {
      "cell_type": "code",
      "metadata": {
        "id": "YUs03NWzbhNg",
        "colab_type": "code",
        "colab": {
          "base_uri": "https://localhost:8080/",
          "height": 187
        },
        "outputId": "2471fd36-cede-40a6-8971-a44671146670"
      },
      "source": [
        "cvres = rnd_search.cv_results_\n",
        "for mean_score, params in zip(cvres[\"mean_test_score\"], cvres[\"params\"]):\n",
        "    print(np.sqrt(-mean_score), params)"
      ],
      "execution_count": 112,
      "outputs": [
        {
          "output_type": "stream",
          "text": [
            "0.21826824168707504 {'max_features': 7, 'n_estimators': 180}\n",
            "0.22628332913965263 {'max_features': 5, 'n_estimators': 15}\n",
            "0.22390384385054868 {'max_features': 3, 'n_estimators': 72}\n",
            "0.22777075572423058 {'max_features': 5, 'n_estimators': 21}\n",
            "0.2195501655827589 {'max_features': 7, 'n_estimators': 122}\n",
            "0.22321350513255955 {'max_features': 3, 'n_estimators': 75}\n",
            "0.2245644634856441 {'max_features': 3, 'n_estimators': 88}\n",
            "0.22240565524005593 {'max_features': 5, 'n_estimators': 100}\n",
            "0.225703491066452 {'max_features': 3, 'n_estimators': 150}\n",
            "0.26980096659640546 {'max_features': 5, 'n_estimators': 2}\n"
          ],
          "name": "stdout"
        }
      ]
    },
    {
      "cell_type": "code",
      "metadata": {
        "id": "QSaM3Kx6b0e9",
        "colab_type": "code",
        "colab": {
          "base_uri": "https://localhost:8080/",
          "height": 68
        },
        "outputId": "6dc9839d-e293-4e9b-df55-5ea53e124715"
      },
      "source": [
        "feature_importances = grid_search.best_estimator_.feature_importances_\n",
        "feature_importances"
      ],
      "execution_count": 113,
      "outputs": [
        {
          "output_type": "execute_result",
          "data": {
            "text/plain": [
              "array([0.03407417, 0.08832715, 0.06484267, 0.18744469, 0.13467314,\n",
              "       0.05200521, 0.08299081, 0.06036418, 0.05049624, 0.06178638,\n",
              "       0.05238627, 0.07192716, 0.05868194])"
            ]
          },
          "metadata": {
            "tags": []
          },
          "execution_count": 113
        }
      ]
    },
    {
      "cell_type": "code",
      "metadata": {
        "id": "zEDADoOGb4Ig",
        "colab_type": "code",
        "colab": {
          "base_uri": "https://localhost:8080/",
          "height": 190
        },
        "outputId": "b353c02b-2276-4ad6-f020-18501c1e6c72"
      },
      "source": [
        "final_model = grid_search.best_estimator_\n",
        "\n",
        "X_test = strat_test_set.drop(\"Class\", axis=1)\n",
        "y_test = strat_test_set[\"Class\"].copy()\n",
        "\n",
        "X_test_prepared = full_pipeline.transform(X_test)\n",
        "final_predictions = final_model.predict(X_test_prepared)\n",
        "\n",
        "final_mse = mean_squared_error(y_test, final_predictions)\n",
        "final_rmse = np.sqrt(final_mse)"
      ],
      "execution_count": 116,
      "outputs": [
        {
          "output_type": "stream",
          "text": [
            "/usr/local/lib/python3.6/dist-packages/sklearn/compose/_column_transformer.py:430: FutureWarning: Given feature/column names or counts do not match the ones for the data given during fit. This will fail from v0.24.\n",
            "  FutureWarning)\n",
            "/usr/local/lib/python3.6/dist-packages/pandas/core/indexing.py:1418: FutureWarning: \n",
            "Passing list-likes to .loc or [] with any missing label will raise\n",
            "KeyError in the future, you can use .reindex() as an alternative.\n",
            "\n",
            "See the documentation here:\n",
            "https://pandas.pydata.org/pandas-docs/stable/user_guide/indexing.html#deprecate-loc-reindex-listlike\n",
            "  return self._getitem_tuple(key)\n"
          ],
          "name": "stderr"
        }
      ]
    },
    {
      "cell_type": "code",
      "metadata": {
        "id": "7remTaUIb8W-",
        "colab_type": "code",
        "colab": {
          "base_uri": "https://localhost:8080/",
          "height": 34
        },
        "outputId": "3406b889-9af9-4240-aacf-8efeefcb18cf"
      },
      "source": [
        "final_mse"
      ],
      "execution_count": 117,
      "outputs": [
        {
          "output_type": "execute_result",
          "data": {
            "text/plain": [
              "0.7993016666666666"
            ]
          },
          "metadata": {
            "tags": []
          },
          "execution_count": 117
        }
      ]
    },
    {
      "cell_type": "code",
      "metadata": {
        "id": "ziin31wZcNE8",
        "colab_type": "code",
        "colab": {
          "base_uri": "https://localhost:8080/",
          "height": 34
        },
        "outputId": "ba42d497-c8aa-4f76-ab69-38d61ba0ebec"
      },
      "source": [
        "from scipy import stats\n",
        "\n",
        "confidence = 0.95\n",
        "squared_errors = (final_predictions - y_test) ** 2\n",
        "np.sqrt(stats.t.interval(confidence, len(squared_errors) - 1,\n",
        "                         loc=squared_errors.mean(),\n",
        "                         scale=stats.sem(squared_errors)))"
      ],
      "execution_count": 118,
      "outputs": [
        {
          "output_type": "execute_result",
          "data": {
            "text/plain": [
              "array([0.71666052, 1.04163383])"
            ]
          },
          "metadata": {
            "tags": []
          },
          "execution_count": 118
        }
      ]
    },
    {
      "cell_type": "code",
      "metadata": {
        "id": "7fjT2W9scNyR",
        "colab_type": "code",
        "colab": {
          "base_uri": "https://localhost:8080/",
          "height": 34
        },
        "outputId": "8cab2e55-f019-49cf-b344-6d78215ecd50"
      },
      "source": [
        "m = len(squared_errors)\n",
        "mean = squared_errors.mean()\n",
        "tscore = stats.t.ppf((1 + confidence) / 2, df=m - 1)\n",
        "tmargin = tscore * squared_errors.std(ddof=1) / np.sqrt(m)\n",
        "np.sqrt(mean - tmargin), np.sqrt(mean + tmargin)"
      ],
      "execution_count": 119,
      "outputs": [
        {
          "output_type": "execute_result",
          "data": {
            "text/plain": [
              "(0.716660518389601, 1.0416338294789016)"
            ]
          },
          "metadata": {
            "tags": []
          },
          "execution_count": 119
        }
      ]
    },
    {
      "cell_type": "code",
      "metadata": {
        "id": "1JzZpqCHcROH",
        "colab_type": "code",
        "colab": {
          "base_uri": "https://localhost:8080/",
          "height": 34
        },
        "outputId": "b5ca3d61-595b-4c50-c91d-9ef3e84c63c9"
      },
      "source": [
        "zscore = stats.norm.ppf((1 + confidence) / 2)\n",
        "zmargin = zscore * squared_errors.std(ddof=1) / np.sqrt(m)\n",
        "np.sqrt(mean - zmargin), np.sqrt(mean + zmargin)"
      ],
      "execution_count": 120,
      "outputs": [
        {
          "output_type": "execute_result",
          "data": {
            "text/plain": [
              "(0.7235148475124598, 1.0368845638557627)"
            ]
          },
          "metadata": {
            "tags": []
          },
          "execution_count": 120
        }
      ]
    },
    {
      "cell_type": "code",
      "metadata": {
        "id": "FuCEBT0XcUBz",
        "colab_type": "code",
        "colab": {}
      },
      "source": [
        ""
      ],
      "execution_count": 0,
      "outputs": []
    },
    {
      "cell_type": "markdown",
      "metadata": {
        "id": "e8SuSYe9cZyG",
        "colab_type": "text"
      },
      "source": [
        "#All abvoe cells were repeated following the experiments in 02_end_to_end_machine_learning_project.ipynb but use the **Wine** dataset instead the **Housing** dataset."
      ]
    }
  ]
}