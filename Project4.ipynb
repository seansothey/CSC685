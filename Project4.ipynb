{
  "nbformat": 4,
  "nbformat_minor": 0,
  "metadata": {
    "colab": {
      "name": "Project4.ipynb",
      "provenance": [],
      "collapsed_sections": [],
      "machine_shape": "hm",
      "authorship_tag": "ABX9TyPRjc4pUtiOeo8vPflSKmTi",
      "include_colab_link": true
    },
    "kernelspec": {
      "name": "python3",
      "display_name": "Python 3"
    },
    "accelerator": "TPU"
  },
  "cells": [
    {
      "cell_type": "markdown",
      "metadata": {
        "id": "view-in-github",
        "colab_type": "text"
      },
      "source": [
        "<a href=\"https://colab.research.google.com/github/seansothey/CSC685/blob/master/Project4.ipynb\" target=\"_parent\"><img src=\"https://colab.research.google.com/assets/colab-badge.svg\" alt=\"Open In Colab\"/></a>"
      ]
    },
    {
      "cell_type": "markdown",
      "metadata": {
        "id": "hcZ49AZAiQZ5",
        "colab_type": "text"
      },
      "source": [
        "#Setup"
      ]
    },
    {
      "cell_type": "code",
      "metadata": {
        "id": "5F1vKmm3iFtB",
        "colab_type": "code",
        "colab": {}
      },
      "source": [
        "import sys\n",
        "assert sys.version_info >= (3, 5)\n",
        "\n",
        "# Scikit-Learn ≥0.20 is required\n",
        "import sklearn\n",
        "assert sklearn.__version__ >= \"0.20\"\n",
        "\n",
        "# Common imports\n",
        "import pandas as pd\n",
        "import numpy as np\n",
        "import seaborn as sb\n",
        "import seaborn as seabornInstance\n",
        "from sklearn import metrics\n",
        "import time\n",
        "\n",
        "\n",
        "\n",
        "# to make this notebook's output stable across runs\n",
        "np.random.seed(42)\n",
        "\n",
        "# To plot pretty figures\n",
        "%matplotlib inline\n",
        "import matplotlib as mpl\n",
        "import matplotlib.pyplot as plt"
      ],
      "execution_count": 0,
      "outputs": []
    },
    {
      "cell_type": "markdown",
      "metadata": {
        "id": "DRwJg5FBi0w2",
        "colab_type": "text"
      },
      "source": [
        "#1- Data Scrubbing"
      ]
    },
    {
      "cell_type": "markdown",
      "metadata": {
        "id": "-GtOxo9yoZSS",
        "colab_type": "text"
      },
      "source": [
        "Load and View Data"
      ]
    },
    {
      "cell_type": "code",
      "metadata": {
        "id": "DeuffA9Hd8b9",
        "colab_type": "code",
        "colab": {}
      },
      "source": [
        "url = 'https://raw.githubusercontent.com/seansothey/CSC685/master/PRSA_data_2010.1.1-2014.12.31.csv'\n",
        "data = pd.read_csv(url)"
      ],
      "execution_count": 0,
      "outputs": []
    },
    {
      "cell_type": "code",
      "metadata": {
        "id": "DAqRF172j8Fs",
        "colab_type": "code",
        "outputId": "9de716e3-8340-465f-a1a4-71ca4f3d068a",
        "colab": {
          "base_uri": "https://localhost:8080/",
          "height": 979
        }
      },
      "source": [
        "data.head(30) # view first 30 rows \n",
        "\n",
        "# 13 attributes\n",
        "# No: row number\n",
        "# year: year of data in this row\n",
        "# month: month of data in this row\n",
        "# day: day of data in this row\n",
        "# hour: hour of data in this row\n",
        "# pm2.5: PM2.5 concentration (ug/m^3)\n",
        "# DEWP: Dew Point (â„ƒ)\n",
        "# TEMP: Temperature (â„ƒ)\n",
        "# PRES: Pressure (hPa)\n",
        "# cbwd: Combined wind direction\n",
        "# Iws: Cumulated wind speed (m/s)\n",
        "# Is: Cumulated hours of snow\n",
        "# Ir: Cumulated hours of rain"
      ],
      "execution_count": 0,
      "outputs": [
        {
          "output_type": "execute_result",
          "data": {
            "text/html": [
              "<div>\n",
              "<style scoped>\n",
              "    .dataframe tbody tr th:only-of-type {\n",
              "        vertical-align: middle;\n",
              "    }\n",
              "\n",
              "    .dataframe tbody tr th {\n",
              "        vertical-align: top;\n",
              "    }\n",
              "\n",
              "    .dataframe thead th {\n",
              "        text-align: right;\n",
              "    }\n",
              "</style>\n",
              "<table border=\"1\" class=\"dataframe\">\n",
              "  <thead>\n",
              "    <tr style=\"text-align: right;\">\n",
              "      <th></th>\n",
              "      <th>No</th>\n",
              "      <th>year</th>\n",
              "      <th>month</th>\n",
              "      <th>day</th>\n",
              "      <th>hour</th>\n",
              "      <th>pm2.5</th>\n",
              "      <th>DEWP</th>\n",
              "      <th>TEMP</th>\n",
              "      <th>PRES</th>\n",
              "      <th>cbwd</th>\n",
              "      <th>Iws</th>\n",
              "      <th>Is</th>\n",
              "      <th>Ir</th>\n",
              "    </tr>\n",
              "  </thead>\n",
              "  <tbody>\n",
              "    <tr>\n",
              "      <th>0</th>\n",
              "      <td>1</td>\n",
              "      <td>2010</td>\n",
              "      <td>1</td>\n",
              "      <td>1</td>\n",
              "      <td>0</td>\n",
              "      <td>NaN</td>\n",
              "      <td>-21</td>\n",
              "      <td>-11.0</td>\n",
              "      <td>1021.0</td>\n",
              "      <td>NW</td>\n",
              "      <td>1.79</td>\n",
              "      <td>0</td>\n",
              "      <td>0</td>\n",
              "    </tr>\n",
              "    <tr>\n",
              "      <th>1</th>\n",
              "      <td>2</td>\n",
              "      <td>2010</td>\n",
              "      <td>1</td>\n",
              "      <td>1</td>\n",
              "      <td>1</td>\n",
              "      <td>NaN</td>\n",
              "      <td>-21</td>\n",
              "      <td>-12.0</td>\n",
              "      <td>1020.0</td>\n",
              "      <td>NW</td>\n",
              "      <td>4.92</td>\n",
              "      <td>0</td>\n",
              "      <td>0</td>\n",
              "    </tr>\n",
              "    <tr>\n",
              "      <th>2</th>\n",
              "      <td>3</td>\n",
              "      <td>2010</td>\n",
              "      <td>1</td>\n",
              "      <td>1</td>\n",
              "      <td>2</td>\n",
              "      <td>NaN</td>\n",
              "      <td>-21</td>\n",
              "      <td>-11.0</td>\n",
              "      <td>1019.0</td>\n",
              "      <td>NW</td>\n",
              "      <td>6.71</td>\n",
              "      <td>0</td>\n",
              "      <td>0</td>\n",
              "    </tr>\n",
              "    <tr>\n",
              "      <th>3</th>\n",
              "      <td>4</td>\n",
              "      <td>2010</td>\n",
              "      <td>1</td>\n",
              "      <td>1</td>\n",
              "      <td>3</td>\n",
              "      <td>NaN</td>\n",
              "      <td>-21</td>\n",
              "      <td>-14.0</td>\n",
              "      <td>1019.0</td>\n",
              "      <td>NW</td>\n",
              "      <td>9.84</td>\n",
              "      <td>0</td>\n",
              "      <td>0</td>\n",
              "    </tr>\n",
              "    <tr>\n",
              "      <th>4</th>\n",
              "      <td>5</td>\n",
              "      <td>2010</td>\n",
              "      <td>1</td>\n",
              "      <td>1</td>\n",
              "      <td>4</td>\n",
              "      <td>NaN</td>\n",
              "      <td>-20</td>\n",
              "      <td>-12.0</td>\n",
              "      <td>1018.0</td>\n",
              "      <td>NW</td>\n",
              "      <td>12.97</td>\n",
              "      <td>0</td>\n",
              "      <td>0</td>\n",
              "    </tr>\n",
              "    <tr>\n",
              "      <th>5</th>\n",
              "      <td>6</td>\n",
              "      <td>2010</td>\n",
              "      <td>1</td>\n",
              "      <td>1</td>\n",
              "      <td>5</td>\n",
              "      <td>NaN</td>\n",
              "      <td>-19</td>\n",
              "      <td>-10.0</td>\n",
              "      <td>1017.0</td>\n",
              "      <td>NW</td>\n",
              "      <td>16.10</td>\n",
              "      <td>0</td>\n",
              "      <td>0</td>\n",
              "    </tr>\n",
              "    <tr>\n",
              "      <th>6</th>\n",
              "      <td>7</td>\n",
              "      <td>2010</td>\n",
              "      <td>1</td>\n",
              "      <td>1</td>\n",
              "      <td>6</td>\n",
              "      <td>NaN</td>\n",
              "      <td>-19</td>\n",
              "      <td>-9.0</td>\n",
              "      <td>1017.0</td>\n",
              "      <td>NW</td>\n",
              "      <td>19.23</td>\n",
              "      <td>0</td>\n",
              "      <td>0</td>\n",
              "    </tr>\n",
              "    <tr>\n",
              "      <th>7</th>\n",
              "      <td>8</td>\n",
              "      <td>2010</td>\n",
              "      <td>1</td>\n",
              "      <td>1</td>\n",
              "      <td>7</td>\n",
              "      <td>NaN</td>\n",
              "      <td>-19</td>\n",
              "      <td>-9.0</td>\n",
              "      <td>1017.0</td>\n",
              "      <td>NW</td>\n",
              "      <td>21.02</td>\n",
              "      <td>0</td>\n",
              "      <td>0</td>\n",
              "    </tr>\n",
              "    <tr>\n",
              "      <th>8</th>\n",
              "      <td>9</td>\n",
              "      <td>2010</td>\n",
              "      <td>1</td>\n",
              "      <td>1</td>\n",
              "      <td>8</td>\n",
              "      <td>NaN</td>\n",
              "      <td>-19</td>\n",
              "      <td>-9.0</td>\n",
              "      <td>1017.0</td>\n",
              "      <td>NW</td>\n",
              "      <td>24.15</td>\n",
              "      <td>0</td>\n",
              "      <td>0</td>\n",
              "    </tr>\n",
              "    <tr>\n",
              "      <th>9</th>\n",
              "      <td>10</td>\n",
              "      <td>2010</td>\n",
              "      <td>1</td>\n",
              "      <td>1</td>\n",
              "      <td>9</td>\n",
              "      <td>NaN</td>\n",
              "      <td>-20</td>\n",
              "      <td>-8.0</td>\n",
              "      <td>1017.0</td>\n",
              "      <td>NW</td>\n",
              "      <td>27.28</td>\n",
              "      <td>0</td>\n",
              "      <td>0</td>\n",
              "    </tr>\n",
              "    <tr>\n",
              "      <th>10</th>\n",
              "      <td>11</td>\n",
              "      <td>2010</td>\n",
              "      <td>1</td>\n",
              "      <td>1</td>\n",
              "      <td>10</td>\n",
              "      <td>NaN</td>\n",
              "      <td>-19</td>\n",
              "      <td>-7.0</td>\n",
              "      <td>1017.0</td>\n",
              "      <td>NW</td>\n",
              "      <td>31.30</td>\n",
              "      <td>0</td>\n",
              "      <td>0</td>\n",
              "    </tr>\n",
              "    <tr>\n",
              "      <th>11</th>\n",
              "      <td>12</td>\n",
              "      <td>2010</td>\n",
              "      <td>1</td>\n",
              "      <td>1</td>\n",
              "      <td>11</td>\n",
              "      <td>NaN</td>\n",
              "      <td>-18</td>\n",
              "      <td>-5.0</td>\n",
              "      <td>1017.0</td>\n",
              "      <td>NW</td>\n",
              "      <td>34.43</td>\n",
              "      <td>0</td>\n",
              "      <td>0</td>\n",
              "    </tr>\n",
              "    <tr>\n",
              "      <th>12</th>\n",
              "      <td>13</td>\n",
              "      <td>2010</td>\n",
              "      <td>1</td>\n",
              "      <td>1</td>\n",
              "      <td>12</td>\n",
              "      <td>NaN</td>\n",
              "      <td>-19</td>\n",
              "      <td>-5.0</td>\n",
              "      <td>1015.0</td>\n",
              "      <td>NW</td>\n",
              "      <td>37.56</td>\n",
              "      <td>0</td>\n",
              "      <td>0</td>\n",
              "    </tr>\n",
              "    <tr>\n",
              "      <th>13</th>\n",
              "      <td>14</td>\n",
              "      <td>2010</td>\n",
              "      <td>1</td>\n",
              "      <td>1</td>\n",
              "      <td>13</td>\n",
              "      <td>NaN</td>\n",
              "      <td>-18</td>\n",
              "      <td>-3.0</td>\n",
              "      <td>1015.0</td>\n",
              "      <td>NW</td>\n",
              "      <td>40.69</td>\n",
              "      <td>0</td>\n",
              "      <td>0</td>\n",
              "    </tr>\n",
              "    <tr>\n",
              "      <th>14</th>\n",
              "      <td>15</td>\n",
              "      <td>2010</td>\n",
              "      <td>1</td>\n",
              "      <td>1</td>\n",
              "      <td>14</td>\n",
              "      <td>NaN</td>\n",
              "      <td>-18</td>\n",
              "      <td>-2.0</td>\n",
              "      <td>1014.0</td>\n",
              "      <td>NW</td>\n",
              "      <td>43.82</td>\n",
              "      <td>0</td>\n",
              "      <td>0</td>\n",
              "    </tr>\n",
              "    <tr>\n",
              "      <th>15</th>\n",
              "      <td>16</td>\n",
              "      <td>2010</td>\n",
              "      <td>1</td>\n",
              "      <td>1</td>\n",
              "      <td>15</td>\n",
              "      <td>NaN</td>\n",
              "      <td>-18</td>\n",
              "      <td>-1.0</td>\n",
              "      <td>1014.0</td>\n",
              "      <td>cv</td>\n",
              "      <td>0.89</td>\n",
              "      <td>0</td>\n",
              "      <td>0</td>\n",
              "    </tr>\n",
              "    <tr>\n",
              "      <th>16</th>\n",
              "      <td>17</td>\n",
              "      <td>2010</td>\n",
              "      <td>1</td>\n",
              "      <td>1</td>\n",
              "      <td>16</td>\n",
              "      <td>NaN</td>\n",
              "      <td>-19</td>\n",
              "      <td>-2.0</td>\n",
              "      <td>1015.0</td>\n",
              "      <td>NW</td>\n",
              "      <td>1.79</td>\n",
              "      <td>0</td>\n",
              "      <td>0</td>\n",
              "    </tr>\n",
              "    <tr>\n",
              "      <th>17</th>\n",
              "      <td>18</td>\n",
              "      <td>2010</td>\n",
              "      <td>1</td>\n",
              "      <td>1</td>\n",
              "      <td>17</td>\n",
              "      <td>NaN</td>\n",
              "      <td>-18</td>\n",
              "      <td>-3.0</td>\n",
              "      <td>1015.0</td>\n",
              "      <td>NW</td>\n",
              "      <td>2.68</td>\n",
              "      <td>0</td>\n",
              "      <td>0</td>\n",
              "    </tr>\n",
              "    <tr>\n",
              "      <th>18</th>\n",
              "      <td>19</td>\n",
              "      <td>2010</td>\n",
              "      <td>1</td>\n",
              "      <td>1</td>\n",
              "      <td>18</td>\n",
              "      <td>NaN</td>\n",
              "      <td>-18</td>\n",
              "      <td>-5.0</td>\n",
              "      <td>1016.0</td>\n",
              "      <td>NE</td>\n",
              "      <td>1.79</td>\n",
              "      <td>0</td>\n",
              "      <td>0</td>\n",
              "    </tr>\n",
              "    <tr>\n",
              "      <th>19</th>\n",
              "      <td>20</td>\n",
              "      <td>2010</td>\n",
              "      <td>1</td>\n",
              "      <td>1</td>\n",
              "      <td>19</td>\n",
              "      <td>NaN</td>\n",
              "      <td>-17</td>\n",
              "      <td>-4.0</td>\n",
              "      <td>1017.0</td>\n",
              "      <td>NW</td>\n",
              "      <td>1.79</td>\n",
              "      <td>0</td>\n",
              "      <td>0</td>\n",
              "    </tr>\n",
              "    <tr>\n",
              "      <th>20</th>\n",
              "      <td>21</td>\n",
              "      <td>2010</td>\n",
              "      <td>1</td>\n",
              "      <td>1</td>\n",
              "      <td>20</td>\n",
              "      <td>NaN</td>\n",
              "      <td>-17</td>\n",
              "      <td>-5.0</td>\n",
              "      <td>1017.0</td>\n",
              "      <td>cv</td>\n",
              "      <td>0.89</td>\n",
              "      <td>0</td>\n",
              "      <td>0</td>\n",
              "    </tr>\n",
              "    <tr>\n",
              "      <th>21</th>\n",
              "      <td>22</td>\n",
              "      <td>2010</td>\n",
              "      <td>1</td>\n",
              "      <td>1</td>\n",
              "      <td>21</td>\n",
              "      <td>NaN</td>\n",
              "      <td>-17</td>\n",
              "      <td>-5.0</td>\n",
              "      <td>1018.0</td>\n",
              "      <td>NW</td>\n",
              "      <td>1.79</td>\n",
              "      <td>0</td>\n",
              "      <td>0</td>\n",
              "    </tr>\n",
              "    <tr>\n",
              "      <th>22</th>\n",
              "      <td>23</td>\n",
              "      <td>2010</td>\n",
              "      <td>1</td>\n",
              "      <td>1</td>\n",
              "      <td>22</td>\n",
              "      <td>NaN</td>\n",
              "      <td>-17</td>\n",
              "      <td>-5.0</td>\n",
              "      <td>1018.0</td>\n",
              "      <td>NW</td>\n",
              "      <td>2.68</td>\n",
              "      <td>0</td>\n",
              "      <td>0</td>\n",
              "    </tr>\n",
              "    <tr>\n",
              "      <th>23</th>\n",
              "      <td>24</td>\n",
              "      <td>2010</td>\n",
              "      <td>1</td>\n",
              "      <td>1</td>\n",
              "      <td>23</td>\n",
              "      <td>NaN</td>\n",
              "      <td>-17</td>\n",
              "      <td>-5.0</td>\n",
              "      <td>1020.0</td>\n",
              "      <td>cv</td>\n",
              "      <td>0.89</td>\n",
              "      <td>0</td>\n",
              "      <td>0</td>\n",
              "    </tr>\n",
              "    <tr>\n",
              "      <th>24</th>\n",
              "      <td>25</td>\n",
              "      <td>2010</td>\n",
              "      <td>1</td>\n",
              "      <td>2</td>\n",
              "      <td>0</td>\n",
              "      <td>129.0</td>\n",
              "      <td>-16</td>\n",
              "      <td>-4.0</td>\n",
              "      <td>1020.0</td>\n",
              "      <td>SE</td>\n",
              "      <td>1.79</td>\n",
              "      <td>0</td>\n",
              "      <td>0</td>\n",
              "    </tr>\n",
              "    <tr>\n",
              "      <th>25</th>\n",
              "      <td>26</td>\n",
              "      <td>2010</td>\n",
              "      <td>1</td>\n",
              "      <td>2</td>\n",
              "      <td>1</td>\n",
              "      <td>148.0</td>\n",
              "      <td>-15</td>\n",
              "      <td>-4.0</td>\n",
              "      <td>1020.0</td>\n",
              "      <td>SE</td>\n",
              "      <td>2.68</td>\n",
              "      <td>0</td>\n",
              "      <td>0</td>\n",
              "    </tr>\n",
              "    <tr>\n",
              "      <th>26</th>\n",
              "      <td>27</td>\n",
              "      <td>2010</td>\n",
              "      <td>1</td>\n",
              "      <td>2</td>\n",
              "      <td>2</td>\n",
              "      <td>159.0</td>\n",
              "      <td>-11</td>\n",
              "      <td>-5.0</td>\n",
              "      <td>1021.0</td>\n",
              "      <td>SE</td>\n",
              "      <td>3.57</td>\n",
              "      <td>0</td>\n",
              "      <td>0</td>\n",
              "    </tr>\n",
              "    <tr>\n",
              "      <th>27</th>\n",
              "      <td>28</td>\n",
              "      <td>2010</td>\n",
              "      <td>1</td>\n",
              "      <td>2</td>\n",
              "      <td>3</td>\n",
              "      <td>181.0</td>\n",
              "      <td>-7</td>\n",
              "      <td>-5.0</td>\n",
              "      <td>1022.0</td>\n",
              "      <td>SE</td>\n",
              "      <td>5.36</td>\n",
              "      <td>1</td>\n",
              "      <td>0</td>\n",
              "    </tr>\n",
              "    <tr>\n",
              "      <th>28</th>\n",
              "      <td>29</td>\n",
              "      <td>2010</td>\n",
              "      <td>1</td>\n",
              "      <td>2</td>\n",
              "      <td>4</td>\n",
              "      <td>138.0</td>\n",
              "      <td>-7</td>\n",
              "      <td>-5.0</td>\n",
              "      <td>1022.0</td>\n",
              "      <td>SE</td>\n",
              "      <td>6.25</td>\n",
              "      <td>2</td>\n",
              "      <td>0</td>\n",
              "    </tr>\n",
              "    <tr>\n",
              "      <th>29</th>\n",
              "      <td>30</td>\n",
              "      <td>2010</td>\n",
              "      <td>1</td>\n",
              "      <td>2</td>\n",
              "      <td>5</td>\n",
              "      <td>109.0</td>\n",
              "      <td>-7</td>\n",
              "      <td>-6.0</td>\n",
              "      <td>1022.0</td>\n",
              "      <td>SE</td>\n",
              "      <td>7.14</td>\n",
              "      <td>3</td>\n",
              "      <td>0</td>\n",
              "    </tr>\n",
              "  </tbody>\n",
              "</table>\n",
              "</div>"
            ],
            "text/plain": [
              "    No  year  month  day  hour  pm2.5  DEWP  TEMP    PRES cbwd    Iws  Is  Ir\n",
              "0    1  2010      1    1     0    NaN   -21 -11.0  1021.0   NW   1.79   0   0\n",
              "1    2  2010      1    1     1    NaN   -21 -12.0  1020.0   NW   4.92   0   0\n",
              "2    3  2010      1    1     2    NaN   -21 -11.0  1019.0   NW   6.71   0   0\n",
              "3    4  2010      1    1     3    NaN   -21 -14.0  1019.0   NW   9.84   0   0\n",
              "4    5  2010      1    1     4    NaN   -20 -12.0  1018.0   NW  12.97   0   0\n",
              "5    6  2010      1    1     5    NaN   -19 -10.0  1017.0   NW  16.10   0   0\n",
              "6    7  2010      1    1     6    NaN   -19  -9.0  1017.0   NW  19.23   0   0\n",
              "7    8  2010      1    1     7    NaN   -19  -9.0  1017.0   NW  21.02   0   0\n",
              "8    9  2010      1    1     8    NaN   -19  -9.0  1017.0   NW  24.15   0   0\n",
              "9   10  2010      1    1     9    NaN   -20  -8.0  1017.0   NW  27.28   0   0\n",
              "10  11  2010      1    1    10    NaN   -19  -7.0  1017.0   NW  31.30   0   0\n",
              "11  12  2010      1    1    11    NaN   -18  -5.0  1017.0   NW  34.43   0   0\n",
              "12  13  2010      1    1    12    NaN   -19  -5.0  1015.0   NW  37.56   0   0\n",
              "13  14  2010      1    1    13    NaN   -18  -3.0  1015.0   NW  40.69   0   0\n",
              "14  15  2010      1    1    14    NaN   -18  -2.0  1014.0   NW  43.82   0   0\n",
              "15  16  2010      1    1    15    NaN   -18  -1.0  1014.0   cv   0.89   0   0\n",
              "16  17  2010      1    1    16    NaN   -19  -2.0  1015.0   NW   1.79   0   0\n",
              "17  18  2010      1    1    17    NaN   -18  -3.0  1015.0   NW   2.68   0   0\n",
              "18  19  2010      1    1    18    NaN   -18  -5.0  1016.0   NE   1.79   0   0\n",
              "19  20  2010      1    1    19    NaN   -17  -4.0  1017.0   NW   1.79   0   0\n",
              "20  21  2010      1    1    20    NaN   -17  -5.0  1017.0   cv   0.89   0   0\n",
              "21  22  2010      1    1    21    NaN   -17  -5.0  1018.0   NW   1.79   0   0\n",
              "22  23  2010      1    1    22    NaN   -17  -5.0  1018.0   NW   2.68   0   0\n",
              "23  24  2010      1    1    23    NaN   -17  -5.0  1020.0   cv   0.89   0   0\n",
              "24  25  2010      1    2     0  129.0   -16  -4.0  1020.0   SE   1.79   0   0\n",
              "25  26  2010      1    2     1  148.0   -15  -4.0  1020.0   SE   2.68   0   0\n",
              "26  27  2010      1    2     2  159.0   -11  -5.0  1021.0   SE   3.57   0   0\n",
              "27  28  2010      1    2     3  181.0    -7  -5.0  1022.0   SE   5.36   1   0\n",
              "28  29  2010      1    2     4  138.0    -7  -5.0  1022.0   SE   6.25   2   0\n",
              "29  30  2010      1    2     5  109.0    -7  -6.0  1022.0   SE   7.14   3   0"
            ]
          },
          "metadata": {
            "tags": []
          },
          "execution_count": 182
        }
      ]
    },
    {
      "cell_type": "code",
      "metadata": {
        "id": "bnfTOKavL7ZP",
        "colab_type": "code",
        "colab": {}
      },
      "source": [
        "data = data.drop('No', axis=1) # drop the column 'No' which is not involved"
      ],
      "execution_count": 0,
      "outputs": []
    },
    {
      "cell_type": "markdown",
      "metadata": {
        "id": "BAGVNNr2nzW0",
        "colab_type": "text"
      },
      "source": [
        "Attribute pm2.5 had many missing data in first 30 rows. Let's find how many observations were missing using \"isnull\" function"
      ]
    },
    {
      "cell_type": "code",
      "metadata": {
        "id": "Fc9MjUHYk4Un",
        "colab_type": "code",
        "outputId": "6271fbac-4101-4440-8fa1-5427182b2f8b",
        "colab": {
          "base_uri": "https://localhost:8080/",
          "height": 238
        }
      },
      "source": [
        "data.isnull().sum() # 2067 were missing"
      ],
      "execution_count": 0,
      "outputs": [
        {
          "output_type": "execute_result",
          "data": {
            "text/plain": [
              "year        0\n",
              "month       0\n",
              "day         0\n",
              "hour        0\n",
              "pm2.5    2067\n",
              "DEWP        0\n",
              "TEMP        0\n",
              "PRES        0\n",
              "cbwd        0\n",
              "Iws         0\n",
              "Is          0\n",
              "Ir          0\n",
              "dtype: int64"
            ]
          },
          "metadata": {
            "tags": []
          },
          "execution_count": 184
        }
      ]
    },
    {
      "cell_type": "markdown",
      "metadata": {
        "id": "nqCeTdSztExS",
        "colab_type": "text"
      },
      "source": [
        "Plot to see the relationships between the key variables PM2.5 vs some others"
      ]
    },
    {
      "cell_type": "code",
      "metadata": {
        "id": "yIuwYGWNoojl",
        "colab_type": "code",
        "outputId": "bf8b43c9-cf3e-4751-e973-c2e60829ee8b",
        "colab": {
          "base_uri": "https://localhost:8080/",
          "height": 296
        }
      },
      "source": [
        "# pm2.5 and year\n",
        "data.plot(x='pm2.5', y='year', kind='scatter')"
      ],
      "execution_count": 0,
      "outputs": [
        {
          "output_type": "execute_result",
          "data": {
            "text/plain": [
              "<matplotlib.axes._subplots.AxesSubplot at 0x7f1b335e2da0>"
            ]
          },
          "metadata": {
            "tags": []
          },
          "execution_count": 185
        },
        {
          "output_type": "display_data",
          "data": {
            "image/png": "[encoded data removed]",
            "text/plain": [
              "<Figure size 432x288 with 1 Axes>"
            ]
          },
          "metadata": {
            "tags": []
          }
        }
      ]
    },
    {
      "cell_type": "markdown",
      "metadata": {
        "id": "7uHzwIWfprxC",
        "colab_type": "text"
      },
      "source": [
        "We could see that the years 2010, 2012, and 2013, people in Beijing were likely to have more “bad” days than the years in 2011 and 2014. Especially during the year 2013, the average of PM2.5 was significantly higher than other years."
      ]
    },
    {
      "cell_type": "code",
      "metadata": {
        "id": "tUNDxjD3qJjJ",
        "colab_type": "code",
        "outputId": "97d8ed10-d135-492e-97b4-1667f4f89544",
        "colab": {
          "base_uri": "https://localhost:8080/",
          "height": 296
        }
      },
      "source": [
        "# pm2.5 and TEMP\n",
        "data.plot(x='pm2.5', y='TEMP', kind='scatter')"
      ],
      "execution_count": 0,
      "outputs": [
        {
          "output_type": "execute_result",
          "data": {
            "text/plain": [
              "<matplotlib.axes._subplots.AxesSubplot at 0x7f1b33045b00>"
            ]
          },
          "metadata": {
            "tags": []
          },
          "execution_count": 186
        },
        {
          "output_type": "display_data",
          "data": {
            "image/png": "[encoded data removed]",
            "text/plain": [
              "<Figure size 432x288 with 1 Axes>"
            ]
          },
          "metadata": {
            "tags": []
          }
        }
      ]
    },
    {
      "cell_type": "markdown",
      "metadata": {
        "id": "9xycChq6qTef",
        "colab_type": "text"
      },
      "source": [
        "We could see that when the temperature is low, it’s more likely to have high PM2.5, that means people might likely to get “high polluted” days."
      ]
    },
    {
      "cell_type": "code",
      "metadata": {
        "id": "EuqPMxQUrzCO",
        "colab_type": "code",
        "outputId": "6023f632-745e-4cf6-f63d-13ef85686947",
        "colab": {
          "base_uri": "https://localhost:8080/",
          "height": 296
        }
      },
      "source": [
        "# PM2.5 and rain (Ir)\n",
        "data.plot(x='pm2.5', y='Ir', kind='scatter')"
      ],
      "execution_count": 0,
      "outputs": [
        {
          "output_type": "execute_result",
          "data": {
            "text/plain": [
              "<matplotlib.axes._subplots.AxesSubplot at 0x7f1b3328cf60>"
            ]
          },
          "metadata": {
            "tags": []
          },
          "execution_count": 187
        },
        {
          "output_type": "display_data",
          "data": {
            "image/png": "[encoded data removed]",
            "text/plain": [
              "<Figure size 432x288 with 1 Axes>"
            ]
          },
          "metadata": {
            "tags": []
          }
        }
      ]
    },
    {
      "cell_type": "markdown",
      "metadata": {
        "id": "KQh4G4NXsQJn",
        "colab_type": "text"
      },
      "source": [
        "It’s pretty clear that is was extremely unlikely to have “polluted” days during rainy days, especially when Beijing got a lot rains."
      ]
    },
    {
      "cell_type": "code",
      "metadata": {
        "id": "B2jKiEoaskj9",
        "colab_type": "code",
        "outputId": "acb31b98-3fe6-4bcf-c2e2-19cae2cf52b1",
        "colab": {
          "base_uri": "https://localhost:8080/",
          "height": 296
        }
      },
      "source": [
        "# pm2.5 and snow (Is)\n",
        "data.plot(x='pm2.5', y='Is', kind='scatter')"
      ],
      "execution_count": 0,
      "outputs": [
        {
          "output_type": "execute_result",
          "data": {
            "text/plain": [
              "<matplotlib.axes._subplots.AxesSubplot at 0x7f1b332f5e48>"
            ]
          },
          "metadata": {
            "tags": []
          },
          "execution_count": 188
        },
        {
          "output_type": "display_data",
          "data": {
            "image/png": "[encoded data removed]",
            "text/plain": [
              "<Figure size 432x288 with 1 Axes>"
            ]
          },
          "metadata": {
            "tags": []
          }
        }
      ]
    },
    {
      "cell_type": "markdown",
      "metadata": {
        "id": "gkGibcHjtf9D",
        "colab_type": "text"
      },
      "source": [
        "We could see it’s somewhat likely to have medium “polluted” days when it was snowing, but only with lightly snowy days."
      ]
    },
    {
      "cell_type": "code",
      "metadata": {
        "id": "VAXdZm6UtwPM",
        "colab_type": "code",
        "outputId": "48908fde-a240-479d-cd1b-3162e68d0a76",
        "colab": {
          "base_uri": "https://localhost:8080/",
          "height": 296
        }
      },
      "source": [
        "# pm2.5 vs wind speed (Iws)\n",
        "data.plot(x='pm2.5', y='Iws', kind='scatter')"
      ],
      "execution_count": 0,
      "outputs": [
        {
          "output_type": "execute_result",
          "data": {
            "text/plain": [
              "<matplotlib.axes._subplots.AxesSubplot at 0x7f1b33229c18>"
            ]
          },
          "metadata": {
            "tags": []
          },
          "execution_count": 189
        },
        {
          "output_type": "display_data",
          "data": {
            "image/png": "[encoded data removed]",
            "text/plain": [
              "<Figure size 432x288 with 1 Axes>"
            ]
          },
          "metadata": {
            "tags": []
          }
        }
      ]
    },
    {
      "cell_type": "markdown",
      "metadata": {
        "id": "r6p0_cKmuzV4",
        "colab_type": "text"
      },
      "source": [
        "We could see winds reduces the level of PM2.5 at the most time, but when we look at the graph around 200–300, we can see that PM2.5 was not going down as expected."
      ]
    },
    {
      "cell_type": "code",
      "metadata": {
        "id": "W336ElyzuY6M",
        "colab_type": "code",
        "colab": {}
      },
      "source": [
        ""
      ],
      "execution_count": 0,
      "outputs": []
    },
    {
      "cell_type": "markdown",
      "metadata": {
        "id": "WWa7IRKR0QnX",
        "colab_type": "text"
      },
      "source": [
        "Handling Missing Data"
      ]
    },
    {
      "cell_type": "code",
      "metadata": {
        "id": "t5BakbRgky6D",
        "colab_type": "code",
        "outputId": "06fb2f06-43e6-4167-e8c3-d538897b3c52",
        "colab": {
          "base_uri": "https://localhost:8080/",
          "height": 419
        }
      },
      "source": [
        "# There are many ways to handle the missing data as below:\n",
        "# 1- drop the data -> data.dropna()\n",
        "# 2- fill NA data with zero (0) -> data.fillna(0)\n",
        "# 3- forward-fill to propagate the previous value forward -> data.fillna(method='ffill')\n",
        "# 4- back-fill to propagate the next values backward -> data.fillna(method='bfill')\n",
        "# 5- fill with mean value -> data['pm2.5'].mean()\n",
        "\n",
        "# I'm going to choose mean value\n",
        "mean = data['pm2.5'].mean()\n",
        "data_mean = data.fillna(mean)\n",
        "data_mean"
      ],
      "execution_count": 0,
      "outputs": [
        {
          "output_type": "execute_result",
          "data": {
            "text/html": [
              "<div>\n",
              "<style scoped>\n",
              "    .dataframe tbody tr th:only-of-type {\n",
              "        vertical-align: middle;\n",
              "    }\n",
              "\n",
              "    .dataframe tbody tr th {\n",
              "        vertical-align: top;\n",
              "    }\n",
              "\n",
              "    .dataframe thead th {\n",
              "        text-align: right;\n",
              "    }\n",
              "</style>\n",
              "<table border=\"1\" class=\"dataframe\">\n",
              "  <thead>\n",
              "    <tr style=\"text-align: right;\">\n",
              "      <th></th>\n",
              "      <th>year</th>\n",
              "      <th>month</th>\n",
              "      <th>day</th>\n",
              "      <th>hour</th>\n",
              "      <th>pm2.5</th>\n",
              "      <th>DEWP</th>\n",
              "      <th>TEMP</th>\n",
              "      <th>PRES</th>\n",
              "      <th>cbwd</th>\n",
              "      <th>Iws</th>\n",
              "      <th>Is</th>\n",
              "      <th>Ir</th>\n",
              "    </tr>\n",
              "  </thead>\n",
              "  <tbody>\n",
              "    <tr>\n",
              "      <th>0</th>\n",
              "      <td>2010</td>\n",
              "      <td>1</td>\n",
              "      <td>1</td>\n",
              "      <td>0</td>\n",
              "      <td>98.613215</td>\n",
              "      <td>-21</td>\n",
              "      <td>-11.0</td>\n",
              "      <td>1021.0</td>\n",
              "      <td>NW</td>\n",
              "      <td>1.79</td>\n",
              "      <td>0</td>\n",
              "      <td>0</td>\n",
              "    </tr>\n",
              "    <tr>\n",
              "      <th>1</th>\n",
              "      <td>2010</td>\n",
              "      <td>1</td>\n",
              "      <td>1</td>\n",
              "      <td>1</td>\n",
              "      <td>98.613215</td>\n",
              "      <td>-21</td>\n",
              "      <td>-12.0</td>\n",
              "      <td>1020.0</td>\n",
              "      <td>NW</td>\n",
              "      <td>4.92</td>\n",
              "      <td>0</td>\n",
              "      <td>0</td>\n",
              "    </tr>\n",
              "    <tr>\n",
              "      <th>2</th>\n",
              "      <td>2010</td>\n",
              "      <td>1</td>\n",
              "      <td>1</td>\n",
              "      <td>2</td>\n",
              "      <td>98.613215</td>\n",
              "      <td>-21</td>\n",
              "      <td>-11.0</td>\n",
              "      <td>1019.0</td>\n",
              "      <td>NW</td>\n",
              "      <td>6.71</td>\n",
              "      <td>0</td>\n",
              "      <td>0</td>\n",
              "    </tr>\n",
              "    <tr>\n",
              "      <th>3</th>\n",
              "      <td>2010</td>\n",
              "      <td>1</td>\n",
              "      <td>1</td>\n",
              "      <td>3</td>\n",
              "      <td>98.613215</td>\n",
              "      <td>-21</td>\n",
              "      <td>-14.0</td>\n",
              "      <td>1019.0</td>\n",
              "      <td>NW</td>\n",
              "      <td>9.84</td>\n",
              "      <td>0</td>\n",
              "      <td>0</td>\n",
              "    </tr>\n",
              "    <tr>\n",
              "      <th>4</th>\n",
              "      <td>2010</td>\n",
              "      <td>1</td>\n",
              "      <td>1</td>\n",
              "      <td>4</td>\n",
              "      <td>98.613215</td>\n",
              "      <td>-20</td>\n",
              "      <td>-12.0</td>\n",
              "      <td>1018.0</td>\n",
              "      <td>NW</td>\n",
              "      <td>12.97</td>\n",
              "      <td>0</td>\n",
              "      <td>0</td>\n",
              "    </tr>\n",
              "    <tr>\n",
              "      <th>...</th>\n",
              "      <td>...</td>\n",
              "      <td>...</td>\n",
              "      <td>...</td>\n",
              "      <td>...</td>\n",
              "      <td>...</td>\n",
              "      <td>...</td>\n",
              "      <td>...</td>\n",
              "      <td>...</td>\n",
              "      <td>...</td>\n",
              "      <td>...</td>\n",
              "      <td>...</td>\n",
              "      <td>...</td>\n",
              "    </tr>\n",
              "    <tr>\n",
              "      <th>43819</th>\n",
              "      <td>2014</td>\n",
              "      <td>12</td>\n",
              "      <td>31</td>\n",
              "      <td>19</td>\n",
              "      <td>8.000000</td>\n",
              "      <td>-23</td>\n",
              "      <td>-2.0</td>\n",
              "      <td>1034.0</td>\n",
              "      <td>NW</td>\n",
              "      <td>231.97</td>\n",
              "      <td>0</td>\n",
              "      <td>0</td>\n",
              "    </tr>\n",
              "    <tr>\n",
              "      <th>43820</th>\n",
              "      <td>2014</td>\n",
              "      <td>12</td>\n",
              "      <td>31</td>\n",
              "      <td>20</td>\n",
              "      <td>10.000000</td>\n",
              "      <td>-22</td>\n",
              "      <td>-3.0</td>\n",
              "      <td>1034.0</td>\n",
              "      <td>NW</td>\n",
              "      <td>237.78</td>\n",
              "      <td>0</td>\n",
              "      <td>0</td>\n",
              "    </tr>\n",
              "    <tr>\n",
              "      <th>43821</th>\n",
              "      <td>2014</td>\n",
              "      <td>12</td>\n",
              "      <td>31</td>\n",
              "      <td>21</td>\n",
              "      <td>10.000000</td>\n",
              "      <td>-22</td>\n",
              "      <td>-3.0</td>\n",
              "      <td>1034.0</td>\n",
              "      <td>NW</td>\n",
              "      <td>242.70</td>\n",
              "      <td>0</td>\n",
              "      <td>0</td>\n",
              "    </tr>\n",
              "    <tr>\n",
              "      <th>43822</th>\n",
              "      <td>2014</td>\n",
              "      <td>12</td>\n",
              "      <td>31</td>\n",
              "      <td>22</td>\n",
              "      <td>8.000000</td>\n",
              "      <td>-22</td>\n",
              "      <td>-4.0</td>\n",
              "      <td>1034.0</td>\n",
              "      <td>NW</td>\n",
              "      <td>246.72</td>\n",
              "      <td>0</td>\n",
              "      <td>0</td>\n",
              "    </tr>\n",
              "    <tr>\n",
              "      <th>43823</th>\n",
              "      <td>2014</td>\n",
              "      <td>12</td>\n",
              "      <td>31</td>\n",
              "      <td>23</td>\n",
              "      <td>12.000000</td>\n",
              "      <td>-21</td>\n",
              "      <td>-3.0</td>\n",
              "      <td>1034.0</td>\n",
              "      <td>NW</td>\n",
              "      <td>249.85</td>\n",
              "      <td>0</td>\n",
              "      <td>0</td>\n",
              "    </tr>\n",
              "  </tbody>\n",
              "</table>\n",
              "<p>43824 rows × 12 columns</p>\n",
              "</div>"
            ],
            "text/plain": [
              "       year  month  day  hour      pm2.5  ...    PRES  cbwd     Iws Is  Ir\n",
              "0      2010      1    1     0  98.613215  ...  1021.0    NW    1.79  0   0\n",
              "1      2010      1    1     1  98.613215  ...  1020.0    NW    4.92  0   0\n",
              "2      2010      1    1     2  98.613215  ...  1019.0    NW    6.71  0   0\n",
              "3      2010      1    1     3  98.613215  ...  1019.0    NW    9.84  0   0\n",
              "4      2010      1    1     4  98.613215  ...  1018.0    NW   12.97  0   0\n",
              "...     ...    ...  ...   ...        ...  ...     ...   ...     ... ..  ..\n",
              "43819  2014     12   31    19   8.000000  ...  1034.0    NW  231.97  0   0\n",
              "43820  2014     12   31    20  10.000000  ...  1034.0    NW  237.78  0   0\n",
              "43821  2014     12   31    21  10.000000  ...  1034.0    NW  242.70  0   0\n",
              "43822  2014     12   31    22   8.000000  ...  1034.0    NW  246.72  0   0\n",
              "43823  2014     12   31    23  12.000000  ...  1034.0    NW  249.85  0   0\n",
              "\n",
              "[43824 rows x 12 columns]"
            ]
          },
          "metadata": {
            "tags": []
          },
          "execution_count": 190
        }
      ]
    },
    {
      "cell_type": "markdown",
      "metadata": {
        "id": "ce9ldENr7JFr",
        "colab_type": "text"
      },
      "source": [
        "Features Scaling"
      ]
    },
    {
      "cell_type": "code",
      "metadata": {
        "id": "-BPg2vUNLiFb",
        "colab_type": "code",
        "outputId": "6cb55b21-9c83-4fab-dc82-a34cf30b212f",
        "colab": {
          "base_uri": "https://localhost:8080/",
          "height": 979
        }
      },
      "source": [
        "# First, convert categorical features of \"cbwd\" to a numerical representation\n",
        "from sklearn.preprocessing import OrdinalEncoder\n",
        "encoder = OrdinalEncoder()\n",
        "data_mean.cbwd = encoder.fit_transform(data_mean.cbwd.values.reshape(-1, 1))\n",
        "data_mean.head(30)\n"
      ],
      "execution_count": 0,
      "outputs": [
        {
          "output_type": "execute_result",
          "data": {
            "text/html": [
              "<div>\n",
              "<style scoped>\n",
              "    .dataframe tbody tr th:only-of-type {\n",
              "        vertical-align: middle;\n",
              "    }\n",
              "\n",
              "    .dataframe tbody tr th {\n",
              "        vertical-align: top;\n",
              "    }\n",
              "\n",
              "    .dataframe thead th {\n",
              "        text-align: right;\n",
              "    }\n",
              "</style>\n",
              "<table border=\"1\" class=\"dataframe\">\n",
              "  <thead>\n",
              "    <tr style=\"text-align: right;\">\n",
              "      <th></th>\n",
              "      <th>year</th>\n",
              "      <th>month</th>\n",
              "      <th>day</th>\n",
              "      <th>hour</th>\n",
              "      <th>pm2.5</th>\n",
              "      <th>DEWP</th>\n",
              "      <th>TEMP</th>\n",
              "      <th>PRES</th>\n",
              "      <th>cbwd</th>\n",
              "      <th>Iws</th>\n",
              "      <th>Is</th>\n",
              "      <th>Ir</th>\n",
              "    </tr>\n",
              "  </thead>\n",
              "  <tbody>\n",
              "    <tr>\n",
              "      <th>0</th>\n",
              "      <td>2010</td>\n",
              "      <td>1</td>\n",
              "      <td>1</td>\n",
              "      <td>0</td>\n",
              "      <td>98.613215</td>\n",
              "      <td>-21</td>\n",
              "      <td>-11.0</td>\n",
              "      <td>1021.0</td>\n",
              "      <td>1.0</td>\n",
              "      <td>1.79</td>\n",
              "      <td>0</td>\n",
              "      <td>0</td>\n",
              "    </tr>\n",
              "    <tr>\n",
              "      <th>1</th>\n",
              "      <td>2010</td>\n",
              "      <td>1</td>\n",
              "      <td>1</td>\n",
              "      <td>1</td>\n",
              "      <td>98.613215</td>\n",
              "      <td>-21</td>\n",
              "      <td>-12.0</td>\n",
              "      <td>1020.0</td>\n",
              "      <td>1.0</td>\n",
              "      <td>4.92</td>\n",
              "      <td>0</td>\n",
              "      <td>0</td>\n",
              "    </tr>\n",
              "    <tr>\n",
              "      <th>2</th>\n",
              "      <td>2010</td>\n",
              "      <td>1</td>\n",
              "      <td>1</td>\n",
              "      <td>2</td>\n",
              "      <td>98.613215</td>\n",
              "      <td>-21</td>\n",
              "      <td>-11.0</td>\n",
              "      <td>1019.0</td>\n",
              "      <td>1.0</td>\n",
              "      <td>6.71</td>\n",
              "      <td>0</td>\n",
              "      <td>0</td>\n",
              "    </tr>\n",
              "    <tr>\n",
              "      <th>3</th>\n",
              "      <td>2010</td>\n",
              "      <td>1</td>\n",
              "      <td>1</td>\n",
              "      <td>3</td>\n",
              "      <td>98.613215</td>\n",
              "      <td>-21</td>\n",
              "      <td>-14.0</td>\n",
              "      <td>1019.0</td>\n",
              "      <td>1.0</td>\n",
              "      <td>9.84</td>\n",
              "      <td>0</td>\n",
              "      <td>0</td>\n",
              "    </tr>\n",
              "    <tr>\n",
              "      <th>4</th>\n",
              "      <td>2010</td>\n",
              "      <td>1</td>\n",
              "      <td>1</td>\n",
              "      <td>4</td>\n",
              "      <td>98.613215</td>\n",
              "      <td>-20</td>\n",
              "      <td>-12.0</td>\n",
              "      <td>1018.0</td>\n",
              "      <td>1.0</td>\n",
              "      <td>12.97</td>\n",
              "      <td>0</td>\n",
              "      <td>0</td>\n",
              "    </tr>\n",
              "    <tr>\n",
              "      <th>5</th>\n",
              "      <td>2010</td>\n",
              "      <td>1</td>\n",
              "      <td>1</td>\n",
              "      <td>5</td>\n",
              "      <td>98.613215</td>\n",
              "      <td>-19</td>\n",
              "      <td>-10.0</td>\n",
              "      <td>1017.0</td>\n",
              "      <td>1.0</td>\n",
              "      <td>16.10</td>\n",
              "      <td>0</td>\n",
              "      <td>0</td>\n",
              "    </tr>\n",
              "    <tr>\n",
              "      <th>6</th>\n",
              "      <td>2010</td>\n",
              "      <td>1</td>\n",
              "      <td>1</td>\n",
              "      <td>6</td>\n",
              "      <td>98.613215</td>\n",
              "      <td>-19</td>\n",
              "      <td>-9.0</td>\n",
              "      <td>1017.0</td>\n",
              "      <td>1.0</td>\n",
              "      <td>19.23</td>\n",
              "      <td>0</td>\n",
              "      <td>0</td>\n",
              "    </tr>\n",
              "    <tr>\n",
              "      <th>7</th>\n",
              "      <td>2010</td>\n",
              "      <td>1</td>\n",
              "      <td>1</td>\n",
              "      <td>7</td>\n",
              "      <td>98.613215</td>\n",
              "      <td>-19</td>\n",
              "      <td>-9.0</td>\n",
              "      <td>1017.0</td>\n",
              "      <td>1.0</td>\n",
              "      <td>21.02</td>\n",
              "      <td>0</td>\n",
              "      <td>0</td>\n",
              "    </tr>\n",
              "    <tr>\n",
              "      <th>8</th>\n",
              "      <td>2010</td>\n",
              "      <td>1</td>\n",
              "      <td>1</td>\n",
              "      <td>8</td>\n",
              "      <td>98.613215</td>\n",
              "      <td>-19</td>\n",
              "      <td>-9.0</td>\n",
              "      <td>1017.0</td>\n",
              "      <td>1.0</td>\n",
              "      <td>24.15</td>\n",
              "      <td>0</td>\n",
              "      <td>0</td>\n",
              "    </tr>\n",
              "    <tr>\n",
              "      <th>9</th>\n",
              "      <td>2010</td>\n",
              "      <td>1</td>\n",
              "      <td>1</td>\n",
              "      <td>9</td>\n",
              "      <td>98.613215</td>\n",
              "      <td>-20</td>\n",
              "      <td>-8.0</td>\n",
              "      <td>1017.0</td>\n",
              "      <td>1.0</td>\n",
              "      <td>27.28</td>\n",
              "      <td>0</td>\n",
              "      <td>0</td>\n",
              "    </tr>\n",
              "    <tr>\n",
              "      <th>10</th>\n",
              "      <td>2010</td>\n",
              "      <td>1</td>\n",
              "      <td>1</td>\n",
              "      <td>10</td>\n",
              "      <td>98.613215</td>\n",
              "      <td>-19</td>\n",
              "      <td>-7.0</td>\n",
              "      <td>1017.0</td>\n",
              "      <td>1.0</td>\n",
              "      <td>31.30</td>\n",
              "      <td>0</td>\n",
              "      <td>0</td>\n",
              "    </tr>\n",
              "    <tr>\n",
              "      <th>11</th>\n",
              "      <td>2010</td>\n",
              "      <td>1</td>\n",
              "      <td>1</td>\n",
              "      <td>11</td>\n",
              "      <td>98.613215</td>\n",
              "      <td>-18</td>\n",
              "      <td>-5.0</td>\n",
              "      <td>1017.0</td>\n",
              "      <td>1.0</td>\n",
              "      <td>34.43</td>\n",
              "      <td>0</td>\n",
              "      <td>0</td>\n",
              "    </tr>\n",
              "    <tr>\n",
              "      <th>12</th>\n",
              "      <td>2010</td>\n",
              "      <td>1</td>\n",
              "      <td>1</td>\n",
              "      <td>12</td>\n",
              "      <td>98.613215</td>\n",
              "      <td>-19</td>\n",
              "      <td>-5.0</td>\n",
              "      <td>1015.0</td>\n",
              "      <td>1.0</td>\n",
              "      <td>37.56</td>\n",
              "      <td>0</td>\n",
              "      <td>0</td>\n",
              "    </tr>\n",
              "    <tr>\n",
              "      <th>13</th>\n",
              "      <td>2010</td>\n",
              "      <td>1</td>\n",
              "      <td>1</td>\n",
              "      <td>13</td>\n",
              "      <td>98.613215</td>\n",
              "      <td>-18</td>\n",
              "      <td>-3.0</td>\n",
              "      <td>1015.0</td>\n",
              "      <td>1.0</td>\n",
              "      <td>40.69</td>\n",
              "      <td>0</td>\n",
              "      <td>0</td>\n",
              "    </tr>\n",
              "    <tr>\n",
              "      <th>14</th>\n",
              "      <td>2010</td>\n",
              "      <td>1</td>\n",
              "      <td>1</td>\n",
              "      <td>14</td>\n",
              "      <td>98.613215</td>\n",
              "      <td>-18</td>\n",
              "      <td>-2.0</td>\n",
              "      <td>1014.0</td>\n",
              "      <td>1.0</td>\n",
              "      <td>43.82</td>\n",
              "      <td>0</td>\n",
              "      <td>0</td>\n",
              "    </tr>\n",
              "    <tr>\n",
              "      <th>15</th>\n",
              "      <td>2010</td>\n",
              "      <td>1</td>\n",
              "      <td>1</td>\n",
              "      <td>15</td>\n",
              "      <td>98.613215</td>\n",
              "      <td>-18</td>\n",
              "      <td>-1.0</td>\n",
              "      <td>1014.0</td>\n",
              "      <td>3.0</td>\n",
              "      <td>0.89</td>\n",
              "      <td>0</td>\n",
              "      <td>0</td>\n",
              "    </tr>\n",
              "    <tr>\n",
              "      <th>16</th>\n",
              "      <td>2010</td>\n",
              "      <td>1</td>\n",
              "      <td>1</td>\n",
              "      <td>16</td>\n",
              "      <td>98.613215</td>\n",
              "      <td>-19</td>\n",
              "      <td>-2.0</td>\n",
              "      <td>1015.0</td>\n",
              "      <td>1.0</td>\n",
              "      <td>1.79</td>\n",
              "      <td>0</td>\n",
              "      <td>0</td>\n",
              "    </tr>\n",
              "    <tr>\n",
              "      <th>17</th>\n",
              "      <td>2010</td>\n",
              "      <td>1</td>\n",
              "      <td>1</td>\n",
              "      <td>17</td>\n",
              "      <td>98.613215</td>\n",
              "      <td>-18</td>\n",
              "      <td>-3.0</td>\n",
              "      <td>1015.0</td>\n",
              "      <td>1.0</td>\n",
              "      <td>2.68</td>\n",
              "      <td>0</td>\n",
              "      <td>0</td>\n",
              "    </tr>\n",
              "    <tr>\n",
              "      <th>18</th>\n",
              "      <td>2010</td>\n",
              "      <td>1</td>\n",
              "      <td>1</td>\n",
              "      <td>18</td>\n",
              "      <td>98.613215</td>\n",
              "      <td>-18</td>\n",
              "      <td>-5.0</td>\n",
              "      <td>1016.0</td>\n",
              "      <td>0.0</td>\n",
              "      <td>1.79</td>\n",
              "      <td>0</td>\n",
              "      <td>0</td>\n",
              "    </tr>\n",
              "    <tr>\n",
              "      <th>19</th>\n",
              "      <td>2010</td>\n",
              "      <td>1</td>\n",
              "      <td>1</td>\n",
              "      <td>19</td>\n",
              "      <td>98.613215</td>\n",
              "      <td>-17</td>\n",
              "      <td>-4.0</td>\n",
              "      <td>1017.0</td>\n",
              "      <td>1.0</td>\n",
              "      <td>1.79</td>\n",
              "      <td>0</td>\n",
              "      <td>0</td>\n",
              "    </tr>\n",
              "    <tr>\n",
              "      <th>20</th>\n",
              "      <td>2010</td>\n",
              "      <td>1</td>\n",
              "      <td>1</td>\n",
              "      <td>20</td>\n",
              "      <td>98.613215</td>\n",
              "      <td>-17</td>\n",
              "      <td>-5.0</td>\n",
              "      <td>1017.0</td>\n",
              "      <td>3.0</td>\n",
              "      <td>0.89</td>\n",
              "      <td>0</td>\n",
              "      <td>0</td>\n",
              "    </tr>\n",
              "    <tr>\n",
              "      <th>21</th>\n",
              "      <td>2010</td>\n",
              "      <td>1</td>\n",
              "      <td>1</td>\n",
              "      <td>21</td>\n",
              "      <td>98.613215</td>\n",
              "      <td>-17</td>\n",
              "      <td>-5.0</td>\n",
              "      <td>1018.0</td>\n",
              "      <td>1.0</td>\n",
              "      <td>1.79</td>\n",
              "      <td>0</td>\n",
              "      <td>0</td>\n",
              "    </tr>\n",
              "    <tr>\n",
              "      <th>22</th>\n",
              "      <td>2010</td>\n",
              "      <td>1</td>\n",
              "      <td>1</td>\n",
              "      <td>22</td>\n",
              "      <td>98.613215</td>\n",
              "      <td>-17</td>\n",
              "      <td>-5.0</td>\n",
              "      <td>1018.0</td>\n",
              "      <td>1.0</td>\n",
              "      <td>2.68</td>\n",
              "      <td>0</td>\n",
              "      <td>0</td>\n",
              "    </tr>\n",
              "    <tr>\n",
              "      <th>23</th>\n",
              "      <td>2010</td>\n",
              "      <td>1</td>\n",
              "      <td>1</td>\n",
              "      <td>23</td>\n",
              "      <td>98.613215</td>\n",
              "      <td>-17</td>\n",
              "      <td>-5.0</td>\n",
              "      <td>1020.0</td>\n",
              "      <td>3.0</td>\n",
              "      <td>0.89</td>\n",
              "      <td>0</td>\n",
              "      <td>0</td>\n",
              "    </tr>\n",
              "    <tr>\n",
              "      <th>24</th>\n",
              "      <td>2010</td>\n",
              "      <td>1</td>\n",
              "      <td>2</td>\n",
              "      <td>0</td>\n",
              "      <td>129.000000</td>\n",
              "      <td>-16</td>\n",
              "      <td>-4.0</td>\n",
              "      <td>1020.0</td>\n",
              "      <td>2.0</td>\n",
              "      <td>1.79</td>\n",
              "      <td>0</td>\n",
              "      <td>0</td>\n",
              "    </tr>\n",
              "    <tr>\n",
              "      <th>25</th>\n",
              "      <td>2010</td>\n",
              "      <td>1</td>\n",
              "      <td>2</td>\n",
              "      <td>1</td>\n",
              "      <td>148.000000</td>\n",
              "      <td>-15</td>\n",
              "      <td>-4.0</td>\n",
              "      <td>1020.0</td>\n",
              "      <td>2.0</td>\n",
              "      <td>2.68</td>\n",
              "      <td>0</td>\n",
              "      <td>0</td>\n",
              "    </tr>\n",
              "    <tr>\n",
              "      <th>26</th>\n",
              "      <td>2010</td>\n",
              "      <td>1</td>\n",
              "      <td>2</td>\n",
              "      <td>2</td>\n",
              "      <td>159.000000</td>\n",
              "      <td>-11</td>\n",
              "      <td>-5.0</td>\n",
              "      <td>1021.0</td>\n",
              "      <td>2.0</td>\n",
              "      <td>3.57</td>\n",
              "      <td>0</td>\n",
              "      <td>0</td>\n",
              "    </tr>\n",
              "    <tr>\n",
              "      <th>27</th>\n",
              "      <td>2010</td>\n",
              "      <td>1</td>\n",
              "      <td>2</td>\n",
              "      <td>3</td>\n",
              "      <td>181.000000</td>\n",
              "      <td>-7</td>\n",
              "      <td>-5.0</td>\n",
              "      <td>1022.0</td>\n",
              "      <td>2.0</td>\n",
              "      <td>5.36</td>\n",
              "      <td>1</td>\n",
              "      <td>0</td>\n",
              "    </tr>\n",
              "    <tr>\n",
              "      <th>28</th>\n",
              "      <td>2010</td>\n",
              "      <td>1</td>\n",
              "      <td>2</td>\n",
              "      <td>4</td>\n",
              "      <td>138.000000</td>\n",
              "      <td>-7</td>\n",
              "      <td>-5.0</td>\n",
              "      <td>1022.0</td>\n",
              "      <td>2.0</td>\n",
              "      <td>6.25</td>\n",
              "      <td>2</td>\n",
              "      <td>0</td>\n",
              "    </tr>\n",
              "    <tr>\n",
              "      <th>29</th>\n",
              "      <td>2010</td>\n",
              "      <td>1</td>\n",
              "      <td>2</td>\n",
              "      <td>5</td>\n",
              "      <td>109.000000</td>\n",
              "      <td>-7</td>\n",
              "      <td>-6.0</td>\n",
              "      <td>1022.0</td>\n",
              "      <td>2.0</td>\n",
              "      <td>7.14</td>\n",
              "      <td>3</td>\n",
              "      <td>0</td>\n",
              "    </tr>\n",
              "  </tbody>\n",
              "</table>\n",
              "</div>"
            ],
            "text/plain": [
              "    year  month  day  hour       pm2.5  DEWP  TEMP    PRES  cbwd    Iws  Is  Ir\n",
              "0   2010      1    1     0   98.613215   -21 -11.0  1021.0   1.0   1.79   0   0\n",
              "1   2010      1    1     1   98.613215   -21 -12.0  1020.0   1.0   4.92   0   0\n",
              "2   2010      1    1     2   98.613215   -21 -11.0  1019.0   1.0   6.71   0   0\n",
              "3   2010      1    1     3   98.613215   -21 -14.0  1019.0   1.0   9.84   0   0\n",
              "4   2010      1    1     4   98.613215   -20 -12.0  1018.0   1.0  12.97   0   0\n",
              "5   2010      1    1     5   98.613215   -19 -10.0  1017.0   1.0  16.10   0   0\n",
              "6   2010      1    1     6   98.613215   -19  -9.0  1017.0   1.0  19.23   0   0\n",
              "7   2010      1    1     7   98.613215   -19  -9.0  1017.0   1.0  21.02   0   0\n",
              "8   2010      1    1     8   98.613215   -19  -9.0  1017.0   1.0  24.15   0   0\n",
              "9   2010      1    1     9   98.613215   -20  -8.0  1017.0   1.0  27.28   0   0\n",
              "10  2010      1    1    10   98.613215   -19  -7.0  1017.0   1.0  31.30   0   0\n",
              "11  2010      1    1    11   98.613215   -18  -5.0  1017.0   1.0  34.43   0   0\n",
              "12  2010      1    1    12   98.613215   -19  -5.0  1015.0   1.0  37.56   0   0\n",
              "13  2010      1    1    13   98.613215   -18  -3.0  1015.0   1.0  40.69   0   0\n",
              "14  2010      1    1    14   98.613215   -18  -2.0  1014.0   1.0  43.82   0   0\n",
              "15  2010      1    1    15   98.613215   -18  -1.0  1014.0   3.0   0.89   0   0\n",
              "16  2010      1    1    16   98.613215   -19  -2.0  1015.0   1.0   1.79   0   0\n",
              "17  2010      1    1    17   98.613215   -18  -3.0  1015.0   1.0   2.68   0   0\n",
              "18  2010      1    1    18   98.613215   -18  -5.0  1016.0   0.0   1.79   0   0\n",
              "19  2010      1    1    19   98.613215   -17  -4.0  1017.0   1.0   1.79   0   0\n",
              "20  2010      1    1    20   98.613215   -17  -5.0  1017.0   3.0   0.89   0   0\n",
              "21  2010      1    1    21   98.613215   -17  -5.0  1018.0   1.0   1.79   0   0\n",
              "22  2010      1    1    22   98.613215   -17  -5.0  1018.0   1.0   2.68   0   0\n",
              "23  2010      1    1    23   98.613215   -17  -5.0  1020.0   3.0   0.89   0   0\n",
              "24  2010      1    2     0  129.000000   -16  -4.0  1020.0   2.0   1.79   0   0\n",
              "25  2010      1    2     1  148.000000   -15  -4.0  1020.0   2.0   2.68   0   0\n",
              "26  2010      1    2     2  159.000000   -11  -5.0  1021.0   2.0   3.57   0   0\n",
              "27  2010      1    2     3  181.000000    -7  -5.0  1022.0   2.0   5.36   1   0\n",
              "28  2010      1    2     4  138.000000    -7  -5.0  1022.0   2.0   6.25   2   0\n",
              "29  2010      1    2     5  109.000000    -7  -6.0  1022.0   2.0   7.14   3   0"
            ]
          },
          "metadata": {
            "tags": []
          },
          "execution_count": 191
        }
      ]
    },
    {
      "cell_type": "markdown",
      "metadata": {
        "id": "dduSZW7xW8MQ",
        "colab_type": "text"
      },
      "source": [
        "Separate Data \"X\" and Label \"y\""
      ]
    },
    {
      "cell_type": "code",
      "metadata": {
        "id": "R3RyRMcJXPY8",
        "colab_type": "code",
        "outputId": "eeabf6b3-5ffd-4006-b03f-46ae980c3831",
        "colab": {
          "base_uri": "https://localhost:8080/",
          "height": 34
        }
      },
      "source": [
        "X = data_mean.drop('pm2.5', axis=1) #data\n",
        "y = data_mean['pm2.5'] #label\n",
        "X.shape, y.shape"
      ],
      "execution_count": 0,
      "outputs": [
        {
          "output_type": "execute_result",
          "data": {
            "text/plain": [
              "((43824, 11), (43824,))"
            ]
          },
          "metadata": {
            "tags": []
          },
          "execution_count": 192
        }
      ]
    },
    {
      "cell_type": "markdown",
      "metadata": {
        "id": "zEzwXEfcYp3o",
        "colab_type": "text"
      },
      "source": [
        "Data Normalization and Scaling"
      ]
    },
    {
      "cell_type": "code",
      "metadata": {
        "id": "R-tKv-o6wxcW",
        "colab_type": "code",
        "colab": {}
      },
      "source": [
        "from sklearn import preprocessing\n",
        "scaler = preprocessing.Normalizer()\n",
        "X = scaler.fit_transform(X)"
      ],
      "execution_count": 0,
      "outputs": []
    },
    {
      "cell_type": "code",
      "metadata": {
        "id": "-TUA-j7djdJv",
        "colab_type": "code",
        "colab": {}
      },
      "source": [
        "from sklearn.preprocessing import MinMaxScaler\n",
        "scaler = MinMaxScaler(feature_range=(-3,3))\n",
        "y = scaler.fit_transform(y.values.reshape(-1,1))"
      ],
      "execution_count": 0,
      "outputs": []
    },
    {
      "cell_type": "code",
      "metadata": {
        "id": "1wVXnNm5ksiL",
        "colab_type": "code",
        "outputId": "0d8ee865-05a6-417d-d11d-de277ea157dd",
        "colab": {
          "base_uri": "https://localhost:8080/",
          "height": 34
        }
      },
      "source": [
        "X.shape, y.shape"
      ],
      "execution_count": 0,
      "outputs": [
        {
          "output_type": "execute_result",
          "data": {
            "text/plain": [
              "((43824, 11), (43824, 1))"
            ]
          },
          "metadata": {
            "tags": []
          },
          "execution_count": 195
        }
      ]
    },
    {
      "cell_type": "markdown",
      "metadata": {
        "id": "VYO8-g3eR_I5",
        "colab_type": "text"
      },
      "source": [
        "Split training and testing set with ratio 70%-30%"
      ]
    },
    {
      "cell_type": "code",
      "metadata": {
        "id": "nEKLubroSN57",
        "colab_type": "code",
        "colab": {}
      },
      "source": [
        "from sklearn.model_selection import train_test_split \n",
        "\n",
        "X_train, X_test, y_train, y_test = train_test_split(X, y, test_size=0.3, random_state=50)"
      ],
      "execution_count": 0,
      "outputs": []
    },
    {
      "cell_type": "markdown",
      "metadata": {
        "id": "bMwCrT4EyPJR",
        "colab_type": "text"
      },
      "source": [
        "#2- Perform linear and non-linear regression"
      ]
    },
    {
      "cell_type": "markdown",
      "metadata": {
        "id": "VtY2KoHjfZm7",
        "colab_type": "text"
      },
      "source": [
        "#Multiple Linear Regression Model"
      ]
    },
    {
      "cell_type": "code",
      "metadata": {
        "id": "I6iKyP3Den9x",
        "colab_type": "code",
        "outputId": "fbf322ca-022f-4040-a9ee-4ccbb8b66a8a",
        "colab": {
          "base_uri": "https://localhost:8080/",
          "height": 265
        }
      },
      "source": [
        "# Plot the data against label\n",
        "plt.scatter(X[:,0], y,  color='gray')\n",
        "plt.show()"
      ],
      "execution_count": 0,
      "outputs": [
        {
          "output_type": "display_data",
          "data": {
            "image/png": "[encoded data removed]",
            "text/plain": [
              "<Figure size 432x288 with 1 Axes>"
            ]
          },
          "metadata": {
            "tags": []
          }
        }
      ]
    },
    {
      "cell_type": "code",
      "metadata": {
        "id": "T-c8fBK52VDL",
        "colab_type": "code",
        "colab": {}
      },
      "source": [
        "# Build the model\n",
        "from sklearn import linear_model \n",
        "lin_model = linear_model.LinearRegression()\n",
        "t0 = time.time()\n",
        "lin_model.fit(X_train,y_train)\n",
        "t1 = time.time()"
      ],
      "execution_count": 0,
      "outputs": []
    },
    {
      "cell_type": "code",
      "metadata": {
        "id": "60-J70BICOQX",
        "colab_type": "code",
        "outputId": "463a8d60-e638-4203-c6d3-37cb037c11f6",
        "colab": {
          "base_uri": "https://localhost:8080/",
          "height": 34
        }
      },
      "source": [
        "#See the training time\n",
        "t_ln = t1-t0\n",
        "print(\"Training took {:.2f}s\".format(t_ln))"
      ],
      "execution_count": 0,
      "outputs": [
        {
          "output_type": "stream",
          "text": [
            "Training took 0.01s\n"
          ],
          "name": "stdout"
        }
      ]
    },
    {
      "cell_type": "code",
      "metadata": {
        "id": "XcqWioF226cM",
        "colab_type": "code",
        "outputId": "636ab792-4505-4157-ca78-0edf51605552",
        "colab": {
          "base_uri": "https://localhost:8080/",
          "height": 136
        }
      },
      "source": [
        "# Get the number of predictions\n",
        "y_pred = lin_model.predict(X_test)\n",
        "y_pred"
      ],
      "execution_count": 0,
      "outputs": [
        {
          "output_type": "execute_result",
          "data": {
            "text/plain": [
              "array([[-2.64375084],\n",
              "       [-2.1160481 ],\n",
              "       [-2.24413361],\n",
              "       ...,\n",
              "       [-2.65463325],\n",
              "       [-2.98747034],\n",
              "       [-2.08188262]])"
            ]
          },
          "metadata": {
            "tags": []
          },
          "execution_count": 200
        }
      ]
    },
    {
      "cell_type": "code",
      "metadata": {
        "id": "uar6HqjY3Mpu",
        "colab_type": "code",
        "outputId": "c1671e02-d4d4-4639-935c-caac4c155b81",
        "colab": {
          "base_uri": "https://localhost:8080/",
          "height": 204
        }
      },
      "source": [
        "# See the coefficients for the predictors\n",
        "lin_model.coef_.reshape(-1,1)"
      ],
      "execution_count": 0,
      "outputs": [
        {
          "output_type": "execute_result",
          "data": {
            "text/plain": [
              "array([[-37.9603234 ],\n",
              "       [-18.59679856],\n",
              "       [  9.69124585],\n",
              "       [ 18.82430103],\n",
              "       [ 56.97254765],\n",
              "       [-82.87281867],\n",
              "       [-44.19807963],\n",
              "       [138.3417938 ],\n",
              "       [ -6.1209844 ],\n",
              "       [-29.92298567],\n",
              "       [-85.32189315]])"
            ]
          },
          "metadata": {
            "tags": []
          },
          "execution_count": 201
        }
      ]
    },
    {
      "cell_type": "code",
      "metadata": {
        "id": "ufexIfHLY8iL",
        "colab_type": "code",
        "colab": {}
      },
      "source": [
        "data_no_pm = data.drop('pm2.5', axis=1) # for ploting this section only"
      ],
      "execution_count": 0,
      "outputs": []
    },
    {
      "cell_type": "code",
      "metadata": {
        "id": "PuxEVG8-LoJh",
        "colab_type": "code",
        "outputId": "699e91dc-736c-46de-b60f-c9d2b31476eb",
        "colab": {
          "base_uri": "https://localhost:8080/",
          "height": 390
        }
      },
      "source": [
        "coef_table = pd.DataFrame(lin_model.coef_.reshape(-1,1), data_no_pm.columns, columns=['Coefficient'])  \n",
        "coef_table"
      ],
      "execution_count": 0,
      "outputs": [
        {
          "output_type": "execute_result",
          "data": {
            "text/html": [
              "<div>\n",
              "<style scoped>\n",
              "    .dataframe tbody tr th:only-of-type {\n",
              "        vertical-align: middle;\n",
              "    }\n",
              "\n",
              "    .dataframe tbody tr th {\n",
              "        vertical-align: top;\n",
              "    }\n",
              "\n",
              "    .dataframe thead th {\n",
              "        text-align: right;\n",
              "    }\n",
              "</style>\n",
              "<table border=\"1\" class=\"dataframe\">\n",
              "  <thead>\n",
              "    <tr style=\"text-align: right;\">\n",
              "      <th></th>\n",
              "      <th>Coefficient</th>\n",
              "    </tr>\n",
              "  </thead>\n",
              "  <tbody>\n",
              "    <tr>\n",
              "      <th>year</th>\n",
              "      <td>-37.960323</td>\n",
              "    </tr>\n",
              "    <tr>\n",
              "      <th>month</th>\n",
              "      <td>-18.596799</td>\n",
              "    </tr>\n",
              "    <tr>\n",
              "      <th>day</th>\n",
              "      <td>9.691246</td>\n",
              "    </tr>\n",
              "    <tr>\n",
              "      <th>hour</th>\n",
              "      <td>18.824301</td>\n",
              "    </tr>\n",
              "    <tr>\n",
              "      <th>DEWP</th>\n",
              "      <td>56.972548</td>\n",
              "    </tr>\n",
              "    <tr>\n",
              "      <th>TEMP</th>\n",
              "      <td>-82.872819</td>\n",
              "    </tr>\n",
              "    <tr>\n",
              "      <th>PRES</th>\n",
              "      <td>-44.198080</td>\n",
              "    </tr>\n",
              "    <tr>\n",
              "      <th>cbwd</th>\n",
              "      <td>138.341794</td>\n",
              "    </tr>\n",
              "    <tr>\n",
              "      <th>Iws</th>\n",
              "      <td>-6.120984</td>\n",
              "    </tr>\n",
              "    <tr>\n",
              "      <th>Is</th>\n",
              "      <td>-29.922986</td>\n",
              "    </tr>\n",
              "    <tr>\n",
              "      <th>Ir</th>\n",
              "      <td>-85.321893</td>\n",
              "    </tr>\n",
              "  </tbody>\n",
              "</table>\n",
              "</div>"
            ],
            "text/plain": [
              "       Coefficient\n",
              "year    -37.960323\n",
              "month   -18.596799\n",
              "day       9.691246\n",
              "hour     18.824301\n",
              "DEWP     56.972548\n",
              "TEMP    -82.872819\n",
              "PRES    -44.198080\n",
              "cbwd    138.341794\n",
              "Iws      -6.120984\n",
              "Is      -29.922986\n",
              "Ir      -85.321893"
            ]
          },
          "metadata": {
            "tags": []
          },
          "execution_count": 203
        }
      ]
    },
    {
      "cell_type": "code",
      "metadata": {
        "id": "pptaBRoE3g9g",
        "colab_type": "code",
        "outputId": "86ca6ef5-1f96-4723-82b3-1bf877859453",
        "colab": {
          "base_uri": "https://localhost:8080/",
          "height": 34
        }
      },
      "source": [
        "# See the intercept\n",
        "lin_model.intercept_"
      ],
      "execution_count": 0,
      "outputs": [
        {
          "output_type": "execute_result",
          "data": {
            "text/plain": [
              "array([51.65656283])"
            ]
          },
          "metadata": {
            "tags": []
          },
          "execution_count": 204
        }
      ]
    },
    {
      "cell_type": "code",
      "metadata": {
        "id": "X6F4ugpY6OgE",
        "colab_type": "code",
        "outputId": "54143151-b0b4-44d4-bcea-0fcb4ca2cb79",
        "colab": {
          "base_uri": "https://localhost:8080/",
          "height": 419
        }
      },
      "source": [
        "# See the table of Actual vs Predicted\n",
        "pred_table = pd.DataFrame({'Actual': y_test.flatten(), 'Predicted': y_pred.flatten()})\n",
        "pred_table"
      ],
      "execution_count": 0,
      "outputs": [
        {
          "output_type": "execute_result",
          "data": {
            "text/html": [
              "<div>\n",
              "<style scoped>\n",
              "    .dataframe tbody tr th:only-of-type {\n",
              "        vertical-align: middle;\n",
              "    }\n",
              "\n",
              "    .dataframe tbody tr th {\n",
              "        vertical-align: top;\n",
              "    }\n",
              "\n",
              "    .dataframe thead th {\n",
              "        text-align: right;\n",
              "    }\n",
              "</style>\n",
              "<table border=\"1\" class=\"dataframe\">\n",
              "  <thead>\n",
              "    <tr style=\"text-align: right;\">\n",
              "      <th></th>\n",
              "      <th>Actual</th>\n",
              "      <th>Predicted</th>\n",
              "    </tr>\n",
              "  </thead>\n",
              "  <tbody>\n",
              "    <tr>\n",
              "      <th>0</th>\n",
              "      <td>-2.927565</td>\n",
              "      <td>-2.643751</td>\n",
              "    </tr>\n",
              "    <tr>\n",
              "      <th>1</th>\n",
              "      <td>-2.456740</td>\n",
              "      <td>-2.116048</td>\n",
              "    </tr>\n",
              "    <tr>\n",
              "      <th>2</th>\n",
              "      <td>-2.613682</td>\n",
              "      <td>-2.244134</td>\n",
              "    </tr>\n",
              "    <tr>\n",
              "      <th>3</th>\n",
              "      <td>-1.672032</td>\n",
              "      <td>-1.890574</td>\n",
              "    </tr>\n",
              "    <tr>\n",
              "      <th>4</th>\n",
              "      <td>-2.855131</td>\n",
              "      <td>-2.486595</td>\n",
              "    </tr>\n",
              "    <tr>\n",
              "      <th>...</th>\n",
              "      <td>...</td>\n",
              "      <td>...</td>\n",
              "    </tr>\n",
              "    <tr>\n",
              "      <th>13143</th>\n",
              "      <td>-2.939638</td>\n",
              "      <td>-2.550633</td>\n",
              "    </tr>\n",
              "    <tr>\n",
              "      <th>13144</th>\n",
              "      <td>-2.927565</td>\n",
              "      <td>-2.807703</td>\n",
              "    </tr>\n",
              "    <tr>\n",
              "      <th>13145</th>\n",
              "      <td>-2.843058</td>\n",
              "      <td>-2.654633</td>\n",
              "    </tr>\n",
              "    <tr>\n",
              "      <th>13146</th>\n",
              "      <td>-2.722334</td>\n",
              "      <td>-2.987470</td>\n",
              "    </tr>\n",
              "    <tr>\n",
              "      <th>13147</th>\n",
              "      <td>-1.008048</td>\n",
              "      <td>-2.081883</td>\n",
              "    </tr>\n",
              "  </tbody>\n",
              "</table>\n",
              "<p>13148 rows × 2 columns</p>\n",
              "</div>"
            ],
            "text/plain": [
              "         Actual  Predicted\n",
              "0     -2.927565  -2.643751\n",
              "1     -2.456740  -2.116048\n",
              "2     -2.613682  -2.244134\n",
              "3     -1.672032  -1.890574\n",
              "4     -2.855131  -2.486595\n",
              "...         ...        ...\n",
              "13143 -2.939638  -2.550633\n",
              "13144 -2.927565  -2.807703\n",
              "13145 -2.843058  -2.654633\n",
              "13146 -2.722334  -2.987470\n",
              "13147 -1.008048  -2.081883\n",
              "\n",
              "[13148 rows x 2 columns]"
            ]
          },
          "metadata": {
            "tags": []
          },
          "execution_count": 205
        }
      ]
    },
    {
      "cell_type": "code",
      "metadata": {
        "id": "ceqgXYI2buoX",
        "colab_type": "code",
        "outputId": "e1d279c1-188f-4d92-8115-525467e60c1a",
        "colab": {
          "base_uri": "https://localhost:8080/",
          "height": 34
        }
      },
      "source": [
        "# See the accuracy\n",
        "ln_acc = lin_model.score(X, y)\n",
        "ln_acc"
      ],
      "execution_count": 0,
      "outputs": [
        {
          "output_type": "execute_result",
          "data": {
            "text/plain": [
              "0.26088396480731224"
            ]
          },
          "metadata": {
            "tags": []
          },
          "execution_count": 206
        }
      ]
    },
    {
      "cell_type": "code",
      "metadata": {
        "id": "bx5gnl4sG69V",
        "colab_type": "code",
        "outputId": "b5491fab-99c6-43d8-c816-b5d09e8e05a5",
        "colab": {
          "base_uri": "https://localhost:8080/",
          "height": 265
        }
      },
      "source": [
        "# Plot the model line\n",
        "plt.scatter(X_test[:,0], y_test,  color='gray')\n",
        "plt.plot(X_test[:,0], y_pred, color='red', linewidth=2)\n",
        "plt.show()"
      ],
      "execution_count": 0,
      "outputs": [
        {
          "output_type": "display_data",
          "data": {
            "image/png": "[encoded data removed]",
            "text/plain": [
              "<Figure size 432x288 with 1 Axes>"
            ]
          },
          "metadata": {
            "tags": []
          }
        }
      ]
    },
    {
      "cell_type": "markdown",
      "metadata": {
        "id": "nh-7jMO-aOEI",
        "colab_type": "text"
      },
      "source": [
        "Finding the values for MAE, MSE, and RMSE"
      ]
    },
    {
      "cell_type": "code",
      "metadata": {
        "id": "oli63UBTaKfm",
        "colab_type": "code",
        "outputId": "1f6b070f-044c-4809-cf5b-3216df9a005b",
        "colab": {
          "base_uri": "https://localhost:8080/",
          "height": 68
        }
      },
      "source": [
        "print('Mean Absolute Error:', metrics.mean_absolute_error(y_test, y_pred))  \n",
        "print('Mean Squared Error:', metrics.mean_squared_error(y_test, y_pred))  \n",
        "print('Root Mean Squared Error:', np.sqrt(metrics.mean_squared_error(y_test, y_pred)))"
      ],
      "execution_count": 0,
      "outputs": [
        {
          "output_type": "stream",
          "text": [
            "Mean Absolute Error: 0.3354201636639659\n",
            "Mean Squared Error: 0.21384182055598108\n",
            "Root Mean Squared Error: 0.4624303413012398\n"
          ],
          "name": "stdout"
        }
      ]
    },
    {
      "cell_type": "markdown",
      "metadata": {
        "id": "Y9grSYIQnF1B",
        "colab_type": "text"
      },
      "source": [
        "#Polynomial Regression"
      ]
    },
    {
      "cell_type": "code",
      "metadata": {
        "id": "z3QgvTW6nFSD",
        "colab_type": "code",
        "outputId": "eaf24893-4eed-4ef3-cce4-3da54bc77ebf",
        "colab": {
          "base_uri": "https://localhost:8080/",
          "height": 265
        }
      },
      "source": [
        "# Plot the data against label\n",
        "plt.scatter(X[:,0], y,  color='gray')\n",
        "plt.show()"
      ],
      "execution_count": 0,
      "outputs": [
        {
          "output_type": "display_data",
          "data": {
            "image/png": "[encoded data removed]",
            "text/plain": [
              "<Figure size 432x288 with 1 Axes>"
            ]
          },
          "metadata": {
            "tags": []
          }
        }
      ]
    },
    {
      "cell_type": "code",
      "metadata": {
        "id": "f1J5ivEluvb8",
        "colab_type": "code",
        "colab": {}
      },
      "source": [
        "# Build the model\n",
        "from sklearn.preprocessing import PolynomialFeatures\n",
        "poly = PolynomialFeatures(degree=4)"
      ],
      "execution_count": 0,
      "outputs": []
    },
    {
      "cell_type": "code",
      "metadata": {
        "id": "dtsN_TuMw33Z",
        "colab_type": "code",
        "colab": {}
      },
      "source": [
        "# Transform dataset into polynomial version\n",
        "X_train_poly = poly.fit_transform(X_train)\n",
        "X_test_poly = poly.fit_transform(X_test)\n",
        "y_train_poly = poly.fit_transform(y_train)\n",
        "y_test_poly = poly.fit_transform(y_test)"
      ],
      "execution_count": 0,
      "outputs": []
    },
    {
      "cell_type": "code",
      "metadata": {
        "id": "ASY0fv5AxJfo",
        "colab_type": "code",
        "colab": {}
      },
      "source": [
        "# Create another linear model to feed the data above\n",
        "poly_model = linear_model.LinearRegression()\n",
        "t0 = time.time()\n",
        "poly_model.fit(X_train_poly, y_train_poly)\n",
        "t1 = time.time()"
      ],
      "execution_count": 0,
      "outputs": []
    },
    {
      "cell_type": "code",
      "metadata": {
        "id": "mXVcfv3eDipj",
        "colab_type": "code",
        "outputId": "7a13276b-0151-4230-cbad-c9efa56a1376",
        "colab": {
          "base_uri": "https://localhost:8080/",
          "height": 34
        }
      },
      "source": [
        "#See the training time\n",
        "t_poly = t1-t0\n",
        "print(\"Training took {:.2f}s\".format(t_poly))"
      ],
      "execution_count": 0,
      "outputs": [
        {
          "output_type": "stream",
          "text": [
            "Training took 3.25s\n"
          ],
          "name": "stdout"
        }
      ]
    },
    {
      "cell_type": "code",
      "metadata": {
        "id": "tZhT18pvvhGv",
        "colab_type": "code",
        "outputId": "8799ca74-4c14-4aca-b9d5-b660f5aed5b9",
        "colab": {
          "base_uri": "https://localhost:8080/",
          "height": 238
        }
      },
      "source": [
        "# Get the number of predictions\n",
        "y_pred_poly = poly_model.predict(X_test_poly)\n",
        "y_pred_poly"
      ],
      "execution_count": 0,
      "outputs": [
        {
          "output_type": "execute_result",
          "data": {
            "text/plain": [
              "array([[  1.        ,  -2.92382812,   8.625     , -25.34375   ,\n",
              "         72.3125    ],\n",
              "       [  1.        ,  -2.4140625 ,   6.08203125, -15.5       ,\n",
              "         40.25      ],\n",
              "       [  1.        ,  -2.06835938,   4.828125  , -11.25      ,\n",
              "         28.        ],\n",
              "       ...,\n",
              "       [  1.        ,  -2.48242188,   6.3515625 , -16.75      ,\n",
              "         44.375     ],\n",
              "       [  1.        ,  -2.83789062,   8.328125  , -24.34375   ,\n",
              "         69.125     ],\n",
              "       [  1.        ,  -1.28710938,   2.01953125,  -2.9375    ,\n",
              "          3.5       ]])"
            ]
          },
          "metadata": {
            "tags": []
          },
          "execution_count": 214
        }
      ]
    },
    {
      "cell_type": "code",
      "metadata": {
        "id": "a13GyrlAx4Bf",
        "colab_type": "code",
        "colab": {}
      },
      "source": [
        ""
      ],
      "execution_count": 0,
      "outputs": []
    },
    {
      "cell_type": "code",
      "metadata": {
        "colab_type": "code",
        "id": "eHCah3BeyVSo",
        "outputId": "012c5adf-48b7-47b2-b6e2-132647dd3cd5",
        "colab": {
          "base_uri": "https://localhost:8080/",
          "height": 187
        }
      },
      "source": [
        "# See the coefficients for the predictors\n",
        "poly_model.coef_"
      ],
      "execution_count": 0,
      "outputs": [
        {
          "output_type": "execute_result",
          "data": {
            "text/plain": [
              "array([[ 0.00000000e+00,  0.00000000e+00,  0.00000000e+00, ...,\n",
              "         0.00000000e+00,  0.00000000e+00,  0.00000000e+00],\n",
              "       [ 2.18675441e+08,  5.34881293e+12, -8.14422214e+11, ...,\n",
              "         0.00000000e+00,  0.00000000e+00,  1.90745236e+12],\n",
              "       [ 8.90392740e+08, -1.01458522e+13,  2.68052788e+12, ...,\n",
              "         0.00000000e+00,  0.00000000e+00, -3.41905082e+12],\n",
              "       [ 7.46958528e+09,  6.15766837e+13, -8.26861461e+12, ...,\n",
              "         0.00000000e+00,  0.00000000e+00,  2.40898695e+13],\n",
              "       [-1.15482720e+10, -9.72585244e+13,  2.37761566e+13, ...,\n",
              "         0.00000000e+00,  0.00000000e+00, -4.02339922e+13]])"
            ]
          },
          "metadata": {
            "tags": []
          },
          "execution_count": 215
        }
      ]
    },
    {
      "cell_type": "code",
      "metadata": {
        "colab_type": "code",
        "id": "ZUua0rIKyVUy",
        "outputId": "1e01ec4c-6dd3-45ef-d4da-992ec8f4d120",
        "colab": {
          "base_uri": "https://localhost:8080/",
          "height": 51
        }
      },
      "source": [
        "# See the intercept\n",
        "poly_model.intercept_"
      ],
      "execution_count": 0,
      "outputs": [
        {
          "output_type": "execute_result",
          "data": {
            "text/plain": [
              "array([ 1.00000000e+00, -1.63798757e+13,  2.90847510e+13, -2.04022513e+14,\n",
              "        3.35317679e+14])"
            ]
          },
          "metadata": {
            "tags": []
          },
          "execution_count": 216
        }
      ]
    },
    {
      "cell_type": "code",
      "metadata": {
        "colab_type": "code",
        "id": "ES4dxRICyVVI",
        "outputId": "9621c8e5-a186-400f-a751-0dd69c03b2b7",
        "colab": {
          "base_uri": "https://localhost:8080/",
          "height": 419
        }
      },
      "source": [
        "# See the table of Actual vs Predicted\n",
        "pred_poly_table = pd.DataFrame({'Actual': y_test_poly.flatten(), 'Predicted': y_pred_poly.flatten()})\n",
        "pred_poly_table"
      ],
      "execution_count": 0,
      "outputs": [
        {
          "output_type": "execute_result",
          "data": {
            "text/html": [
              "<div>\n",
              "<style scoped>\n",
              "    .dataframe tbody tr th:only-of-type {\n",
              "        vertical-align: middle;\n",
              "    }\n",
              "\n",
              "    .dataframe tbody tr th {\n",
              "        vertical-align: top;\n",
              "    }\n",
              "\n",
              "    .dataframe thead th {\n",
              "        text-align: right;\n",
              "    }\n",
              "</style>\n",
              "<table border=\"1\" class=\"dataframe\">\n",
              "  <thead>\n",
              "    <tr style=\"text-align: right;\">\n",
              "      <th></th>\n",
              "      <th>Actual</th>\n",
              "      <th>Predicted</th>\n",
              "    </tr>\n",
              "  </thead>\n",
              "  <tbody>\n",
              "    <tr>\n",
              "      <th>0</th>\n",
              "      <td>1.000000</td>\n",
              "      <td>1.000000</td>\n",
              "    </tr>\n",
              "    <tr>\n",
              "      <th>1</th>\n",
              "      <td>-2.927565</td>\n",
              "      <td>-2.923828</td>\n",
              "    </tr>\n",
              "    <tr>\n",
              "      <th>2</th>\n",
              "      <td>8.570639</td>\n",
              "      <td>8.625000</td>\n",
              "    </tr>\n",
              "    <tr>\n",
              "      <th>3</th>\n",
              "      <td>-25.091106</td>\n",
              "      <td>-25.343750</td>\n",
              "    </tr>\n",
              "    <tr>\n",
              "      <th>4</th>\n",
              "      <td>73.455855</td>\n",
              "      <td>72.312500</td>\n",
              "    </tr>\n",
              "    <tr>\n",
              "      <th>...</th>\n",
              "      <td>...</td>\n",
              "      <td>...</td>\n",
              "    </tr>\n",
              "    <tr>\n",
              "      <th>65735</th>\n",
              "      <td>1.000000</td>\n",
              "      <td>1.000000</td>\n",
              "    </tr>\n",
              "    <tr>\n",
              "      <th>65736</th>\n",
              "      <td>-1.008048</td>\n",
              "      <td>-1.287109</td>\n",
              "    </tr>\n",
              "    <tr>\n",
              "      <th>65737</th>\n",
              "      <td>1.016161</td>\n",
              "      <td>2.019531</td>\n",
              "    </tr>\n",
              "    <tr>\n",
              "      <th>65738</th>\n",
              "      <td>-1.024340</td>\n",
              "      <td>-2.937500</td>\n",
              "    </tr>\n",
              "    <tr>\n",
              "      <th>65739</th>\n",
              "      <td>1.032584</td>\n",
              "      <td>3.500000</td>\n",
              "    </tr>\n",
              "  </tbody>\n",
              "</table>\n",
              "<p>65740 rows × 2 columns</p>\n",
              "</div>"
            ],
            "text/plain": [
              "          Actual  Predicted\n",
              "0       1.000000   1.000000\n",
              "1      -2.927565  -2.923828\n",
              "2       8.570639   8.625000\n",
              "3     -25.091106 -25.343750\n",
              "4      73.455855  72.312500\n",
              "...          ...        ...\n",
              "65735   1.000000   1.000000\n",
              "65736  -1.008048  -1.287109\n",
              "65737   1.016161   2.019531\n",
              "65738  -1.024340  -2.937500\n",
              "65739   1.032584   3.500000\n",
              "\n",
              "[65740 rows x 2 columns]"
            ]
          },
          "metadata": {
            "tags": []
          },
          "execution_count": 217
        }
      ]
    },
    {
      "cell_type": "code",
      "metadata": {
        "colab_type": "code",
        "id": "BRQkLGYpyVVg",
        "outputId": "3bbd59ee-1c38-4912-ca03-2e796bea38eb",
        "colab": {
          "base_uri": "https://localhost:8080/",
          "height": 88
        }
      },
      "source": [
        "# See the accuracy\n",
        "poly5_acc = poly_model.score(X_train_poly, y_train_poly)\n",
        "poly5_acc"
      ],
      "execution_count": 0,
      "outputs": [
        {
          "output_type": "stream",
          "text": [
            "/usr/local/lib/python3.6/dist-packages/sklearn/base.py:434: FutureWarning: The default value of multioutput (not exposed in score method) will change from 'variance_weighted' to 'uniform_average' in 0.23 to keep consistent with 'metrics.r2_score'. To specify the default value manually and avoid the warning, please either call 'metrics.r2_score' directly or make a custom scorer with 'metrics.make_scorer' (the built-in scorer 'r2' uses multioutput='uniform_average').\n",
            "  \"multioutput='uniform_average').\", FutureWarning)\n"
          ],
          "name": "stderr"
        },
        {
          "output_type": "execute_result",
          "data": {
            "text/plain": [
              "0.6439592665938529"
            ]
          },
          "metadata": {
            "tags": []
          },
          "execution_count": 218
        }
      ]
    },
    {
      "cell_type": "code",
      "metadata": {
        "id": "-8KVqohQU2G8",
        "colab_type": "code",
        "outputId": "7056ef55-7dd2-40d6-f77e-debcf834ff88",
        "colab": {
          "base_uri": "https://localhost:8080/",
          "height": 265
        }
      },
      "source": [
        "# Plot the model line\n",
        "import operator\n",
        "plt.scatter(X_test[:,0], y_test, s=10)\n",
        "sort_axis = operator.itemgetter(0)\n",
        "sorted_zip = sorted(zip(X_test[:,0],y_pred_poly), key=sort_axis)\n",
        "X_test[:,0], y_pred_poly = zip(*sorted_zip)\n",
        "plt.plot(X_test[:,0], y_pred_poly, color='r')\n",
        "plt.show()"
      ],
      "execution_count": 0,
      "outputs": [
        {
          "output_type": "display_data",
          "data": {
            "image/png": "[encoded data removed]",
            "text/plain": [
              "<Figure size 432x288 with 1 Axes>"
            ]
          },
          "metadata": {
            "tags": []
          }
        }
      ]
    },
    {
      "cell_type": "markdown",
      "metadata": {
        "colab_type": "text",
        "id": "PivucmgcyVWr"
      },
      "source": [
        "Finding the values for MAE, MSE, and RMSE"
      ]
    },
    {
      "cell_type": "code",
      "metadata": {
        "colab_type": "code",
        "id": "LEHu5qljyVWy",
        "outputId": "db0555f6-f9f6-4f57-bd4c-4fd4efcd26f9",
        "colab": {
          "base_uri": "https://localhost:8080/",
          "height": 68
        }
      },
      "source": [
        "print('Mean Absolute Error:', metrics.mean_absolute_error(y_test_poly, y_pred_poly))  \n",
        "print('Mean Squared Error:', metrics.mean_squared_error(y_test_poly, y_pred_poly))  \n",
        "print('Root Mean Squared Error:', np.sqrt(metrics.mean_squared_error(y_test_poly, y_pred_poly)))"
      ],
      "execution_count": 0,
      "outputs": [
        {
          "output_type": "stream",
          "text": [
            "Mean Absolute Error: 7.279690954177648\n",
            "Mean Squared Error: 964.5531784923023\n",
            "Root Mean Squared Error: 31.05725645468869\n"
          ],
          "name": "stdout"
        }
      ]
    },
    {
      "cell_type": "markdown",
      "metadata": {
        "colab_type": "text",
        "id": "yuXLWnWyyVXT"
      },
      "source": [
        "#3- Evaluate the performance of  each model using k-fold cross validation"
      ]
    },
    {
      "cell_type": "markdown",
      "metadata": {
        "id": "_UV7z68ecMmV",
        "colab_type": "text"
      },
      "source": [
        "Multiple Linear Regression Model"
      ]
    },
    {
      "cell_type": "code",
      "metadata": {
        "id": "qSQyciW-T4Ko",
        "colab_type": "code",
        "outputId": "7363f225-60b4-4384-b8bf-3b14f8919452",
        "colab": {
          "base_uri": "https://localhost:8080/",
          "height": 34
        }
      },
      "source": [
        "# Check the accuracy with k=5 folds\n",
        "from sklearn.model_selection import cross_val_score\n",
        "\n",
        "val_score1 = cross_val_score(lin_model, X_train, y_train, cv=5)\n",
        "val_score1"
      ],
      "execution_count": 0,
      "outputs": [
        {
          "output_type": "execute_result",
          "data": {
            "text/plain": [
              "array([0.25767765, 0.24949358, 0.26215772, 0.25141255, 0.26333407])"
            ]
          },
          "metadata": {
            "tags": []
          },
          "execution_count": 221
        }
      ]
    },
    {
      "cell_type": "markdown",
      "metadata": {
        "id": "xfzoAzu6v91d",
        "colab_type": "text"
      },
      "source": [
        "The confusion matrix is not supported for this dataset. Confustion Matrix is used to tell you how many predictions were classified correctly or incorrectly. And here, we are looking at a regression model, which gives you a continous output (not classification)."
      ]
    },
    {
      "cell_type": "markdown",
      "metadata": {
        "id": "yv5XMBIbwsaU",
        "colab_type": "text"
      },
      "source": [
        "Polynomial Regression Model"
      ]
    },
    {
      "cell_type": "code",
      "metadata": {
        "colab_type": "code",
        "id": "rXzwKEBow3hR",
        "outputId": "482358cd-ded9-4108-cd35-5c6950a5eb23",
        "colab": {
          "base_uri": "https://localhost:8080/",
          "height": 34
        }
      },
      "source": [
        "# Check the accuracy with k=5 folds\n",
        "from sklearn.model_selection import cross_val_score\n",
        "\n",
        "val_score2 = cross_val_score(poly_model, X_train, y_train, cv=5)\n",
        "val_score2"
      ],
      "execution_count": 0,
      "outputs": [
        {
          "output_type": "execute_result",
          "data": {
            "text/plain": [
              "array([0.25767765, 0.24949358, 0.26215772, 0.25141255, 0.26333407])"
            ]
          },
          "metadata": {
            "tags": []
          },
          "execution_count": 222
        }
      ]
    },
    {
      "cell_type": "markdown",
      "metadata": {
        "id": "-cWb0RxGyp1o",
        "colab_type": "text"
      },
      "source": [
        "Again, the confusion matrix is not supported for the continous output."
      ]
    },
    {
      "cell_type": "markdown",
      "metadata": {
        "id": "qRPf-z3Ay3FE",
        "colab_type": "text"
      },
      "source": [
        "#4- Plot and compare learning curves for all models "
      ]
    },
    {
      "cell_type": "markdown",
      "metadata": {
        "id": "dXfAK-GW3cXJ",
        "colab_type": "text"
      },
      "source": [
        "Multiple Linear Regression Model vs CV"
      ]
    },
    {
      "cell_type": "code",
      "metadata": {
        "id": "3fY3DGB7F0Cg",
        "colab_type": "code",
        "colab": {}
      },
      "source": [
        "from sklearn.metrics import mean_squared_error\n",
        "from math import sqrt\n",
        "\n",
        "#\n",
        "def plot_learning_curves(model, X, y):\n",
        "    X_train, X_val, y_train, y_val = train_test_split(X, y, test_size=0.3, random_state=50)\n",
        "    train_errors, val_errors = [], []\n",
        "    for m in range(1, len(X_train)):\n",
        "        model.fit(X_train[:m], y_train[:m])\n",
        "        y_train_predict = model.predict(X_train[:m])\n",
        "        y_val_predict = model.predict(X_val)\n",
        "        train_errors.append(mean_squared_error(y_train[:m], y_train_predict))\n",
        "        val_errors.append(mean_squared_error(y_val, y_val_predict))\n",
        "\n",
        "    plt.plot(np.sqrt(train_errors), \"r-+\", linewidth=2, label=\"train score\")\n",
        "    plt.plot(np.sqrt(val_errors), \"b-\", linewidth=3, label=\"validation score\")\n",
        "    plt.legend(loc=\"upper right\", fontsize=14)   \n",
        "    plt.xlabel(\"Training set size\", fontsize=14) \n",
        "    plt.ylabel(\"RMSE\", fontsize=14)              "
      ],
      "execution_count": 0,
      "outputs": []
    },
    {
      "cell_type": "code",
      "metadata": {
        "id": "QLfwBiNXG1KY",
        "colab_type": "code",
        "outputId": "b4da340d-ae3e-4aa0-de76-1e45839531d8",
        "colab": {
          "base_uri": "https://localhost:8080/",
          "height": 287
        }
      },
      "source": [
        "plot_learning_curves(lin_model, X, y)\n",
        "plt.axis([0, 80, 0, 3])                         \n",
        "plt.show()                                  "
      ],
      "execution_count": 0,
      "outputs": [
        {
          "output_type": "display_data",
          "data": {
            "image/png": "[encoded data removed]",
            "text/plain": [
              "<Figure size 432x288 with 1 Axes>"
            ]
          },
          "metadata": {
            "tags": []
          }
        }
      ]
    },
    {
      "cell_type": "markdown",
      "metadata": {
        "id": "vOmfxo_LHiiD",
        "colab_type": "text"
      },
      "source": [
        "Multiple Linear Regression Model vs CV"
      ]
    },
    {
      "cell_type": "code",
      "metadata": {
        "id": "Iy0u0bvZHqo6",
        "colab_type": "code",
        "outputId": "72a387cb-936d-4cf7-ac81-b8f26e726d96",
        "colab": {
          "base_uri": "https://localhost:8080/",
          "height": 287
        }
      },
      "source": [
        "from sklearn.pipeline import Pipeline\n",
        "from sklearn.linear_model import LinearRegression\n",
        "\n",
        "polynomial_regression = Pipeline([\n",
        "        (\"poly_features\", PolynomialFeatures(degree=5, include_bias=False)),\n",
        "        (\"lin_reg\", LinearRegression()),\n",
        "    ])\n",
        "\n",
        "plot_learning_curves(poly_model, X, y)\n",
        "plt.axis([0, 80, 0, 3])            \n",
        "plt.show()                        "
      ],
      "execution_count": 0,
      "outputs": [
        {
          "output_type": "display_data",
          "data": {
            "image/png": "[encoded data removed]",
            "text/plain": [
              "<Figure size 432x288 with 1 Axes>"
            ]
          },
          "metadata": {
            "tags": []
          }
        }
      ]
    },
    {
      "cell_type": "markdown",
      "metadata": {
        "id": "h-sveyqoI6nc",
        "colab_type": "text"
      },
      "source": [
        "#5- Conclusion"
      ]
    },
    {
      "cell_type": "markdown",
      "metadata": {
        "id": "YIhtKGitJChM",
        "colab_type": "text"
      },
      "source": [
        "In this Beijing PM2.5 dataset, many graphs were ploted at the begining to see the relationship between key feature against others, as for the data visualization. Then the normalization and scaling technique were introduced to clean the data base on those relevant features. For example, the unrelevant feature \"No\" was dropped and the feature \"cbwd\" were converted and scaled from string data value to numerical value. The feature extracing were use to create a new dataset call \"X\" (input data) and \"y\" (label). In other words, creating the new independent variable \"X\" and dependent variable \"y\".    \n",
        "After new clean data is ready, both multiple Linear Regression and Polynomial Linear Regression models were creted with the help of the Scikit-Learn machine learning library.    \n",
        "\n",
        "\n",
        "After many experiments above, the Linear Regression model is considered underfitting with the accuracy score around 26%, and the degree-4 Polynomial Linear Regression seems to be overfitting even with a not-high accuracy, about 65%. By considering it's overfitting because the fitted line behaviour were zic-zac all over those data points. Last but not least, the model Cross Validation was used to validate both models.  \n",
        "Below are the two charts of comparision training time and accuracy, between Linear and Non-Linear (degree 2 to 6) model."
      ]
    },
    {
      "cell_type": "markdown",
      "metadata": {
        "id": "fudsy34iXkxs",
        "colab_type": "text"
      },
      "source": [
        "https://github.com/seansothey/CSC685/blob/master/Pro4_barchart.PNG             \n",
        "https://github.com/seansothey/CSC685/blob/master/Pro4_NL.PNG"
      ]
    },
    {
      "cell_type": "code",
      "metadata": {
        "id": "CLwqY50Ifdgy",
        "colab_type": "code",
        "outputId": "c9bd83b3-e7e9-44f3-b549-79a0f35dc7d7",
        "colab": {
          "base_uri": "https://localhost:8080/",
          "height": 317
        }
      },
      "source": [
        "# Comparision Linear vs Non- model\n",
        "Image('Barchart.PNG', width=400, height=300)"
      ],
      "execution_count": 232,
      "outputs": [
        {
          "output_type": "execute_result",
          "data": {
            "image/png": "[encoded data removed]",
            "text/plain": [
              "<IPython.core.display.Image object>"
            ]
          },
          "metadata": {
            "tags": [],
            "image/png": {
              "width": 400,
              "height": 300
            }
          },
          "execution_count": 232
        }
      ]
    },
    {
      "cell_type": "code",
      "metadata": {
        "id": "FNwR5obxhnQa",
        "colab_type": "code",
        "outputId": "387c5f19-311d-47ca-e951-6417d1573aef",
        "colab": {
          "base_uri": "https://localhost:8080/",
          "height": 217
        }
      },
      "source": [
        "# Comparision degree of Non-Linear model\n",
        "Image('NL-Deg chart.PNG', width=400, height=200)"
      ],
      "execution_count": 233,
      "outputs": [
        {
          "output_type": "execute_result",
          "data": {
            "image/png": "[encoded data removed]",
            "text/plain": [
              "<IPython.core.display.Image object>"
            ]
          },
          "metadata": {
            "tags": [],
            "image/png": {
              "width": 400,
              "height": 200
            }
          },
          "execution_count": 233
        }
      ]
    },
    {
      "cell_type": "markdown",
      "metadata": {
        "id": "F91FzJwwSSuS",
        "colab_type": "text"
      },
      "source": [
        "Overal, the performance of Polynomial Linear Regression learning model, strongly depends on the polynomial's degree. The higher degree the higher accuracy. After many experiments, playing around with degree and train-test-split ratio, the degree-4 was chosen for the best performance for both accuracy and training time. There's no perfect world, the trade-off of increasing accuracy is slowing down the learning speed. Unfortunately, there's no theory of choosing a proper degree to have the best model beside running more experiment and see the differences; cases and conditions are basee on your own preferences.      \n",
        "But, don't worry! However, we can still determine which model perform best in this dataset, and the winner is Non-Linear model. Horray !!!   "
      ]
    }
  ]
}