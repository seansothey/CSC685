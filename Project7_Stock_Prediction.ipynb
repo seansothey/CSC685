{
  "nbformat": 4,
  "nbformat_minor": 0,
  "metadata": {
    "colab": {
      "name": "Project7_Stock_Prediction.ipynb",
      "provenance": [],
      "collapsed_sections": [],
      "authorship_tag": "ABX9TyPBVvJ6/OCPjoXP9PxXEHJZ",
      "include_colab_link": true
    },
    "kernelspec": {
      "name": "python3",
      "display_name": "Python 3"
    }
  },
  "cells": [
    {
      "cell_type": "markdown",
      "metadata": {
        "id": "view-in-github",
        "colab_type": "text"
      },
      "source": [
        "<a href=\"https://colab.research.google.com/github/seansothey/CSC685/blob/master/Project7_Stock_Prediction.ipynb\" target=\"_parent\"><img src=\"https://colab.research.google.com/assets/colab-badge.svg\" alt=\"Open In Colab\"/></a>"
      ]
    },
    {
      "cell_type": "markdown",
      "metadata": {
        "id": "aJ0DfM6ZVu8y",
        "colab_type": "text"
      },
      "source": [
        "![alt text](https://dataanalyticsedge.com/wp-content/uploads/2019/11/stocks_BSE_Nifty_Sensex__markets_bse_nse_nifty-1_1280-770x433.jpg)\n",
        "\n",
        "Predicting how the stock market will perform is one of the most difficult things to do. There are so many factors involved in the prediction – physical factors vs. physhological, rational and irrational behaviour, etc. All these aspects combine to make share prices volatile and very difficult to predict with a high degree of accuracy.\n",
        "\n",
        "Can we use machine learning as a game changer in this domain? In this project, historical stock prices data of Apple and Amazon company, from 2006 to 2017, were used for experimentation, using machine learning techniques, such as RNN, LSTM, and GRU.\n"
      ]
    },
    {
      "cell_type": "markdown",
      "metadata": {
        "id": "oIxcpnqOs7NV",
        "colab_type": "text"
      },
      "source": [
        "#Setup"
      ]
    },
    {
      "cell_type": "code",
      "metadata": {
        "id": "b6Ee4UEssJV3",
        "colab_type": "code",
        "outputId": "a1703172-152d-449a-914a-63b5ffe2d5e2",
        "colab": {
          "base_uri": "https://localhost:8080/",
          "height": 105
        }
      },
      "source": [
        "# Common Import\n",
        "import sklearn\n",
        "import pandas as pd\n",
        "import numpy as np\n",
        "\n",
        "# Algorithm libraries\n",
        "from keras.models import Sequential\n",
        "from keras.layers import Dense, Dropout, LSTM, GRU, Bidirectional\n",
        "from keras.optimizers import SGD\n",
        "\n",
        "from sklearn.preprocessing import MinMaxScaler\n",
        "from sklearn.metrics import mean_squared_error\n",
        "\n",
        "import math\n",
        "\n",
        "# Visaulization libraries\n",
        "import seaborn as sns\n",
        "%matplotlib inline\n",
        "import matplotlib.pyplot as plt\n",
        "plt.style.use(\"fivethirtyeight\")\n",
        "\n",
        "# Disable warnings\n",
        "import warnings\n",
        "warnings.filterwarnings('ignore')\n",
        "\n",
        "# sklearn version > 0.20 is required \n",
        "sklearn.__version__\n",
        "# Update sklearn -> !pip install -U scikit-learn"
      ],
      "execution_count": 1,
      "outputs": [
        {
          "output_type": "stream",
          "text": [
            "Using TensorFlow backend.\n",
            "/usr/local/lib/python3.6/dist-packages/statsmodels/tools/_testing.py:19: FutureWarning: pandas.util.testing is deprecated. Use the functions in the public API at pandas.testing instead.\n",
            "  import pandas.util.testing as tm\n"
          ],
          "name": "stderr"
        },
        {
          "output_type": "execute_result",
          "data": {
            "text/plain": [
              "'0.22.2.post1'"
            ]
          },
          "metadata": {
            "tags": []
          },
          "execution_count": 1
        }
      ]
    },
    {
      "cell_type": "markdown",
      "metadata": {
        "id": "Jd0nLQnlurxZ",
        "colab_type": "text"
      },
      "source": [
        "#Load Data"
      ]
    },
    {
      "cell_type": "code",
      "metadata": {
        "id": "4Be6vr26uqfm",
        "colab_type": "code",
        "colab": {}
      },
      "source": [
        "apple_stock = pd.read_csv('https://raw.githubusercontent.com/seansothey/CSC685/master/AAPL_2006-01-01_to_2018-01-01.csv',index_col='Date', parse_dates=[\"Date\"]) "
      ],
      "execution_count": 0,
      "outputs": []
    },
    {
      "cell_type": "code",
      "metadata": {
        "id": "d89wRAHRv2ZM",
        "colab_type": "code",
        "outputId": "672d4f16-3942-41aa-ab1d-7a9281cb2ae3",
        "colab": {
          "base_uri": "https://localhost:8080/",
          "height": 450
        }
      },
      "source": [
        "apple_stock"
      ],
      "execution_count": 3,
      "outputs": [
        {
          "output_type": "execute_result",
          "data": {
            "text/html": [
              "<div>\n",
              "<style scoped>\n",
              "    .dataframe tbody tr th:only-of-type {\n",
              "        vertical-align: middle;\n",
              "    }\n",
              "\n",
              "    .dataframe tbody tr th {\n",
              "        vertical-align: top;\n",
              "    }\n",
              "\n",
              "    .dataframe thead th {\n",
              "        text-align: right;\n",
              "    }\n",
              "</style>\n",
              "<table border=\"1\" class=\"dataframe\">\n",
              "  <thead>\n",
              "    <tr style=\"text-align: right;\">\n",
              "      <th></th>\n",
              "      <th>Open</th>\n",
              "      <th>High</th>\n",
              "      <th>Low</th>\n",
              "      <th>Close</th>\n",
              "      <th>Volume</th>\n",
              "      <th>Name</th>\n",
              "    </tr>\n",
              "    <tr>\n",
              "      <th>Date</th>\n",
              "      <th></th>\n",
              "      <th></th>\n",
              "      <th></th>\n",
              "      <th></th>\n",
              "      <th></th>\n",
              "      <th></th>\n",
              "    </tr>\n",
              "  </thead>\n",
              "  <tbody>\n",
              "    <tr>\n",
              "      <th>2006-01-03</th>\n",
              "      <td>10.34</td>\n",
              "      <td>10.68</td>\n",
              "      <td>10.32</td>\n",
              "      <td>10.68</td>\n",
              "      <td>201853036</td>\n",
              "      <td>AAPL</td>\n",
              "    </tr>\n",
              "    <tr>\n",
              "      <th>2006-01-04</th>\n",
              "      <td>10.73</td>\n",
              "      <td>10.85</td>\n",
              "      <td>10.64</td>\n",
              "      <td>10.71</td>\n",
              "      <td>155225609</td>\n",
              "      <td>AAPL</td>\n",
              "    </tr>\n",
              "    <tr>\n",
              "      <th>2006-01-05</th>\n",
              "      <td>10.69</td>\n",
              "      <td>10.70</td>\n",
              "      <td>10.54</td>\n",
              "      <td>10.63</td>\n",
              "      <td>112396081</td>\n",
              "      <td>AAPL</td>\n",
              "    </tr>\n",
              "    <tr>\n",
              "      <th>2006-01-06</th>\n",
              "      <td>10.75</td>\n",
              "      <td>10.96</td>\n",
              "      <td>10.65</td>\n",
              "      <td>10.90</td>\n",
              "      <td>176139334</td>\n",
              "      <td>AAPL</td>\n",
              "    </tr>\n",
              "    <tr>\n",
              "      <th>2006-01-09</th>\n",
              "      <td>10.96</td>\n",
              "      <td>11.03</td>\n",
              "      <td>10.82</td>\n",
              "      <td>10.86</td>\n",
              "      <td>168861224</td>\n",
              "      <td>AAPL</td>\n",
              "    </tr>\n",
              "    <tr>\n",
              "      <th>...</th>\n",
              "      <td>...</td>\n",
              "      <td>...</td>\n",
              "      <td>...</td>\n",
              "      <td>...</td>\n",
              "      <td>...</td>\n",
              "      <td>...</td>\n",
              "    </tr>\n",
              "    <tr>\n",
              "      <th>2017-12-22</th>\n",
              "      <td>174.68</td>\n",
              "      <td>175.42</td>\n",
              "      <td>174.50</td>\n",
              "      <td>175.01</td>\n",
              "      <td>16349444</td>\n",
              "      <td>AAPL</td>\n",
              "    </tr>\n",
              "    <tr>\n",
              "      <th>2017-12-26</th>\n",
              "      <td>170.80</td>\n",
              "      <td>171.47</td>\n",
              "      <td>169.68</td>\n",
              "      <td>170.57</td>\n",
              "      <td>33185536</td>\n",
              "      <td>AAPL</td>\n",
              "    </tr>\n",
              "    <tr>\n",
              "      <th>2017-12-27</th>\n",
              "      <td>170.10</td>\n",
              "      <td>170.78</td>\n",
              "      <td>169.71</td>\n",
              "      <td>170.60</td>\n",
              "      <td>21498213</td>\n",
              "      <td>AAPL</td>\n",
              "    </tr>\n",
              "    <tr>\n",
              "      <th>2017-12-28</th>\n",
              "      <td>171.00</td>\n",
              "      <td>171.85</td>\n",
              "      <td>170.48</td>\n",
              "      <td>171.08</td>\n",
              "      <td>16480187</td>\n",
              "      <td>AAPL</td>\n",
              "    </tr>\n",
              "    <tr>\n",
              "      <th>2017-12-29</th>\n",
              "      <td>170.52</td>\n",
              "      <td>170.59</td>\n",
              "      <td>169.22</td>\n",
              "      <td>169.23</td>\n",
              "      <td>25999922</td>\n",
              "      <td>AAPL</td>\n",
              "    </tr>\n",
              "  </tbody>\n",
              "</table>\n",
              "<p>3019 rows × 6 columns</p>\n",
              "</div>"
            ],
            "text/plain": [
              "              Open    High     Low   Close     Volume  Name\n",
              "Date                                                       \n",
              "2006-01-03   10.34   10.68   10.32   10.68  201853036  AAPL\n",
              "2006-01-04   10.73   10.85   10.64   10.71  155225609  AAPL\n",
              "2006-01-05   10.69   10.70   10.54   10.63  112396081  AAPL\n",
              "2006-01-06   10.75   10.96   10.65   10.90  176139334  AAPL\n",
              "2006-01-09   10.96   11.03   10.82   10.86  168861224  AAPL\n",
              "...            ...     ...     ...     ...        ...   ...\n",
              "2017-12-22  174.68  175.42  174.50  175.01   16349444  AAPL\n",
              "2017-12-26  170.80  171.47  169.68  170.57   33185536  AAPL\n",
              "2017-12-27  170.10  170.78  169.71  170.60   21498213  AAPL\n",
              "2017-12-28  171.00  171.85  170.48  171.08   16480187  AAPL\n",
              "2017-12-29  170.52  170.59  169.22  169.23   25999922  AAPL\n",
              "\n",
              "[3019 rows x 6 columns]"
            ]
          },
          "metadata": {
            "tags": []
          },
          "execution_count": 3
        }
      ]
    },
    {
      "cell_type": "markdown",
      "metadata": {
        "id": "GmIEwhXF5qi2",
        "colab_type": "text"
      },
      "source": [
        "Check if there're missing data"
      ]
    },
    {
      "cell_type": "code",
      "metadata": {
        "id": "JuOOhchc5q7Y",
        "colab_type": "code",
        "colab": {
          "base_uri": "https://localhost:8080/",
          "height": 136
        },
        "outputId": "a1c7c733-10d4-40d2-ad5b-3cc006db46c6"
      },
      "source": [
        "apple_stock.isna().sum()"
      ],
      "execution_count": 4,
      "outputs": [
        {
          "output_type": "execute_result",
          "data": {
            "text/plain": [
              "Open      0\n",
              "High      0\n",
              "Low       0\n",
              "Close     0\n",
              "Volume    0\n",
              "Name      0\n",
              "dtype: int64"
            ]
          },
          "metadata": {
            "tags": []
          },
          "execution_count": 4
        }
      ]
    },
    {
      "cell_type": "markdown",
      "metadata": {
        "id": "Bn06gruX6puc",
        "colab_type": "text"
      },
      "source": [
        "No missing values. GREAT !!!"
      ]
    },
    {
      "cell_type": "markdown",
      "metadata": {
        "id": "AczLNf8uvsc5",
        "colab_type": "text"
      },
      "source": [
        "The assignment promts to use 12 motnths record; therefore, let's use data in 2016 as a training set and 2017 as a test set, by using only price 'High' column"
      ]
    },
    {
      "cell_type": "code",
      "metadata": {
        "id": "h0Yb9zJkvpxP",
        "colab_type": "code",
        "colab": {}
      },
      "source": [
        "train_2016 = apple_stock['2016':'2016'].iloc[:,1:2].values\n",
        "test_2017 = apple_stock['2017':].iloc[:,1:2].values"
      ],
      "execution_count": 0,
      "outputs": []
    },
    {
      "cell_type": "code",
      "metadata": {
        "id": "lyfqTDmD8Rcl",
        "colab_type": "code",
        "colab": {
          "base_uri": "https://localhost:8080/",
          "height": 34
        },
        "outputId": "5a3ee6f7-8420-4101-8dc5-01e03e538bc8"
      },
      "source": [
        "train_2016.shape, test_2017.shape"
      ],
      "execution_count": 6,
      "outputs": [
        {
          "output_type": "execute_result",
          "data": {
            "text/plain": [
              "((252, 1), (251, 1))"
            ]
          },
          "metadata": {
            "tags": []
          },
          "execution_count": 6
        }
      ]
    },
    {
      "cell_type": "markdown",
      "metadata": {
        "id": "xNB1reInyxMh",
        "colab_type": "text"
      },
      "source": [
        "###Visualization of \"High\" attribute"
      ]
    },
    {
      "cell_type": "code",
      "metadata": {
        "id": "occj27yo3q1r",
        "colab_type": "code",
        "colab": {
          "base_uri": "https://localhost:8080/",
          "height": 392
        },
        "outputId": "f45c88ae-2011-41cd-c255-f600a5705877"
      },
      "source": [
        "apple_stock[\"High\"]['2016':'2016'].plot(figsize=(16,6), legend=True)\n",
        "apple_stock[\"High\"][\"2017\":].plot(figsize=(16,6), legend=True)\n",
        "plt.legend([\"Price 'High' 2016\", \"Price 'High' 2017\"])\n",
        "plt.title(\"Apple Stock\")\n",
        "plt.show()"
      ],
      "execution_count": 7,
      "outputs": [
        {
          "output_type": "display_data",
          "data": {
            "image/png": "[encoded data removed]",
            "text/plain": [
              "<Figure size 1152x432 with 1 Axes>"
            ]
          },
          "metadata": {
            "tags": [],
            "needs_background": "light"
          }
        }
      ]
    },
    {
      "cell_type": "markdown",
      "metadata": {
        "id": "W6Qi1G4u7DkA",
        "colab_type": "text"
      },
      "source": [
        "###Scale the training set"
      ]
    },
    {
      "cell_type": "code",
      "metadata": {
        "id": "--e8WIL263UQ",
        "colab_type": "code",
        "colab": {}
      },
      "source": [
        "sc = MinMaxScaler(feature_range=(0,1))\n",
        "train_sc = sc.fit_transform(train_2016)"
      ],
      "execution_count": 0,
      "outputs": []
    },
    {
      "cell_type": "markdown",
      "metadata": {
        "id": "7uuO76A39Fai",
        "colab_type": "text"
      },
      "source": [
        "###Create traininig set for LSTM with X=10 days for each output y"
      ]
    },
    {
      "cell_type": "code",
      "metadata": {
        "id": "5HfjvrxW63SF",
        "colab_type": "code",
        "colab": {}
      },
      "source": [
        "X_train = []\n",
        "y_train = []\n",
        "\n",
        "for i in range(10,252):\n",
        "    X_train.append(train_sc[i-10:i, 0])\n",
        "    y_train.append(train_sc[i,0])\n",
        "\n",
        "X_train, y_train = np.array(X_train), np.array(y_train)"
      ],
      "execution_count": 0,
      "outputs": []
    },
    {
      "cell_type": "code",
      "metadata": {
        "id": "0biOwdNH63Ml",
        "colab_type": "code",
        "colab": {
          "base_uri": "https://localhost:8080/",
          "height": 51
        },
        "outputId": "8c25cdfa-d1c1-485d-8055-05319fb07a51"
      },
      "source": [
        "X_train[0] # 10 days data"
      ],
      "execution_count": 10,
      "outputs": [
        {
          "output_type": "execute_result",
          "data": {
            "text/plain": [
              "array([0.50703183, 0.52479645, 0.39600296, 0.31310141, 0.27535159,\n",
              "       0.27350111, 0.33382679, 0.35233161, 0.32605477, 0.22353812])"
            ]
          },
          "metadata": {
            "tags": []
          },
          "execution_count": 10
        }
      ]
    },
    {
      "cell_type": "code",
      "metadata": {
        "id": "xD0AkE2K-lwj",
        "colab_type": "code",
        "colab": {
          "base_uri": "https://localhost:8080/",
          "height": 34
        },
        "outputId": "ddedb8b4-edea-4c7e-a27e-f8681c710fed"
      },
      "source": [
        "y_train[0]"
      ],
      "execution_count": 11,
      "outputs": [
        {
          "output_type": "execute_result",
          "data": {
            "text/plain": [
              "0.2583271650629162"
            ]
          },
          "metadata": {
            "tags": []
          },
          "execution_count": 11
        }
      ]
    },
    {
      "cell_type": "code",
      "metadata": {
        "id": "UXFx2WXo-0zq",
        "colab_type": "code",
        "colab": {
          "base_uri": "https://localhost:8080/",
          "height": 34
        },
        "outputId": "18b0b068-533a-4194-e60a-ced56feb1bdb"
      },
      "source": [
        "X_train.shape, y_train.shape"
      ],
      "execution_count": 12,
      "outputs": [
        {
          "output_type": "execute_result",
          "data": {
            "text/plain": [
              "((242, 10), (242,))"
            ]
          },
          "metadata": {
            "tags": []
          },
          "execution_count": 12
        }
      ]
    },
    {
      "cell_type": "code",
      "metadata": {
        "id": "08PHbiXS_NT8",
        "colab_type": "code",
        "colab": {}
      },
      "source": [
        "# Reshape X_train for efficient modelling\n",
        "\n",
        "X_train = np.reshape(X_train, (X_train.shape[0], X_train.shape[1], 1))"
      ],
      "execution_count": 0,
      "outputs": []
    },
    {
      "cell_type": "code",
      "metadata": {
        "id": "WpicnUQl_Nkp",
        "colab_type": "code",
        "colab": {
          "base_uri": "https://localhost:8080/",
          "height": 34
        },
        "outputId": "b7fffd11-4297-44f8-8282-ab06b5bf4fe2"
      },
      "source": [
        "X_train.shape"
      ],
      "execution_count": 14,
      "outputs": [
        {
          "output_type": "execute_result",
          "data": {
            "text/plain": [
              "(242, 10, 1)"
            ]
          },
          "metadata": {
            "tags": []
          },
          "execution_count": 14
        }
      ]
    },
    {
      "cell_type": "markdown",
      "metadata": {
        "id": "Dfk5bxrYAAOT",
        "colab_type": "text"
      },
      "source": [
        "###LSTM's architecture"
      ]
    },
    {
      "cell_type": "code",
      "metadata": {
        "id": "gH4xZWQtAG9a",
        "colab_type": "code",
        "colab": {}
      },
      "source": [
        "regressor = Sequential()\n",
        "\n",
        "# add first layer with dropout\n",
        "regressor.add(LSTM(units=50, return_sequences=True, input_shape=(X_train.shape[1],1)))\n",
        "regressor.add(Dropout(0.2))\n",
        "\n",
        "# add second layer\n",
        "regressor.add(LSTM(units=50, return_sequences=True))\n",
        "regressor.add(Dropout(0.2))\n",
        "\n",
        "# add third layer\n",
        "regressor.add(LSTM(units=50, return_sequences=True))\n",
        "regressor.add(Dropout(0.2))\n",
        "\n",
        "# add fourth layer\n",
        "regressor.add(LSTM(units=50))\n",
        "regressor.add(Dropout(0.2))\n",
        "\n",
        "# the output layer\n",
        "regressor.add(Dense(units=1))"
      ],
      "execution_count": 0,
      "outputs": []
    },
    {
      "cell_type": "markdown",
      "metadata": {
        "id": "yIlUhQW7AoXt",
        "colab_type": "text"
      },
      "source": [
        "###Compile LSTM RNN network"
      ]
    },
    {
      "cell_type": "code",
      "metadata": {
        "id": "xa_ZZQLPAy8i",
        "colab_type": "code",
        "colab": {}
      },
      "source": [
        "regressor.compile(optimizer='rmsprop', loss='mean_squared_error')"
      ],
      "execution_count": 0,
      "outputs": []
    },
    {
      "cell_type": "markdown",
      "metadata": {
        "id": "yoR4JPBlA4ul",
        "colab_type": "text"
      },
      "source": [
        "###Fit the model with training set"
      ]
    },
    {
      "cell_type": "code",
      "metadata": {
        "id": "mfxlQlNpA2DZ",
        "colab_type": "code",
        "colab": {
          "base_uri": "https://localhost:8080/",
          "height": 204
        },
        "outputId": "876a0b51-4056-46d2-fbe4-746c19054bd7"
      },
      "source": [
        "regressor.fit(X_train, y_train, epochs=5, batch_size=32)"
      ],
      "execution_count": 18,
      "outputs": [
        {
          "output_type": "stream",
          "text": [
            "Epoch 1/5\n",
            "242/242 [==============================] - 2s 7ms/step - loss: 0.1395\n",
            "Epoch 2/5\n",
            "242/242 [==============================] - 0s 868us/step - loss: 0.0300\n",
            "Epoch 3/5\n",
            "242/242 [==============================] - 0s 896us/step - loss: 0.0350\n",
            "Epoch 4/5\n",
            "242/242 [==============================] - 0s 921us/step - loss: 0.0270\n",
            "Epoch 5/5\n",
            "242/242 [==============================] - 0s 879us/step - loss: 0.0322\n"
          ],
          "name": "stdout"
        },
        {
          "output_type": "execute_result",
          "data": {
            "text/plain": [
              "<keras.callbacks.callbacks.History at 0x7fa964ccb908>"
            ]
          },
          "metadata": {
            "tags": []
          },
          "execution_count": 18
        }
      ]
    },
    {
      "cell_type": "markdown",
      "metadata": {
        "id": "kx4Xy3TfB649",
        "colab_type": "text"
      },
      "source": [
        "#Preprocessing test set"
      ]
    },
    {
      "cell_type": "code",
      "metadata": {
        "id": "porgv8DoBFvP",
        "colab_type": "code",
        "colab": {
          "base_uri": "https://localhost:8080/",
          "height": 68
        },
        "outputId": "9e4876b4-993c-4564-fe41-b87386a7fd1d"
      },
      "source": [
        "data_concat = pd.concat((apple_stock['High']['2016':'2016'], apple_stock['High']['2017':]), axis=0)\n",
        "print(data_concat.shape)\n",
        "\n",
        "inputs = data_concat[len(data_concat)-len(test_2017)-10 : ].values\n",
        "print(inputs.shape)\n",
        "inputs = inputs.reshape(-1,1)\n",
        "inputs = sc.transform(inputs)\n",
        "print(inputs.shape)"
      ],
      "execution_count": 20,
      "outputs": [
        {
          "output_type": "stream",
          "text": [
            "(503,)\n",
            "(261,)\n",
            "(261, 1)\n"
          ],
          "name": "stdout"
        }
      ]
    },
    {
      "cell_type": "code",
      "metadata": {
        "id": "um--L2JgDnXh",
        "colab_type": "code",
        "colab": {}
      },
      "source": [
        "X_test = []\n",
        "for i in range(10,261):\n",
        "    X_test.append(inputs[i-10:i, 0])\n",
        "    \n",
        "X_test = np.array(X_test)\n",
        "X_test = np.reshape(X_test, (X_test.shape[0], X_test.shape[1], 1))"
      ],
      "execution_count": 0,
      "outputs": []
    },
    {
      "cell_type": "markdown",
      "metadata": {
        "id": "9e9VgbMdEL8Q",
        "colab_type": "text"
      },
      "source": [
        "###Predict stock price"
      ]
    },
    {
      "cell_type": "code",
      "metadata": {
        "id": "B_6AB2roEMQq",
        "colab_type": "code",
        "colab": {}
      },
      "source": [
        "y_test_pred = regressor.predict(X_test)\n",
        "y_test_pred = sc.inverse_transform(y_test_pred)"
      ],
      "execution_count": 0,
      "outputs": []
    },
    {
      "cell_type": "markdown",
      "metadata": {
        "id": "PC0-JwFoEsVF",
        "colab_type": "text"
      },
      "source": [
        "###Plot prediction"
      ]
    },
    {
      "cell_type": "code",
      "metadata": {
        "id": "QA3h74riEu2G",
        "colab_type": "code",
        "colab": {}
      },
      "source": [
        "def plot_predictions(test, predicted):\n",
        "    plt.plot(test, color=\"red\", label=\"Actual\")\n",
        "    plt.plot(predicted, color=\"blue\", label=\"Predicted\")\n",
        "    plt.title(\"Apple stock price prediction\")\n",
        "    plt.xlabel(\"time\")\n",
        "    plt.ylabel(\"Apple stock price\")\n",
        "    plt.legend()\n",
        "    plt.show()"
      ],
      "execution_count": 0,
      "outputs": []
    },
    {
      "cell_type": "code",
      "metadata": {
        "id": "FLendr9fE2Tz",
        "colab_type": "code",
        "colab": {
          "base_uri": "https://localhost:8080/",
          "height": 296
        },
        "outputId": "62d4382a-42de-471b-c954-545a4e3c9320"
      },
      "source": [
        "plot_predictions(test_2017, y_test_pred)"
      ],
      "execution_count": 24,
      "outputs": [
        {
          "output_type": "display_data",
          "data": {
            "image/png": "[encoded data removed]",
            "text/plain": [
              "<Figure size 432x288 with 1 Axes>"
            ]
          },
          "metadata": {
            "tags": [],
            "needs_background": "light"
          }
        }
      ]
    },
    {
      "cell_type": "markdown",
      "metadata": {
        "id": "s5sCgNs5F7cl",
        "colab_type": "text"
      },
      "source": [
        "#RMSE of the model"
      ]
    },
    {
      "cell_type": "code",
      "metadata": {
        "id": "2KQ3DpU_GGWt",
        "colab_type": "code",
        "colab": {}
      },
      "source": [
        "def return_rmse(test, predicted):\n",
        "    rmse = math.sqrt(mean_squared_error(test, predicted))\n",
        "    print(\"RMSE = {}.\".format(rmse))"
      ],
      "execution_count": 0,
      "outputs": []
    },
    {
      "cell_type": "code",
      "metadata": {
        "id": "KpsSm-NJF74i",
        "colab_type": "code",
        "colab": {
          "base_uri": "https://localhost:8080/",
          "height": 34
        },
        "outputId": "ed93c414-f1c7-4e44-9c9f-56ad97b294bd"
      },
      "source": [
        "return_rmse(test_2017, y_test_pred)"
      ],
      "execution_count": 26,
      "outputs": [
        {
          "output_type": "stream",
          "text": [
            "RMSE = 19.015431344714095.\n"
          ],
          "name": "stdout"
        }
      ]
    },
    {
      "cell_type": "code",
      "metadata": {
        "id": "pQSiivSlGUU3",
        "colab_type": "code",
        "colab": {}
      },
      "source": [
        ""
      ],
      "execution_count": 0,
      "outputs": []
    }
  ]
}