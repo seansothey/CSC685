{
  "nbformat": 4,
  "nbformat_minor": 0,
  "metadata": {
    "colab": {
      "name": "Project7_Stock_Prediction.ipynb",
      "provenance": [],
      "collapsed_sections": [],
      "include_colab_link": true
    },
    "kernelspec": {
      "name": "python3",
      "display_name": "Python 3"
    }
  },
  "cells": [
    {
      "cell_type": "markdown",
      "metadata": {
        "id": "view-in-github",
        "colab_type": "text"
      },
      "source": [
        "<a href=\"https://colab.research.google.com/github/seansothey/CSC685/blob/master/Project7_Stock_Prediction.ipynb\" target=\"_parent\"><img src=\"https://colab.research.google.com/assets/colab-badge.svg\" alt=\"Open In Colab\"/></a>"
      ]
    },
    {
      "cell_type": "markdown",
      "metadata": {
        "id": "aJ0DfM6ZVu8y",
        "colab_type": "text"
      },
      "source": [
        "![alt text](https://dataanalyticsedge.com/wp-content/uploads/2019/11/stocks_BSE_Nifty_Sensex__markets_bse_nse_nifty-1_1280-770x433.jpg)\n",
        "\n",
        "Predicting how the stock market will perform is one of the most difficult things to do. There are so many factors involved in the prediction – physical factors vs. physhological, rational and irrational behaviour, etc. All these aspects combine to make share prices volatile and very difficult to predict with a high degree of accuracy.\n",
        "\n",
        "Can we use machine learning as a game changer in this domain? In this project, historical stock prices data of Apple and Amazon company, from 2006 to 2017, were used for experimentation, using machine learning techniques, such as RNN, LSTM, and GRU.\n"
      ]
    },
    {
      "cell_type": "markdown",
      "metadata": {
        "id": "oIxcpnqOs7NV",
        "colab_type": "text"
      },
      "source": [
        "#Setup"
      ]
    },
    {
      "cell_type": "code",
      "metadata": {
        "id": "b6Ee4UEssJV3",
        "colab_type": "code",
        "outputId": "63e01d81-e1a0-427b-9903-7740fd4b2ac2",
        "colab": {
          "base_uri": "https://localhost:8080/",
          "height": 104
        }
      },
      "source": [
        "# Common Import\n",
        "import sklearn\n",
        "import pandas as pd\n",
        "import numpy as np\n",
        "\n",
        "# Algorithm libraries\n",
        "from keras.models import Sequential\n",
        "from keras.layers import Dense, Dropout, LSTM, GRU, Bidirectional\n",
        "from keras import optimizers\n",
        "from keras import losses\n",
        "\n",
        "from sklearn.preprocessing import MinMaxScaler\n",
        "from sklearn.metrics import mean_squared_error\n",
        "\n",
        "from datetime import date\n",
        "\n",
        "import math\n",
        "\n",
        "# Visaulization libraries\n",
        "import seaborn as sns\n",
        "%matplotlib inline\n",
        "import matplotlib.pyplot as plt\n",
        "plt.style.use(\"fivethirtyeight\")\n",
        "\n",
        "# Disable warnings\n",
        "import warnings\n",
        "warnings.filterwarnings('ignore')\n",
        "\n",
        "# sklearn version > 0.20 is required \n",
        "sklearn.__version__\n",
        "# Update sklearn -> !pip install -U scikit-learn"
      ],
      "execution_count": 0,
      "outputs": [
        {
          "output_type": "stream",
          "text": [
            "Using TensorFlow backend.\n",
            "/usr/local/lib/python3.6/dist-packages/statsmodels/tools/_testing.py:19: FutureWarning: pandas.util.testing is deprecated. Use the functions in the public API at pandas.testing instead.\n",
            "  import pandas.util.testing as tm\n"
          ],
          "name": "stderr"
        },
        {
          "output_type": "execute_result",
          "data": {
            "text/plain": [
              "'0.22.2.post1'"
            ]
          },
          "metadata": {
            "tags": []
          },
          "execution_count": 1
        }
      ]
    },
    {
      "cell_type": "markdown",
      "metadata": {
        "id": "Jd0nLQnlurxZ",
        "colab_type": "text"
      },
      "source": [
        "#Load Data"
      ]
    },
    {
      "cell_type": "code",
      "metadata": {
        "id": "4Be6vr26uqfm",
        "colab_type": "code",
        "colab": {}
      },
      "source": [
        "apple_stock = pd.read_csv('https://raw.githubusercontent.com/seansothey/CSC685/master/AAPL_2006-01-01_to_2018-01-01.csv',index_col='Date', parse_dates=[\"Date\"]) "
      ],
      "execution_count": 0,
      "outputs": []
    },
    {
      "cell_type": "code",
      "metadata": {
        "id": "d89wRAHRv2ZM",
        "colab_type": "code",
        "outputId": "829c1cd3-bfdd-4bd5-c722-0b706990ec4d",
        "colab": {
          "base_uri": "https://localhost:8080/",
          "height": 431
        }
      },
      "source": [
        "apple_stock"
      ],
      "execution_count": 0,
      "outputs": [
        {
          "output_type": "execute_result",
          "data": {
            "text/html": [
              "<div>\n",
              "<style scoped>\n",
              "    .dataframe tbody tr th:only-of-type {\n",
              "        vertical-align: middle;\n",
              "    }\n",
              "\n",
              "    .dataframe tbody tr th {\n",
              "        vertical-align: top;\n",
              "    }\n",
              "\n",
              "    .dataframe thead th {\n",
              "        text-align: right;\n",
              "    }\n",
              "</style>\n",
              "<table border=\"1\" class=\"dataframe\">\n",
              "  <thead>\n",
              "    <tr style=\"text-align: right;\">\n",
              "      <th></th>\n",
              "      <th>Open</th>\n",
              "      <th>High</th>\n",
              "      <th>Low</th>\n",
              "      <th>Close</th>\n",
              "      <th>Volume</th>\n",
              "      <th>Name</th>\n",
              "    </tr>\n",
              "    <tr>\n",
              "      <th>Date</th>\n",
              "      <th></th>\n",
              "      <th></th>\n",
              "      <th></th>\n",
              "      <th></th>\n",
              "      <th></th>\n",
              "      <th></th>\n",
              "    </tr>\n",
              "  </thead>\n",
              "  <tbody>\n",
              "    <tr>\n",
              "      <th>2006-01-03</th>\n",
              "      <td>10.34</td>\n",
              "      <td>10.68</td>\n",
              "      <td>10.32</td>\n",
              "      <td>10.68</td>\n",
              "      <td>201853036</td>\n",
              "      <td>AAPL</td>\n",
              "    </tr>\n",
              "    <tr>\n",
              "      <th>2006-01-04</th>\n",
              "      <td>10.73</td>\n",
              "      <td>10.85</td>\n",
              "      <td>10.64</td>\n",
              "      <td>10.71</td>\n",
              "      <td>155225609</td>\n",
              "      <td>AAPL</td>\n",
              "    </tr>\n",
              "    <tr>\n",
              "      <th>2006-01-05</th>\n",
              "      <td>10.69</td>\n",
              "      <td>10.70</td>\n",
              "      <td>10.54</td>\n",
              "      <td>10.63</td>\n",
              "      <td>112396081</td>\n",
              "      <td>AAPL</td>\n",
              "    </tr>\n",
              "    <tr>\n",
              "      <th>2006-01-06</th>\n",
              "      <td>10.75</td>\n",
              "      <td>10.96</td>\n",
              "      <td>10.65</td>\n",
              "      <td>10.90</td>\n",
              "      <td>176139334</td>\n",
              "      <td>AAPL</td>\n",
              "    </tr>\n",
              "    <tr>\n",
              "      <th>2006-01-09</th>\n",
              "      <td>10.96</td>\n",
              "      <td>11.03</td>\n",
              "      <td>10.82</td>\n",
              "      <td>10.86</td>\n",
              "      <td>168861224</td>\n",
              "      <td>AAPL</td>\n",
              "    </tr>\n",
              "    <tr>\n",
              "      <th>...</th>\n",
              "      <td>...</td>\n",
              "      <td>...</td>\n",
              "      <td>...</td>\n",
              "      <td>...</td>\n",
              "      <td>...</td>\n",
              "      <td>...</td>\n",
              "    </tr>\n",
              "    <tr>\n",
              "      <th>2017-12-22</th>\n",
              "      <td>174.68</td>\n",
              "      <td>175.42</td>\n",
              "      <td>174.50</td>\n",
              "      <td>175.01</td>\n",
              "      <td>16349444</td>\n",
              "      <td>AAPL</td>\n",
              "    </tr>\n",
              "    <tr>\n",
              "      <th>2017-12-26</th>\n",
              "      <td>170.80</td>\n",
              "      <td>171.47</td>\n",
              "      <td>169.68</td>\n",
              "      <td>170.57</td>\n",
              "      <td>33185536</td>\n",
              "      <td>AAPL</td>\n",
              "    </tr>\n",
              "    <tr>\n",
              "      <th>2017-12-27</th>\n",
              "      <td>170.10</td>\n",
              "      <td>170.78</td>\n",
              "      <td>169.71</td>\n",
              "      <td>170.60</td>\n",
              "      <td>21498213</td>\n",
              "      <td>AAPL</td>\n",
              "    </tr>\n",
              "    <tr>\n",
              "      <th>2017-12-28</th>\n",
              "      <td>171.00</td>\n",
              "      <td>171.85</td>\n",
              "      <td>170.48</td>\n",
              "      <td>171.08</td>\n",
              "      <td>16480187</td>\n",
              "      <td>AAPL</td>\n",
              "    </tr>\n",
              "    <tr>\n",
              "      <th>2017-12-29</th>\n",
              "      <td>170.52</td>\n",
              "      <td>170.59</td>\n",
              "      <td>169.22</td>\n",
              "      <td>169.23</td>\n",
              "      <td>25999922</td>\n",
              "      <td>AAPL</td>\n",
              "    </tr>\n",
              "  </tbody>\n",
              "</table>\n",
              "<p>3019 rows × 6 columns</p>\n",
              "</div>"
            ],
            "text/plain": [
              "              Open    High     Low   Close     Volume  Name\n",
              "Date                                                       \n",
              "2006-01-03   10.34   10.68   10.32   10.68  201853036  AAPL\n",
              "2006-01-04   10.73   10.85   10.64   10.71  155225609  AAPL\n",
              "2006-01-05   10.69   10.70   10.54   10.63  112396081  AAPL\n",
              "2006-01-06   10.75   10.96   10.65   10.90  176139334  AAPL\n",
              "2006-01-09   10.96   11.03   10.82   10.86  168861224  AAPL\n",
              "...            ...     ...     ...     ...        ...   ...\n",
              "2017-12-22  174.68  175.42  174.50  175.01   16349444  AAPL\n",
              "2017-12-26  170.80  171.47  169.68  170.57   33185536  AAPL\n",
              "2017-12-27  170.10  170.78  169.71  170.60   21498213  AAPL\n",
              "2017-12-28  171.00  171.85  170.48  171.08   16480187  AAPL\n",
              "2017-12-29  170.52  170.59  169.22  169.23   25999922  AAPL\n",
              "\n",
              "[3019 rows x 6 columns]"
            ]
          },
          "metadata": {
            "tags": []
          },
          "execution_count": 3
        }
      ]
    },
    {
      "cell_type": "markdown",
      "metadata": {
        "id": "GmIEwhXF5qi2",
        "colab_type": "text"
      },
      "source": [
        "Check if there're missing data"
      ]
    },
    {
      "cell_type": "code",
      "metadata": {
        "id": "JuOOhchc5q7Y",
        "colab_type": "code",
        "outputId": "78b62e5b-0cb7-412b-92b0-b89b8155fa54",
        "colab": {
          "base_uri": "https://localhost:8080/",
          "height": 134
        }
      },
      "source": [
        "apple_stock.isna().sum()"
      ],
      "execution_count": 0,
      "outputs": [
        {
          "output_type": "execute_result",
          "data": {
            "text/plain": [
              "Open      0\n",
              "High      0\n",
              "Low       0\n",
              "Close     0\n",
              "Volume    0\n",
              "Name      0\n",
              "dtype: int64"
            ]
          },
          "metadata": {
            "tags": []
          },
          "execution_count": 4
        }
      ]
    },
    {
      "cell_type": "markdown",
      "metadata": {
        "id": "Bn06gruX6puc",
        "colab_type": "text"
      },
      "source": [
        "No missing values. GREAT !!!"
      ]
    },
    {
      "cell_type": "markdown",
      "metadata": {
        "id": "AczLNf8uvsc5",
        "colab_type": "text"
      },
      "source": [
        "The assignment promts to use 12 motnths record; therefore, let's use data in 2016 as a training set and 2017 as a test set, by using only price 'High' column"
      ]
    },
    {
      "cell_type": "code",
      "metadata": {
        "id": "h0Yb9zJkvpxP",
        "colab_type": "code",
        "colab": {}
      },
      "source": [
        "train_2016 = apple_stock['2016':'2016'].iloc[:,1:2].values\n",
        "test_2017 = apple_stock['2017':].iloc[:,1:2].values"
      ],
      "execution_count": 0,
      "outputs": []
    },
    {
      "cell_type": "code",
      "metadata": {
        "id": "lyfqTDmD8Rcl",
        "colab_type": "code",
        "outputId": "692a4b19-943c-48df-9b90-ce182fad25c5",
        "colab": {
          "base_uri": "https://localhost:8080/",
          "height": 34
        }
      },
      "source": [
        "train_2016.shape, test_2017.shape"
      ],
      "execution_count": 0,
      "outputs": [
        {
          "output_type": "execute_result",
          "data": {
            "text/plain": [
              "((252, 1), (251, 1))"
            ]
          },
          "metadata": {
            "tags": []
          },
          "execution_count": 6
        }
      ]
    },
    {
      "cell_type": "markdown",
      "metadata": {
        "id": "xNB1reInyxMh",
        "colab_type": "text"
      },
      "source": [
        "###Visualization of \"High\" attribute"
      ]
    },
    {
      "cell_type": "code",
      "metadata": {
        "id": "occj27yo3q1r",
        "colab_type": "code",
        "outputId": "cf2c2080-6f3f-4925-86b2-a05c141005fe",
        "colab": {
          "base_uri": "https://localhost:8080/",
          "height": 392
        }
      },
      "source": [
        "apple_stock[\"High\"]['2016':'2016'].plot(figsize=(16,6), legend=True)\n",
        "apple_stock[\"High\"][\"2017\":].plot(figsize=(16,6), legend=True)\n",
        "plt.legend([\"Price 'High' 2016\", \"Price 'High' 2017\"])\n",
        "plt.title(\"Apple Stock\")\n",
        "plt.show()"
      ],
      "execution_count": 0,
      "outputs": [
        {
          "output_type": "display_data",
          "data": {
            "image/png": "[encoded data removed]",
            "text/plain": [
              "<Figure size 1152x432 with 1 Axes>"
            ]
          },
          "metadata": {
            "tags": [],
            "needs_background": "light"
          }
        }
      ]
    },
    {
      "cell_type": "markdown",
      "metadata": {
        "id": "W6Qi1G4u7DkA",
        "colab_type": "text"
      },
      "source": [
        "###Scale the training set"
      ]
    },
    {
      "cell_type": "code",
      "metadata": {
        "id": "--e8WIL263UQ",
        "colab_type": "code",
        "colab": {}
      },
      "source": [
        "sc = MinMaxScaler(feature_range=(0,1))\n",
        "sc.fit(train_2016)\n",
        "train_sc = sc.transform(train_2016)"
      ],
      "execution_count": 0,
      "outputs": []
    },
    {
      "cell_type": "markdown",
      "metadata": {
        "id": "7uuO76A39Fai",
        "colab_type": "text"
      },
      "source": [
        "###Create traininig set for LSTM with X=10 days for each output y"
      ]
    },
    {
      "cell_type": "code",
      "metadata": {
        "id": "5HfjvrxW63SF",
        "colab_type": "code",
        "colab": {}
      },
      "source": [
        "X_train = []\n",
        "y_train = []\n",
        "\n",
        "for i in range(10,train_2016.shape[0]):\n",
        "    X_train.append(train_sc[i-10:i, 0])\n",
        "    y_train.append(train_sc[i,0])\n",
        "\n",
        "X_train, y_train = np.array(X_train), np.array(y_train)"
      ],
      "execution_count": 0,
      "outputs": []
    },
    {
      "cell_type": "code",
      "metadata": {
        "id": "0biOwdNH63Ml",
        "colab_type": "code",
        "outputId": "7470c0ba-c421-4c32-d265-eb5fc18eafc5",
        "colab": {
          "base_uri": "https://localhost:8080/",
          "height": 50
        }
      },
      "source": [
        "X_train[0] # 10 days data"
      ],
      "execution_count": 0,
      "outputs": [
        {
          "output_type": "execute_result",
          "data": {
            "text/plain": [
              "array([0.50703183, 0.52479645, 0.39600296, 0.31310141, 0.27535159,\n",
              "       0.27350111, 0.33382679, 0.35233161, 0.32605477, 0.22353812])"
            ]
          },
          "metadata": {
            "tags": []
          },
          "execution_count": 10
        }
      ]
    },
    {
      "cell_type": "code",
      "metadata": {
        "id": "xD0AkE2K-lwj",
        "colab_type": "code",
        "outputId": "ca900485-97de-4a08-9de8-b19eb6dddefb",
        "colab": {
          "base_uri": "https://localhost:8080/",
          "height": 34
        }
      },
      "source": [
        "y_train[0]"
      ],
      "execution_count": 0,
      "outputs": [
        {
          "output_type": "execute_result",
          "data": {
            "text/plain": [
              "0.2583271650629162"
            ]
          },
          "metadata": {
            "tags": []
          },
          "execution_count": 11
        }
      ]
    },
    {
      "cell_type": "code",
      "metadata": {
        "id": "UXFx2WXo-0zq",
        "colab_type": "code",
        "outputId": "80944220-b222-4222-c7dd-37505264bf3e",
        "colab": {
          "base_uri": "https://localhost:8080/",
          "height": 34
        }
      },
      "source": [
        "X_train.shape, y_train.shape"
      ],
      "execution_count": 0,
      "outputs": [
        {
          "output_type": "execute_result",
          "data": {
            "text/plain": [
              "((242, 10), (242,))"
            ]
          },
          "metadata": {
            "tags": []
          },
          "execution_count": 12
        }
      ]
    },
    {
      "cell_type": "code",
      "metadata": {
        "id": "08PHbiXS_NT8",
        "colab_type": "code",
        "colab": {}
      },
      "source": [
        "# Reshape X_train for efficient modelling\n",
        "\n",
        "X_train = np.reshape(X_train, (X_train.shape[0], X_train.shape[1], 1))"
      ],
      "execution_count": 0,
      "outputs": []
    },
    {
      "cell_type": "code",
      "metadata": {
        "id": "WpicnUQl_Nkp",
        "colab_type": "code",
        "outputId": "376a2544-a853-46d8-fad4-63d0a4050fd9",
        "colab": {
          "base_uri": "https://localhost:8080/",
          "height": 34
        }
      },
      "source": [
        "X_train.shape"
      ],
      "execution_count": 0,
      "outputs": [
        {
          "output_type": "execute_result",
          "data": {
            "text/plain": [
              "(242, 10, 1)"
            ]
          },
          "metadata": {
            "tags": []
          },
          "execution_count": 14
        }
      ]
    },
    {
      "cell_type": "markdown",
      "metadata": {
        "id": "Dfk5bxrYAAOT",
        "colab_type": "text"
      },
      "source": [
        "#LSTM's model"
      ]
    },
    {
      "cell_type": "code",
      "metadata": {
        "id": "gH4xZWQtAG9a",
        "colab_type": "code",
        "colab": {}
      },
      "source": [
        "regressor = Sequential()\n",
        "\n",
        "# add first layer with dropout\n",
        "regressor.add(LSTM(units=10, return_sequences=True,activation='relu', input_shape=(X_train.shape[1],1)))\n",
        "regressor.add(Dropout(0.2))\n",
        "\n",
        "# add second layer\n",
        "regressor.add(LSTM(units=100,activation='relu', return_sequences=True))\n",
        "regressor.add(Dropout(0.2))\n",
        "\n",
        "# add third layer\n",
        "regressor.add(LSTM(units=50,activation='relu'))\n",
        "regressor.add(Dropout(0.2))\n",
        "\n",
        "# add fourth layer\n",
        "#regressor.add(LSTM(units=50))\n",
        "#regressor.add(Dropout(0.2))\n",
        "\n",
        "# the output layer\n",
        "regressor.add(Dense(units=1))"
      ],
      "execution_count": 0,
      "outputs": []
    },
    {
      "cell_type": "markdown",
      "metadata": {
        "id": "yIlUhQW7AoXt",
        "colab_type": "text"
      },
      "source": [
        "###Compile LSTM RNN network"
      ]
    },
    {
      "cell_type": "code",
      "metadata": {
        "id": "xa_ZZQLPAy8i",
        "colab_type": "code",
        "colab": {}
      },
      "source": [
        "regressor.compile(optimizer=optimizers.SGD(lr=0.01, decay=1e-7, momentum=0.9, nesterov=False), loss='mean_squared_error')"
      ],
      "execution_count": 0,
      "outputs": []
    },
    {
      "cell_type": "code",
      "metadata": {
        "id": "EY6Gfo0CA24h",
        "colab_type": "code",
        "outputId": "80ae8ef1-824e-4651-fbdc-3b04eef9dc70",
        "colab": {
          "base_uri": "https://localhost:8080/",
          "height": 386
        }
      },
      "source": [
        "regressor.summary()"
      ],
      "execution_count": 0,
      "outputs": [
        {
          "output_type": "stream",
          "text": [
            "Model: \"sequential_1\"\n",
            "_________________________________________________________________\n",
            "Layer (type)                 Output Shape              Param #   \n",
            "=================================================================\n",
            "lstm_1 (LSTM)                (None, 10, 10)            480       \n",
            "_________________________________________________________________\n",
            "dropout_1 (Dropout)          (None, 10, 10)            0         \n",
            "_________________________________________________________________\n",
            "lstm_2 (LSTM)                (None, 10, 100)           44400     \n",
            "_________________________________________________________________\n",
            "dropout_2 (Dropout)          (None, 10, 100)           0         \n",
            "_________________________________________________________________\n",
            "lstm_3 (LSTM)                (None, 50)                30200     \n",
            "_________________________________________________________________\n",
            "dropout_3 (Dropout)          (None, 50)                0         \n",
            "_________________________________________________________________\n",
            "dense_1 (Dense)              (None, 1)                 51        \n",
            "=================================================================\n",
            "Total params: 75,131\n",
            "Trainable params: 75,131\n",
            "Non-trainable params: 0\n",
            "_________________________________________________________________\n"
          ],
          "name": "stdout"
        }
      ]
    },
    {
      "cell_type": "markdown",
      "metadata": {
        "id": "yoR4JPBlA4ul",
        "colab_type": "text"
      },
      "source": [
        "###Fit the model with training set"
      ]
    },
    {
      "cell_type": "code",
      "metadata": {
        "id": "mfxlQlNpA2DZ",
        "colab_type": "code",
        "outputId": "70901d1a-6c28-4116-ad3e-c7f4f4b15206",
        "colab": {
          "base_uri": "https://localhost:8080/",
          "height": 1000
        }
      },
      "source": [
        "regressor.fit(X_train, y_train, epochs=400, batch_size=50, validation_split=0.30)"
      ],
      "execution_count": 0,
      "outputs": [
        {
          "output_type": "stream",
          "text": [
            "Train on 169 samples, validate on 73 samples\n",
            "Epoch 1/400\n",
            "169/169 [==============================] - 1s 8ms/step - loss: 0.1758 - val_loss: 0.5440\n",
            "Epoch 2/400\n",
            "169/169 [==============================] - 0s 684us/step - loss: 0.0966 - val_loss: 0.2839\n",
            "Epoch 3/400\n",
            "169/169 [==============================] - 0s 669us/step - loss: 0.0469 - val_loss: 0.1277\n",
            "Epoch 4/400\n",
            "169/169 [==============================] - 0s 613us/step - loss: 0.0656 - val_loss: 0.0933\n",
            "Epoch 5/400\n",
            "169/169 [==============================] - 0s 687us/step - loss: 0.0681 - val_loss: 0.1336\n",
            "Epoch 6/400\n",
            "169/169 [==============================] - 0s 665us/step - loss: 0.0527 - val_loss: 0.2116\n",
            "Epoch 7/400\n",
            "169/169 [==============================] - 0s 610us/step - loss: 0.0469 - val_loss: 0.2613\n",
            "Epoch 8/400\n",
            "169/169 [==============================] - 0s 663us/step - loss: 0.0491 - val_loss: 0.2708\n",
            "Epoch 9/400\n",
            "169/169 [==============================] - 0s 633us/step - loss: 0.0495 - val_loss: 0.2471\n",
            "Epoch 10/400\n",
            "169/169 [==============================] - 0s 733us/step - loss: 0.0474 - val_loss: 0.2169\n",
            "Epoch 11/400\n",
            "169/169 [==============================] - 0s 638us/step - loss: 0.0463 - val_loss: 0.1998\n",
            "Epoch 12/400\n",
            "169/169 [==============================] - 0s 689us/step - loss: 0.0476 - val_loss: 0.2004\n",
            "Epoch 13/400\n",
            "169/169 [==============================] - 0s 654us/step - loss: 0.0467 - val_loss: 0.2065\n",
            "Epoch 14/400\n",
            "169/169 [==============================] - 0s 654us/step - loss: 0.0463 - val_loss: 0.2158\n",
            "Epoch 15/400\n",
            "169/169 [==============================] - 0s 650us/step - loss: 0.0456 - val_loss: 0.2185\n",
            "Epoch 16/400\n",
            "169/169 [==============================] - 0s 628us/step - loss: 0.0464 - val_loss: 0.2181\n",
            "Epoch 17/400\n",
            "169/169 [==============================] - 0s 617us/step - loss: 0.0461 - val_loss: 0.2168\n",
            "Epoch 18/400\n",
            "169/169 [==============================] - 0s 641us/step - loss: 0.0463 - val_loss: 0.2151\n",
            "Epoch 19/400\n",
            "169/169 [==============================] - 0s 684us/step - loss: 0.0461 - val_loss: 0.2131\n",
            "Epoch 20/400\n",
            "169/169 [==============================] - 0s 630us/step - loss: 0.0459 - val_loss: 0.2114\n",
            "Epoch 21/400\n",
            "169/169 [==============================] - 0s 639us/step - loss: 0.0452 - val_loss: 0.2131\n",
            "Epoch 22/400\n",
            "169/169 [==============================] - 0s 644us/step - loss: 0.0453 - val_loss: 0.2130\n",
            "Epoch 23/400\n",
            "169/169 [==============================] - 0s 646us/step - loss: 0.0452 - val_loss: 0.2130\n",
            "Epoch 24/400\n",
            "169/169 [==============================] - 0s 636us/step - loss: 0.0456 - val_loss: 0.2135\n",
            "Epoch 25/400\n",
            "169/169 [==============================] - 0s 654us/step - loss: 0.0449 - val_loss: 0.2095\n",
            "Epoch 26/400\n",
            "169/169 [==============================] - 0s 677us/step - loss: 0.0443 - val_loss: 0.2092\n",
            "Epoch 27/400\n",
            "169/169 [==============================] - 0s 652us/step - loss: 0.0460 - val_loss: 0.2081\n",
            "Epoch 28/400\n",
            "169/169 [==============================] - 0s 704us/step - loss: 0.0451 - val_loss: 0.2112\n",
            "Epoch 29/400\n",
            "169/169 [==============================] - 0s 621us/step - loss: 0.0454 - val_loss: 0.2108\n",
            "Epoch 30/400\n",
            "169/169 [==============================] - 0s 611us/step - loss: 0.0451 - val_loss: 0.2090\n",
            "Epoch 31/400\n",
            "169/169 [==============================] - 0s 664us/step - loss: 0.0451 - val_loss: 0.2079\n",
            "Epoch 32/400\n",
            "169/169 [==============================] - 0s 608us/step - loss: 0.0461 - val_loss: 0.2036\n",
            "Epoch 33/400\n",
            "169/169 [==============================] - 0s 646us/step - loss: 0.0449 - val_loss: 0.2017\n",
            "Epoch 34/400\n",
            "169/169 [==============================] - 0s 651us/step - loss: 0.0444 - val_loss: 0.2076\n",
            "Epoch 35/400\n",
            "169/169 [==============================] - 0s 632us/step - loss: 0.0451 - val_loss: 0.2073\n",
            "Epoch 36/400\n",
            "169/169 [==============================] - 0s 629us/step - loss: 0.0454 - val_loss: 0.2101\n",
            "Epoch 37/400\n",
            "169/169 [==============================] - 0s 691us/step - loss: 0.0458 - val_loss: 0.2149\n",
            "Epoch 38/400\n",
            "169/169 [==============================] - 0s 622us/step - loss: 0.0438 - val_loss: 0.2141\n",
            "Epoch 39/400\n",
            "169/169 [==============================] - 0s 646us/step - loss: 0.0453 - val_loss: 0.2074\n",
            "Epoch 40/400\n",
            "169/169 [==============================] - 0s 641us/step - loss: 0.0454 - val_loss: 0.2039\n",
            "Epoch 41/400\n",
            "169/169 [==============================] - 0s 603us/step - loss: 0.0444 - val_loss: 0.2017\n",
            "Epoch 42/400\n",
            "169/169 [==============================] - 0s 643us/step - loss: 0.0438 - val_loss: 0.2033\n",
            "Epoch 43/400\n",
            "169/169 [==============================] - 0s 632us/step - loss: 0.0439 - val_loss: 0.2068\n",
            "Epoch 44/400\n",
            "169/169 [==============================] - 0s 607us/step - loss: 0.0449 - val_loss: 0.2010\n",
            "Epoch 45/400\n",
            "169/169 [==============================] - 0s 677us/step - loss: 0.0454 - val_loss: 0.1990\n",
            "Epoch 46/400\n",
            "169/169 [==============================] - 0s 678us/step - loss: 0.0438 - val_loss: 0.2026\n",
            "Epoch 47/400\n",
            "169/169 [==============================] - 0s 611us/step - loss: 0.0444 - val_loss: 0.2087\n",
            "Epoch 48/400\n",
            "169/169 [==============================] - 0s 670us/step - loss: 0.0450 - val_loss: 0.2131\n",
            "Epoch 49/400\n",
            "169/169 [==============================] - 0s 599us/step - loss: 0.0447 - val_loss: 0.2084\n",
            "Epoch 50/400\n",
            "169/169 [==============================] - 0s 638us/step - loss: 0.0437 - val_loss: 0.2070\n",
            "Epoch 51/400\n",
            "169/169 [==============================] - 0s 664us/step - loss: 0.0435 - val_loss: 0.2047\n",
            "Epoch 52/400\n",
            "169/169 [==============================] - 0s 609us/step - loss: 0.0438 - val_loss: 0.2042\n",
            "Epoch 53/400\n",
            "169/169 [==============================] - 0s 609us/step - loss: 0.0437 - val_loss: 0.2027\n",
            "Epoch 54/400\n",
            "169/169 [==============================] - 0s 648us/step - loss: 0.0444 - val_loss: 0.1999\n",
            "Epoch 55/400\n",
            "169/169 [==============================] - 0s 610us/step - loss: 0.0442 - val_loss: 0.1992\n",
            "Epoch 56/400\n",
            "169/169 [==============================] - 0s 676us/step - loss: 0.0427 - val_loss: 0.2015\n",
            "Epoch 57/400\n",
            "169/169 [==============================] - 0s 612us/step - loss: 0.0431 - val_loss: 0.1964\n",
            "Epoch 58/400\n",
            "169/169 [==============================] - 0s 595us/step - loss: 0.0427 - val_loss: 0.1959\n",
            "Epoch 59/400\n",
            "169/169 [==============================] - 0s 617us/step - loss: 0.0432 - val_loss: 0.1941\n",
            "Epoch 60/400\n",
            "169/169 [==============================] - 0s 642us/step - loss: 0.0429 - val_loss: 0.1976\n",
            "Epoch 61/400\n",
            "169/169 [==============================] - 0s 628us/step - loss: 0.0437 - val_loss: 0.1982\n",
            "Epoch 62/400\n",
            "169/169 [==============================] - 0s 667us/step - loss: 0.0430 - val_loss: 0.1957\n",
            "Epoch 63/400\n",
            "169/169 [==============================] - 0s 650us/step - loss: 0.0433 - val_loss: 0.1925\n",
            "Epoch 64/400\n",
            "169/169 [==============================] - 0s 641us/step - loss: 0.0434 - val_loss: 0.1834\n",
            "Epoch 65/400\n",
            "169/169 [==============================] - 0s 680us/step - loss: 0.0427 - val_loss: 0.1814\n",
            "Epoch 66/400\n",
            "169/169 [==============================] - 0s 604us/step - loss: 0.0417 - val_loss: 0.1865\n",
            "Epoch 67/400\n",
            "169/169 [==============================] - 0s 677us/step - loss: 0.0423 - val_loss: 0.1890\n",
            "Epoch 68/400\n",
            "169/169 [==============================] - 0s 599us/step - loss: 0.0427 - val_loss: 0.1907\n",
            "Epoch 69/400\n",
            "169/169 [==============================] - 0s 612us/step - loss: 0.0423 - val_loss: 0.1952\n",
            "Epoch 70/400\n",
            "169/169 [==============================] - 0s 635us/step - loss: 0.0426 - val_loss: 0.1956\n",
            "Epoch 71/400\n",
            "169/169 [==============================] - 0s 661us/step - loss: 0.0423 - val_loss: 0.1960\n",
            "Epoch 72/400\n",
            "169/169 [==============================] - 0s 630us/step - loss: 0.0411 - val_loss: 0.1905\n",
            "Epoch 73/400\n",
            "169/169 [==============================] - 0s 627us/step - loss: 0.0416 - val_loss: 0.1770\n",
            "Epoch 74/400\n",
            "169/169 [==============================] - 0s 713us/step - loss: 0.0418 - val_loss: 0.1719\n",
            "Epoch 75/400\n",
            "169/169 [==============================] - 0s 651us/step - loss: 0.0417 - val_loss: 0.1696\n",
            "Epoch 76/400\n",
            "169/169 [==============================] - 0s 632us/step - loss: 0.0424 - val_loss: 0.1789\n",
            "Epoch 77/400\n",
            "169/169 [==============================] - 0s 633us/step - loss: 0.0408 - val_loss: 0.1884\n",
            "Epoch 78/400\n",
            "169/169 [==============================] - 0s 676us/step - loss: 0.0412 - val_loss: 0.1851\n",
            "Epoch 79/400\n",
            "169/169 [==============================] - 0s 652us/step - loss: 0.0414 - val_loss: 0.1769\n",
            "Epoch 80/400\n",
            "169/169 [==============================] - 0s 651us/step - loss: 0.0412 - val_loss: 0.1665\n",
            "Epoch 81/400\n",
            "169/169 [==============================] - 0s 606us/step - loss: 0.0393 - val_loss: 0.1686\n",
            "Epoch 82/400\n",
            "169/169 [==============================] - 0s 602us/step - loss: 0.0404 - val_loss: 0.1763\n",
            "Epoch 83/400\n",
            "169/169 [==============================] - 0s 623us/step - loss: 0.0396 - val_loss: 0.1783\n",
            "Epoch 84/400\n",
            "169/169 [==============================] - 0s 662us/step - loss: 0.0403 - val_loss: 0.1736\n",
            "Epoch 85/400\n",
            "169/169 [==============================] - 0s 686us/step - loss: 0.0394 - val_loss: 0.1736\n",
            "Epoch 86/400\n",
            "169/169 [==============================] - 0s 725us/step - loss: 0.0389 - val_loss: 0.1705\n",
            "Epoch 87/400\n",
            "169/169 [==============================] - 0s 604us/step - loss: 0.0383 - val_loss: 0.1654\n",
            "Epoch 88/400\n",
            "169/169 [==============================] - 0s 645us/step - loss: 0.0379 - val_loss: 0.1626\n",
            "Epoch 89/400\n",
            "169/169 [==============================] - 0s 653us/step - loss: 0.0378 - val_loss: 0.1585\n",
            "Epoch 90/400\n",
            "169/169 [==============================] - 0s 638us/step - loss: 0.0375 - val_loss: 0.1543\n",
            "Epoch 91/400\n",
            "169/169 [==============================] - 0s 629us/step - loss: 0.0369 - val_loss: 0.1547\n",
            "Epoch 92/400\n",
            "169/169 [==============================] - 0s 616us/step - loss: 0.0373 - val_loss: 0.1563\n",
            "Epoch 93/400\n",
            "169/169 [==============================] - 0s 664us/step - loss: 0.0366 - val_loss: 0.1511\n",
            "Epoch 94/400\n",
            "169/169 [==============================] - 0s 641us/step - loss: 0.0376 - val_loss: 0.1469\n",
            "Epoch 95/400\n",
            "169/169 [==============================] - 0s 676us/step - loss: 0.0354 - val_loss: 0.1511\n",
            "Epoch 96/400\n",
            "169/169 [==============================] - 0s 641us/step - loss: 0.0351 - val_loss: 0.1506\n",
            "Epoch 97/400\n",
            "169/169 [==============================] - 0s 644us/step - loss: 0.0348 - val_loss: 0.1390\n",
            "Epoch 98/400\n",
            "169/169 [==============================] - 0s 664us/step - loss: 0.0341 - val_loss: 0.1275\n",
            "Epoch 99/400\n",
            "169/169 [==============================] - 0s 681us/step - loss: 0.0350 - val_loss: 0.1211\n",
            "Epoch 100/400\n",
            "169/169 [==============================] - 0s 645us/step - loss: 0.0338 - val_loss: 0.1275\n",
            "Epoch 101/400\n",
            "169/169 [==============================] - 0s 635us/step - loss: 0.0317 - val_loss: 0.1269\n",
            "Epoch 102/400\n",
            "169/169 [==============================] - 0s 723us/step - loss: 0.0342 - val_loss: 0.1293\n",
            "Epoch 103/400\n",
            "169/169 [==============================] - 0s 662us/step - loss: 0.0328 - val_loss: 0.1217\n",
            "Epoch 104/400\n",
            "169/169 [==============================] - 0s 609us/step - loss: 0.0316 - val_loss: 0.1173\n",
            "Epoch 105/400\n",
            "169/169 [==============================] - 0s 677us/step - loss: 0.0314 - val_loss: 0.1121\n",
            "Epoch 106/400\n",
            "169/169 [==============================] - 0s 713us/step - loss: 0.0303 - val_loss: 0.1083\n",
            "Epoch 107/400\n",
            "169/169 [==============================] - 0s 644us/step - loss: 0.0317 - val_loss: 0.1071\n",
            "Epoch 108/400\n",
            "169/169 [==============================] - 0s 692us/step - loss: 0.0307 - val_loss: 0.1015\n",
            "Epoch 109/400\n",
            "169/169 [==============================] - 0s 668us/step - loss: 0.0308 - val_loss: 0.1000\n",
            "Epoch 110/400\n",
            "169/169 [==============================] - 0s 686us/step - loss: 0.0291 - val_loss: 0.0923\n",
            "Epoch 111/400\n",
            "169/169 [==============================] - 0s 706us/step - loss: 0.0271 - val_loss: 0.0880\n",
            "Epoch 112/400\n",
            "169/169 [==============================] - 0s 642us/step - loss: 0.0284 - val_loss: 0.0906\n",
            "Epoch 113/400\n",
            "169/169 [==============================] - 0s 636us/step - loss: 0.0267 - val_loss: 0.0902\n",
            "Epoch 114/400\n",
            "169/169 [==============================] - 0s 655us/step - loss: 0.0279 - val_loss: 0.0827\n",
            "Epoch 115/400\n",
            "169/169 [==============================] - 0s 614us/step - loss: 0.0255 - val_loss: 0.0731\n",
            "Epoch 116/400\n",
            "169/169 [==============================] - 0s 697us/step - loss: 0.0253 - val_loss: 0.0625\n",
            "Epoch 117/400\n",
            "169/169 [==============================] - 0s 646us/step - loss: 0.0274 - val_loss: 0.0594\n",
            "Epoch 118/400\n",
            "169/169 [==============================] - 0s 618us/step - loss: 0.0242 - val_loss: 0.0660\n",
            "Epoch 119/400\n",
            "169/169 [==============================] - 0s 672us/step - loss: 0.0229 - val_loss: 0.0626\n",
            "Epoch 120/400\n",
            "169/169 [==============================] - 0s 676us/step - loss: 0.0236 - val_loss: 0.0574\n",
            "Epoch 121/400\n",
            "169/169 [==============================] - 0s 639us/step - loss: 0.0241 - val_loss: 0.0480\n",
            "Epoch 122/400\n",
            "169/169 [==============================] - 0s 656us/step - loss: 0.0238 - val_loss: 0.0470\n",
            "Epoch 123/400\n",
            "169/169 [==============================] - 0s 636us/step - loss: 0.0230 - val_loss: 0.0478\n",
            "Epoch 124/400\n",
            "169/169 [==============================] - 0s 640us/step - loss: 0.0224 - val_loss: 0.0434\n",
            "Epoch 125/400\n",
            "169/169 [==============================] - 0s 635us/step - loss: 0.0235 - val_loss: 0.0362\n",
            "Epoch 126/400\n",
            "169/169 [==============================] - 0s 634us/step - loss: 0.0206 - val_loss: 0.0337\n",
            "Epoch 127/400\n",
            "169/169 [==============================] - 0s 680us/step - loss: 0.0209 - val_loss: 0.0362\n",
            "Epoch 128/400\n",
            "169/169 [==============================] - 0s 637us/step - loss: 0.0204 - val_loss: 0.0374\n",
            "Epoch 129/400\n",
            "169/169 [==============================] - 0s 668us/step - loss: 0.0229 - val_loss: 0.0338\n",
            "Epoch 130/400\n",
            "169/169 [==============================] - 0s 646us/step - loss: 0.0201 - val_loss: 0.0275\n",
            "Epoch 131/400\n",
            "169/169 [==============================] - 0s 623us/step - loss: 0.0204 - val_loss: 0.0267\n",
            "Epoch 132/400\n",
            "169/169 [==============================] - 0s 607us/step - loss: 0.0203 - val_loss: 0.0291\n",
            "Epoch 133/400\n",
            "169/169 [==============================] - 0s 640us/step - loss: 0.0202 - val_loss: 0.0264\n",
            "Epoch 134/400\n",
            "169/169 [==============================] - 0s 671us/step - loss: 0.0198 - val_loss: 0.0240\n",
            "Epoch 135/400\n",
            "169/169 [==============================] - 0s 656us/step - loss: 0.0207 - val_loss: 0.0213\n",
            "Epoch 136/400\n",
            "169/169 [==============================] - 0s 634us/step - loss: 0.0190 - val_loss: 0.0201\n",
            "Epoch 137/400\n",
            "169/169 [==============================] - 0s 669us/step - loss: 0.0228 - val_loss: 0.0243\n",
            "Epoch 138/400\n",
            "169/169 [==============================] - 0s 684us/step - loss: 0.0178 - val_loss: 0.0237\n",
            "Epoch 139/400\n",
            "169/169 [==============================] - 0s 616us/step - loss: 0.0186 - val_loss: 0.0197\n",
            "Epoch 140/400\n",
            "169/169 [==============================] - 0s 646us/step - loss: 0.0188 - val_loss: 0.0184\n",
            "Epoch 141/400\n",
            "169/169 [==============================] - 0s 649us/step - loss: 0.0215 - val_loss: 0.0189\n",
            "Epoch 142/400\n",
            "169/169 [==============================] - 0s 668us/step - loss: 0.0205 - val_loss: 0.0203\n",
            "Epoch 143/400\n",
            "169/169 [==============================] - 0s 650us/step - loss: 0.0198 - val_loss: 0.0198\n",
            "Epoch 144/400\n",
            "169/169 [==============================] - 0s 692us/step - loss: 0.0193 - val_loss: 0.0176\n",
            "Epoch 145/400\n",
            "169/169 [==============================] - 0s 646us/step - loss: 0.0185 - val_loss: 0.0190\n",
            "Epoch 146/400\n",
            "169/169 [==============================] - 0s 650us/step - loss: 0.0202 - val_loss: 0.0196\n",
            "Epoch 147/400\n",
            "169/169 [==============================] - 0s 693us/step - loss: 0.0204 - val_loss: 0.0187\n",
            "Epoch 148/400\n",
            "169/169 [==============================] - 0s 646us/step - loss: 0.0195 - val_loss: 0.0190\n",
            "Epoch 149/400\n",
            "169/169 [==============================] - 0s 652us/step - loss: 0.0197 - val_loss: 0.0228\n",
            "Epoch 150/400\n",
            "169/169 [==============================] - 0s 670us/step - loss: 0.0177 - val_loss: 0.0191\n",
            "Epoch 151/400\n",
            "169/169 [==============================] - 0s 644us/step - loss: 0.0215 - val_loss: 0.0186\n",
            "Epoch 152/400\n",
            "169/169 [==============================] - 0s 697us/step - loss: 0.0179 - val_loss: 0.0190\n",
            "Epoch 153/400\n",
            "169/169 [==============================] - 0s 684us/step - loss: 0.0178 - val_loss: 0.0200\n",
            "Epoch 154/400\n",
            "169/169 [==============================] - 0s 635us/step - loss: 0.0216 - val_loss: 0.0172\n",
            "Epoch 155/400\n",
            "169/169 [==============================] - 0s 736us/step - loss: 0.0213 - val_loss: 0.0156\n",
            "Epoch 156/400\n",
            "169/169 [==============================] - 0s 698us/step - loss: 0.0198 - val_loss: 0.0190\n",
            "Epoch 157/400\n",
            "169/169 [==============================] - 0s 648us/step - loss: 0.0199 - val_loss: 0.0235\n",
            "Epoch 158/400\n",
            "169/169 [==============================] - 0s 673us/step - loss: 0.0200 - val_loss: 0.0222\n",
            "Epoch 159/400\n",
            "169/169 [==============================] - 0s 632us/step - loss: 0.0196 - val_loss: 0.0184\n",
            "Epoch 160/400\n",
            "169/169 [==============================] - 0s 681us/step - loss: 0.0191 - val_loss: 0.0169\n",
            "Epoch 161/400\n",
            "169/169 [==============================] - 0s 722us/step - loss: 0.0201 - val_loss: 0.0176\n",
            "Epoch 162/400\n",
            "169/169 [==============================] - 0s 691us/step - loss: 0.0186 - val_loss: 0.0201\n",
            "Epoch 163/400\n",
            "169/169 [==============================] - 0s 642us/step - loss: 0.0216 - val_loss: 0.0223\n",
            "Epoch 164/400\n",
            "169/169 [==============================] - 0s 640us/step - loss: 0.0209 - val_loss: 0.0185\n",
            "Epoch 165/400\n",
            "169/169 [==============================] - 0s 676us/step - loss: 0.0193 - val_loss: 0.0177\n",
            "Epoch 166/400\n",
            "169/169 [==============================] - 0s 631us/step - loss: 0.0184 - val_loss: 0.0190\n",
            "Epoch 167/400\n",
            "169/169 [==============================] - 0s 629us/step - loss: 0.0185 - val_loss: 0.0203\n",
            "Epoch 168/400\n",
            "169/169 [==============================] - 0s 649us/step - loss: 0.0184 - val_loss: 0.0225\n",
            "Epoch 169/400\n",
            "169/169 [==============================] - 0s 619us/step - loss: 0.0217 - val_loss: 0.0221\n",
            "Epoch 170/400\n",
            "169/169 [==============================] - 0s 677us/step - loss: 0.0202 - val_loss: 0.0183\n",
            "Epoch 171/400\n",
            "169/169 [==============================] - 0s 610us/step - loss: 0.0221 - val_loss: 0.0193\n",
            "Epoch 172/400\n",
            "169/169 [==============================] - 0s 640us/step - loss: 0.0225 - val_loss: 0.0187\n",
            "Epoch 173/400\n",
            "169/169 [==============================] - 0s 639us/step - loss: 0.0205 - val_loss: 0.0200\n",
            "Epoch 174/400\n",
            "169/169 [==============================] - 0s 658us/step - loss: 0.0184 - val_loss: 0.0220\n",
            "Epoch 175/400\n",
            "169/169 [==============================] - 0s 671us/step - loss: 0.0192 - val_loss: 0.0214\n",
            "Epoch 176/400\n",
            "169/169 [==============================] - 0s 674us/step - loss: 0.0213 - val_loss: 0.0198\n",
            "Epoch 177/400\n",
            "169/169 [==============================] - 0s 708us/step - loss: 0.0189 - val_loss: 0.0182\n",
            "Epoch 178/400\n",
            "169/169 [==============================] - 0s 673us/step - loss: 0.0200 - val_loss: 0.0218\n",
            "Epoch 179/400\n",
            "169/169 [==============================] - 0s 666us/step - loss: 0.0217 - val_loss: 0.0266\n",
            "Epoch 180/400\n",
            "169/169 [==============================] - 0s 685us/step - loss: 0.0205 - val_loss: 0.0228\n",
            "Epoch 181/400\n",
            "169/169 [==============================] - 0s 645us/step - loss: 0.0193 - val_loss: 0.0195\n",
            "Epoch 182/400\n",
            "169/169 [==============================] - 0s 637us/step - loss: 0.0207 - val_loss: 0.0186\n",
            "Epoch 183/400\n",
            "169/169 [==============================] - 0s 697us/step - loss: 0.0191 - val_loss: 0.0180\n",
            "Epoch 184/400\n",
            "169/169 [==============================] - 0s 628us/step - loss: 0.0188 - val_loss: 0.0183\n",
            "Epoch 185/400\n",
            "169/169 [==============================] - 0s 636us/step - loss: 0.0207 - val_loss: 0.0183\n",
            "Epoch 186/400\n",
            "169/169 [==============================] - 0s 601us/step - loss: 0.0197 - val_loss: 0.0187\n",
            "Epoch 187/400\n",
            "169/169 [==============================] - 0s 593us/step - loss: 0.0217 - val_loss: 0.0205\n",
            "Epoch 188/400\n",
            "169/169 [==============================] - 0s 600us/step - loss: 0.0206 - val_loss: 0.0221\n",
            "Epoch 189/400\n",
            "169/169 [==============================] - 0s 603us/step - loss: 0.0204 - val_loss: 0.0213\n",
            "Epoch 190/400\n",
            "169/169 [==============================] - 0s 649us/step - loss: 0.0201 - val_loss: 0.0206\n",
            "Epoch 191/400\n",
            "169/169 [==============================] - 0s 621us/step - loss: 0.0182 - val_loss: 0.0190\n",
            "Epoch 192/400\n",
            "169/169 [==============================] - 0s 634us/step - loss: 0.0207 - val_loss: 0.0211\n",
            "Epoch 193/400\n",
            "169/169 [==============================] - 0s 627us/step - loss: 0.0205 - val_loss: 0.0219\n",
            "Epoch 194/400\n",
            "169/169 [==============================] - 0s 635us/step - loss: 0.0194 - val_loss: 0.0195\n",
            "Epoch 195/400\n",
            "169/169 [==============================] - 0s 651us/step - loss: 0.0192 - val_loss: 0.0185\n",
            "Epoch 196/400\n",
            "169/169 [==============================] - 0s 632us/step - loss: 0.0206 - val_loss: 0.0179\n",
            "Epoch 197/400\n",
            "169/169 [==============================] - 0s 655us/step - loss: 0.0185 - val_loss: 0.0190\n",
            "Epoch 198/400\n",
            "169/169 [==============================] - 0s 629us/step - loss: 0.0180 - val_loss: 0.0218\n",
            "Epoch 199/400\n",
            "169/169 [==============================] - 0s 608us/step - loss: 0.0194 - val_loss: 0.0217\n",
            "Epoch 200/400\n",
            "169/169 [==============================] - 0s 664us/step - loss: 0.0212 - val_loss: 0.0199\n",
            "Epoch 201/400\n",
            "169/169 [==============================] - 0s 604us/step - loss: 0.0191 - val_loss: 0.0188\n",
            "Epoch 202/400\n",
            "169/169 [==============================] - 0s 675us/step - loss: 0.0196 - val_loss: 0.0188\n",
            "Epoch 203/400\n",
            "169/169 [==============================] - 0s 664us/step - loss: 0.0205 - val_loss: 0.0191\n",
            "Epoch 204/400\n",
            "169/169 [==============================] - 0s 640us/step - loss: 0.0188 - val_loss: 0.0188\n",
            "Epoch 205/400\n",
            "169/169 [==============================] - 0s 609us/step - loss: 0.0170 - val_loss: 0.0192\n",
            "Epoch 206/400\n",
            "169/169 [==============================] - 0s 700us/step - loss: 0.0210 - val_loss: 0.0180\n",
            "Epoch 207/400\n",
            "169/169 [==============================] - 0s 658us/step - loss: 0.0191 - val_loss: 0.0199\n",
            "Epoch 208/400\n",
            "169/169 [==============================] - 0s 650us/step - loss: 0.0201 - val_loss: 0.0191\n",
            "Epoch 209/400\n",
            "169/169 [==============================] - 0s 660us/step - loss: 0.0185 - val_loss: 0.0184\n",
            "Epoch 210/400\n",
            "169/169 [==============================] - 0s 659us/step - loss: 0.0182 - val_loss: 0.0180\n",
            "Epoch 211/400\n",
            "169/169 [==============================] - 0s 702us/step - loss: 0.0176 - val_loss: 0.0191\n",
            "Epoch 212/400\n",
            "169/169 [==============================] - 0s 656us/step - loss: 0.0205 - val_loss: 0.0174\n",
            "Epoch 213/400\n",
            "169/169 [==============================] - 0s 670us/step - loss: 0.0188 - val_loss: 0.0188\n",
            "Epoch 214/400\n",
            "169/169 [==============================] - 0s 702us/step - loss: 0.0187 - val_loss: 0.0181\n",
            "Epoch 215/400\n",
            "169/169 [==============================] - 0s 676us/step - loss: 0.0207 - val_loss: 0.0189\n",
            "Epoch 216/400\n",
            "169/169 [==============================] - 0s 683us/step - loss: 0.0187 - val_loss: 0.0166\n",
            "Epoch 217/400\n",
            "169/169 [==============================] - 0s 648us/step - loss: 0.0206 - val_loss: 0.0147\n",
            "Epoch 218/400\n",
            "169/169 [==============================] - 0s 686us/step - loss: 0.0201 - val_loss: 0.0185\n",
            "Epoch 219/400\n",
            "169/169 [==============================] - 0s 651us/step - loss: 0.0187 - val_loss: 0.0203\n",
            "Epoch 220/400\n",
            "169/169 [==============================] - 0s 706us/step - loss: 0.0179 - val_loss: 0.0188\n",
            "Epoch 221/400\n",
            "169/169 [==============================] - 0s 638us/step - loss: 0.0189 - val_loss: 0.0168\n",
            "Epoch 222/400\n",
            "169/169 [==============================] - 0s 609us/step - loss: 0.0208 - val_loss: 0.0175\n",
            "Epoch 223/400\n",
            "169/169 [==============================] - 0s 656us/step - loss: 0.0199 - val_loss: 0.0195\n",
            "Epoch 224/400\n",
            "169/169 [==============================] - 0s 640us/step - loss: 0.0197 - val_loss: 0.0200\n",
            "Epoch 225/400\n",
            "169/169 [==============================] - 0s 630us/step - loss: 0.0190 - val_loss: 0.0196\n",
            "Epoch 226/400\n",
            "169/169 [==============================] - 0s 655us/step - loss: 0.0203 - val_loss: 0.0173\n",
            "Epoch 227/400\n",
            "169/169 [==============================] - 0s 654us/step - loss: 0.0198 - val_loss: 0.0165\n",
            "Epoch 228/400\n",
            "169/169 [==============================] - 0s 650us/step - loss: 0.0192 - val_loss: 0.0183\n",
            "Epoch 229/400\n",
            "169/169 [==============================] - 0s 672us/step - loss: 0.0203 - val_loss: 0.0218\n",
            "Epoch 230/400\n",
            "169/169 [==============================] - 0s 614us/step - loss: 0.0204 - val_loss: 0.0215\n",
            "Epoch 231/400\n",
            "169/169 [==============================] - 0s 695us/step - loss: 0.0198 - val_loss: 0.0197\n",
            "Epoch 232/400\n",
            "169/169 [==============================] - 0s 648us/step - loss: 0.0216 - val_loss: 0.0196\n",
            "Epoch 233/400\n",
            "169/169 [==============================] - 0s 647us/step - loss: 0.0192 - val_loss: 0.0204\n",
            "Epoch 234/400\n",
            "169/169 [==============================] - 0s 666us/step - loss: 0.0192 - val_loss: 0.0204\n",
            "Epoch 235/400\n",
            "169/169 [==============================] - 0s 647us/step - loss: 0.0190 - val_loss: 0.0175\n",
            "Epoch 236/400\n",
            "169/169 [==============================] - 0s 656us/step - loss: 0.0216 - val_loss: 0.0174\n",
            "Epoch 237/400\n",
            "169/169 [==============================] - 0s 639us/step - loss: 0.0179 - val_loss: 0.0186\n",
            "Epoch 238/400\n",
            "169/169 [==============================] - 0s 684us/step - loss: 0.0194 - val_loss: 0.0190\n",
            "Epoch 239/400\n",
            "169/169 [==============================] - 0s 645us/step - loss: 0.0185 - val_loss: 0.0185\n",
            "Epoch 240/400\n",
            "169/169 [==============================] - 0s 637us/step - loss: 0.0199 - val_loss: 0.0173\n",
            "Epoch 241/400\n",
            "169/169 [==============================] - 0s 645us/step - loss: 0.0181 - val_loss: 0.0179\n",
            "Epoch 242/400\n",
            "169/169 [==============================] - 0s 653us/step - loss: 0.0181 - val_loss: 0.0188\n",
            "Epoch 243/400\n",
            "169/169 [==============================] - 0s 651us/step - loss: 0.0183 - val_loss: 0.0178\n",
            "Epoch 244/400\n",
            "169/169 [==============================] - 0s 639us/step - loss: 0.0207 - val_loss: 0.0160\n",
            "Epoch 245/400\n",
            "169/169 [==============================] - 0s 643us/step - loss: 0.0194 - val_loss: 0.0158\n",
            "Epoch 246/400\n",
            "169/169 [==============================] - 0s 668us/step - loss: 0.0189 - val_loss: 0.0164\n",
            "Epoch 247/400\n",
            "169/169 [==============================] - 0s 673us/step - loss: 0.0188 - val_loss: 0.0193\n",
            "Epoch 248/400\n",
            "169/169 [==============================] - 0s 601us/step - loss: 0.0202 - val_loss: 0.0194\n",
            "Epoch 249/400\n",
            "169/169 [==============================] - 0s 681us/step - loss: 0.0170 - val_loss: 0.0175\n",
            "Epoch 250/400\n",
            "169/169 [==============================] - 0s 616us/step - loss: 0.0198 - val_loss: 0.0152\n",
            "Epoch 251/400\n",
            "169/169 [==============================] - 0s 641us/step - loss: 0.0201 - val_loss: 0.0154\n",
            "Epoch 252/400\n",
            "169/169 [==============================] - 0s 649us/step - loss: 0.0167 - val_loss: 0.0176\n",
            "Epoch 253/400\n",
            "169/169 [==============================] - 0s 633us/step - loss: 0.0176 - val_loss: 0.0184\n",
            "Epoch 254/400\n",
            "169/169 [==============================] - 0s 651us/step - loss: 0.0207 - val_loss: 0.0181\n",
            "Epoch 255/400\n",
            "169/169 [==============================] - 0s 652us/step - loss: 0.0186 - val_loss: 0.0180\n",
            "Epoch 256/400\n",
            "169/169 [==============================] - 0s 641us/step - loss: 0.0195 - val_loss: 0.0143\n",
            "Epoch 257/400\n",
            "169/169 [==============================] - 0s 653us/step - loss: 0.0202 - val_loss: 0.0153\n",
            "Epoch 258/400\n",
            "169/169 [==============================] - 0s 604us/step - loss: 0.0179 - val_loss: 0.0186\n",
            "Epoch 259/400\n",
            "169/169 [==============================] - 0s 645us/step - loss: 0.0201 - val_loss: 0.0182\n",
            "Epoch 260/400\n",
            "169/169 [==============================] - 0s 655us/step - loss: 0.0179 - val_loss: 0.0161\n",
            "Epoch 261/400\n",
            "169/169 [==============================] - 0s 614us/step - loss: 0.0196 - val_loss: 0.0147\n",
            "Epoch 262/400\n",
            "169/169 [==============================] - 0s 665us/step - loss: 0.0204 - val_loss: 0.0160\n",
            "Epoch 263/400\n",
            "169/169 [==============================] - 0s 636us/step - loss: 0.0200 - val_loss: 0.0177\n",
            "Epoch 264/400\n",
            "169/169 [==============================] - 0s 640us/step - loss: 0.0204 - val_loss: 0.0190\n",
            "Epoch 265/400\n",
            "169/169 [==============================] - 0s 620us/step - loss: 0.0201 - val_loss: 0.0189\n",
            "Epoch 266/400\n",
            "169/169 [==============================] - 0s 682us/step - loss: 0.0171 - val_loss: 0.0220\n",
            "Epoch 267/400\n",
            "169/169 [==============================] - 0s 674us/step - loss: 0.0208 - val_loss: 0.0207\n",
            "Epoch 268/400\n",
            "169/169 [==============================] - 0s 609us/step - loss: 0.0202 - val_loss: 0.0183\n",
            "Epoch 269/400\n",
            "169/169 [==============================] - 0s 607us/step - loss: 0.0168 - val_loss: 0.0191\n",
            "Epoch 270/400\n",
            "169/169 [==============================] - 0s 674us/step - loss: 0.0180 - val_loss: 0.0202\n",
            "Epoch 271/400\n",
            "169/169 [==============================] - 0s 617us/step - loss: 0.0178 - val_loss: 0.0209\n",
            "Epoch 272/400\n",
            "169/169 [==============================] - 0s 650us/step - loss: 0.0176 - val_loss: 0.0208\n",
            "Epoch 273/400\n",
            "169/169 [==============================] - 0s 649us/step - loss: 0.0211 - val_loss: 0.0178\n",
            "Epoch 274/400\n",
            "169/169 [==============================] - 0s 598us/step - loss: 0.0200 - val_loss: 0.0157\n",
            "Epoch 275/400\n",
            "169/169 [==============================] - 0s 687us/step - loss: 0.0180 - val_loss: 0.0187\n",
            "Epoch 276/400\n",
            "169/169 [==============================] - 0s 601us/step - loss: 0.0192 - val_loss: 0.0196\n",
            "Epoch 277/400\n",
            "169/169 [==============================] - 0s 654us/step - loss: 0.0182 - val_loss: 0.0191\n",
            "Epoch 278/400\n",
            "169/169 [==============================] - 0s 605us/step - loss: 0.0192 - val_loss: 0.0173\n",
            "Epoch 279/400\n",
            "169/169 [==============================] - 0s 606us/step - loss: 0.0209 - val_loss: 0.0172\n",
            "Epoch 280/400\n",
            "169/169 [==============================] - 0s 607us/step - loss: 0.0188 - val_loss: 0.0171\n",
            "Epoch 281/400\n",
            "169/169 [==============================] - 0s 625us/step - loss: 0.0172 - val_loss: 0.0167\n",
            "Epoch 282/400\n",
            "169/169 [==============================] - 0s 628us/step - loss: 0.0197 - val_loss: 0.0169\n",
            "Epoch 283/400\n",
            "169/169 [==============================] - 0s 669us/step - loss: 0.0191 - val_loss: 0.0205\n",
            "Epoch 284/400\n",
            "169/169 [==============================] - 0s 640us/step - loss: 0.0199 - val_loss: 0.0225\n",
            "Epoch 285/400\n",
            "169/169 [==============================] - 0s 648us/step - loss: 0.0189 - val_loss: 0.0195\n",
            "Epoch 286/400\n",
            "169/169 [==============================] - 0s 671us/step - loss: 0.0173 - val_loss: 0.0176\n",
            "Epoch 287/400\n",
            "169/169 [==============================] - 0s 637us/step - loss: 0.0202 - val_loss: 0.0178\n",
            "Epoch 288/400\n",
            "169/169 [==============================] - 0s 663us/step - loss: 0.0191 - val_loss: 0.0217\n",
            "Epoch 289/400\n",
            "169/169 [==============================] - 0s 639us/step - loss: 0.0194 - val_loss: 0.0207\n",
            "Epoch 290/400\n",
            "169/169 [==============================] - 0s 629us/step - loss: 0.0185 - val_loss: 0.0191\n",
            "Epoch 291/400\n",
            "169/169 [==============================] - 0s 613us/step - loss: 0.0176 - val_loss: 0.0162\n",
            "Epoch 292/400\n",
            "169/169 [==============================] - 0s 629us/step - loss: 0.0196 - val_loss: 0.0173\n",
            "Epoch 293/400\n",
            "169/169 [==============================] - 0s 651us/step - loss: 0.0199 - val_loss: 0.0186\n",
            "Epoch 294/400\n",
            "169/169 [==============================] - 0s 667us/step - loss: 0.0170 - val_loss: 0.0188\n",
            "Epoch 295/400\n",
            "169/169 [==============================] - 0s 598us/step - loss: 0.0168 - val_loss: 0.0168\n",
            "Epoch 296/400\n",
            "169/169 [==============================] - 0s 641us/step - loss: 0.0198 - val_loss: 0.0155\n",
            "Epoch 297/400\n",
            "169/169 [==============================] - 0s 635us/step - loss: 0.0183 - val_loss: 0.0158\n",
            "Epoch 298/400\n",
            "169/169 [==============================] - 0s 669us/step - loss: 0.0179 - val_loss: 0.0164\n",
            "Epoch 299/400\n",
            "169/169 [==============================] - 0s 636us/step - loss: 0.0192 - val_loss: 0.0163\n",
            "Epoch 300/400\n",
            "169/169 [==============================] - 0s 652us/step - loss: 0.0217 - val_loss: 0.0170\n",
            "Epoch 301/400\n",
            "169/169 [==============================] - 0s 633us/step - loss: 0.0184 - val_loss: 0.0196\n",
            "Epoch 302/400\n",
            "169/169 [==============================] - 0s 649us/step - loss: 0.0194 - val_loss: 0.0173\n",
            "Epoch 303/400\n",
            "169/169 [==============================] - 0s 697us/step - loss: 0.0182 - val_loss: 0.0176\n",
            "Epoch 304/400\n",
            "169/169 [==============================] - 0s 616us/step - loss: 0.0191 - val_loss: 0.0153\n",
            "Epoch 305/400\n",
            "169/169 [==============================] - 0s 646us/step - loss: 0.0200 - val_loss: 0.0161\n",
            "Epoch 306/400\n",
            "169/169 [==============================] - 0s 598us/step - loss: 0.0159 - val_loss: 0.0170\n",
            "Epoch 307/400\n",
            "169/169 [==============================] - 0s 666us/step - loss: 0.0201 - val_loss: 0.0170\n",
            "Epoch 308/400\n",
            "169/169 [==============================] - 0s 626us/step - loss: 0.0191 - val_loss: 0.0175\n",
            "Epoch 309/400\n",
            "169/169 [==============================] - 0s 630us/step - loss: 0.0195 - val_loss: 0.0163\n",
            "Epoch 310/400\n",
            "169/169 [==============================] - 0s 631us/step - loss: 0.0164 - val_loss: 0.0176\n",
            "Epoch 311/400\n",
            "169/169 [==============================] - 0s 637us/step - loss: 0.0181 - val_loss: 0.0184\n",
            "Epoch 312/400\n",
            "169/169 [==============================] - 0s 665us/step - loss: 0.0194 - val_loss: 0.0186\n",
            "Epoch 313/400\n",
            "169/169 [==============================] - 0s 655us/step - loss: 0.0159 - val_loss: 0.0179\n",
            "Epoch 314/400\n",
            "169/169 [==============================] - 0s 627us/step - loss: 0.0185 - val_loss: 0.0179\n",
            "Epoch 315/400\n",
            "169/169 [==============================] - 0s 645us/step - loss: 0.0169 - val_loss: 0.0170\n",
            "Epoch 316/400\n",
            "169/169 [==============================] - 0s 650us/step - loss: 0.0160 - val_loss: 0.0159\n",
            "Epoch 317/400\n",
            "169/169 [==============================] - 0s 607us/step - loss: 0.0172 - val_loss: 0.0171\n",
            "Epoch 318/400\n",
            "169/169 [==============================] - 0s 646us/step - loss: 0.0179 - val_loss: 0.0185\n",
            "Epoch 319/400\n",
            "169/169 [==============================] - 0s 669us/step - loss: 0.0191 - val_loss: 0.0189\n",
            "Epoch 320/400\n",
            "169/169 [==============================] - 0s 652us/step - loss: 0.0198 - val_loss: 0.0201\n",
            "Epoch 321/400\n",
            "169/169 [==============================] - 0s 729us/step - loss: 0.0169 - val_loss: 0.0178\n",
            "Epoch 322/400\n",
            "169/169 [==============================] - 0s 658us/step - loss: 0.0184 - val_loss: 0.0155\n",
            "Epoch 323/400\n",
            "169/169 [==============================] - 0s 655us/step - loss: 0.0183 - val_loss: 0.0171\n",
            "Epoch 324/400\n",
            "169/169 [==============================] - 0s 609us/step - loss: 0.0170 - val_loss: 0.0173\n",
            "Epoch 325/400\n",
            "169/169 [==============================] - 0s 612us/step - loss: 0.0193 - val_loss: 0.0187\n",
            "Epoch 326/400\n",
            "169/169 [==============================] - 0s 634us/step - loss: 0.0188 - val_loss: 0.0187\n",
            "Epoch 327/400\n",
            "169/169 [==============================] - 0s 635us/step - loss: 0.0176 - val_loss: 0.0191\n",
            "Epoch 328/400\n",
            "169/169 [==============================] - 0s 646us/step - loss: 0.0187 - val_loss: 0.0198\n",
            "Epoch 329/400\n",
            "169/169 [==============================] - 0s 623us/step - loss: 0.0186 - val_loss: 0.0196\n",
            "Epoch 330/400\n",
            "169/169 [==============================] - 0s 644us/step - loss: 0.0178 - val_loss: 0.0199\n",
            "Epoch 331/400\n",
            "169/169 [==============================] - 0s 681us/step - loss: 0.0184 - val_loss: 0.0193\n",
            "Epoch 332/400\n",
            "169/169 [==============================] - 0s 630us/step - loss: 0.0180 - val_loss: 0.0203\n",
            "Epoch 333/400\n",
            "169/169 [==============================] - 0s 650us/step - loss: 0.0184 - val_loss: 0.0195\n",
            "Epoch 334/400\n",
            "169/169 [==============================] - 0s 656us/step - loss: 0.0163 - val_loss: 0.0182\n",
            "Epoch 335/400\n",
            "169/169 [==============================] - 0s 651us/step - loss: 0.0169 - val_loss: 0.0180\n",
            "Epoch 336/400\n",
            "169/169 [==============================] - 0s 653us/step - loss: 0.0178 - val_loss: 0.0175\n",
            "Epoch 337/400\n",
            "169/169 [==============================] - 0s 642us/step - loss: 0.0179 - val_loss: 0.0167\n",
            "Epoch 338/400\n",
            "169/169 [==============================] - 0s 702us/step - loss: 0.0180 - val_loss: 0.0197\n",
            "Epoch 339/400\n",
            "169/169 [==============================] - 0s 658us/step - loss: 0.0181 - val_loss: 0.0194\n",
            "Epoch 340/400\n",
            "169/169 [==============================] - 0s 727us/step - loss: 0.0189 - val_loss: 0.0177\n",
            "Epoch 341/400\n",
            "169/169 [==============================] - 0s 635us/step - loss: 0.0182 - val_loss: 0.0153\n",
            "Epoch 342/400\n",
            "169/169 [==============================] - 0s 645us/step - loss: 0.0193 - val_loss: 0.0162\n",
            "Epoch 343/400\n",
            "169/169 [==============================] - 0s 655us/step - loss: 0.0185 - val_loss: 0.0182\n",
            "Epoch 344/400\n",
            "169/169 [==============================] - 0s 647us/step - loss: 0.0181 - val_loss: 0.0188\n",
            "Epoch 345/400\n",
            "169/169 [==============================] - 0s 603us/step - loss: 0.0182 - val_loss: 0.0179\n",
            "Epoch 346/400\n",
            "169/169 [==============================] - 0s 605us/step - loss: 0.0197 - val_loss: 0.0158\n",
            "Epoch 347/400\n",
            "169/169 [==============================] - 0s 650us/step - loss: 0.0186 - val_loss: 0.0167\n",
            "Epoch 348/400\n",
            "169/169 [==============================] - 0s 645us/step - loss: 0.0198 - val_loss: 0.0205\n",
            "Epoch 349/400\n",
            "169/169 [==============================] - 0s 652us/step - loss: 0.0189 - val_loss: 0.0225\n",
            "Epoch 350/400\n",
            "169/169 [==============================] - 0s 636us/step - loss: 0.0175 - val_loss: 0.0215\n",
            "Epoch 351/400\n",
            "169/169 [==============================] - 0s 653us/step - loss: 0.0193 - val_loss: 0.0181\n",
            "Epoch 352/400\n",
            "169/169 [==============================] - 0s 598us/step - loss: 0.0169 - val_loss: 0.0166\n",
            "Epoch 353/400\n",
            "169/169 [==============================] - 0s 604us/step - loss: 0.0165 - val_loss: 0.0182\n",
            "Epoch 354/400\n",
            "169/169 [==============================] - 0s 678us/step - loss: 0.0170 - val_loss: 0.0196\n",
            "Epoch 355/400\n",
            "169/169 [==============================] - 0s 643us/step - loss: 0.0191 - val_loss: 0.0217\n",
            "Epoch 356/400\n",
            "169/169 [==============================] - 0s 648us/step - loss: 0.0190 - val_loss: 0.0201\n",
            "Epoch 357/400\n",
            "169/169 [==============================] - 0s 663us/step - loss: 0.0188 - val_loss: 0.0177\n",
            "Epoch 358/400\n",
            "169/169 [==============================] - 0s 667us/step - loss: 0.0187 - val_loss: 0.0157\n",
            "Epoch 359/400\n",
            "169/169 [==============================] - 0s 691us/step - loss: 0.0192 - val_loss: 0.0161\n",
            "Epoch 360/400\n",
            "169/169 [==============================] - 0s 649us/step - loss: 0.0184 - val_loss: 0.0190\n",
            "Epoch 361/400\n",
            "169/169 [==============================] - 0s 667us/step - loss: 0.0194 - val_loss: 0.0203\n",
            "Epoch 362/400\n",
            "169/169 [==============================] - 0s 652us/step - loss: 0.0195 - val_loss: 0.0176\n",
            "Epoch 363/400\n",
            "169/169 [==============================] - 0s 652us/step - loss: 0.0161 - val_loss: 0.0154\n",
            "Epoch 364/400\n",
            "169/169 [==============================] - 0s 648us/step - loss: 0.0195 - val_loss: 0.0153\n",
            "Epoch 365/400\n",
            "169/169 [==============================] - 0s 645us/step - loss: 0.0152 - val_loss: 0.0189\n",
            "Epoch 366/400\n",
            "169/169 [==============================] - 0s 622us/step - loss: 0.0186 - val_loss: 0.0213\n",
            "Epoch 367/400\n",
            "169/169 [==============================] - 0s 692us/step - loss: 0.0170 - val_loss: 0.0180\n",
            "Epoch 368/400\n",
            "169/169 [==============================] - 0s 631us/step - loss: 0.0160 - val_loss: 0.0149\n",
            "Epoch 369/400\n",
            "169/169 [==============================] - 0s 667us/step - loss: 0.0179 - val_loss: 0.0158\n",
            "Epoch 370/400\n",
            "169/169 [==============================] - 0s 648us/step - loss: 0.0208 - val_loss: 0.0196\n",
            "Epoch 371/400\n",
            "169/169 [==============================] - 0s 638us/step - loss: 0.0177 - val_loss: 0.0201\n",
            "Epoch 372/400\n",
            "169/169 [==============================] - 0s 676us/step - loss: 0.0190 - val_loss: 0.0157\n",
            "Epoch 373/400\n",
            "169/169 [==============================] - 0s 644us/step - loss: 0.0168 - val_loss: 0.0149\n",
            "Epoch 374/400\n",
            "169/169 [==============================] - 0s 647us/step - loss: 0.0174 - val_loss: 0.0178\n",
            "Epoch 375/400\n",
            "169/169 [==============================] - 0s 704us/step - loss: 0.0183 - val_loss: 0.0188\n",
            "Epoch 376/400\n",
            "169/169 [==============================] - 0s 650us/step - loss: 0.0168 - val_loss: 0.0201\n",
            "Epoch 377/400\n",
            "169/169 [==============================] - 0s 659us/step - loss: 0.0179 - val_loss: 0.0196\n",
            "Epoch 378/400\n",
            "169/169 [==============================] - 0s 606us/step - loss: 0.0166 - val_loss: 0.0184\n",
            "Epoch 379/400\n",
            "169/169 [==============================] - 0s 650us/step - loss: 0.0168 - val_loss: 0.0185\n",
            "Epoch 380/400\n",
            "169/169 [==============================] - 0s 632us/step - loss: 0.0189 - val_loss: 0.0196\n",
            "Epoch 381/400\n",
            "169/169 [==============================] - 0s 614us/step - loss: 0.0195 - val_loss: 0.0207\n",
            "Epoch 382/400\n",
            "169/169 [==============================] - 0s 637us/step - loss: 0.0181 - val_loss: 0.0215\n",
            "Epoch 383/400\n",
            "169/169 [==============================] - 0s 624us/step - loss: 0.0189 - val_loss: 0.0198\n",
            "Epoch 384/400\n",
            "169/169 [==============================] - 0s 622us/step - loss: 0.0184 - val_loss: 0.0182\n",
            "Epoch 385/400\n",
            "169/169 [==============================] - 0s 618us/step - loss: 0.0187 - val_loss: 0.0154\n",
            "Epoch 386/400\n",
            "169/169 [==============================] - 0s 669us/step - loss: 0.0177 - val_loss: 0.0163\n",
            "Epoch 387/400\n",
            "169/169 [==============================] - 0s 653us/step - loss: 0.0202 - val_loss: 0.0178\n",
            "Epoch 388/400\n",
            "169/169 [==============================] - 0s 632us/step - loss: 0.0171 - val_loss: 0.0166\n",
            "Epoch 389/400\n",
            "169/169 [==============================] - 0s 623us/step - loss: 0.0188 - val_loss: 0.0148\n",
            "Epoch 390/400\n",
            "169/169 [==============================] - 0s 656us/step - loss: 0.0177 - val_loss: 0.0153\n",
            "Epoch 391/400\n",
            "169/169 [==============================] - 0s 615us/step - loss: 0.0184 - val_loss: 0.0172\n",
            "Epoch 392/400\n",
            "169/169 [==============================] - 0s 636us/step - loss: 0.0182 - val_loss: 0.0174\n",
            "Epoch 393/400\n",
            "169/169 [==============================] - 0s 691us/step - loss: 0.0182 - val_loss: 0.0153\n",
            "Epoch 394/400\n",
            "169/169 [==============================] - 0s 647us/step - loss: 0.0192 - val_loss: 0.0167\n",
            "Epoch 395/400\n",
            "169/169 [==============================] - 0s 696us/step - loss: 0.0193 - val_loss: 0.0185\n",
            "Epoch 396/400\n",
            "169/169 [==============================] - 0s 655us/step - loss: 0.0177 - val_loss: 0.0206\n",
            "Epoch 397/400\n",
            "169/169 [==============================] - 0s 640us/step - loss: 0.0184 - val_loss: 0.0183\n",
            "Epoch 398/400\n",
            "169/169 [==============================] - 0s 612us/step - loss: 0.0184 - val_loss: 0.0163\n",
            "Epoch 399/400\n",
            "169/169 [==============================] - 0s 634us/step - loss: 0.0182 - val_loss: 0.0186\n",
            "Epoch 400/400\n",
            "169/169 [==============================] - 0s 654us/step - loss: 0.0189 - val_loss: 0.0225\n"
          ],
          "name": "stdout"
        },
        {
          "output_type": "execute_result",
          "data": {
            "text/plain": [
              "<keras.callbacks.callbacks.History at 0x7f8c5cbb5940>"
            ]
          },
          "metadata": {
            "tags": []
          },
          "execution_count": 18
        }
      ]
    },
    {
      "cell_type": "code",
      "metadata": {
        "id": "FrfHxQDAD45s",
        "colab_type": "code",
        "outputId": "98e47c6e-a7a7-4ae1-aa50-01d4d29adfb9",
        "colab": {
          "base_uri": "https://localhost:8080/",
          "height": 350
        }
      },
      "source": [
        "plt.figure(figsize=(10,5))\n",
        "plt.plot(regressor.history.history['loss'], label='Training', color='blue')\n",
        "plt.plot(regressor.history.history['val_loss'], label='Validation', color='red')\n",
        "plt.legend()\n",
        "plt.title(\"Training Loss Vs Validation Loss\")\n",
        "plt.xlabel('time')\n",
        "plt.ylabel('loss')\n",
        "plt.show()"
      ],
      "execution_count": 0,
      "outputs": [
        {
          "output_type": "display_data",
          "data": {
            "image/png": "[encoded data removed]",
            "text/plain": [
              "<Figure size 720x360 with 1 Axes>"
            ]
          },
          "metadata": {
            "tags": [],
            "needs_background": "light"
          }
        }
      ]
    },
    {
      "cell_type": "markdown",
      "metadata": {
        "id": "kx4Xy3TfB649",
        "colab_type": "text"
      },
      "source": [
        "###Preprocessing test set"
      ]
    },
    {
      "cell_type": "code",
      "metadata": {
        "id": "porgv8DoBFvP",
        "colab_type": "code",
        "outputId": "881043c9-914b-4d91-febb-dc2cf20ec80b",
        "colab": {
          "base_uri": "https://localhost:8080/",
          "height": 67
        }
      },
      "source": [
        "data_concat = pd.concat((apple_stock['High']['2016':'2016'], apple_stock['High']['2017':]), axis=0)\n",
        "print(data_concat.shape)\n",
        "\n",
        "inputs = data_concat[len(data_concat)-len(test_2017)-10 : ].values\n",
        "print(inputs.shape)\n",
        "inputs = inputs.reshape(-1,1)\n",
        "inputs = sc.transform(inputs)\n",
        "print(inputs.shape)"
      ],
      "execution_count": 0,
      "outputs": [
        {
          "output_type": "stream",
          "text": [
            "(503,)\n",
            "(261,)\n",
            "(261, 1)\n"
          ],
          "name": "stdout"
        }
      ]
    },
    {
      "cell_type": "code",
      "metadata": {
        "id": "um--L2JgDnXh",
        "colab_type": "code",
        "colab": {}
      },
      "source": [
        "X_test = []\n",
        "for i in range(10,inputs.shape[0]):\n",
        "    X_test.append(inputs[i-10:i, 0])\n",
        "    \n",
        "X_test = np.array(X_test)\n",
        "X_test = np.reshape(X_test, (X_test.shape[0], X_test.shape[1], 1))"
      ],
      "execution_count": 0,
      "outputs": []
    },
    {
      "cell_type": "markdown",
      "metadata": {
        "id": "9e9VgbMdEL8Q",
        "colab_type": "text"
      },
      "source": [
        "###Predict stock price in 2017"
      ]
    },
    {
      "cell_type": "code",
      "metadata": {
        "id": "B_6AB2roEMQq",
        "colab_type": "code",
        "colab": {}
      },
      "source": [
        "pred_lstm = regressor.predict(X_test)\n",
        "pred_lstm = sc.inverse_transform(pred_lstm)"
      ],
      "execution_count": 0,
      "outputs": []
    },
    {
      "cell_type": "markdown",
      "metadata": {
        "id": "PC0-JwFoEsVF",
        "colab_type": "text"
      },
      "source": [
        "###Plot prediction"
      ]
    },
    {
      "cell_type": "code",
      "metadata": {
        "id": "QA3h74riEu2G",
        "colab_type": "code",
        "colab": {}
      },
      "source": [
        "def plot_predictions(test, predicted):\n",
        "    plt.plot(test, color=\"red\", label=\"Actual\")\n",
        "    plt.plot(predicted, color=\"blue\", label=\"Predicted\")\n",
        "    plt.title(\"Apple stock price prediction\")\n",
        "    plt.xlabel(\"time\")\n",
        "    plt.ylabel(\"Apple stock price\")\n",
        "    plt.legend()\n",
        "    plt.show()"
      ],
      "execution_count": 0,
      "outputs": []
    },
    {
      "cell_type": "code",
      "metadata": {
        "id": "FLendr9fE2Tz",
        "colab_type": "code",
        "outputId": "3588c65e-34c0-4c58-8565-b783d1e0a84d",
        "colab": {
          "base_uri": "https://localhost:8080/",
          "height": 296
        }
      },
      "source": [
        "plot_predictions(test_2017, pred_lstm)"
      ],
      "execution_count": 0,
      "outputs": [
        {
          "output_type": "display_data",
          "data": {
            "image/png": "[encoded data removed]",
            "text/plain": [
              "<Figure size 432x288 with 1 Axes>"
            ]
          },
          "metadata": {
            "tags": [],
            "needs_background": "light"
          }
        }
      ]
    },
    {
      "cell_type": "markdown",
      "metadata": {
        "id": "s5sCgNs5F7cl",
        "colab_type": "text"
      },
      "source": [
        "###RMSE of the model"
      ]
    },
    {
      "cell_type": "code",
      "metadata": {
        "id": "2KQ3DpU_GGWt",
        "colab_type": "code",
        "colab": {}
      },
      "source": [
        "def return_rmse(test, predicted):\n",
        "    rmse = math.sqrt(mean_squared_error(test, predicted))\n",
        "    return rmse"
      ],
      "execution_count": 0,
      "outputs": []
    },
    {
      "cell_type": "code",
      "metadata": {
        "id": "KpsSm-NJF74i",
        "colab_type": "code",
        "outputId": "f0a3fde0-8b7d-4932-817f-ffeaa7a73b61",
        "colab": {
          "base_uri": "https://localhost:8080/",
          "height": 34
        }
      },
      "source": [
        "rmse_lstm_2017 = return_rmse(test_2017, pred_lstm)\n",
        "print(\"RMSE = {}.\".format(rmse_lstm_2017))"
      ],
      "execution_count": 0,
      "outputs": [
        {
          "output_type": "stream",
          "text": [
            "RMSE = 11.310618916192931.\n"
          ],
          "name": "stdout"
        }
      ]
    },
    {
      "cell_type": "markdown",
      "metadata": {
        "id": "ygI0zv9hJwaz",
        "colab_type": "text"
      },
      "source": [
        "#GRU's model"
      ]
    },
    {
      "cell_type": "code",
      "metadata": {
        "id": "pQSiivSlGUU3",
        "colab_type": "code",
        "colab": {}
      },
      "source": [
        "regressorGRU = Sequential()\n",
        "\n",
        "# First GRU layer with Dropout regularisation\n",
        "regressorGRU.add(GRU(units=10, return_sequences=True, input_shape=(X_train.shape[1],1), activation='relu'))\n",
        "regressorGRU.add(Dropout(0.2))\n",
        "\n",
        "# Second GRU layer\n",
        "regressorGRU.add(GRU(units=50, return_sequences=True, input_shape=(X_train.shape[1],1), activation='relu'))\n",
        "regressorGRU.add(Dropout(0.2))\n",
        "\n",
        "# Third GRU layer\n",
        "regressorGRU.add(GRU(units=50, input_shape=(X_train.shape[1],1), activation='relu'))\n",
        "regressorGRU.add(Dropout(0.2))\n",
        "\n",
        "# Fourth GRU layer\n",
        "#regressorGRU.add(GRU(units=50, activation='relu'))\n",
        "#regressorGRU.add(Dropout(0.2))\n",
        "\n",
        "# The output layer\n",
        "regressorGRU.add(Dense(units=1))"
      ],
      "execution_count": 0,
      "outputs": []
    },
    {
      "cell_type": "markdown",
      "metadata": {
        "id": "fT634bLzKZPM",
        "colab_type": "text"
      },
      "source": [
        "###Compile the model"
      ]
    },
    {
      "cell_type": "code",
      "metadata": {
        "id": "KeGhXBC4Kb2v",
        "colab_type": "code",
        "colab": {}
      },
      "source": [
        "regressorGRU.compile(optimizer=optimizers.SGD(lr=0.01, decay=1e-7, momentum=0.9, nesterov=False), loss='mean_squared_error')"
      ],
      "execution_count": 0,
      "outputs": []
    },
    {
      "cell_type": "markdown",
      "metadata": {
        "id": "2_TO9BK-KhP1",
        "colab_type": "text"
      },
      "source": [
        "###Fit the model with training set"
      ]
    },
    {
      "cell_type": "code",
      "metadata": {
        "id": "tmNWSUgSKok6",
        "colab_type": "code",
        "outputId": "c8e63958-46c7-4c9b-b6de-8fa80f1e12eb",
        "colab": {
          "base_uri": "https://localhost:8080/",
          "height": 1000
        }
      },
      "source": [
        "regressorGRU.fit(X_train, y_train, epochs=400, batch_size=150, validation_split=0.30)"
      ],
      "execution_count": 0,
      "outputs": [
        {
          "output_type": "stream",
          "text": [
            "Train on 169 samples, validate on 73 samples\n",
            "Epoch 1/400\n",
            "169/169 [==============================] - 1s 7ms/step - loss: 0.1839 - val_loss: 0.6167\n",
            "Epoch 2/400\n",
            "169/169 [==============================] - 0s 396us/step - loss: 0.1536 - val_loss: 0.4973\n",
            "Epoch 3/400\n",
            "169/169 [==============================] - 0s 330us/step - loss: 0.1052 - val_loss: 0.3546\n",
            "Epoch 4/400\n",
            "169/169 [==============================] - 0s 386us/step - loss: 0.0655 - val_loss: 0.2284\n",
            "Epoch 5/400\n",
            "169/169 [==============================] - 0s 366us/step - loss: 0.0463 - val_loss: 0.1434\n",
            "Epoch 6/400\n",
            "169/169 [==============================] - 0s 362us/step - loss: 0.0472 - val_loss: 0.0967\n",
            "Epoch 7/400\n",
            "169/169 [==============================] - 0s 358us/step - loss: 0.0565 - val_loss: 0.0760\n",
            "Epoch 8/400\n",
            "169/169 [==============================] - 0s 350us/step - loss: 0.0657 - val_loss: 0.0752\n",
            "Epoch 9/400\n",
            "169/169 [==============================] - 0s 374us/step - loss: 0.0694 - val_loss: 0.0925\n",
            "Epoch 10/400\n",
            "169/169 [==============================] - 0s 362us/step - loss: 0.0582 - val_loss: 0.1254\n",
            "Epoch 11/400\n",
            "169/169 [==============================] - 0s 424us/step - loss: 0.0480 - val_loss: 0.1668\n",
            "Epoch 12/400\n",
            "169/169 [==============================] - 0s 362us/step - loss: 0.0417 - val_loss: 0.2070\n",
            "Epoch 13/400\n",
            "169/169 [==============================] - 0s 353us/step - loss: 0.0421 - val_loss: 0.2347\n",
            "Epoch 14/400\n",
            "169/169 [==============================] - 0s 379us/step - loss: 0.0437 - val_loss: 0.2491\n",
            "Epoch 15/400\n",
            "169/169 [==============================] - 0s 374us/step - loss: 0.0467 - val_loss: 0.2502\n",
            "Epoch 16/400\n",
            "169/169 [==============================] - 0s 384us/step - loss: 0.0473 - val_loss: 0.2386\n",
            "Epoch 17/400\n",
            "169/169 [==============================] - 0s 391us/step - loss: 0.0454 - val_loss: 0.2205\n",
            "Epoch 18/400\n",
            "169/169 [==============================] - 0s 361us/step - loss: 0.0413 - val_loss: 0.1999\n",
            "Epoch 19/400\n",
            "169/169 [==============================] - 0s 366us/step - loss: 0.0404 - val_loss: 0.1791\n",
            "Epoch 20/400\n",
            "169/169 [==============================] - 0s 392us/step - loss: 0.0393 - val_loss: 0.1614\n",
            "Epoch 21/400\n",
            "169/169 [==============================] - 0s 378us/step - loss: 0.0389 - val_loss: 0.1509\n",
            "Epoch 22/400\n",
            "169/169 [==============================] - 0s 380us/step - loss: 0.0395 - val_loss: 0.1478\n",
            "Epoch 23/400\n",
            "169/169 [==============================] - 0s 354us/step - loss: 0.0410 - val_loss: 0.1487\n",
            "Epoch 24/400\n",
            "169/169 [==============================] - 0s 362us/step - loss: 0.0414 - val_loss: 0.1515\n",
            "Epoch 25/400\n",
            "169/169 [==============================] - 0s 362us/step - loss: 0.0387 - val_loss: 0.1555\n",
            "Epoch 26/400\n",
            "169/169 [==============================] - 0s 351us/step - loss: 0.0388 - val_loss: 0.1614\n",
            "Epoch 27/400\n",
            "169/169 [==============================] - 0s 358us/step - loss: 0.0378 - val_loss: 0.1676\n",
            "Epoch 28/400\n",
            "169/169 [==============================] - 0s 375us/step - loss: 0.0375 - val_loss: 0.1706\n",
            "Epoch 29/400\n",
            "169/169 [==============================] - 0s 370us/step - loss: 0.0373 - val_loss: 0.1701\n",
            "Epoch 30/400\n",
            "169/169 [==============================] - 0s 378us/step - loss: 0.0387 - val_loss: 0.1690\n",
            "Epoch 31/400\n",
            "169/169 [==============================] - 0s 391us/step - loss: 0.0361 - val_loss: 0.1684\n",
            "Epoch 32/400\n",
            "169/169 [==============================] - 0s 363us/step - loss: 0.0363 - val_loss: 0.1647\n",
            "Epoch 33/400\n",
            "169/169 [==============================] - 0s 367us/step - loss: 0.0373 - val_loss: 0.1569\n",
            "Epoch 34/400\n",
            "169/169 [==============================] - 0s 364us/step - loss: 0.0380 - val_loss: 0.1476\n",
            "Epoch 35/400\n",
            "169/169 [==============================] - 0s 351us/step - loss: 0.0373 - val_loss: 0.1389\n",
            "Epoch 36/400\n",
            "169/169 [==============================] - 0s 391us/step - loss: 0.0368 - val_loss: 0.1332\n",
            "Epoch 37/400\n",
            "169/169 [==============================] - 0s 357us/step - loss: 0.0374 - val_loss: 0.1305\n",
            "Epoch 38/400\n",
            "169/169 [==============================] - 0s 371us/step - loss: 0.0371 - val_loss: 0.1299\n",
            "Epoch 39/400\n",
            "169/169 [==============================] - 0s 370us/step - loss: 0.0365 - val_loss: 0.1312\n",
            "Epoch 40/400\n",
            "169/169 [==============================] - 0s 358us/step - loss: 0.0374 - val_loss: 0.1352\n",
            "Epoch 41/400\n",
            "169/169 [==============================] - 0s 362us/step - loss: 0.0333 - val_loss: 0.1405\n",
            "Epoch 42/400\n",
            "169/169 [==============================] - 0s 361us/step - loss: 0.0348 - val_loss: 0.1465\n",
            "Epoch 43/400\n",
            "169/169 [==============================] - 0s 356us/step - loss: 0.0350 - val_loss: 0.1540\n",
            "Epoch 44/400\n",
            "169/169 [==============================] - 0s 356us/step - loss: 0.0346 - val_loss: 0.1603\n",
            "Epoch 45/400\n",
            "169/169 [==============================] - 0s 362us/step - loss: 0.0333 - val_loss: 0.1597\n",
            "Epoch 46/400\n",
            "169/169 [==============================] - 0s 377us/step - loss: 0.0336 - val_loss: 0.1517\n",
            "Epoch 47/400\n",
            "169/169 [==============================] - 0s 385us/step - loss: 0.0331 - val_loss: 0.1417\n",
            "Epoch 48/400\n",
            "169/169 [==============================] - 0s 361us/step - loss: 0.0347 - val_loss: 0.1358\n",
            "Epoch 49/400\n",
            "169/169 [==============================] - 0s 355us/step - loss: 0.0329 - val_loss: 0.1323\n",
            "Epoch 50/400\n",
            "169/169 [==============================] - 0s 357us/step - loss: 0.0317 - val_loss: 0.1299\n",
            "Epoch 51/400\n",
            "169/169 [==============================] - 0s 381us/step - loss: 0.0316 - val_loss: 0.1276\n",
            "Epoch 52/400\n",
            "169/169 [==============================] - 0s 434us/step - loss: 0.0310 - val_loss: 0.1228\n",
            "Epoch 53/400\n",
            "169/169 [==============================] - 0s 347us/step - loss: 0.0298 - val_loss: 0.1185\n",
            "Epoch 54/400\n",
            "169/169 [==============================] - 0s 364us/step - loss: 0.0302 - val_loss: 0.1155\n",
            "Epoch 55/400\n",
            "169/169 [==============================] - 0s 372us/step - loss: 0.0298 - val_loss: 0.1128\n",
            "Epoch 56/400\n",
            "169/169 [==============================] - 0s 376us/step - loss: 0.0301 - val_loss: 0.1120\n",
            "Epoch 57/400\n",
            "169/169 [==============================] - 0s 360us/step - loss: 0.0300 - val_loss: 0.1125\n",
            "Epoch 58/400\n",
            "169/169 [==============================] - 0s 357us/step - loss: 0.0284 - val_loss: 0.1117\n",
            "Epoch 59/400\n",
            "169/169 [==============================] - 0s 377us/step - loss: 0.0295 - val_loss: 0.1091\n",
            "Epoch 60/400\n",
            "169/169 [==============================] - 0s 350us/step - loss: 0.0276 - val_loss: 0.1075\n",
            "Epoch 61/400\n",
            "169/169 [==============================] - 0s 363us/step - loss: 0.0272 - val_loss: 0.1072\n",
            "Epoch 62/400\n",
            "169/169 [==============================] - 0s 360us/step - loss: 0.0278 - val_loss: 0.1076\n",
            "Epoch 63/400\n",
            "169/169 [==============================] - 0s 354us/step - loss: 0.0271 - val_loss: 0.1074\n",
            "Epoch 64/400\n",
            "169/169 [==============================] - 0s 363us/step - loss: 0.0279 - val_loss: 0.1050\n",
            "Epoch 65/400\n",
            "169/169 [==============================] - 0s 359us/step - loss: 0.0275 - val_loss: 0.1015\n",
            "Epoch 66/400\n",
            "169/169 [==============================] - 0s 394us/step - loss: 0.0246 - val_loss: 0.0983\n",
            "Epoch 67/400\n",
            "169/169 [==============================] - 0s 370us/step - loss: 0.0253 - val_loss: 0.0963\n",
            "Epoch 68/400\n",
            "169/169 [==============================] - 0s 401us/step - loss: 0.0260 - val_loss: 0.0947\n",
            "Epoch 69/400\n",
            "169/169 [==============================] - 0s 356us/step - loss: 0.0260 - val_loss: 0.0914\n",
            "Epoch 70/400\n",
            "169/169 [==============================] - 0s 390us/step - loss: 0.0241 - val_loss: 0.0881\n",
            "Epoch 71/400\n",
            "169/169 [==============================] - 0s 348us/step - loss: 0.0237 - val_loss: 0.0867\n",
            "Epoch 72/400\n",
            "169/169 [==============================] - 0s 368us/step - loss: 0.0258 - val_loss: 0.0869\n",
            "Epoch 73/400\n",
            "169/169 [==============================] - 0s 363us/step - loss: 0.0235 - val_loss: 0.0868\n",
            "Epoch 74/400\n",
            "169/169 [==============================] - 0s 366us/step - loss: 0.0224 - val_loss: 0.0844\n",
            "Epoch 75/400\n",
            "169/169 [==============================] - 0s 386us/step - loss: 0.0233 - val_loss: 0.0793\n",
            "Epoch 76/400\n",
            "169/169 [==============================] - 0s 365us/step - loss: 0.0250 - val_loss: 0.0728\n",
            "Epoch 77/400\n",
            "169/169 [==============================] - 0s 356us/step - loss: 0.0231 - val_loss: 0.0680\n",
            "Epoch 78/400\n",
            "169/169 [==============================] - 0s 356us/step - loss: 0.0220 - val_loss: 0.0639\n",
            "Epoch 79/400\n",
            "169/169 [==============================] - 0s 361us/step - loss: 0.0218 - val_loss: 0.0604\n",
            "Epoch 80/400\n",
            "169/169 [==============================] - 0s 370us/step - loss: 0.0208 - val_loss: 0.0597\n",
            "Epoch 81/400\n",
            "169/169 [==============================] - 0s 395us/step - loss: 0.0217 - val_loss: 0.0611\n",
            "Epoch 82/400\n",
            "169/169 [==============================] - 0s 356us/step - loss: 0.0196 - val_loss: 0.0642\n",
            "Epoch 83/400\n",
            "169/169 [==============================] - 0s 363us/step - loss: 0.0200 - val_loss: 0.0650\n",
            "Epoch 84/400\n",
            "169/169 [==============================] - 0s 398us/step - loss: 0.0193 - val_loss: 0.0607\n",
            "Epoch 85/400\n",
            "169/169 [==============================] - 0s 371us/step - loss: 0.0193 - val_loss: 0.0530\n",
            "Epoch 86/400\n",
            "169/169 [==============================] - 0s 347us/step - loss: 0.0207 - val_loss: 0.0450\n",
            "Epoch 87/400\n",
            "169/169 [==============================] - 0s 368us/step - loss: 0.0180 - val_loss: 0.0387\n",
            "Epoch 88/400\n",
            "169/169 [==============================] - 0s 355us/step - loss: 0.0189 - val_loss: 0.0351\n",
            "Epoch 89/400\n",
            "169/169 [==============================] - 0s 359us/step - loss: 0.0204 - val_loss: 0.0339\n",
            "Epoch 90/400\n",
            "169/169 [==============================] - 0s 361us/step - loss: 0.0172 - val_loss: 0.0356\n",
            "Epoch 91/400\n",
            "169/169 [==============================] - 0s 345us/step - loss: 0.0177 - val_loss: 0.0384\n",
            "Epoch 92/400\n",
            "169/169 [==============================] - 0s 362us/step - loss: 0.0150 - val_loss: 0.0410\n",
            "Epoch 93/400\n",
            "169/169 [==============================] - 0s 370us/step - loss: 0.0172 - val_loss: 0.0412\n",
            "Epoch 94/400\n",
            "169/169 [==============================] - 0s 349us/step - loss: 0.0160 - val_loss: 0.0382\n",
            "Epoch 95/400\n",
            "169/169 [==============================] - 0s 361us/step - loss: 0.0151 - val_loss: 0.0324\n",
            "Epoch 96/400\n",
            "169/169 [==============================] - 0s 359us/step - loss: 0.0173 - val_loss: 0.0271\n",
            "Epoch 97/400\n",
            "169/169 [==============================] - 0s 347us/step - loss: 0.0163 - val_loss: 0.0235\n",
            "Epoch 98/400\n",
            "169/169 [==============================] - 0s 363us/step - loss: 0.0158 - val_loss: 0.0224\n",
            "Epoch 99/400\n",
            "169/169 [==============================] - 0s 357us/step - loss: 0.0139 - val_loss: 0.0232\n",
            "Epoch 100/400\n",
            "169/169 [==============================] - 0s 390us/step - loss: 0.0156 - val_loss: 0.0244\n",
            "Epoch 101/400\n",
            "169/169 [==============================] - 0s 387us/step - loss: 0.0136 - val_loss: 0.0257\n",
            "Epoch 102/400\n",
            "169/169 [==============================] - 0s 382us/step - loss: 0.0138 - val_loss: 0.0261\n",
            "Epoch 103/400\n",
            "169/169 [==============================] - 0s 350us/step - loss: 0.0133 - val_loss: 0.0257\n",
            "Epoch 104/400\n",
            "169/169 [==============================] - 0s 364us/step - loss: 0.0147 - val_loss: 0.0235\n",
            "Epoch 105/400\n",
            "169/169 [==============================] - 0s 373us/step - loss: 0.0154 - val_loss: 0.0204\n",
            "Epoch 106/400\n",
            "169/169 [==============================] - 0s 358us/step - loss: 0.0141 - val_loss: 0.0177\n",
            "Epoch 107/400\n",
            "169/169 [==============================] - 0s 355us/step - loss: 0.0154 - val_loss: 0.0157\n",
            "Epoch 108/400\n",
            "169/169 [==============================] - 0s 357us/step - loss: 0.0154 - val_loss: 0.0156\n",
            "Epoch 109/400\n",
            "169/169 [==============================] - 0s 357us/step - loss: 0.0131 - val_loss: 0.0163\n",
            "Epoch 110/400\n",
            "169/169 [==============================] - 0s 352us/step - loss: 0.0147 - val_loss: 0.0158\n",
            "Epoch 111/400\n",
            "169/169 [==============================] - 0s 350us/step - loss: 0.0154 - val_loss: 0.0132\n",
            "Epoch 112/400\n",
            "169/169 [==============================] - 0s 383us/step - loss: 0.0126 - val_loss: 0.0108\n",
            "Epoch 113/400\n",
            "169/169 [==============================] - 0s 339us/step - loss: 0.0162 - val_loss: 0.0094\n",
            "Epoch 114/400\n",
            "169/169 [==============================] - 0s 352us/step - loss: 0.0141 - val_loss: 0.0092\n",
            "Epoch 115/400\n",
            "169/169 [==============================] - 0s 383us/step - loss: 0.0148 - val_loss: 0.0095\n",
            "Epoch 116/400\n",
            "169/169 [==============================] - 0s 395us/step - loss: 0.0139 - val_loss: 0.0101\n",
            "Epoch 117/400\n",
            "169/169 [==============================] - 0s 357us/step - loss: 0.0139 - val_loss: 0.0107\n",
            "Epoch 118/400\n",
            "169/169 [==============================] - 0s 350us/step - loss: 0.0132 - val_loss: 0.0108\n",
            "Epoch 119/400\n",
            "169/169 [==============================] - 0s 342us/step - loss: 0.0130 - val_loss: 0.0110\n",
            "Epoch 120/400\n",
            "169/169 [==============================] - 0s 381us/step - loss: 0.0128 - val_loss: 0.0108\n",
            "Epoch 121/400\n",
            "169/169 [==============================] - 0s 364us/step - loss: 0.0150 - val_loss: 0.0098\n",
            "Epoch 122/400\n",
            "169/169 [==============================] - 0s 354us/step - loss: 0.0137 - val_loss: 0.0083\n",
            "Epoch 123/400\n",
            "169/169 [==============================] - 0s 348us/step - loss: 0.0144 - val_loss: 0.0070\n",
            "Epoch 124/400\n",
            "169/169 [==============================] - 0s 373us/step - loss: 0.0147 - val_loss: 0.0068\n",
            "Epoch 125/400\n",
            "169/169 [==============================] - 0s 373us/step - loss: 0.0139 - val_loss: 0.0077\n",
            "Epoch 126/400\n",
            "169/169 [==============================] - 0s 350us/step - loss: 0.0152 - val_loss: 0.0101\n",
            "Epoch 127/400\n",
            "169/169 [==============================] - 0s 365us/step - loss: 0.0113 - val_loss: 0.0142\n",
            "Epoch 128/400\n",
            "169/169 [==============================] - 0s 346us/step - loss: 0.0138 - val_loss: 0.0166\n",
            "Epoch 129/400\n",
            "169/169 [==============================] - 0s 359us/step - loss: 0.0149 - val_loss: 0.0164\n",
            "Epoch 130/400\n",
            "169/169 [==============================] - 0s 391us/step - loss: 0.0164 - val_loss: 0.0137\n",
            "Epoch 131/400\n",
            "169/169 [==============================] - 0s 363us/step - loss: 0.0133 - val_loss: 0.0102\n",
            "Epoch 132/400\n",
            "169/169 [==============================] - 0s 340us/step - loss: 0.0134 - val_loss: 0.0080\n",
            "Epoch 133/400\n",
            "169/169 [==============================] - 0s 391us/step - loss: 0.0125 - val_loss: 0.0074\n",
            "Epoch 134/400\n",
            "169/169 [==============================] - 0s 360us/step - loss: 0.0126 - val_loss: 0.0076\n",
            "Epoch 135/400\n",
            "169/169 [==============================] - 0s 358us/step - loss: 0.0134 - val_loss: 0.0081\n",
            "Epoch 136/400\n",
            "169/169 [==============================] - 0s 361us/step - loss: 0.0145 - val_loss: 0.0092\n",
            "Epoch 137/400\n",
            "169/169 [==============================] - 0s 362us/step - loss: 0.0132 - val_loss: 0.0108\n",
            "Epoch 138/400\n",
            "169/169 [==============================] - 0s 347us/step - loss: 0.0134 - val_loss: 0.0112\n",
            "Epoch 139/400\n",
            "169/169 [==============================] - 0s 366us/step - loss: 0.0110 - val_loss: 0.0105\n",
            "Epoch 140/400\n",
            "169/169 [==============================] - 0s 368us/step - loss: 0.0144 - val_loss: 0.0097\n",
            "Epoch 141/400\n",
            "169/169 [==============================] - 0s 366us/step - loss: 0.0150 - val_loss: 0.0093\n",
            "Epoch 142/400\n",
            "169/169 [==============================] - 0s 351us/step - loss: 0.0142 - val_loss: 0.0086\n",
            "Epoch 143/400\n",
            "169/169 [==============================] - 0s 344us/step - loss: 0.0137 - val_loss: 0.0081\n",
            "Epoch 144/400\n",
            "169/169 [==============================] - 0s 355us/step - loss: 0.0116 - val_loss: 0.0079\n",
            "Epoch 145/400\n",
            "169/169 [==============================] - 0s 361us/step - loss: 0.0137 - val_loss: 0.0076\n",
            "Epoch 146/400\n",
            "169/169 [==============================] - 0s 365us/step - loss: 0.0157 - val_loss: 0.0082\n",
            "Epoch 147/400\n",
            "169/169 [==============================] - 0s 351us/step - loss: 0.0143 - val_loss: 0.0102\n",
            "Epoch 148/400\n",
            "169/169 [==============================] - 0s 358us/step - loss: 0.0142 - val_loss: 0.0124\n",
            "Epoch 149/400\n",
            "169/169 [==============================] - 0s 391us/step - loss: 0.0145 - val_loss: 0.0126\n",
            "Epoch 150/400\n",
            "169/169 [==============================] - 0s 358us/step - loss: 0.0122 - val_loss: 0.0114\n",
            "Epoch 151/400\n",
            "169/169 [==============================] - 0s 358us/step - loss: 0.0143 - val_loss: 0.0093\n",
            "Epoch 152/400\n",
            "169/169 [==============================] - 0s 338us/step - loss: 0.0132 - val_loss: 0.0076\n",
            "Epoch 153/400\n",
            "169/169 [==============================] - 0s 357us/step - loss: 0.0141 - val_loss: 0.0068\n",
            "Epoch 154/400\n",
            "169/169 [==============================] - 0s 374us/step - loss: 0.0140 - val_loss: 0.0067\n",
            "Epoch 155/400\n",
            "169/169 [==============================] - 0s 347us/step - loss: 0.0135 - val_loss: 0.0075\n",
            "Epoch 156/400\n",
            "169/169 [==============================] - 0s 367us/step - loss: 0.0135 - val_loss: 0.0088\n",
            "Epoch 157/400\n",
            "169/169 [==============================] - 0s 341us/step - loss: 0.0132 - val_loss: 0.0099\n",
            "Epoch 158/400\n",
            "169/169 [==============================] - 0s 359us/step - loss: 0.0137 - val_loss: 0.0111\n",
            "Epoch 159/400\n",
            "169/169 [==============================] - 0s 379us/step - loss: 0.0129 - val_loss: 0.0115\n",
            "Epoch 160/400\n",
            "169/169 [==============================] - 0s 357us/step - loss: 0.0146 - val_loss: 0.0110\n",
            "Epoch 161/400\n",
            "169/169 [==============================] - 0s 354us/step - loss: 0.0110 - val_loss: 0.0098\n",
            "Epoch 162/400\n",
            "169/169 [==============================] - 0s 360us/step - loss: 0.0120 - val_loss: 0.0086\n",
            "Epoch 163/400\n",
            "169/169 [==============================] - 0s 364us/step - loss: 0.0135 - val_loss: 0.0076\n",
            "Epoch 164/400\n",
            "169/169 [==============================] - 0s 401us/step - loss: 0.0153 - val_loss: 0.0073\n",
            "Epoch 165/400\n",
            "169/169 [==============================] - 0s 360us/step - loss: 0.0120 - val_loss: 0.0082\n",
            "Epoch 166/400\n",
            "169/169 [==============================] - 0s 387us/step - loss: 0.0130 - val_loss: 0.0099\n",
            "Epoch 167/400\n",
            "169/169 [==============================] - 0s 352us/step - loss: 0.0136 - val_loss: 0.0114\n",
            "Epoch 168/400\n",
            "169/169 [==============================] - 0s 365us/step - loss: 0.0128 - val_loss: 0.0112\n",
            "Epoch 169/400\n",
            "169/169 [==============================] - 0s 359us/step - loss: 0.0136 - val_loss: 0.0103\n",
            "Epoch 170/400\n",
            "169/169 [==============================] - 0s 360us/step - loss: 0.0132 - val_loss: 0.0091\n",
            "Epoch 171/400\n",
            "169/169 [==============================] - 0s 361us/step - loss: 0.0144 - val_loss: 0.0081\n",
            "Epoch 172/400\n",
            "169/169 [==============================] - 0s 368us/step - loss: 0.0122 - val_loss: 0.0079\n",
            "Epoch 173/400\n",
            "169/169 [==============================] - 0s 364us/step - loss: 0.0135 - val_loss: 0.0088\n",
            "Epoch 174/400\n",
            "169/169 [==============================] - 0s 358us/step - loss: 0.0145 - val_loss: 0.0107\n",
            "Epoch 175/400\n",
            "169/169 [==============================] - 0s 364us/step - loss: 0.0129 - val_loss: 0.0116\n",
            "Epoch 176/400\n",
            "169/169 [==============================] - 0s 355us/step - loss: 0.0141 - val_loss: 0.0100\n",
            "Epoch 177/400\n",
            "169/169 [==============================] - 0s 360us/step - loss: 0.0146 - val_loss: 0.0089\n",
            "Epoch 178/400\n",
            "169/169 [==============================] - 0s 363us/step - loss: 0.0130 - val_loss: 0.0083\n",
            "Epoch 179/400\n",
            "169/169 [==============================] - 0s 358us/step - loss: 0.0130 - val_loss: 0.0080\n",
            "Epoch 180/400\n",
            "169/169 [==============================] - 0s 362us/step - loss: 0.0137 - val_loss: 0.0082\n",
            "Epoch 181/400\n",
            "169/169 [==============================] - 0s 359us/step - loss: 0.0131 - val_loss: 0.0092\n",
            "Epoch 182/400\n",
            "169/169 [==============================] - 0s 401us/step - loss: 0.0155 - val_loss: 0.0098\n",
            "Epoch 183/400\n",
            "169/169 [==============================] - 0s 356us/step - loss: 0.0124 - val_loss: 0.0096\n",
            "Epoch 184/400\n",
            "169/169 [==============================] - 0s 351us/step - loss: 0.0142 - val_loss: 0.0091\n",
            "Epoch 185/400\n",
            "169/169 [==============================] - 0s 356us/step - loss: 0.0126 - val_loss: 0.0087\n",
            "Epoch 186/400\n",
            "169/169 [==============================] - 0s 350us/step - loss: 0.0130 - val_loss: 0.0085\n",
            "Epoch 187/400\n",
            "169/169 [==============================] - 0s 350us/step - loss: 0.0118 - val_loss: 0.0089\n",
            "Epoch 188/400\n",
            "169/169 [==============================] - 0s 357us/step - loss: 0.0134 - val_loss: 0.0101\n",
            "Epoch 189/400\n",
            "169/169 [==============================] - 0s 358us/step - loss: 0.0129 - val_loss: 0.0113\n",
            "Epoch 190/400\n",
            "169/169 [==============================] - 0s 354us/step - loss: 0.0128 - val_loss: 0.0119\n",
            "Epoch 191/400\n",
            "169/169 [==============================] - 0s 360us/step - loss: 0.0122 - val_loss: 0.0119\n",
            "Epoch 192/400\n",
            "169/169 [==============================] - 0s 359us/step - loss: 0.0125 - val_loss: 0.0125\n",
            "Epoch 193/400\n",
            "169/169 [==============================] - 0s 356us/step - loss: 0.0131 - val_loss: 0.0131\n",
            "Epoch 194/400\n",
            "169/169 [==============================] - 0s 355us/step - loss: 0.0136 - val_loss: 0.0124\n",
            "Epoch 195/400\n",
            "169/169 [==============================] - 0s 354us/step - loss: 0.0136 - val_loss: 0.0111\n",
            "Epoch 196/400\n",
            "169/169 [==============================] - 0s 355us/step - loss: 0.0119 - val_loss: 0.0102\n",
            "Epoch 197/400\n",
            "169/169 [==============================] - 0s 347us/step - loss: 0.0127 - val_loss: 0.0097\n",
            "Epoch 198/400\n",
            "169/169 [==============================] - 0s 354us/step - loss: 0.0133 - val_loss: 0.0100\n",
            "Epoch 199/400\n",
            "169/169 [==============================] - 0s 399us/step - loss: 0.0141 - val_loss: 0.0110\n",
            "Epoch 200/400\n",
            "169/169 [==============================] - 0s 356us/step - loss: 0.0127 - val_loss: 0.0117\n",
            "Epoch 201/400\n",
            "169/169 [==============================] - 0s 355us/step - loss: 0.0135 - val_loss: 0.0122\n",
            "Epoch 202/400\n",
            "169/169 [==============================] - 0s 361us/step - loss: 0.0160 - val_loss: 0.0124\n",
            "Epoch 203/400\n",
            "169/169 [==============================] - 0s 357us/step - loss: 0.0124 - val_loss: 0.0123\n",
            "Epoch 204/400\n",
            "169/169 [==============================] - 0s 362us/step - loss: 0.0125 - val_loss: 0.0119\n",
            "Epoch 205/400\n",
            "169/169 [==============================] - 0s 355us/step - loss: 0.0123 - val_loss: 0.0118\n",
            "Epoch 206/400\n",
            "169/169 [==============================] - 0s 344us/step - loss: 0.0122 - val_loss: 0.0123\n",
            "Epoch 207/400\n",
            "169/169 [==============================] - 0s 348us/step - loss: 0.0138 - val_loss: 0.0119\n",
            "Epoch 208/400\n",
            "169/169 [==============================] - 0s 348us/step - loss: 0.0133 - val_loss: 0.0109\n",
            "Epoch 209/400\n",
            "169/169 [==============================] - 0s 362us/step - loss: 0.0124 - val_loss: 0.0100\n",
            "Epoch 210/400\n",
            "169/169 [==============================] - 0s 350us/step - loss: 0.0129 - val_loss: 0.0090\n",
            "Epoch 211/400\n",
            "169/169 [==============================] - 0s 351us/step - loss: 0.0143 - val_loss: 0.0088\n",
            "Epoch 212/400\n",
            "169/169 [==============================] - 0s 350us/step - loss: 0.0124 - val_loss: 0.0094\n",
            "Epoch 213/400\n",
            "169/169 [==============================] - 0s 362us/step - loss: 0.0125 - val_loss: 0.0100\n",
            "Epoch 214/400\n",
            "169/169 [==============================] - 0s 360us/step - loss: 0.0128 - val_loss: 0.0097\n",
            "Epoch 215/400\n",
            "169/169 [==============================] - 0s 400us/step - loss: 0.0138 - val_loss: 0.0099\n",
            "Epoch 216/400\n",
            "169/169 [==============================] - 0s 348us/step - loss: 0.0140 - val_loss: 0.0110\n",
            "Epoch 217/400\n",
            "169/169 [==============================] - 0s 357us/step - loss: 0.0122 - val_loss: 0.0120\n",
            "Epoch 218/400\n",
            "169/169 [==============================] - 0s 354us/step - loss: 0.0140 - val_loss: 0.0115\n",
            "Epoch 219/400\n",
            "169/169 [==============================] - 0s 346us/step - loss: 0.0126 - val_loss: 0.0100\n",
            "Epoch 220/400\n",
            "169/169 [==============================] - 0s 346us/step - loss: 0.0134 - val_loss: 0.0083\n",
            "Epoch 221/400\n",
            "169/169 [==============================] - 0s 352us/step - loss: 0.0120 - val_loss: 0.0074\n",
            "Epoch 222/400\n",
            "169/169 [==============================] - 0s 356us/step - loss: 0.0130 - val_loss: 0.0077\n",
            "Epoch 223/400\n",
            "169/169 [==============================] - 0s 362us/step - loss: 0.0134 - val_loss: 0.0089\n",
            "Epoch 224/400\n",
            "169/169 [==============================] - 0s 373us/step - loss: 0.0132 - val_loss: 0.0112\n",
            "Epoch 225/400\n",
            "169/169 [==============================] - 0s 361us/step - loss: 0.0109 - val_loss: 0.0133\n",
            "Epoch 226/400\n",
            "169/169 [==============================] - 0s 348us/step - loss: 0.0128 - val_loss: 0.0141\n",
            "Epoch 227/400\n",
            "169/169 [==============================] - 0s 364us/step - loss: 0.0138 - val_loss: 0.0133\n",
            "Epoch 228/400\n",
            "169/169 [==============================] - 0s 352us/step - loss: 0.0124 - val_loss: 0.0109\n",
            "Epoch 229/400\n",
            "169/169 [==============================] - 0s 354us/step - loss: 0.0131 - val_loss: 0.0086\n",
            "Epoch 230/400\n",
            "169/169 [==============================] - 0s 364us/step - loss: 0.0144 - val_loss: 0.0076\n",
            "Epoch 231/400\n",
            "169/169 [==============================] - 0s 427us/step - loss: 0.0131 - val_loss: 0.0075\n",
            "Epoch 232/400\n",
            "169/169 [==============================] - 0s 362us/step - loss: 0.0118 - val_loss: 0.0081\n",
            "Epoch 233/400\n",
            "169/169 [==============================] - 0s 344us/step - loss: 0.0123 - val_loss: 0.0089\n",
            "Epoch 234/400\n",
            "169/169 [==============================] - 0s 363us/step - loss: 0.0123 - val_loss: 0.0098\n",
            "Epoch 235/400\n",
            "169/169 [==============================] - 0s 368us/step - loss: 0.0118 - val_loss: 0.0107\n",
            "Epoch 236/400\n",
            "169/169 [==============================] - 0s 353us/step - loss: 0.0125 - val_loss: 0.0116\n",
            "Epoch 237/400\n",
            "169/169 [==============================] - 0s 357us/step - loss: 0.0127 - val_loss: 0.0119\n",
            "Epoch 238/400\n",
            "169/169 [==============================] - 0s 349us/step - loss: 0.0137 - val_loss: 0.0104\n",
            "Epoch 239/400\n",
            "169/169 [==============================] - 0s 368us/step - loss: 0.0129 - val_loss: 0.0083\n",
            "Epoch 240/400\n",
            "169/169 [==============================] - 0s 351us/step - loss: 0.0123 - val_loss: 0.0071\n",
            "Epoch 241/400\n",
            "169/169 [==============================] - 0s 356us/step - loss: 0.0131 - val_loss: 0.0070\n",
            "Epoch 242/400\n",
            "169/169 [==============================] - 0s 352us/step - loss: 0.0122 - val_loss: 0.0075\n",
            "Epoch 243/400\n",
            "169/169 [==============================] - 0s 357us/step - loss: 0.0126 - val_loss: 0.0084\n",
            "Epoch 244/400\n",
            "169/169 [==============================] - 0s 352us/step - loss: 0.0114 - val_loss: 0.0095\n",
            "Epoch 245/400\n",
            "169/169 [==============================] - 0s 382us/step - loss: 0.0125 - val_loss: 0.0109\n",
            "Epoch 246/400\n",
            "169/169 [==============================] - 0s 365us/step - loss: 0.0113 - val_loss: 0.0115\n",
            "Epoch 247/400\n",
            "169/169 [==============================] - 0s 356us/step - loss: 0.0130 - val_loss: 0.0117\n",
            "Epoch 248/400\n",
            "169/169 [==============================] - 0s 395us/step - loss: 0.0133 - val_loss: 0.0114\n",
            "Epoch 249/400\n",
            "169/169 [==============================] - 0s 351us/step - loss: 0.0116 - val_loss: 0.0098\n",
            "Epoch 250/400\n",
            "169/169 [==============================] - 0s 370us/step - loss: 0.0123 - val_loss: 0.0082\n",
            "Epoch 251/400\n",
            "169/169 [==============================] - 0s 354us/step - loss: 0.0111 - val_loss: 0.0074\n",
            "Epoch 252/400\n",
            "169/169 [==============================] - 0s 353us/step - loss: 0.0135 - val_loss: 0.0076\n",
            "Epoch 253/400\n",
            "169/169 [==============================] - 0s 356us/step - loss: 0.0129 - val_loss: 0.0086\n",
            "Epoch 254/400\n",
            "169/169 [==============================] - 0s 357us/step - loss: 0.0134 - val_loss: 0.0111\n",
            "Epoch 255/400\n",
            "169/169 [==============================] - 0s 357us/step - loss: 0.0115 - val_loss: 0.0132\n",
            "Epoch 256/400\n",
            "169/169 [==============================] - 0s 354us/step - loss: 0.0132 - val_loss: 0.0130\n",
            "Epoch 257/400\n",
            "169/169 [==============================] - 0s 355us/step - loss: 0.0122 - val_loss: 0.0116\n",
            "Epoch 258/400\n",
            "169/169 [==============================] - 0s 353us/step - loss: 0.0128 - val_loss: 0.0101\n",
            "Epoch 259/400\n",
            "169/169 [==============================] - 0s 351us/step - loss: 0.0127 - val_loss: 0.0082\n",
            "Epoch 260/400\n",
            "169/169 [==============================] - 0s 347us/step - loss: 0.0136 - val_loss: 0.0071\n",
            "Epoch 261/400\n",
            "169/169 [==============================] - 0s 352us/step - loss: 0.0139 - val_loss: 0.0073\n",
            "Epoch 262/400\n",
            "169/169 [==============================] - 0s 352us/step - loss: 0.0142 - val_loss: 0.0085\n",
            "Epoch 263/400\n",
            "169/169 [==============================] - 0s 358us/step - loss: 0.0120 - val_loss: 0.0101\n",
            "Epoch 264/400\n",
            "169/169 [==============================] - 0s 345us/step - loss: 0.0127 - val_loss: 0.0114\n",
            "Epoch 265/400\n",
            "169/169 [==============================] - 0s 390us/step - loss: 0.0120 - val_loss: 0.0122\n",
            "Epoch 266/400\n",
            "169/169 [==============================] - 0s 345us/step - loss: 0.0116 - val_loss: 0.0127\n",
            "Epoch 267/400\n",
            "169/169 [==============================] - 0s 353us/step - loss: 0.0128 - val_loss: 0.0124\n",
            "Epoch 268/400\n",
            "169/169 [==============================] - 0s 361us/step - loss: 0.0137 - val_loss: 0.0113\n",
            "Epoch 269/400\n",
            "169/169 [==============================] - 0s 353us/step - loss: 0.0124 - val_loss: 0.0106\n",
            "Epoch 270/400\n",
            "169/169 [==============================] - 0s 357us/step - loss: 0.0138 - val_loss: 0.0099\n",
            "Epoch 271/400\n",
            "169/169 [==============================] - 0s 342us/step - loss: 0.0132 - val_loss: 0.0095\n",
            "Epoch 272/400\n",
            "169/169 [==============================] - 0s 348us/step - loss: 0.0137 - val_loss: 0.0095\n",
            "Epoch 273/400\n",
            "169/169 [==============================] - 0s 343us/step - loss: 0.0116 - val_loss: 0.0094\n",
            "Epoch 274/400\n",
            "169/169 [==============================] - 0s 346us/step - loss: 0.0120 - val_loss: 0.0099\n",
            "Epoch 275/400\n",
            "169/169 [==============================] - 0s 355us/step - loss: 0.0124 - val_loss: 0.0111\n",
            "Epoch 276/400\n",
            "169/169 [==============================] - 0s 343us/step - loss: 0.0138 - val_loss: 0.0110\n",
            "Epoch 277/400\n",
            "169/169 [==============================] - 0s 352us/step - loss: 0.0126 - val_loss: 0.0099\n",
            "Epoch 278/400\n",
            "169/169 [==============================] - 0s 349us/step - loss: 0.0123 - val_loss: 0.0093\n",
            "Epoch 279/400\n",
            "169/169 [==============================] - 0s 350us/step - loss: 0.0148 - val_loss: 0.0095\n",
            "Epoch 280/400\n",
            "169/169 [==============================] - 0s 355us/step - loss: 0.0115 - val_loss: 0.0094\n",
            "Epoch 281/400\n",
            "169/169 [==============================] - 0s 385us/step - loss: 0.0128 - val_loss: 0.0085\n",
            "Epoch 282/400\n",
            "169/169 [==============================] - 0s 347us/step - loss: 0.0116 - val_loss: 0.0076\n",
            "Epoch 283/400\n",
            "169/169 [==============================] - 0s 343us/step - loss: 0.0133 - val_loss: 0.0076\n",
            "Epoch 284/400\n",
            "169/169 [==============================] - 0s 345us/step - loss: 0.0134 - val_loss: 0.0083\n",
            "Epoch 285/400\n",
            "169/169 [==============================] - 0s 352us/step - loss: 0.0132 - val_loss: 0.0093\n",
            "Epoch 286/400\n",
            "169/169 [==============================] - 0s 357us/step - loss: 0.0139 - val_loss: 0.0097\n",
            "Epoch 287/400\n",
            "169/169 [==============================] - 0s 350us/step - loss: 0.0117 - val_loss: 0.0094\n",
            "Epoch 288/400\n",
            "169/169 [==============================] - 0s 352us/step - loss: 0.0122 - val_loss: 0.0089\n",
            "Epoch 289/400\n",
            "169/169 [==============================] - 0s 342us/step - loss: 0.0111 - val_loss: 0.0080\n",
            "Epoch 290/400\n",
            "169/169 [==============================] - 0s 374us/step - loss: 0.0114 - val_loss: 0.0074\n",
            "Epoch 291/400\n",
            "169/169 [==============================] - 0s 352us/step - loss: 0.0112 - val_loss: 0.0075\n",
            "Epoch 292/400\n",
            "169/169 [==============================] - 0s 353us/step - loss: 0.0120 - val_loss: 0.0076\n",
            "Epoch 293/400\n",
            "169/169 [==============================] - 0s 346us/step - loss: 0.0124 - val_loss: 0.0074\n",
            "Epoch 294/400\n",
            "169/169 [==============================] - 0s 350us/step - loss: 0.0130 - val_loss: 0.0077\n",
            "Epoch 295/400\n",
            "169/169 [==============================] - 0s 352us/step - loss: 0.0138 - val_loss: 0.0089\n",
            "Epoch 296/400\n",
            "169/169 [==============================] - 0s 355us/step - loss: 0.0140 - val_loss: 0.0102\n",
            "Epoch 297/400\n",
            "169/169 [==============================] - 0s 340us/step - loss: 0.0121 - val_loss: 0.0104\n",
            "Epoch 298/400\n",
            "169/169 [==============================] - 0s 385us/step - loss: 0.0118 - val_loss: 0.0103\n",
            "Epoch 299/400\n",
            "169/169 [==============================] - 0s 344us/step - loss: 0.0116 - val_loss: 0.0110\n",
            "Epoch 300/400\n",
            "169/169 [==============================] - 0s 362us/step - loss: 0.0089 - val_loss: 0.0115\n",
            "Epoch 301/400\n",
            "169/169 [==============================] - 0s 356us/step - loss: 0.0131 - val_loss: 0.0119\n",
            "Epoch 302/400\n",
            "169/169 [==============================] - 0s 356us/step - loss: 0.0102 - val_loss: 0.0116\n",
            "Epoch 303/400\n",
            "169/169 [==============================] - 0s 348us/step - loss: 0.0133 - val_loss: 0.0102\n",
            "Epoch 304/400\n",
            "169/169 [==============================] - 0s 341us/step - loss: 0.0118 - val_loss: 0.0088\n",
            "Epoch 305/400\n",
            "169/169 [==============================] - 0s 349us/step - loss: 0.0114 - val_loss: 0.0079\n",
            "Epoch 306/400\n",
            "169/169 [==============================] - 0s 343us/step - loss: 0.0126 - val_loss: 0.0077\n",
            "Epoch 307/400\n",
            "169/169 [==============================] - 0s 345us/step - loss: 0.0129 - val_loss: 0.0078\n",
            "Epoch 308/400\n",
            "169/169 [==============================] - 0s 344us/step - loss: 0.0116 - val_loss: 0.0079\n",
            "Epoch 309/400\n",
            "169/169 [==============================] - 0s 357us/step - loss: 0.0121 - val_loss: 0.0079\n",
            "Epoch 310/400\n",
            "169/169 [==============================] - 0s 360us/step - loss: 0.0119 - val_loss: 0.0078\n",
            "Epoch 311/400\n",
            "169/169 [==============================] - 0s 353us/step - loss: 0.0133 - val_loss: 0.0083\n",
            "Epoch 312/400\n",
            "169/169 [==============================] - 0s 352us/step - loss: 0.0121 - val_loss: 0.0090\n",
            "Epoch 313/400\n",
            "169/169 [==============================] - 0s 355us/step - loss: 0.0131 - val_loss: 0.0092\n",
            "Epoch 314/400\n",
            "169/169 [==============================] - 0s 360us/step - loss: 0.0125 - val_loss: 0.0086\n",
            "Epoch 315/400\n",
            "169/169 [==============================] - 0s 381us/step - loss: 0.0139 - val_loss: 0.0087\n",
            "Epoch 316/400\n",
            "169/169 [==============================] - 0s 351us/step - loss: 0.0120 - val_loss: 0.0094\n",
            "Epoch 317/400\n",
            "169/169 [==============================] - 0s 339us/step - loss: 0.0134 - val_loss: 0.0095\n",
            "Epoch 318/400\n",
            "169/169 [==============================] - 0s 345us/step - loss: 0.0129 - val_loss: 0.0086\n",
            "Epoch 319/400\n",
            "169/169 [==============================] - 0s 346us/step - loss: 0.0123 - val_loss: 0.0077\n",
            "Epoch 320/400\n",
            "169/169 [==============================] - 0s 344us/step - loss: 0.0141 - val_loss: 0.0070\n",
            "Epoch 321/400\n",
            "169/169 [==============================] - 0s 353us/step - loss: 0.0118 - val_loss: 0.0068\n",
            "Epoch 322/400\n",
            "169/169 [==============================] - 0s 338us/step - loss: 0.0138 - val_loss: 0.0074\n",
            "Epoch 323/400\n",
            "169/169 [==============================] - 0s 344us/step - loss: 0.0122 - val_loss: 0.0076\n",
            "Epoch 324/400\n",
            "169/169 [==============================] - 0s 356us/step - loss: 0.0124 - val_loss: 0.0077\n",
            "Epoch 325/400\n",
            "169/169 [==============================] - 0s 350us/step - loss: 0.0126 - val_loss: 0.0082\n",
            "Epoch 326/400\n",
            "169/169 [==============================] - 0s 335us/step - loss: 0.0114 - val_loss: 0.0085\n",
            "Epoch 327/400\n",
            "169/169 [==============================] - 0s 340us/step - loss: 0.0116 - val_loss: 0.0083\n",
            "Epoch 328/400\n",
            "169/169 [==============================] - 0s 355us/step - loss: 0.0114 - val_loss: 0.0087\n",
            "Epoch 329/400\n",
            "169/169 [==============================] - 0s 353us/step - loss: 0.0136 - val_loss: 0.0099\n",
            "Epoch 330/400\n",
            "169/169 [==============================] - 0s 350us/step - loss: 0.0131 - val_loss: 0.0106\n",
            "Epoch 331/400\n",
            "169/169 [==============================] - 0s 338us/step - loss: 0.0118 - val_loss: 0.0105\n",
            "Epoch 332/400\n",
            "169/169 [==============================] - 0s 390us/step - loss: 0.0140 - val_loss: 0.0106\n",
            "Epoch 333/400\n",
            "169/169 [==============================] - 0s 358us/step - loss: 0.0134 - val_loss: 0.0106\n",
            "Epoch 334/400\n",
            "169/169 [==============================] - 0s 354us/step - loss: 0.0125 - val_loss: 0.0107\n",
            "Epoch 335/400\n",
            "169/169 [==============================] - 0s 350us/step - loss: 0.0110 - val_loss: 0.0103\n",
            "Epoch 336/400\n",
            "169/169 [==============================] - 0s 351us/step - loss: 0.0141 - val_loss: 0.0094\n",
            "Epoch 337/400\n",
            "169/169 [==============================] - 0s 344us/step - loss: 0.0122 - val_loss: 0.0087\n",
            "Epoch 338/400\n",
            "169/169 [==============================] - 0s 352us/step - loss: 0.0141 - val_loss: 0.0081\n",
            "Epoch 339/400\n",
            "169/169 [==============================] - 0s 350us/step - loss: 0.0136 - val_loss: 0.0080\n",
            "Epoch 340/400\n",
            "169/169 [==============================] - 0s 340us/step - loss: 0.0112 - val_loss: 0.0085\n",
            "Epoch 341/400\n",
            "169/169 [==============================] - 0s 332us/step - loss: 0.0106 - val_loss: 0.0095\n",
            "Epoch 342/400\n",
            "169/169 [==============================] - 0s 355us/step - loss: 0.0118 - val_loss: 0.0105\n",
            "Epoch 343/400\n",
            "169/169 [==============================] - 0s 352us/step - loss: 0.0121 - val_loss: 0.0113\n",
            "Epoch 344/400\n",
            "169/169 [==============================] - 0s 345us/step - loss: 0.0106 - val_loss: 0.0113\n",
            "Epoch 345/400\n",
            "169/169 [==============================] - 0s 351us/step - loss: 0.0118 - val_loss: 0.0112\n",
            "Epoch 346/400\n",
            "169/169 [==============================] - 0s 353us/step - loss: 0.0106 - val_loss: 0.0112\n",
            "Epoch 347/400\n",
            "169/169 [==============================] - 0s 350us/step - loss: 0.0125 - val_loss: 0.0106\n",
            "Epoch 348/400\n",
            "169/169 [==============================] - 0s 352us/step - loss: 0.0128 - val_loss: 0.0095\n",
            "Epoch 349/400\n",
            "169/169 [==============================] - 0s 355us/step - loss: 0.0124 - val_loss: 0.0085\n",
            "Epoch 350/400\n",
            "169/169 [==============================] - 0s 349us/step - loss: 0.0124 - val_loss: 0.0078\n",
            "Epoch 351/400\n",
            "169/169 [==============================] - 0s 355us/step - loss: 0.0120 - val_loss: 0.0073\n",
            "Epoch 352/400\n",
            "169/169 [==============================] - 0s 357us/step - loss: 0.0115 - val_loss: 0.0074\n",
            "Epoch 353/400\n",
            "169/169 [==============================] - 0s 349us/step - loss: 0.0122 - val_loss: 0.0084\n",
            "Epoch 354/400\n",
            "169/169 [==============================] - 0s 355us/step - loss: 0.0116 - val_loss: 0.0091\n",
            "Epoch 355/400\n",
            "169/169 [==============================] - 0s 351us/step - loss: 0.0111 - val_loss: 0.0093\n",
            "Epoch 356/400\n",
            "169/169 [==============================] - 0s 348us/step - loss: 0.0124 - val_loss: 0.0094\n",
            "Epoch 357/400\n",
            "169/169 [==============================] - 0s 347us/step - loss: 0.0129 - val_loss: 0.0094\n",
            "Epoch 358/400\n",
            "169/169 [==============================] - 0s 354us/step - loss: 0.0118 - val_loss: 0.0101\n",
            "Epoch 359/400\n",
            "169/169 [==============================] - 0s 367us/step - loss: 0.0134 - val_loss: 0.0107\n",
            "Epoch 360/400\n",
            "169/169 [==============================] - 0s 354us/step - loss: 0.0114 - val_loss: 0.0102\n",
            "Epoch 361/400\n",
            "169/169 [==============================] - 0s 345us/step - loss: 0.0117 - val_loss: 0.0094\n",
            "Epoch 362/400\n",
            "169/169 [==============================] - 0s 353us/step - loss: 0.0137 - val_loss: 0.0095\n",
            "Epoch 363/400\n",
            "169/169 [==============================] - 0s 353us/step - loss: 0.0108 - val_loss: 0.0097\n",
            "Epoch 364/400\n",
            "169/169 [==============================] - 0s 362us/step - loss: 0.0119 - val_loss: 0.0100\n",
            "Epoch 365/400\n",
            "169/169 [==============================] - 0s 385us/step - loss: 0.0109 - val_loss: 0.0102\n",
            "Epoch 366/400\n",
            "169/169 [==============================] - 0s 361us/step - loss: 0.0122 - val_loss: 0.0100\n",
            "Epoch 367/400\n",
            "169/169 [==============================] - 0s 359us/step - loss: 0.0125 - val_loss: 0.0093\n",
            "Epoch 368/400\n",
            "169/169 [==============================] - 0s 364us/step - loss: 0.0121 - val_loss: 0.0081\n",
            "Epoch 369/400\n",
            "169/169 [==============================] - 0s 362us/step - loss: 0.0117 - val_loss: 0.0068\n",
            "Epoch 370/400\n",
            "169/169 [==============================] - 0s 344us/step - loss: 0.0124 - val_loss: 0.0065\n",
            "Epoch 371/400\n",
            "169/169 [==============================] - 0s 349us/step - loss: 0.0136 - val_loss: 0.0077\n",
            "Epoch 372/400\n",
            "169/169 [==============================] - 0s 355us/step - loss: 0.0121 - val_loss: 0.0100\n",
            "Epoch 373/400\n",
            "169/169 [==============================] - 0s 362us/step - loss: 0.0107 - val_loss: 0.0119\n",
            "Epoch 374/400\n",
            "169/169 [==============================] - 0s 357us/step - loss: 0.0130 - val_loss: 0.0127\n",
            "Epoch 375/400\n",
            "169/169 [==============================] - 0s 356us/step - loss: 0.0126 - val_loss: 0.0122\n",
            "Epoch 376/400\n",
            "169/169 [==============================] - 0s 356us/step - loss: 0.0131 - val_loss: 0.0112\n",
            "Epoch 377/400\n",
            "169/169 [==============================] - 0s 379us/step - loss: 0.0117 - val_loss: 0.0100\n",
            "Epoch 378/400\n",
            "169/169 [==============================] - 0s 354us/step - loss: 0.0113 - val_loss: 0.0090\n",
            "Epoch 379/400\n",
            "169/169 [==============================] - 0s 364us/step - loss: 0.0129 - val_loss: 0.0093\n",
            "Epoch 380/400\n",
            "169/169 [==============================] - 0s 362us/step - loss: 0.0124 - val_loss: 0.0102\n",
            "Epoch 381/400\n",
            "169/169 [==============================] - 0s 374us/step - loss: 0.0107 - val_loss: 0.0109\n",
            "Epoch 382/400\n",
            "169/169 [==============================] - 0s 370us/step - loss: 0.0114 - val_loss: 0.0108\n",
            "Epoch 383/400\n",
            "169/169 [==============================] - 0s 368us/step - loss: 0.0125 - val_loss: 0.0096\n",
            "Epoch 384/400\n",
            "169/169 [==============================] - 0s 351us/step - loss: 0.0116 - val_loss: 0.0084\n",
            "Epoch 385/400\n",
            "169/169 [==============================] - 0s 373us/step - loss: 0.0121 - val_loss: 0.0074\n",
            "Epoch 386/400\n",
            "169/169 [==============================] - 0s 364us/step - loss: 0.0110 - val_loss: 0.0072\n",
            "Epoch 387/400\n",
            "169/169 [==============================] - 0s 358us/step - loss: 0.0129 - val_loss: 0.0085\n",
            "Epoch 388/400\n",
            "169/169 [==============================] - 0s 348us/step - loss: 0.0115 - val_loss: 0.0111\n",
            "Epoch 389/400\n",
            "169/169 [==============================] - 0s 349us/step - loss: 0.0127 - val_loss: 0.0143\n",
            "Epoch 390/400\n",
            "169/169 [==============================] - 0s 363us/step - loss: 0.0140 - val_loss: 0.0161\n",
            "Epoch 391/400\n",
            "169/169 [==============================] - 0s 365us/step - loss: 0.0113 - val_loss: 0.0159\n",
            "Epoch 392/400\n",
            "169/169 [==============================] - 0s 360us/step - loss: 0.0119 - val_loss: 0.0145\n",
            "Epoch 393/400\n",
            "169/169 [==============================] - 0s 349us/step - loss: 0.0126 - val_loss: 0.0127\n",
            "Epoch 394/400\n",
            "169/169 [==============================] - 0s 350us/step - loss: 0.0129 - val_loss: 0.0117\n",
            "Epoch 395/400\n",
            "169/169 [==============================] - 0s 364us/step - loss: 0.0116 - val_loss: 0.0110\n",
            "Epoch 396/400\n",
            "169/169 [==============================] - 0s 355us/step - loss: 0.0126 - val_loss: 0.0097\n",
            "Epoch 397/400\n",
            "169/169 [==============================] - 0s 351us/step - loss: 0.0115 - val_loss: 0.0079\n",
            "Epoch 398/400\n",
            "169/169 [==============================] - 0s 404us/step - loss: 0.0128 - val_loss: 0.0067\n",
            "Epoch 399/400\n",
            "169/169 [==============================] - 0s 356us/step - loss: 0.0131 - val_loss: 0.0064\n",
            "Epoch 400/400\n",
            "169/169 [==============================] - 0s 361us/step - loss: 0.0123 - val_loss: 0.0067\n"
          ],
          "name": "stdout"
        },
        {
          "output_type": "execute_result",
          "data": {
            "text/plain": [
              "<keras.callbacks.callbacks.History at 0x7f8c5bb54b38>"
            ]
          },
          "metadata": {
            "tags": []
          },
          "execution_count": 29
        }
      ]
    },
    {
      "cell_type": "code",
      "metadata": {
        "id": "11mKLvcFHijJ",
        "colab_type": "code",
        "outputId": "e043ee25-c293-4b0b-efd4-44ecb6096cf7",
        "colab": {
          "base_uri": "https://localhost:8080/",
          "height": 350
        }
      },
      "source": [
        "plt.figure(figsize=(10,5))\n",
        "plt.plot(regressorGRU.history.history['loss'], label='Training', color='blue')\n",
        "plt.plot(regressorGRU.history.history['val_loss'], label='Validation', color='red')\n",
        "plt.legend()\n",
        "plt.title(\"Training Loss Vs Validation Loss\")\n",
        "plt.xlabel('time')\n",
        "plt.ylabel('loss')\n",
        "plt.show()"
      ],
      "execution_count": 0,
      "outputs": [
        {
          "output_type": "display_data",
          "data": {
            "image/png": "[encoded data removed]",
            "text/plain": [
              "<Figure size 720x360 with 1 Axes>"
            ]
          },
          "metadata": {
            "tags": [],
            "needs_background": "light"
          }
        }
      ]
    },
    {
      "cell_type": "markdown",
      "metadata": {
        "id": "wHqrk3byKzEF",
        "colab_type": "text"
      },
      "source": [
        "###Predict the stock price"
      ]
    },
    {
      "cell_type": "code",
      "metadata": {
        "id": "nscCDs3LK2VG",
        "colab_type": "code",
        "colab": {}
      },
      "source": [
        "pred_gru = regressorGRU.predict(X_test)\n",
        "pred_gru = sc.inverse_transform(pred_gru)"
      ],
      "execution_count": 0,
      "outputs": []
    },
    {
      "cell_type": "markdown",
      "metadata": {
        "id": "m-kb4cNCLGr9",
        "colab_type": "text"
      },
      "source": [
        "###Plot the prediction"
      ]
    },
    {
      "cell_type": "code",
      "metadata": {
        "id": "zhqj5QfSLI4T",
        "colab_type": "code",
        "outputId": "b6e03dbd-bfc6-4e20-88be-4a022bba0562",
        "colab": {
          "base_uri": "https://localhost:8080/",
          "height": 296
        }
      },
      "source": [
        "plot_predictions(test_2017, pred_gru)"
      ],
      "execution_count": 0,
      "outputs": [
        {
          "output_type": "display_data",
          "data": {
            "image/png": "[encoded data removed]",
            "text/plain": [
              "<Figure size 432x288 with 1 Axes>"
            ]
          },
          "metadata": {
            "tags": [],
            "needs_background": "light"
          }
        }
      ]
    },
    {
      "cell_type": "markdown",
      "metadata": {
        "id": "M6OIzrFvLdY7",
        "colab_type": "text"
      },
      "source": [
        "###RMSE of the model"
      ]
    },
    {
      "cell_type": "code",
      "metadata": {
        "id": "olfgsznTLdqf",
        "colab_type": "code",
        "outputId": "a990def2-286d-439a-8f9d-3b9987485856",
        "colab": {
          "base_uri": "https://localhost:8080/",
          "height": 34
        }
      },
      "source": [
        "return_rmse(test_2017, pred_gru)\n",
        "rmse_gru_2017 = return_rmse(test_2017, pred_gru)\n",
        "print(\"RMSE = {}.\".format(rmse_gru_2017))"
      ],
      "execution_count": 0,
      "outputs": [
        {
          "output_type": "stream",
          "text": [
            "RMSE = 14.322629824567592.\n"
          ],
          "name": "stdout"
        }
      ]
    },
    {
      "cell_type": "markdown",
      "metadata": {
        "id": "xmpH_idAJTVp",
        "colab_type": "text"
      },
      "source": [
        "#Testing Models"
      ]
    },
    {
      "cell_type": "markdown",
      "metadata": {
        "id": "sfhuyvb1SyvL",
        "colab_type": "text"
      },
      "source": [
        "here the model will be tested with three different period as following:\n",
        "1. 2020-4-3 to 2020-5-1\n",
        "2. The next five monthes after 2018-1-1\n",
        "3. The next ten monthes after 2018-1-1\n",
        "\n",
        "\n"
      ]
    },
    {
      "cell_type": "code",
      "metadata": {
        "id": "Py-PmJ7RMI4k",
        "colab_type": "code",
        "colab": {}
      },
      "source": [
        "def preprossing_data_rnns(data):\n",
        "  data_x = []\n",
        "  data_y = []\n",
        "  for i in range(10,len(data)):\n",
        "    data_x.append(data[i-10:i, 0])\n",
        "    data_y.append(data[i,0])\n",
        "  data_x = sc.transform(data_x)\n",
        "  data_x, data_y = np.array(data_x), np.array(data_y)\n",
        "  data_x = np.reshape(data_x, (data_x.shape[0], data_x.shape[1], 1))\n",
        "  return data_x, data_y\n",
        "\n",
        "def predic_using_LSTM(data_x):\n",
        "  pred_lstm_new = regressor.predict(data_x)\n",
        "  pred_lstm_new = sc.inverse_transform(pred_lstm_new)\n",
        "  return pred_lstm_new\n",
        "\n",
        "def predic_using_gru(data_x):\n",
        "  pred_gru_new = regressorGRU.predict(data_x)\n",
        "  pred_gru_new = sc.inverse_transform(pred_gru_new)\n",
        "  return pred_gru_new\n"
      ],
      "execution_count": 0,
      "outputs": []
    },
    {
      "cell_type": "markdown",
      "metadata": {
        "id": "_2DglhNSfrsM",
        "colab_type": "text"
      },
      "source": [
        "##Get the pariod from 2020-4-3 to 2020-5-1 months after 2018-1-1"
      ]
    },
    {
      "cell_type": "code",
      "metadata": {
        "id": "J2E_7zlBJbxV",
        "colab_type": "code",
        "colab": {}
      },
      "source": [
        "apple_data_4_5 = pd.read_csv('https://raw.githubusercontent.com/ahshawaf/AML/project7/APPL_2020-03-04_to_2020-01-05.csv',index_col='Date', parse_dates=[\"Date\"]) "
      ],
      "execution_count": 0,
      "outputs": []
    },
    {
      "cell_type": "code",
      "metadata": {
        "id": "QR2ncqX7Q2IX",
        "colab_type": "code",
        "outputId": "5de2956c-ba4d-4b54-d553-c2456163feca",
        "colab": {
          "base_uri": "https://localhost:8080/",
          "height": 225
        }
      },
      "source": [
        "apple_data_4_5.head()"
      ],
      "execution_count": 0,
      "outputs": [
        {
          "output_type": "execute_result",
          "data": {
            "text/html": [
              "<div>\n",
              "<style scoped>\n",
              "    .dataframe tbody tr th:only-of-type {\n",
              "        vertical-align: middle;\n",
              "    }\n",
              "\n",
              "    .dataframe tbody tr th {\n",
              "        vertical-align: top;\n",
              "    }\n",
              "\n",
              "    .dataframe thead th {\n",
              "        text-align: right;\n",
              "    }\n",
              "</style>\n",
              "<table border=\"1\" class=\"dataframe\">\n",
              "  <thead>\n",
              "    <tr style=\"text-align: right;\">\n",
              "      <th></th>\n",
              "      <th>Close/Last</th>\n",
              "      <th>Volume</th>\n",
              "      <th>Open</th>\n",
              "      <th>High</th>\n",
              "      <th>Low</th>\n",
              "    </tr>\n",
              "    <tr>\n",
              "      <th>Date</th>\n",
              "      <th></th>\n",
              "      <th></th>\n",
              "      <th></th>\n",
              "      <th></th>\n",
              "      <th></th>\n",
              "    </tr>\n",
              "  </thead>\n",
              "  <tbody>\n",
              "    <tr>\n",
              "      <th>2020-05-01</th>\n",
              "      <td>289.07</td>\n",
              "      <td>60154180.0</td>\n",
              "      <td>286.25</td>\n",
              "      <td>299.00</td>\n",
              "      <td>285.85</td>\n",
              "    </tr>\n",
              "    <tr>\n",
              "      <th>2020-04-30</th>\n",
              "      <td>293.80</td>\n",
              "      <td>45765970.0</td>\n",
              "      <td>289.96</td>\n",
              "      <td>294.53</td>\n",
              "      <td>288.35</td>\n",
              "    </tr>\n",
              "    <tr>\n",
              "      <th>2020-04-29</th>\n",
              "      <td>287.73</td>\n",
              "      <td>34320200.0</td>\n",
              "      <td>284.73</td>\n",
              "      <td>289.67</td>\n",
              "      <td>283.89</td>\n",
              "    </tr>\n",
              "    <tr>\n",
              "      <th>2020-04-28</th>\n",
              "      <td>278.58</td>\n",
              "      <td>28001190.0</td>\n",
              "      <td>285.08</td>\n",
              "      <td>285.83</td>\n",
              "      <td>278.20</td>\n",
              "    </tr>\n",
              "    <tr>\n",
              "      <th>2020-04-27</th>\n",
              "      <td>283.17</td>\n",
              "      <td>29271890.0</td>\n",
              "      <td>281.80</td>\n",
              "      <td>284.54</td>\n",
              "      <td>279.95</td>\n",
              "    </tr>\n",
              "  </tbody>\n",
              "</table>\n",
              "</div>"
            ],
            "text/plain": [
              "             Close/Last      Volume    Open    High     Low\n",
              "Date                                                       \n",
              "2020-05-01       289.07  60154180.0  286.25  299.00  285.85\n",
              "2020-04-30       293.80  45765970.0  289.96  294.53  288.35\n",
              "2020-04-29       287.73  34320200.0  284.73  289.67  283.89\n",
              "2020-04-28       278.58  28001190.0  285.08  285.83  278.20\n",
              "2020-04-27       283.17  29271890.0  281.80  284.54  279.95"
            ]
          },
          "metadata": {
            "tags": []
          },
          "execution_count": 36
        }
      ]
    },
    {
      "cell_type": "code",
      "metadata": {
        "id": "I25NJkV1ASkm",
        "colab_type": "code",
        "outputId": "80515d6c-4051-4127-d1f5-1862f4904ab3",
        "colab": {
          "base_uri": "https://localhost:8080/",
          "height": 67
        }
      },
      "source": [
        "apple_data_4_5_high = apple_data_4_5.iloc[:,3].values\n",
        "apple_data_4_5_high"
      ],
      "execution_count": 0,
      "outputs": [
        {
          "output_type": "execute_result",
          "data": {
            "text/plain": [
              "array([299.  , 294.53, 289.67, 285.83, 284.54, 283.01, 281.75, 277.9 ,\n",
              "       277.25, 281.68, 286.95, 288.2 , 286.33, 288.25, 273.7 , 270.07,\n",
              "       267.37, 271.7 , 263.11, 245.7 ])"
            ]
          },
          "metadata": {
            "tags": []
          },
          "execution_count": 37
        }
      ]
    },
    {
      "cell_type": "code",
      "metadata": {
        "id": "PRggSA7zCxmB",
        "colab_type": "code",
        "outputId": "8d30131c-1bec-4c96-99fe-ec27ef94cbe8",
        "colab": {
          "base_uri": "https://localhost:8080/",
          "height": 34
        }
      },
      "source": [
        "apple_data_4_5_high.shape"
      ],
      "execution_count": 0,
      "outputs": [
        {
          "output_type": "execute_result",
          "data": {
            "text/plain": [
              "(20,)"
            ]
          },
          "metadata": {
            "tags": []
          },
          "execution_count": 38
        }
      ]
    },
    {
      "cell_type": "code",
      "metadata": {
        "id": "3itLf4izCzwk",
        "colab_type": "code",
        "outputId": "4a2bd513-4a8d-430f-8a3e-a4202efa0275",
        "colab": {
          "base_uri": "https://localhost:8080/",
          "height": 34
        }
      },
      "source": [
        "apple_data_4_5_high=apple_data_4_5_high.reshape(-1,1)\n",
        "apple_data_4_5_high.shape"
      ],
      "execution_count": 0,
      "outputs": [
        {
          "output_type": "execute_result",
          "data": {
            "text/plain": [
              "(20, 1)"
            ]
          },
          "metadata": {
            "tags": []
          },
          "execution_count": 39
        }
      ]
    },
    {
      "cell_type": "code",
      "metadata": {
        "id": "YjPW6SvbNUyK",
        "colab_type": "code",
        "colab": {}
      },
      "source": [
        "apple_x_4_5,apple_y_4_5 = preprossing_data_rnns(np.array(apple_data_4_5_high))"
      ],
      "execution_count": 0,
      "outputs": []
    },
    {
      "cell_type": "markdown",
      "metadata": {
        "id": "-9lKKvbKaOde",
        "colab_type": "text"
      },
      "source": [
        "predict using LSTM"
      ]
    },
    {
      "cell_type": "code",
      "metadata": {
        "id": "KXYRPP65RTSD",
        "colab_type": "code",
        "colab": {}
      },
      "source": [
        "pred_lstm_apple_4_5 = predic_using_LSTM(apple_x_4_5)"
      ],
      "execution_count": 0,
      "outputs": []
    },
    {
      "cell_type": "code",
      "metadata": {
        "id": "t6sHie59SHj7",
        "colab_type": "code",
        "outputId": "d51c88d9-07a6-4119-ab3b-5d7a46042a95",
        "colab": {
          "base_uri": "https://localhost:8080/",
          "height": 185
        }
      },
      "source": [
        "pred_lstm_apple_4_5"
      ],
      "execution_count": 0,
      "outputs": [
        {
          "output_type": "execute_result",
          "data": {
            "text/plain": [
              "array([[313.4467 ],\n",
              "       [310.73846],\n",
              "       [309.07904],\n",
              "       [308.56805],\n",
              "       [308.8545 ],\n",
              "       [308.85825],\n",
              "       [308.70685],\n",
              "       [307.70157],\n",
              "       [306.73465],\n",
              "       [305.1997 ]], dtype=float32)"
            ]
          },
          "metadata": {
            "tags": []
          },
          "execution_count": 42
        }
      ]
    },
    {
      "cell_type": "code",
      "metadata": {
        "id": "3-VztDn-Rb8P",
        "colab_type": "code",
        "outputId": "4e45aca5-ebf9-49e1-d913-7af9ab6c42f9",
        "colab": {
          "base_uri": "https://localhost:8080/",
          "height": 296
        }
      },
      "source": [
        "plot_predictions(apple_y_4_5,pred_lstm_apple_4_5)"
      ],
      "execution_count": 0,
      "outputs": [
        {
          "output_type": "display_data",
          "data": {
            "image/png": "[encoded data removed]",
            "text/plain": [
              "<Figure size 432x288 with 1 Axes>"
            ]
          },
          "metadata": {
            "tags": [],
            "needs_background": "light"
          }
        }
      ]
    },
    {
      "cell_type": "code",
      "metadata": {
        "id": "378OlMNZX8Jg",
        "colab_type": "code",
        "outputId": "750cdbfe-391d-4d98-a17a-27e09f4f6415",
        "colab": {
          "base_uri": "https://localhost:8080/",
          "height": 34
        }
      },
      "source": [
        "rmse_lstm_4_5_2020=return_rmse(apple_y_4_5,pred_lstm_apple_4_5)\n",
        "print('RMSE = {}'.format(rmse_lstm_4_5_2020))"
      ],
      "execution_count": 0,
      "outputs": [
        {
          "output_type": "stream",
          "text": [
            "RMSE = 36.508818650925456\n"
          ],
          "name": "stdout"
        }
      ]
    },
    {
      "cell_type": "markdown",
      "metadata": {
        "id": "nsfS6x3yaKcO",
        "colab_type": "text"
      },
      "source": [
        "predict using GRU"
      ]
    },
    {
      "cell_type": "code",
      "metadata": {
        "id": "wcWjXeEzSNWP",
        "colab_type": "code",
        "colab": {}
      },
      "source": [
        "pred_gru_apple_4_5 = predic_using_gru(apple_x_4_5)"
      ],
      "execution_count": 0,
      "outputs": []
    },
    {
      "cell_type": "code",
      "metadata": {
        "id": "MP_Iet4gTPS8",
        "colab_type": "code",
        "outputId": "0790b3cf-9454-4731-9b4a-727a3e290eb2",
        "colab": {
          "base_uri": "https://localhost:8080/",
          "height": 185
        }
      },
      "source": [
        "pred_gru_apple_4_5"
      ],
      "execution_count": 0,
      "outputs": [
        {
          "output_type": "execute_result",
          "data": {
            "text/plain": [
              "array([[221.30988],\n",
              "       [221.86232],\n",
              "       [222.81146],\n",
              "       [223.47737],\n",
              "       [224.1551 ],\n",
              "       [222.92734],\n",
              "       [220.88783],\n",
              "       [218.65053],\n",
              "       [217.30707],\n",
              "       [215.50479]], dtype=float32)"
            ]
          },
          "metadata": {
            "tags": []
          },
          "execution_count": 52
        }
      ]
    },
    {
      "cell_type": "code",
      "metadata": {
        "id": "mHBIXk4lSptK",
        "colab_type": "code",
        "outputId": "c16b2d55-fad0-4481-8943-6fae435db4bb",
        "colab": {
          "base_uri": "https://localhost:8080/",
          "height": 296
        }
      },
      "source": [
        "plot_predictions(apple_y_4_5,pred_gru_apple_4_5)"
      ],
      "execution_count": 0,
      "outputs": [
        {
          "output_type": "display_data",
          "data": {
            "image/png": "[encoded data removed]",
            "text/plain": [
              "<Figure size 432x288 with 1 Axes>"
            ]
          },
          "metadata": {
            "tags": [],
            "needs_background": "light"
          }
        }
      ]
    },
    {
      "cell_type": "code",
      "metadata": {
        "id": "ribv4JtaXxGg",
        "colab_type": "code",
        "outputId": "6ae7cbcb-0e36-4c6f-c14f-13e8f814013f",
        "colab": {
          "base_uri": "https://localhost:8080/",
          "height": 34
        }
      },
      "source": [
        "rmse_gru_4_5_2020=return_rmse(apple_y_4_5,pred_gru_apple_4_5)\n",
        "print('RMSE = {}'.format(rmse_gru_4_5_2020))"
      ],
      "execution_count": 0,
      "outputs": [
        {
          "output_type": "stream",
          "text": [
            "RMSE = 54.406834647798654\n"
          ],
          "name": "stdout"
        }
      ]
    },
    {
      "cell_type": "markdown",
      "metadata": {
        "id": "NjzuP432QZIw",
        "colab_type": "text"
      },
      "source": [
        "##Get the next five months after 2018-1-1"
      ]
    },
    {
      "cell_type": "code",
      "metadata": {
        "id": "0SuHWzUI53No",
        "colab_type": "code",
        "colab": {}
      },
      "source": [
        "\n",
        "data_2 = pd.read_csv('https://raw.githubusercontent.com/ahshawaf/AML/project7/AAPL_2015-04-05_to_2020-01-05.csv',index_col='Date', parse_dates=[\"Date\"]) "
      ],
      "execution_count": 0,
      "outputs": []
    },
    {
      "cell_type": "code",
      "metadata": {
        "id": "b2uOo4_r6QRw",
        "colab_type": "code",
        "outputId": "1c96eb61-a70a-4108-e9ba-5d61c20c3b9f",
        "colab": {
          "base_uri": "https://localhost:8080/",
          "height": 225
        }
      },
      "source": [
        "data_2.head()"
      ],
      "execution_count": 0,
      "outputs": [
        {
          "output_type": "execute_result",
          "data": {
            "text/html": [
              "<div>\n",
              "<style scoped>\n",
              "    .dataframe tbody tr th:only-of-type {\n",
              "        vertical-align: middle;\n",
              "    }\n",
              "\n",
              "    .dataframe tbody tr th {\n",
              "        vertical-align: top;\n",
              "    }\n",
              "\n",
              "    .dataframe thead th {\n",
              "        text-align: right;\n",
              "    }\n",
              "</style>\n",
              "<table border=\"1\" class=\"dataframe\">\n",
              "  <thead>\n",
              "    <tr style=\"text-align: right;\">\n",
              "      <th></th>\n",
              "      <th>Close/Last</th>\n",
              "      <th>Volume</th>\n",
              "      <th>Open</th>\n",
              "      <th>High</th>\n",
              "      <th>Low</th>\n",
              "    </tr>\n",
              "    <tr>\n",
              "      <th>Date</th>\n",
              "      <th></th>\n",
              "      <th></th>\n",
              "      <th></th>\n",
              "      <th></th>\n",
              "      <th></th>\n",
              "    </tr>\n",
              "  </thead>\n",
              "  <tbody>\n",
              "    <tr>\n",
              "      <th>2020-05-01</th>\n",
              "      <td>289.07</td>\n",
              "      <td>60154180.0</td>\n",
              "      <td>286.25</td>\n",
              "      <td>299.00</td>\n",
              "      <td>285.85</td>\n",
              "    </tr>\n",
              "    <tr>\n",
              "      <th>2020-04-30</th>\n",
              "      <td>293.80</td>\n",
              "      <td>45765970.0</td>\n",
              "      <td>289.96</td>\n",
              "      <td>294.53</td>\n",
              "      <td>288.35</td>\n",
              "    </tr>\n",
              "    <tr>\n",
              "      <th>2020-04-29</th>\n",
              "      <td>287.73</td>\n",
              "      <td>34320200.0</td>\n",
              "      <td>284.73</td>\n",
              "      <td>289.67</td>\n",
              "      <td>283.89</td>\n",
              "    </tr>\n",
              "    <tr>\n",
              "      <th>2020-04-28</th>\n",
              "      <td>278.58</td>\n",
              "      <td>28001190.0</td>\n",
              "      <td>285.08</td>\n",
              "      <td>285.83</td>\n",
              "      <td>278.20</td>\n",
              "    </tr>\n",
              "    <tr>\n",
              "      <th>2020-04-27</th>\n",
              "      <td>283.17</td>\n",
              "      <td>29271890.0</td>\n",
              "      <td>281.80</td>\n",
              "      <td>284.54</td>\n",
              "      <td>279.95</td>\n",
              "    </tr>\n",
              "  </tbody>\n",
              "</table>\n",
              "</div>"
            ],
            "text/plain": [
              "             Close/Last      Volume    Open    High     Low\n",
              "Date                                                       \n",
              "2020-05-01       289.07  60154180.0  286.25  299.00  285.85\n",
              "2020-04-30       293.80  45765970.0  289.96  294.53  288.35\n",
              "2020-04-29       287.73  34320200.0  284.73  289.67  283.89\n",
              "2020-04-28       278.58  28001190.0  285.08  285.83  278.20\n",
              "2020-04-27       283.17  29271890.0  281.80  284.54  279.95"
            ]
          },
          "metadata": {
            "tags": []
          },
          "execution_count": 56
        }
      ]
    },
    {
      "cell_type": "code",
      "metadata": {
        "id": "KU1aVnEPQ65Q",
        "colab_type": "code",
        "colab": {}
      },
      "source": [
        "#this is a custom function get the a specific data with a specific period. The 'from date' is included but the 'to date' is not\n",
        "def get_period_of_data(data,from_year,from_month,from_day,to_year,to_month,to_day):\n",
        "  from_date = pd.Timestamp(date(from_year,from_month,from_day))\n",
        "  to_date = pd.Timestamp(date(to_year,to_month,to_day))\n",
        "  result = data_2[(data.index >= from_date) &  (data.index < to_date)]\n",
        "  return result"
      ],
      "execution_count": 0,
      "outputs": []
    },
    {
      "cell_type": "markdown",
      "metadata": {
        "id": "uX9TuhsLTK5i",
        "colab_type": "text"
      },
      "source": [
        "##Predict for the next five months"
      ]
    },
    {
      "cell_type": "code",
      "metadata": {
        "id": "MvSfMpYwR0Mr",
        "colab_type": "code",
        "outputId": "1755599c-d4f7-467d-dc6e-6da1dad1919b",
        "colab": {
          "base_uri": "https://localhost:8080/",
          "height": 431
        }
      },
      "source": [
        "apple_1_5=get_period_of_data(data_2,2018,1,1,2018,6,1)\n",
        "apple_1_5"
      ],
      "execution_count": 0,
      "outputs": [
        {
          "output_type": "execute_result",
          "data": {
            "text/html": [
              "<div>\n",
              "<style scoped>\n",
              "    .dataframe tbody tr th:only-of-type {\n",
              "        vertical-align: middle;\n",
              "    }\n",
              "\n",
              "    .dataframe tbody tr th {\n",
              "        vertical-align: top;\n",
              "    }\n",
              "\n",
              "    .dataframe thead th {\n",
              "        text-align: right;\n",
              "    }\n",
              "</style>\n",
              "<table border=\"1\" class=\"dataframe\">\n",
              "  <thead>\n",
              "    <tr style=\"text-align: right;\">\n",
              "      <th></th>\n",
              "      <th>Close/Last</th>\n",
              "      <th>Volume</th>\n",
              "      <th>Open</th>\n",
              "      <th>High</th>\n",
              "      <th>Low</th>\n",
              "    </tr>\n",
              "    <tr>\n",
              "      <th>Date</th>\n",
              "      <th></th>\n",
              "      <th></th>\n",
              "      <th></th>\n",
              "      <th></th>\n",
              "      <th></th>\n",
              "    </tr>\n",
              "  </thead>\n",
              "  <tbody>\n",
              "    <tr>\n",
              "      <th>2018-05-31</th>\n",
              "      <td>186.87</td>\n",
              "      <td>27468700.0</td>\n",
              "      <td>187.22</td>\n",
              "      <td>188.23</td>\n",
              "      <td>186.14</td>\n",
              "    </tr>\n",
              "    <tr>\n",
              "      <th>2018-05-30</th>\n",
              "      <td>187.50</td>\n",
              "      <td>18503410.0</td>\n",
              "      <td>187.72</td>\n",
              "      <td>188.00</td>\n",
              "      <td>186.78</td>\n",
              "    </tr>\n",
              "    <tr>\n",
              "      <th>2018-05-29</th>\n",
              "      <td>187.90</td>\n",
              "      <td>22409110.0</td>\n",
              "      <td>187.60</td>\n",
              "      <td>188.75</td>\n",
              "      <td>186.87</td>\n",
              "    </tr>\n",
              "    <tr>\n",
              "      <th>2018-05-25</th>\n",
              "      <td>188.58</td>\n",
              "      <td>17186760.0</td>\n",
              "      <td>188.23</td>\n",
              "      <td>189.65</td>\n",
              "      <td>187.65</td>\n",
              "    </tr>\n",
              "    <tr>\n",
              "      <th>2018-05-24</th>\n",
              "      <td>188.15</td>\n",
              "      <td>23129400.0</td>\n",
              "      <td>188.77</td>\n",
              "      <td>188.84</td>\n",
              "      <td>186.21</td>\n",
              "    </tr>\n",
              "    <tr>\n",
              "      <th>...</th>\n",
              "      <td>...</td>\n",
              "      <td>...</td>\n",
              "      <td>...</td>\n",
              "      <td>...</td>\n",
              "      <td>...</td>\n",
              "    </tr>\n",
              "    <tr>\n",
              "      <th>2018-01-08</th>\n",
              "      <td>174.35</td>\n",
              "      <td>20523870.0</td>\n",
              "      <td>174.35</td>\n",
              "      <td>175.61</td>\n",
              "      <td>173.93</td>\n",
              "    </tr>\n",
              "    <tr>\n",
              "      <th>2018-01-05</th>\n",
              "      <td>175.00</td>\n",
              "      <td>23589930.0</td>\n",
              "      <td>173.44</td>\n",
              "      <td>175.37</td>\n",
              "      <td>173.05</td>\n",
              "    </tr>\n",
              "    <tr>\n",
              "      <th>2018-01-04</th>\n",
              "      <td>173.03</td>\n",
              "      <td>22342650.0</td>\n",
              "      <td>172.54</td>\n",
              "      <td>173.47</td>\n",
              "      <td>172.08</td>\n",
              "    </tr>\n",
              "    <tr>\n",
              "      <th>2018-01-03</th>\n",
              "      <td>172.23</td>\n",
              "      <td>29461040.0</td>\n",
              "      <td>172.53</td>\n",
              "      <td>174.55</td>\n",
              "      <td>171.96</td>\n",
              "    </tr>\n",
              "    <tr>\n",
              "      <th>2018-01-02</th>\n",
              "      <td>172.26</td>\n",
              "      <td>25400540.0</td>\n",
              "      <td>170.16</td>\n",
              "      <td>172.30</td>\n",
              "      <td>169.26</td>\n",
              "    </tr>\n",
              "  </tbody>\n",
              "</table>\n",
              "<p>104 rows × 5 columns</p>\n",
              "</div>"
            ],
            "text/plain": [
              "             Close/Last      Volume    Open    High     Low\n",
              "Date                                                       \n",
              "2018-05-31       186.87  27468700.0  187.22  188.23  186.14\n",
              "2018-05-30       187.50  18503410.0  187.72  188.00  186.78\n",
              "2018-05-29       187.90  22409110.0  187.60  188.75  186.87\n",
              "2018-05-25       188.58  17186760.0  188.23  189.65  187.65\n",
              "2018-05-24       188.15  23129400.0  188.77  188.84  186.21\n",
              "...                 ...         ...     ...     ...     ...\n",
              "2018-01-08       174.35  20523870.0  174.35  175.61  173.93\n",
              "2018-01-05       175.00  23589930.0  173.44  175.37  173.05\n",
              "2018-01-04       173.03  22342650.0  172.54  173.47  172.08\n",
              "2018-01-03       172.23  29461040.0  172.53  174.55  171.96\n",
              "2018-01-02       172.26  25400540.0  170.16  172.30  169.26\n",
              "\n",
              "[104 rows x 5 columns]"
            ]
          },
          "metadata": {
            "tags": []
          },
          "execution_count": 58
        }
      ]
    },
    {
      "cell_type": "code",
      "metadata": {
        "id": "CAd-0dpMP3d-",
        "colab_type": "code",
        "colab": {}
      },
      "source": [
        "apple_1_5_high = apple_1_5.iloc[:,3].values"
      ],
      "execution_count": 0,
      "outputs": []
    },
    {
      "cell_type": "code",
      "metadata": {
        "id": "O8xlSFHcQBmR",
        "colab_type": "code",
        "outputId": "f46af371-4ad4-4615-bdcc-86c6cc91e0af",
        "colab": {
          "base_uri": "https://localhost:8080/",
          "height": 235
        }
      },
      "source": [
        "apple_1_5_high"
      ],
      "execution_count": 0,
      "outputs": [
        {
          "output_type": "execute_result",
          "data": {
            "text/plain": [
              "array([188.23, 188.  , 188.75, 189.65, 188.84, 188.5 , 188.88, 189.27,\n",
              "       187.81, 188.91, 188.46, 187.07, 189.53, 190.06, 190.37, 187.4 ,\n",
              "       186.22, 187.67, 184.25, 177.5 , 177.75, 169.2 , 167.26, 164.33,\n",
              "       165.73, 165.42, 166.33, 166.92, 171.22, 175.39, 178.82, 178.94,\n",
              "       176.19, 175.84, 175.  , 173.92, 174.  , 173.09, 172.48, 174.23,\n",
              "       172.01, 168.75, 168.94, 171.75, 170.02, 175.15, 173.1 , 169.92,\n",
              "       172.68, 175.09, 176.8 , 177.47, 179.12, 180.24, 180.52, 183.5 ,\n",
              "       182.39, 180.  , 177.12, 175.85, 178.25, 177.74, 176.3 , 179.78,\n",
              "       180.62, 180.48, 179.39, 175.65, 173.95, 174.12, 174.26, 174.82,\n",
              "       173.09, 167.54, 164.75, 163.89, 157.89, 161.  , 163.4 , 163.72,\n",
              "       163.88, 166.8 , 168.62, 168.44, 167.37, 170.16, 172.  , 174.95,\n",
              "       177.3 , 179.44, 177.78, 179.58, 180.1 , 179.25, 179.39, 177.36,\n",
              "       175.49, 174.3 , 175.06, 175.61, 175.37, 173.47, 174.55, 172.3 ])"
            ]
          },
          "metadata": {
            "tags": []
          },
          "execution_count": 60
        }
      ]
    },
    {
      "cell_type": "code",
      "metadata": {
        "id": "i24OfdedQKZ_",
        "colab_type": "code",
        "outputId": "bbb29f8b-cf7f-4722-a99a-7da4ca04ae46",
        "colab": {
          "base_uri": "https://localhost:8080/",
          "height": 34
        }
      },
      "source": [
        "apple_1_5_high = apple_1_5_high.reshape(-1,1)\n",
        "apple_1_5_high.shape"
      ],
      "execution_count": 0,
      "outputs": [
        {
          "output_type": "execute_result",
          "data": {
            "text/plain": [
              "(104, 1)"
            ]
          },
          "metadata": {
            "tags": []
          },
          "execution_count": 61
        }
      ]
    },
    {
      "cell_type": "code",
      "metadata": {
        "id": "QKAZnGCoTQqC",
        "colab_type": "code",
        "colab": {}
      },
      "source": [
        "apple_1_5_x,apple_1_5_y = preprossing_data_rnns(np.array(apple_1_5_high))"
      ],
      "execution_count": 0,
      "outputs": []
    },
    {
      "cell_type": "markdown",
      "metadata": {
        "id": "O5AbUIOvVHS4",
        "colab_type": "text"
      },
      "source": [
        "predict using LSTM"
      ]
    },
    {
      "cell_type": "code",
      "metadata": {
        "id": "7ebZNeXLVGau",
        "colab_type": "code",
        "outputId": "ca9ed860-e386-4944-e4ae-4156e995335c",
        "colab": {
          "base_uri": "https://localhost:8080/",
          "height": 296
        }
      },
      "source": [
        "apple_1_5_pred= predic_using_LSTM(apple_1_5_x)\n",
        "plot_predictions(apple_1_5_y,apple_1_5_pred)"
      ],
      "execution_count": 0,
      "outputs": [
        {
          "output_type": "display_data",
          "data": {
            "image/png": "[encoded data removed]",
            "text/plain": [
              "<Figure size 432x288 with 1 Axes>"
            ]
          },
          "metadata": {
            "tags": [],
            "needs_background": "light"
          }
        }
      ]
    },
    {
      "cell_type": "code",
      "metadata": {
        "id": "dVxyrapwXcXe",
        "colab_type": "code",
        "outputId": "d724de55-6d48-4d25-fc9e-0799bb67c8b0",
        "colab": {
          "base_uri": "https://localhost:8080/",
          "height": 34
        }
      },
      "source": [
        "rmse_lstm_1_5_2018=return_rmse(apple_1_5_y,apple_1_5_pred)\n",
        "print(\"RMSE = {}\".format(rmse_lstm_1_5_2018))"
      ],
      "execution_count": 0,
      "outputs": [
        {
          "output_type": "stream",
          "text": [
            "RMSE = 10.605944031281997\n"
          ],
          "name": "stdout"
        }
      ]
    },
    {
      "cell_type": "markdown",
      "metadata": {
        "id": "8NyJSOZnVLCC",
        "colab_type": "text"
      },
      "source": [
        "predict using gru"
      ]
    },
    {
      "cell_type": "code",
      "metadata": {
        "id": "IpvIRRv_VQpz",
        "colab_type": "code",
        "outputId": "9a07e7c1-3a8c-422a-acec-7569e2b383e5",
        "colab": {
          "base_uri": "https://localhost:8080/",
          "height": 296
        }
      },
      "source": [
        "apple_1_5_pred= predic_using_gru(apple_1_5_x)\n",
        "plot_predictions(apple_1_5_y,apple_1_5_pred)"
      ],
      "execution_count": 0,
      "outputs": [
        {
          "output_type": "display_data",
          "data": {
            "image/png": "[encoded data removed]",
            "text/plain": [
              "<Figure size 432x288 with 1 Axes>"
            ]
          },
          "metadata": {
            "tags": [],
            "needs_background": "light"
          }
        }
      ]
    },
    {
      "cell_type": "code",
      "metadata": {
        "id": "FZpzRugrXlTb",
        "colab_type": "code",
        "outputId": "8a6fcb15-a1d6-4801-e980-5ec977f14e96",
        "colab": {
          "base_uri": "https://localhost:8080/",
          "height": 34
        }
      },
      "source": [
        "rmse_gru_1_5_2018=return_rmse(apple_1_5_y,apple_1_5_pred)\n",
        "print(\"RMSE = {}\".format(rmse_gru_1_5_2018))"
      ],
      "execution_count": 0,
      "outputs": [
        {
          "output_type": "stream",
          "text": [
            "RMSE = 21.134372493466728\n"
          ],
          "name": "stdout"
        }
      ]
    },
    {
      "cell_type": "markdown",
      "metadata": {
        "id": "5VwjEhx8Qj0L",
        "colab_type": "text"
      },
      "source": [
        "##Get the next ten months after 2018-1-1"
      ]
    },
    {
      "cell_type": "code",
      "metadata": {
        "id": "QicnbPl5SddL",
        "colab_type": "code",
        "outputId": "ea5d51ea-f78f-458a-e743-9e80edbad4c9",
        "colab": {
          "base_uri": "https://localhost:8080/",
          "height": 431
        }
      },
      "source": [
        "apple_1_11=get_period_of_data(data_2,2018,1,1,2018,11,1)\n",
        "apple_1_11"
      ],
      "execution_count": 0,
      "outputs": [
        {
          "output_type": "execute_result",
          "data": {
            "text/html": [
              "<div>\n",
              "<style scoped>\n",
              "    .dataframe tbody tr th:only-of-type {\n",
              "        vertical-align: middle;\n",
              "    }\n",
              "\n",
              "    .dataframe tbody tr th {\n",
              "        vertical-align: top;\n",
              "    }\n",
              "\n",
              "    .dataframe thead th {\n",
              "        text-align: right;\n",
              "    }\n",
              "</style>\n",
              "<table border=\"1\" class=\"dataframe\">\n",
              "  <thead>\n",
              "    <tr style=\"text-align: right;\">\n",
              "      <th></th>\n",
              "      <th>Close/Last</th>\n",
              "      <th>Volume</th>\n",
              "      <th>Open</th>\n",
              "      <th>High</th>\n",
              "      <th>Low</th>\n",
              "    </tr>\n",
              "    <tr>\n",
              "      <th>Date</th>\n",
              "      <th></th>\n",
              "      <th></th>\n",
              "      <th></th>\n",
              "      <th></th>\n",
              "      <th></th>\n",
              "    </tr>\n",
              "  </thead>\n",
              "  <tbody>\n",
              "    <tr>\n",
              "      <th>2018-10-31</th>\n",
              "      <td>218.86</td>\n",
              "      <td>38016810.0</td>\n",
              "      <td>216.88</td>\n",
              "      <td>220.45</td>\n",
              "      <td>216.62</td>\n",
              "    </tr>\n",
              "    <tr>\n",
              "      <th>2018-10-30</th>\n",
              "      <td>213.30</td>\n",
              "      <td>36487930.0</td>\n",
              "      <td>211.15</td>\n",
              "      <td>215.18</td>\n",
              "      <td>209.27</td>\n",
              "    </tr>\n",
              "    <tr>\n",
              "      <th>2018-10-29</th>\n",
              "      <td>212.24</td>\n",
              "      <td>45713690.0</td>\n",
              "      <td>219.19</td>\n",
              "      <td>219.69</td>\n",
              "      <td>206.09</td>\n",
              "    </tr>\n",
              "    <tr>\n",
              "      <th>2018-10-26</th>\n",
              "      <td>216.30</td>\n",
              "      <td>47191700.0</td>\n",
              "      <td>215.90</td>\n",
              "      <td>220.19</td>\n",
              "      <td>212.67</td>\n",
              "    </tr>\n",
              "    <tr>\n",
              "      <th>2018-10-25</th>\n",
              "      <td>219.80</td>\n",
              "      <td>29027340.0</td>\n",
              "      <td>217.71</td>\n",
              "      <td>221.38</td>\n",
              "      <td>216.75</td>\n",
              "    </tr>\n",
              "    <tr>\n",
              "      <th>...</th>\n",
              "      <td>...</td>\n",
              "      <td>...</td>\n",
              "      <td>...</td>\n",
              "      <td>...</td>\n",
              "      <td>...</td>\n",
              "    </tr>\n",
              "    <tr>\n",
              "      <th>2018-01-08</th>\n",
              "      <td>174.35</td>\n",
              "      <td>20523870.0</td>\n",
              "      <td>174.35</td>\n",
              "      <td>175.61</td>\n",
              "      <td>173.93</td>\n",
              "    </tr>\n",
              "    <tr>\n",
              "      <th>2018-01-05</th>\n",
              "      <td>175.00</td>\n",
              "      <td>23589930.0</td>\n",
              "      <td>173.44</td>\n",
              "      <td>175.37</td>\n",
              "      <td>173.05</td>\n",
              "    </tr>\n",
              "    <tr>\n",
              "      <th>2018-01-04</th>\n",
              "      <td>173.03</td>\n",
              "      <td>22342650.0</td>\n",
              "      <td>172.54</td>\n",
              "      <td>173.47</td>\n",
              "      <td>172.08</td>\n",
              "    </tr>\n",
              "    <tr>\n",
              "      <th>2018-01-03</th>\n",
              "      <td>172.23</td>\n",
              "      <td>29461040.0</td>\n",
              "      <td>172.53</td>\n",
              "      <td>174.55</td>\n",
              "      <td>171.96</td>\n",
              "    </tr>\n",
              "    <tr>\n",
              "      <th>2018-01-02</th>\n",
              "      <td>172.26</td>\n",
              "      <td>25400540.0</td>\n",
              "      <td>170.16</td>\n",
              "      <td>172.30</td>\n",
              "      <td>169.26</td>\n",
              "    </tr>\n",
              "  </tbody>\n",
              "</table>\n",
              "<p>211 rows × 5 columns</p>\n",
              "</div>"
            ],
            "text/plain": [
              "             Close/Last      Volume    Open    High     Low\n",
              "Date                                                       \n",
              "2018-10-31       218.86  38016810.0  216.88  220.45  216.62\n",
              "2018-10-30       213.30  36487930.0  211.15  215.18  209.27\n",
              "2018-10-29       212.24  45713690.0  219.19  219.69  206.09\n",
              "2018-10-26       216.30  47191700.0  215.90  220.19  212.67\n",
              "2018-10-25       219.80  29027340.0  217.71  221.38  216.75\n",
              "...                 ...         ...     ...     ...     ...\n",
              "2018-01-08       174.35  20523870.0  174.35  175.61  173.93\n",
              "2018-01-05       175.00  23589930.0  173.44  175.37  173.05\n",
              "2018-01-04       173.03  22342650.0  172.54  173.47  172.08\n",
              "2018-01-03       172.23  29461040.0  172.53  174.55  171.96\n",
              "2018-01-02       172.26  25400540.0  170.16  172.30  169.26\n",
              "\n",
              "[211 rows x 5 columns]"
            ]
          },
          "metadata": {
            "tags": []
          },
          "execution_count": 67
        }
      ]
    },
    {
      "cell_type": "code",
      "metadata": {
        "id": "Ysa1owNBWK2P",
        "colab_type": "code",
        "outputId": "200ba966-c6a4-429e-f27a-6d317d6b8ee7",
        "colab": {
          "base_uri": "https://localhost:8080/",
          "height": 34
        }
      },
      "source": [
        "apple_1_11_high = apple_1_11.iloc[:,3].values\n",
        "apple_1_11_high.shape"
      ],
      "execution_count": 0,
      "outputs": [
        {
          "output_type": "execute_result",
          "data": {
            "text/plain": [
              "(211,)"
            ]
          },
          "metadata": {
            "tags": []
          },
          "execution_count": 68
        }
      ]
    },
    {
      "cell_type": "code",
      "metadata": {
        "id": "fZWtg-cgV-GX",
        "colab_type": "code",
        "outputId": "2f08914d-7c55-429c-cc9c-de03229e7a08",
        "colab": {
          "base_uri": "https://localhost:8080/",
          "height": 34
        }
      },
      "source": [
        "apple_1_11_high = apple_1_11_high.reshape(-1,1)\n",
        "apple_1_11_high.shape"
      ],
      "execution_count": 0,
      "outputs": [
        {
          "output_type": "execute_result",
          "data": {
            "text/plain": [
              "(211, 1)"
            ]
          },
          "metadata": {
            "tags": []
          },
          "execution_count": 69
        }
      ]
    },
    {
      "cell_type": "code",
      "metadata": {
        "id": "qzOo2BDiVzfo",
        "colab_type": "code",
        "colab": {}
      },
      "source": [
        "apple_1_11_x,apple_1_11_y = preprossing_data_rnns(np.array(apple_1_11_high))"
      ],
      "execution_count": 0,
      "outputs": []
    },
    {
      "cell_type": "markdown",
      "metadata": {
        "id": "hAhlsusaWfy_",
        "colab_type": "text"
      },
      "source": [
        "predict using LSTM"
      ]
    },
    {
      "cell_type": "code",
      "metadata": {
        "id": "gmSHOSpkWe5x",
        "colab_type": "code",
        "outputId": "fa6113d2-4f5c-4f92-ea72-e053a1081017",
        "colab": {
          "base_uri": "https://localhost:8080/",
          "height": 296
        }
      },
      "source": [
        "apple_1_11_pred= predic_using_LSTM(apple_1_11_x)\n",
        "plot_predictions(apple_1_11_y,apple_1_11_pred)"
      ],
      "execution_count": 0,
      "outputs": [
        {
          "output_type": "display_data",
          "data": {
            "image/png": "[encoded data removed]",
            "text/plain": [
              "<Figure size 432x288 with 1 Axes>"
            ]
          },
          "metadata": {
            "tags": [],
            "needs_background": "light"
          }
        }
      ]
    },
    {
      "cell_type": "code",
      "metadata": {
        "id": "ps2IGXEZXnfW",
        "colab_type": "code",
        "outputId": "62477705-1b36-4ec0-ee54-f3b7a2a6d9fa",
        "colab": {
          "base_uri": "https://localhost:8080/",
          "height": 34
        }
      },
      "source": [
        "rmse_lstm_1_11_2018=return_rmse(apple_1_11_y,apple_1_11_pred)\n",
        "print(\"RMSE = {}\".format(rmse_lstm_1_11_2018))"
      ],
      "execution_count": 0,
      "outputs": [
        {
          "output_type": "stream",
          "text": [
            "RMSE = 9.07249622749244\n"
          ],
          "name": "stdout"
        }
      ]
    },
    {
      "cell_type": "markdown",
      "metadata": {
        "id": "TM8337QFWu8r",
        "colab_type": "text"
      },
      "source": [
        "predict using GRU"
      ]
    },
    {
      "cell_type": "code",
      "metadata": {
        "id": "EaoDpCmNWt5K",
        "colab_type": "code",
        "outputId": "67d5e7d8-e4ab-4e2c-c580-d878ee596681",
        "colab": {
          "base_uri": "https://localhost:8080/",
          "height": 296
        }
      },
      "source": [
        "apple_1_11_pred= predic_using_gru(apple_1_11_x)\n",
        "plot_predictions(apple_1_11_y,apple_1_11_pred)"
      ],
      "execution_count": 0,
      "outputs": [
        {
          "output_type": "display_data",
          "data": {
            "image/png": "[encoded data removed]",
            "text/plain": [
              "<Figure size 432x288 with 1 Axes>"
            ]
          },
          "metadata": {
            "tags": [],
            "needs_background": "light"
          }
        }
      ]
    },
    {
      "cell_type": "code",
      "metadata": {
        "id": "QjE8xzkRW9Ay",
        "colab_type": "code",
        "outputId": "9c4c858e-2077-45c2-b74b-733b09f090e5",
        "colab": {
          "base_uri": "https://localhost:8080/",
          "height": 34
        }
      },
      "source": [
        "rmse_gru_1_11_2018=return_rmse(apple_1_11_y,apple_1_11_pred)\n",
        "print(\"RMSE = {}\".format(rmse_gru_1_11_2018))"
      ],
      "execution_count": 0,
      "outputs": [
        {
          "output_type": "stream",
          "text": [
            "RMSE = 27.486767638487763\n"
          ],
          "name": "stdout"
        }
      ]
    },
    {
      "cell_type": "markdown",
      "metadata": {
        "id": "JSnY-DhcdrYN",
        "colab_type": "text"
      },
      "source": [
        "#Comparing RMSE results"
      ]
    },
    {
      "cell_type": "markdown",
      "metadata": {
        "id": "4_9QngkBdy31",
        "colab_type": "text"
      },
      "source": [
        "In this section the RMSE results will be compared with all periods for LSTM and GRU\n",
        "1. data of 2017\n",
        "2. 2020-4-3 to 2020-5-1\n",
        "3. The next five monthes after 2018-1-1\n",
        "4. The next ten monthes after 2018-1-1"
      ]
    },
    {
      "cell_type": "code",
      "metadata": {
        "id": "-MYF_TodjNkH",
        "colab_type": "code",
        "outputId": "a6178d33-89d2-4942-d4e6-e1eda3491807",
        "colab": {
          "base_uri": "https://localhost:8080/",
          "height": 151
        }
      },
      "source": [
        "#This list to be used for adding the text with the value for each corresponding bar\n",
        "rmse_values = [rmse_lstm_2017,rmse_gru_2017,rmse_lstm_4_5_2020,rmse_gru_4_5_2020,rmse_lstm_1_5_2018,rmse_gru_1_5_2018,rmse_lstm_1_11_2018,rmse_gru_1_11_2018]\n",
        "rmse_values"
      ],
      "execution_count": 0,
      "outputs": [
        {
          "output_type": "execute_result",
          "data": {
            "text/plain": [
              "[11.310618916192931,\n",
              " 14.322629824567592,\n",
              " 36.508818650925456,\n",
              " 54.406834647798654,\n",
              " 10.605944031281997,\n",
              " 21.134372493466728,\n",
              " 9.07249622749244,\n",
              " 27.486767638487763]"
            ]
          },
          "metadata": {
            "tags": []
          },
          "execution_count": 75
        }
      ]
    },
    {
      "cell_type": "markdown",
      "metadata": {
        "id": "am3RHAMMmExl",
        "colab_type": "text"
      },
      "source": [
        "Now, the chart will be drawn"
      ]
    },
    {
      "cell_type": "code",
      "metadata": {
        "id": "VrxXGY09dqSO",
        "colab_type": "code",
        "outputId": "6f25566b-e66e-4b5c-a5e9-e48168d35943",
        "colab": {
          "base_uri": "https://localhost:8080/",
          "height": 487
        }
      },
      "source": [
        "plt.figure(figsize=(10,5))\n",
        "plt.bar('2017-LSTM', rmse_lstm_2017,color='blue')\n",
        "plt.bar('2017-GRU', rmse_gru_2017,color='green' )\n",
        "\n",
        "plt.bar('4/3/202-5/1/2020-LSTM', rmse_lstm_4_5_2020,color='blue')\n",
        "plt.bar('4/3/202-5/1/2020-GRU', rmse_gru_4_5_2020,color='green')\n",
        "\n",
        "plt.bar('5 monthes after 1/1/2018-LSTM', rmse_lstm_1_5_2018,color='blue')\n",
        "plt.bar('5 monthes after 1/1/2018-GRU', rmse_gru_1_5_2018,color='green')\n",
        "\n",
        "plt.bar('10 monthes after 1/1/2018-LSTM', rmse_lstm_1_11_2018,color='blue')\n",
        "plt.bar('10 monthes after 1/1/2018-GRU', rmse_gru_1_11_2018,color='green')\n",
        "\n",
        "plt.xticks(rotation=90)\n",
        "plt.title(\"RMSE of LSTM and GRU for All Periods\")\n",
        "plt.legend(['LSTM','GRU'])\n",
        "\n",
        "x_postion = -0.3\n",
        "for float in rmse_values:\n",
        "  plt.text(x_postion,float-5,'{:.2f}'.format(float), color='white', weight='bold')\n",
        "  x_postion = x_postion + 1"
      ],
      "execution_count": 0,
      "outputs": [
        {
          "output_type": "display_data",
          "data": {
            "image/png": "[encoded data removed]",
            "text/plain": [
              "<Figure size 720x360 with 1 Axes>"
            ]
          },
          "metadata": {
            "tags": [],
            "needs_background": "light"
          }
        }
      ]
    },
    {
      "cell_type": "markdown",
      "metadata": {
        "id": "WAFLSGISmLoF",
        "colab_type": "text"
      },
      "source": [
        "This bar chart indicated that LSTM model performed better than GRU model, such that LSTM produced RMSE value less than GRU for all periods. However, the RMSE value for both LSTM and GUR, from 2020-4-3 to 2020-5-1, is the highest because there is a 4 years gap between the training data and validation data. In other words, 2016 data was used for training and 2020 data was used for validate the prediction.  "
      ]
    },
    {
      "cell_type": "markdown",
      "metadata": {
        "id": "osj3Z9dZseZO",
        "colab_type": "text"
      },
      "source": [
        "#Conclusion"
      ]
    },
    {
      "cell_type": "markdown",
      "metadata": {
        "id": "qFFFYlF0sj99",
        "colab_type": "text"
      },
      "source": [
        "Each model was trained with 2016 data and tested with different future periods to see how the prediction differentiate.  \n",
        "Here's the summary of tested periods:\n",
        "\n",
        "*   2017: entire year\n",
        "*   Five months after 2018-1-1\n",
        "*   Ten monthes after 2018-1-1\n",
        "*   2020: 2020-4-3 to 2020-5-1\n",
        "\n",
        "Overall, LSTM model is the winner for this experimentation for all period prediction."
      ]
    },
    {
      "cell_type": "markdown",
      "metadata": {
        "id": "F5kFDB6SLRNx",
        "colab_type": "text"
      },
      "source": [
        "#Refrences"
      ]
    },
    {
      "cell_type": "markdown",
      "metadata": {
        "id": "9z7J4BfILVFO",
        "colab_type": "text"
      },
      "source": [
        "- https://www.kaggle.com/dpamgautam/stock-price-prediction-lstm-gru-rnn/notebook\n",
        "\n",
        "- http://queirozf.com/entries/pandas-dataframe-examples-manipulating-date-and-time\n",
        "\n",
        "- https://www.nasdaq.com/market-activity/stocks/aapl/historical\n",
        "\n",
        "\n"
      ]
    }
  ]
}